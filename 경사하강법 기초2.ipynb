{
  "nbformat": 4,
  "nbformat_minor": 0,
  "metadata": {
    "colab": {
      "name": "Untitled",
      "provenance": [],
      "collapsed_sections": []
    },
    "kernelspec": {
      "display_name": "Python 3",
      "name": "python3"
    },
    "accelerator": "GPU"
  },
  "cells": [
    {
      "cell_type": "markdown",
      "metadata": {
        "id": "V2HXKf-QEc7e"
      },
      "source": [
        ""
      ]
    },
    {
      "cell_type": "code",
      "metadata": {
        "colab": {
          "base_uri": "https://localhost:8080/"
        },
        "id": "POO6YocsSEan",
        "outputId": "8746c2ba-7209-4f3e-a445-a18d0bf1fbf1"
      },
      "source": [
        "%tensorflow_version 1.x\n",
        "import tensorflow as tf\n",
        "tf.set_random_seed(777)\n",
        "x_data=[1,2,3]\n",
        "y_data=[1,2,3]\n",
        "a = tf.Variable(tf.random_normal([1]), name=\"weight\")\n",
        "#a= tf.Variable([-3],dtype=tf.float32)\n",
        "x=tf.placeholder(tf.float32)\n",
        "y=tf.placeholder(tf.float32)\n",
        "hypothesis = a*x + 1\n",
        "cost = tf.reduce_mean(tf.square(hypothesis - y))\n",
        "optimizer = tf.train.GradientDescentOptimizer(learning_rate=0.01)\n",
        "train = optimizer.minimize(cost)\n",
        "with tf.Session() as sess:\n",
        "  sess.run(tf.global_variables_initializer())\n",
        "  for step in range(1000):\n",
        "    _, cost_val, a_val = sess.run([train,cost,a],feed_dict={x:x_data, y:y_data})\n",
        "    if step%50==0:\n",
        "      print(step, cost_val, a_val)\n",
        "      \n"
      ],
      "execution_count": 2,
      "outputs": [
        {
          "output_type": "stream",
          "text": [
            "0 0.20239256 [0.45847914]\n",
            "50 0.14286046 [0.5705867]\n",
            "100 0.14285715 [0.57142234]\n",
            "150 0.1428572 [0.57142824]\n",
            "200 0.1428572 [0.57142824]\n",
            "250 0.1428572 [0.57142824]\n",
            "300 0.1428572 [0.57142824]\n",
            "350 0.1428572 [0.57142824]\n",
            "400 0.1428572 [0.57142824]\n",
            "450 0.1428572 [0.57142824]\n",
            "500 0.1428572 [0.57142824]\n",
            "550 0.1428572 [0.57142824]\n",
            "600 0.1428572 [0.57142824]\n",
            "650 0.1428572 [0.57142824]\n",
            "700 0.1428572 [0.57142824]\n",
            "750 0.1428572 [0.57142824]\n",
            "800 0.1428572 [0.57142824]\n",
            "850 0.1428572 [0.57142824]\n",
            "900 0.1428572 [0.57142824]\n",
            "950 0.1428572 [0.57142824]\n"
          ],
          "name": "stdout"
        }
      ]
    },
    {
      "cell_type": "code",
      "metadata": {
        "id": "Uxbs82AAej_W"
      },
      "source": [
        ""
      ],
      "execution_count": null,
      "outputs": []
    }
  ]
}