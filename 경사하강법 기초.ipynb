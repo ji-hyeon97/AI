{
  "nbformat": 4,
  "nbformat_minor": 0,
  "metadata": {
    "colab": {
      "name": "Untitled",
      "provenance": [],
      "collapsed_sections": []
    },
    "kernelspec": {
      "display_name": "Python 3",
      "name": "python3"
    },
    "accelerator": "GPU"
  },
  "cells": [
    {
      "cell_type": "markdown",
      "metadata": {
        "id": "V2HXKf-QEc7e"
      },
      "source": [
        ""
      ]
    },
    {
      "cell_type": "code",
      "metadata": {
        "colab": {
          "base_uri": "https://localhost:8080/"
        },
        "id": "POO6YocsSEan",
        "outputId": "4f54c246-3430-446e-e134-03bb03d470a0"
      },
      "source": [
        "%tensorflow_version 1.x\n",
        "import tensorflow as tf\n",
        "tf.set_random_seed(777)\n",
        "x_data=[1,2,3]\n",
        "y_data=[1,2,3]\n",
        "b = tf.Variable(tf.random_normal([1]), name=\"weight\")\n",
        "#b= tf.Variable([-3],dtype=tf.float32)\n",
        "x=tf.placeholder(tf.float32)\n",
        "y=tf.placeholder(tf.float32)\n",
        "hypothesis = x + b\n",
        "cost = tf.reduce_mean(tf.square(hypothesis - y))\n",
        "optimizer = tf.train.GradientDescentOptimizer(learning_rate=0.01)\n",
        "train = optimizer.minimize(cost)\n",
        "with tf.Session() as sess:\n",
        "  sess.run(tf.global_variables_initializer())\n",
        "  for step in range(1000):\n",
        "    _, cost_val, b_val = sess.run([train,cost,b],feed_dict={x:x_data, y:y_data})\n",
        "    if step%50==0:\n",
        "      print(step, cost_val, b_val)\n",
        "      \n"
      ],
      "execution_count": null,
      "outputs": [
        {
          "output_type": "stream",
          "text": [
            "TensorFlow 1.x selected.\n",
            "0 4.878221 [2.2086694]\n",
            "50 0.6469474 [0.80433047]\n",
            "100 0.08579787 [0.2929127]\n",
            "150 0.011378468 [0.10666991]\n",
            "200 0.0015090099 [0.03884593]\n",
            "250 0.00020012535 [0.01414652]\n",
            "300 2.6540516e-05 [0.00515173]\n",
            "350 3.5198107e-06 [0.00187611]\n",
            "400 4.6685503e-07 [0.00068322]\n",
            "450 6.1935914e-08 [0.00024881]\n",
            "500 8.20819e-09 [9.060142e-05]\n",
            "550 1.0851456e-09 [3.2999487e-05]\n",
            "600 1.4306067e-10 [1.2017063e-05]\n",
            "650 1.8763066e-11 [4.3789264e-06]\n",
            "700 2.6574298e-12 [1.5910186e-06]\n",
            "750 2.7000624e-13 [5.7773985e-07]\n",
            "800 5.684342e-14 [2.193176e-07]\n",
            "850 4.7369517e-15 [9.613478e-08]\n",
            "900 0.0 [5.9577296e-08]\n",
            "950 0.0 [5.9577296e-08]\n"
          ],
          "name": "stdout"
        }
      ]
    },
    {
      "cell_type": "code",
      "metadata": {
        "id": "Uxbs82AAej_W"
      },
      "source": [
        ""
      ],
      "execution_count": null,
      "outputs": []
    }
  ]
}