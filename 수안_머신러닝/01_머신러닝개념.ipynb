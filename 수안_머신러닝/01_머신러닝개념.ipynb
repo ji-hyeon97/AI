{
  "nbformat": 4,
  "nbformat_minor": 0,
  "metadata": {
    "colab": {
      "name": "01_머신러닝개념.ipynb",
      "provenance": [],
      "collapsed_sections": []
    },
    "kernelspec": {
      "name": "python3",
      "display_name": "Python 3"
    },
    "language_info": {
      "name": "python"
    }
  },
  "cells": [
    {
      "cell_type": "markdown",
      "metadata": {
        "id": "C29pWSKnvn8x"
      },
      "source": [
        "<h1>머신러닝(MMachine Learning)</h1>\n",
        "<ul>\n",
        "<li>명시적인 프로그래밍 없이 컴퓨터가 학습하는 능력을 갖추게 하는 연구 분야</li>\n",
        "<li>머신러닝은 데이터를 통해 다양한 패턴을 감지하고, 스스로 학습할 수 있는 모델 개발에 초점</li>\n",
        "</ul>"
      ]
    },
    {
      "cell_type": "markdown",
      "metadata": {
        "id": "r3Gj5eS_vpKK"
      },
      "source": [
        "<h2>머신러닝의 분류</h2>"
      ]
    },
    {
      "cell_type": "markdown",
      "metadata": {
        "id": "TaBOV6vvvpHm"
      },
      "source": [
        "<h2>지도학습(Supervised Learning)</h2>\n",
        "<ul>\n",
        "<li>지도 학습은 주어진 입력으로부터 출력 값을 예측하고자 할 때 사용</li>\n",
        "<li>입력과 정답 데이터를 사용해 모델을 학습시킨 후 새로운 입력데이터에 대해 정확한 출력을 예측하도록 하는 것이 목표</li>\n",
        "<li>지도 학습 알고리즘의 학습 데이터를 만드는 것은 많은 사람들의 노략과 자원이 필요하지만 높은 성능을 기대할수 있다.</li>\n",
        "</ul>"
      ]
    },
    {
      "cell_type": "markdown",
      "metadata": {
        "id": "nyUFvRIBvpFU"
      },
      "source": [
        "<h2>분류와 회귀</h2>\n",
        "<ul>\n",
        "<li>지도 학습 알고리즘은 크게 <b>분류(classification)</b>와 <b>회귀(regression)</b>로 구분</li>\n",
        "<li>분류는 입력 데이터를 미리 정의된 여러개의 클래스 중 하나로 예측하는 것</li>\n",
        "<li>분류는 클래스의 개수가 2개인 이진분류(binary classification)와 3개 이상인 다중분류(multi-class classification)으로 나눌수 있다</li>\n",
        "<li>회귀는 연속적인 숫자를 예측하는 것으로 어떤사람의 나이, 농작물의 수확량, 주식가격 등 출력값이 연속성을 갖는 다면회귀문제라고 할 수 있다</li>\n",
        "</ul>"
      ]
    },
    {
      "cell_type": "markdown",
      "metadata": {
        "id": "XLmdh3PTvpDC"
      },
      "source": [
        "<h2>지도 학습 알고리즘</h2>\n",
        "<ul>\n",
        "<li>선형 회귀(Linear Regression)</li>\n",
        "<li>로지스틱 회귀(Logistic Regression)</li>\n",
        "<li>서포트 벡터 머신(Support Vector Machine)</li>\n",
        "<li>k-최근접 이웃(K-Nearest Neighbors)</li>\n",
        "<li>결정트리(Decision Tree)</li>\n",
        "<li>앙상블(Ensemble)</li>\n",
        "<li>신경망(Neural Networks)</li>\n",
      ]
    },
    {
      "cell_type": "markdown",
      "metadata": {
        "id": "My5HL2CgvpAq"
      },
      "source": [
        "<h2>비지도 학습(Unsupervised Learning)</h2>\n",
        "<ul>\n",
        "<li>비지도 학습은 원하는 출력 없이 입력 데이터를 사용</li>\n",
        "<li>입력데이터의 구조나 패턴을 찾는 것이 목표</li>\n",
        "<li>미리 정해진 결과가 없고, 방대한 양의 데이터에서 유용한 통찰력을 얻을 수 있음</li>\n",
        "</ul>\n"
      ]
    },
    {
      "cell_type": "markdown",
      "metadata": {
        "id": "dQ4qT-1avo-e"
      },
      "source": [
        "<h3>클러스터링, 차원축소, 연관규칙</h3>\n",
        "<ul>\n",
        "<li>비지도 학습 알고리즘은 크게 <b>클러스터링(clustering),차원 축소(dimensionality REduction), 연관 규칙(Association Rules)</b>으로 구분</li>\n",
        "<li>클러스터링은 공간상에서 서로 가깝고 유사한 데이터를 클러스터로 그룹화</li>\n",
        "<li>차원 축소는 고차원의 데이터에 대해서 너무 많은 정보를 잃지 않으면서 데이터를 축소시키는 방법</li>\n",
        "<li>연관 규칙은 데이터에서 특성 간의 연관성이 있는 흥미로운 규칙을 찾는 방법</li>\n",
        "</ul>"
      ]
    },
    {
      "cell_type": "markdown",
      "metadata": {
        "id": "xlTYZpy9vo8C"
      },
      "source": [
        "<h3>비지도 학습 알고리즘</h3>\n",
        "<ul>\n",
        "<li>클러스터링(Clustering)\n",
        "<ul>\n",
        "<li>k-means</li>\n",
        "<li>DBSCAN</li>\n",
        "<li>계층 군집 분석(Hierarchical Clustering Analysis)</li>\n",
        "<li>이상치 탐지(Outlier Detection),특이값 탐지(Novelty Detection)</li>\n",
        "</ul>\n",
        "<li>차원축소(Dimensionality Reduction)\n",
        "<ul>\n",
        "<li>주성분 분석(Principal Component Analysis)</li>\n",
        "<li>커널 PCA(Kernel PCA)</li>\n",
        "<li>t-SNE(t-Distributed Stochastic Neighbor Embedding)</li>\n",
        "</ul>\n",
        "<li>연관규칙(Association Rule Learning)</li>\n",
        "<ul>\n",
        "<li>Aprori</li>\n",
        "<li>Eclat</li>\n",
      ]
    },
    {
      "cell_type": "markdown",
      "metadata": {
        "id": "wGvivQwbvo5m"
      },
      "source": [
        "<h2>준지도 학습(Semi-supervised Learning)</h2>\n",
        "<ul>\n",
        "<li>레이블이 있는 것과 없는 것이 혼합된 경우 사용</li>\n",
        "<li>일반적으로는 일부 데이터에만 레이블이 있음</li>\n",
        "<li>준지도 학습 알고리즘은 대부분 지도 학습 알고리즘과 비지도 학습 알고리즘의 조합으로 구성</li>\n",
        "<ul>"
      ]
    },
    {
      "cell_type": "markdown",
      "metadata": {
        "id": "o_qKczLx2S2i"
      },
      "source": [
        "<h2>강화학습(Reinforcement Learning)</h2>\n",
        "<ul>\n",
        "<li>동적 환경와 함께 상호작용하는 피드백 기반 학습방법</li>\n",
        "<li>에이전드(Agent)가 환경을 관찰하고, 행동을 실행하고, 보상(reward) 또는 벌점(penalty)를 받음</li>\n",
        "<li>에이전트는 이러한 피드백을 통해 자동으로 학습하고 성능을 향상시킴</li>\n",
        "<li>어떤 지도가 없이 일정한 목표를 수행</li>"
      ]
    },
    {
      "cell_type": "markdown",
      "metadata": {
        "id": "3Ip3kBHG2S6c"
      },
      "source": [
        "<h2>온라인 vs 배치</h2>\n",
        "<ul>\n",
        "<li>온라인 학습(Online Learning)\n",
        "<ul>\n",
        "<li>적은 데이터를 사용해 미니배치(mini-batch)단위로 점진적으로 학습</li>\n",
        "<li>실시간 시스템이나 메모리 부족의 경우 사용</li>\n",
        "</ul>\n",
        "<li>배치학습(Batch Learning)\n",
        "<ul>\n",
        "<li>전체 데이터를 모두 사용해 오프라인에서 학습</li>\n",
        "<li>컴퓨팅 자원이 풍부한 경우 사용</li>\n",
      ]
    },
    {
      "cell_type": "markdown",
      "metadata": {
        "id": "v1wa3mZ92S9j"
      },
      "source": [
        "<h2>사례기반 vs 모델기반</h2>\n",
        "<ul>\n",
        "<li>사례 기반 학습(instance-based Learning)\n",
        "<ul>\n",
        "<li>훈련데이터를 학습을 통해 기억</li>\n",
        "<li>예측을 위해 데이터와 학습된 데이터를 비교</li>\n",
        "<li>새로운 데이터와 학습된 데이터를 비교</li>\n",
        "</ul>\n",
        "<li>모델기반 학습(Model-based Learning)</li>\n",
        "<ul>\n",
        "<li>훈련 데이터를 사용해 모델의 훈련</li>\n",
        "<li>훈련된 모델을 사용해 새로운 데이터를 예측</li>\n",
        "</ul>\n",
        "</ul>\n"
      ]
    },
    {
      "cell_type": "markdown",
      "metadata": {
        "id": "5YiW1ECq2TAl"
      },
      "source": [
        "<h2>일반화, 과대적합, 과소적합</h2>\n"
      ]
    },
    {
      "cell_type": "markdown",
      "metadata": {
        "id": "HRyRvNdv2TEj"
      },
      "source": [
        "<h3>일반화(generalization)</h3>\n",
        "<ul>\n",
        "<li>일반적으로 지도 학습 모델은 학습데이터로 훈련시킨 위 평가 데이터에서도 정확하게 예측하기를 기대함</li>\n",
        "<li>훈련된 모델이 처음보는 데이터에 대해 정확하게 예측한다면, 이러한 상태를 모델이 <b>일반화(generalization)</b>되었다고 함</li>\n",
        "<li>모델이 항상 일반화 되는 것은 아님</li>\n",
        "</ul>"
      ]
    },
    {
      "cell_type": "markdown",
      "metadata": {
        "id": "UYBX84Bwvo3B"
      },
      "source": [
        "<h3>과대적합(overfitting)</h3>\n",
        "<ul>\n",
        "<li>주어진 훈련데이터에 비해 복잡한 모델을 사용한다면, 모델을 훈련 데이터에서만 정확한 성능을 보이고, 평가 데이터에서는 낮은 성능을 보임.</li>\n",
        "<li>즉, 모델이 주어진 훈련데이터는 잘 예측하지만 일반적인 특징을 학습하지 못해 평가 데이터에서는 낮은 성능을 보이는 상태를 <b>과대적합(overfitting)</b>이라고 함\n",
        "</ul> "
      ]
    },
    {
      "cell_type": "markdown",
      "metadata": {
        "id": "kqnzE4qZvouJ"
      },
      "source": [
        "<h3>과소적합(underfitting)</h3>\n",
        "<ul>\n",
        "<li>과대적합과 반대로 주어진 훈련데이터에 비해 너무 간단한 모델을 사용하면, 모델이 데이터에 존재하는 다양한 정보들을 제대로 학습하지 못함</li>\n",
        "<li>이러한 경우 모델은 훈련 데이터에서도 나쁜성능을 보이고 평가 데이터에서도 낮은 성능을 보이는 <b>과소적합(underfitting)</b>이 되었다고 함</li>\n",
        "</ul>"
      ]
    },
    {
      "cell_type": "markdown",
      "metadata": {
        "id": "yfBmpoWPvojC"
      },
      "source": [
        "<h2>모델 복잡도와 데이터셋 크기의 관계</h2>\n",
        "<ul>\n",
        "<li>데이터의 다양성이 클수록 더 복잡한 모델을 사용하면 좋은 성능을 얻을 수 있음</li>\n",
        "<li>일반적으로 더 큰 데이터셋(데이터 수, 특징 수)일수록 다양성이 높기 때문에 더 복잡한 모델을 사용할 수 있음</li>\n",
        "<li>하지만, 같은 데이터를 중복하거나 비슷한 데이터를 모으는 것은 다양성 증가에 도움이 되지 않음</li>\n",
        "<li>데이터를 더 많이 수집하고 적절한 모델을 만들어 사용하면 지도학습을 사용해 놀라운 결과를 얻을 수 있음</li>\n",
        "</ul>"
      ]
    },
    {
      "cell_type": "markdown",
      "metadata": {
        "id": "z26LpJHsvogt"
      },
      "source": [
        "<h2>훈련세트 vs 테스트세트 vs 검증세트</h2>\n",
        "<ul>\n",
        "<li>머신러닝 모델의 일반화 성능을 측정하기 위해 훈련세트, 테스트세트로 구분</li>\n",
        "<li>훈련세트로 모델을 학습하고 테스트 세트로 모델의 일반화 성능 측정</li>\n",
        "<li>하이퍼파라미터는 알고리즘을 조절하기 위해 사전에 정의하는 파라미터</li>\n",
        "<li>테스트세트를 이용해 여러모델을 평가하면 테스트세트에 과대적합됨</li>\n",
        "<li>모델 선택을 위해 훈련세트, 테스트세트,검증세트로 구분"
      ]
    }
  ]
}
