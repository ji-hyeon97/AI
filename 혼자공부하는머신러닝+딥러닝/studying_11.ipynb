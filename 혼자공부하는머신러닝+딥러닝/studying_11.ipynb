{
  "nbformat": 4,
  "nbformat_minor": 0,
  "metadata": {
    "colab": {
      "name": "studying_11.ipynb",
      "provenance": [],
      "collapsed_sections": []
    },
    "kernelspec": {
      "name": "python3",
      "display_name": "Python 3"
    },
    "language_info": {
      "name": "python"
    }
  },
  "cells": [
    {
      "cell_type": "markdown",
      "metadata": {
        "id": "S3dpR766h-gg"
      },
      "source": [
        "정형데이터 : 데이터베이스에 저장할수 있는 데이터, 행과 열 구분 ex)DB, 엑셀, csv\n",
        "\n",
        "비정형데이터 : 텍스트, 오디오파일, 이미지, 영상 ->딥러닝 ->데이터 전처리 까다로움 <표현학습>"
      ]
    },
    {
      "cell_type": "markdown",
      "metadata": {
        "id": "pQGyYu06Titn"
      },
      "source": [
        "트리의 앙상블 : 여러개의 모델을 합하여 하나의 결과를 만들어 냄\n",
        "\n",
        "트리는 과대적합하려는 경향이 있다 트리를 기반으로 여러개 만들어서 과대적합을 줄여 성능이 좋은 모델 만듬"
      ]
    },
    {
      "cell_type": "markdown",
      "metadata": {
        "id": "BFVygrEMTn2t"
      },
      "source": [
        "랜덤포레스트: 트리를 랜덤으로 여러개 만드는 것"
      ]
    },
    {
      "cell_type": "markdown",
      "metadata": {
        "id": "pNvYeKv6kZxZ"
      },
      "source": [
        "랜덤포레스트 훈련 방법\n",
        "\n",
        "훈련세트 -> 랜덤샘플링(중복을 허용한 샘플링) ->부트스트랩샘플 -> 결정트리훈련 ->확률총합/트리개수\n",
        "\n"
      ]
    },
    {
      "cell_type": "code",
      "metadata": {
        "id": "8flsKEemL5Kx"
      },
      "source": [
        "import numpy as np\n",
        "import pandas as pd\n",
        "from sklearn.model_selection import train_test_split\n",
        "\n",
        "#와인데이터불러오기\n",
        "wine = pd.read_csv('https://bit.ly/wine-date')\n",
        "\n",
        "data = wine[['alcohol', 'sugar', 'pH']].to_numpy()#데이터\n",
        "target = wine['class'].to_numpy()#타깃\n",
        "\n",
        "train_input, test_input, train_target, test_target = train_test_split(data, target, test_size=0.2, random_state=42)#훈랸,테스트데이터구분"
      ],
      "execution_count": null,
      "outputs": []
    },
    {
      "cell_type": "code",
      "metadata": {
        "colab": {
          "base_uri": "https://localhost:8080/"
        },
        "id": "x9D3MnR4Tr0J",
        "outputId": "d7c614d1-470e-4e78-979b-a7310d9d8726"
      },
      "source": [
        "from sklearn.model_selection import cross_validate\n",
        "from sklearn.ensemble import RandomForestClassifier#회귀의 경우 RandomForestRegressor\n",
        "#RandomForestClassifier 전체특성의 개수에 루트값만큼 특성 선택\n",
        "#100개 결정트리 사용\n",
        "# RandomForestRegressor() : 전체 특성 사용.\n",
        "\n",
        "rf = RandomForestClassifier(n_jobs=-1, random_state=42)#객체만들기\n",
        "scores = cross_validate(rf, train_input, train_target, return_train_score=True, n_jobs=-1)\n",
        "#객체,훈련데이터,타겟데이터,훈련세트점수반환,모든코어사용\n",
        "\n",
        "print(np.mean(scores['train_score']), np.mean(scores['test_score']))\n",
        "#훈련세트점수, 검증세트점수"
      ],
      "execution_count": null,
      "outputs": [
        {
          "output_type": "stream",
          "text": [
            "0.9973541965122431 0.8905151032797809\n"
          ],
          "name": "stdout"
        }
      ]
    },
    {
      "cell_type": "code",
      "metadata": {
        "colab": {
          "base_uri": "https://localhost:8080/"
        },
        "id": "7dD92vylTtbK",
        "outputId": "a2d0b9a6-5b1d-4157-bf63-5173d6688fbe"
      },
      "source": [
        "rf.fit(train_input, train_target)#훈련\n",
        "print(rf.feature_importances_)#특성중요도->골고루 특성사용"
      ],
      "execution_count": null,
      "outputs": [
        {
          "output_type": "stream",
          "text": [
            "[0.23167441 0.50039841 0.26792718]\n"
          ],
          "name": "stdout"
        }
      ]
    },
    {
      "cell_type": "code",
      "metadata": {
        "colab": {
          "base_uri": "https://localhost:8080/"
        },
        "id": "gNejRlkiTxdw",
        "outputId": "47d02dbd-ecf4-43f1-8493-add6ed25ebfc"
      },
      "source": [
        "rf = RandomForestClassifier(oob_score=True, n_jobs=-1, random_state=42)\n",
        "#oob:중복을 하여 데이터 샘플링 뽑히지 않는 샘플이 있다.. ->검증세트의 점수를 형가\n",
        "#하듯이 사용하는 것이 가능\n",
        "rf.fit(train_input, train_target)\n",
        "print(rf.oob_score_)#검증세트와 점수차이가 거의 나지 않는다"
      ],
      "execution_count": null,
      "outputs": [
        {
          "output_type": "stream",
          "text": [
            "0.8934000384837406\n"
          ],
          "name": "stdout"
        }
      ]
    },
    {
      "cell_type": "markdown",
      "metadata": {
        "id": "sqRC9h7NTzg_"
      },
      "source": [
        "엑스트라트리: 100개의 트리 사용\n",
        "\n",
        "부트스트랩 샘플사용X\n",
        "\n",
        "성능억제->랜덤하게 분할-> 불순도 best찾고 노드분할"
      ]
    },
    {
      "cell_type": "code",
      "metadata": {
        "colab": {
          "base_uri": "https://localhost:8080/"
        },
        "id": "FC8uFVIbT4f8",
        "outputId": "61e101fd-45f4-435f-a425-546ff2118309"
      },
      "source": [
        "from sklearn.ensemble import ExtraTreesClassifier\n",
        "\n",
        "et = ExtraTreesClassifier(n_jobs=-1, random_state=42)\n",
        "scores = cross_validate(et, train_input, train_target, return_train_score=True, n_jobs=-1)\n",
        "\n",
        "print(np.mean(scores['train_score']), np.mean(scores['test_score']))"
      ],
      "execution_count": null,
      "outputs": [
        {
          "output_type": "stream",
          "text": [
            "0.9974503966084433 0.8887848893166506\n"
          ],
          "name": "stdout"
        }
      ]
    },
    {
      "cell_type": "code",
      "metadata": {
        "colab": {
          "base_uri": "https://localhost:8080/"
        },
        "id": "-fGH-g7qT5LV",
        "outputId": "0de83e6c-91c4-4543-bee3-7e6e3b825f7f"
      },
      "source": [
        "et.fit(train_input, train_target)\n",
        "print(et.feature_importances_)"
      ],
      "execution_count": null,
      "outputs": [
        {
          "output_type": "stream",
          "text": [
            "[0.20183568 0.52242907 0.27573525]\n"
          ],
          "name": "stdout"
        }
      ]
    },
    {
      "cell_type": "markdown",
      "metadata": {
        "id": "qQs7mx7quqTa"
      },
      "source": [
        "랜덤포레스트 : 부트스트랩샘플링 사용->트리성능 억제\n",
        "\n",
        "엑스트라트리 : 노드분할을 무작위로 함-> 트리성능 억제"
      ]
    },
    {
      "cell_type": "markdown",
      "metadata": {
        "id": "2DPH6rISURAw"
      },
      "source": [
        "그레이디언트 부스팅 : 손실함수값이 낮아지도록 회귀트리를 추가"
      ]
    },
    {
      "cell_type": "code",
      "metadata": {
        "colab": {
          "base_uri": "https://localhost:8080/"
        },
        "id": "aDM1u6F1T70p",
        "outputId": "3b1b0484-de3e-49c6-c4f0-513042873a7f"
      },
      "source": [
        "from sklearn.ensemble import GradientBoostingClassifier\n",
        "\n",
        "gb = GradientBoostingClassifier(random_state=42)\n",
        "scores = cross_validate(gb, train_input, train_target, return_train_score=True, n_jobs=-1)\n",
        "\n",
        "print(np.mean(scores['train_score']), np.mean(scores['test_score']))"
      ],
      "execution_count": null,
      "outputs": [
        {
          "output_type": "stream",
          "text": [
            "0.8881086892152563 0.8720430147331015\n"
          ],
          "name": "stdout"
        }
      ]
    },
    {
      "cell_type": "code",
      "metadata": {
        "colab": {
          "base_uri": "https://localhost:8080/"
        },
        "id": "w37_-7rAT9MG",
        "outputId": "f4f1185f-c0c3-42d4-e635-d569952d1701"
      },
      "source": [
        "gb = GradientBoostingClassifier(n_estimators=500, learning_rate=0.2, random_state=42)\n",
        "scores = cross_validate(gb, train_input, train_target, return_train_score=True, n_jobs=-1)\n",
        "#트리의개수:500, 기본100\n",
        "#learning_rate(학습률):0.2, 기본:0.1\n",
        "\n",
        "print(np.mean(scores['train_score']), np.mean(scores['test_score']))"
      ],
      "execution_count": null,
      "outputs": [
        {
          "output_type": "stream",
          "text": [
            "0.9464595437171814 0.8780082549788999\n"
          ],
          "name": "stdout"
        }
      ]
    },
    {
      "cell_type": "code",
      "metadata": {
        "colab": {
          "base_uri": "https://localhost:8080/"
        },
        "id": "w1VWMPy4T_V3",
        "outputId": "e7d91a20-8eb1-4d9b-c760-cc329d3d9f94"
      },
      "source": [
        "gb.fit(train_input, train_target)\n",
        "print(gb.feature_importances_)"
      ],
      "execution_count": null,
      "outputs": [
        {
          "output_type": "stream",
          "text": [
            "[0.15872278 0.68010884 0.16116839]\n"
          ],
          "name": "stdout"
        }
      ]
    },
    {
      "cell_type": "markdown",
      "metadata": {
        "id": "7nhN6hQUUwiQ"
      },
      "source": [
        "히스토그램 기반 그레이디언트부스팅\n",
        "\n",
        "255개구간, 1개는 누락된 값 할당(결측치 무시)"
      ]
    },
    {
      "cell_type": "code",
      "metadata": {
        "colab": {
          "base_uri": "https://localhost:8080/"
        },
        "id": "BGlHobHUUBMo",
        "outputId": "3d58eb03-6bbb-407f-b78c-b73cc1cb45df"
      },
      "source": [
        "from sklearn.experimental import enable_hist_gradient_boosting\n",
        "from sklearn.ensemble import HistGradientBoostingClassifier\n",
        "\n",
        "hgb = HistGradientBoostingClassifier(random_state=42)\n",
        "scores = cross_validate(hgb, train_input, train_target, return_train_score=True, n_jobs=-1)\n",
        "\n",
        "print(np.mean(scores['train_score']), np.mean(scores['test_score']))"
      ],
      "execution_count": null,
      "outputs": [
        {
          "output_type": "stream",
          "text": [
            "0.9321723946453317 0.8801241948619236\n"
          ],
          "name": "stdout"
        }
      ]
    },
    {
      "cell_type": "code",
      "metadata": {
        "colab": {
          "base_uri": "https://localhost:8080/"
        },
        "id": "w8o6oBtWUCjO",
        "outputId": "ff658d86-729f-44b3-d6fc-f71561eadc05"
      },
      "source": [
        "hgb.fit(train_input, train_target)\n",
        "print(rf.feature_importances_)"
      ],
      "execution_count": null,
      "outputs": [
        {
          "output_type": "stream",
          "text": [
            "[0.23167441 0.50039841 0.26792718]\n"
          ],
          "name": "stdout"
        }
      ]
    },
    {
      "cell_type": "code",
      "metadata": {
        "colab": {
          "base_uri": "https://localhost:8080/"
        },
        "id": "5kgQII0rUDhy",
        "outputId": "2b32c562-57f8-4ab3-f504-a2308b6523a7"
      },
      "source": [
        "hgb.score(test_input, test_target)"
      ],
      "execution_count": null,
      "outputs": [
        {
          "output_type": "execute_result",
          "data": {
            "text/plain": [
              "0.8723076923076923"
            ]
          },
          "metadata": {
            "tags": []
          },
          "execution_count": 12
        }
      ]
    },
    {
      "cell_type": "markdown",
      "metadata": {
        "id": "Zk5K4xx3yt7D"
      },
      "source": [
        "Permutation Importance(치환중요도) ->각각의 열의 특성을 섞음 원래데이터랑 성능 비교 값의 차이를 통해 특성의 중요도를 알 수 있다"
      ]
    },
    {
      "cell_type": "code",
      "metadata": {
        "id": "Xd5LIJ2_yy_w"
      },
      "source": [
        "from sklearn.inspection import permutation_importance\n",
        "hgb.fit(train_input, train_target)\n",
        "result = permutation_importance(hgb, train_input, train_target, n_repeats=10,\n",
        "                                random_state=42, n_jobs=-1)\n",
        "#각 특성마다 10번씩 섞음"
      ],
      "execution_count": null,
      "outputs": []
    },
    {
      "cell_type": "code",
      "metadata": {
        "colab": {
          "base_uri": "https://localhost:8080/"
        },
        "id": "8fnS4V0n091_",
        "outputId": "fb036cdb-7dae-4057-9953-6272911db753"
      },
      "source": [
        "print(result.importances_mean)\n",
        "#정확도의 손실을 의미함"
      ],
      "execution_count": null,
      "outputs": [
        {
          "output_type": "stream",
          "text": [
            "[0.08876275 0.23438522 0.08027708]\n"
          ],
          "name": "stdout"
        }
      ]
    },
    {
      "cell_type": "code",
      "metadata": {
        "colab": {
          "base_uri": "https://localhost:8080/"
        },
        "id": "9zGuvgV31C9F",
        "outputId": "c10adccf-3c41-447b-c9b8-2aff1774ffe2"
      },
      "source": [
        "result = permutation_importance(hgb, test_input, test_target, n_repeats=10,\n",
        "                                random_state=42, n_jobs=-1)\n",
        "print(result.importances_mean)\n",
        "#테스트세트"
      ],
      "execution_count": null,
      "outputs": [
        {
          "output_type": "stream",
          "text": [
            "[0.05969231 0.20238462 0.049     ]\n"
          ],
          "name": "stdout"
        }
      ]
    },
    {
      "cell_type": "code",
      "metadata": {
        "colab": {
          "base_uri": "https://localhost:8080/"
        },
        "id": "GPOttYY81L7u",
        "outputId": "e875b725-9863-4303-d30b-be70b5739f5e"
      },
      "source": [
        "hgb.score(test_input, test_target)"
      ],
      "execution_count": null,
      "outputs": [
        {
          "output_type": "execute_result",
          "data": {
            "text/plain": [
              "0.8723076923076923"
            ]
          },
          "metadata": {
            "tags": []
          },
          "execution_count": 16
        }
      ]
    },
    {
      "cell_type": "markdown",
      "metadata": {
        "id": "j9aX5UzCUFQn"
      },
      "source": [
        "XGBoost"
      ]
    },
    {
      "cell_type": "code",
      "metadata": {
        "colab": {
          "base_uri": "https://localhost:8080/"
        },
        "id": "QOp4PurjUG2s",
        "outputId": "81b29909-ee9e-48e2-afc6-5d359d043c93"
      },
      "source": [
        "from xgboost import XGBClassifier\n",
        "\n",
        "xgb = XGBClassifier(tree_method='hist', random_state=42)\n",
        "scores = cross_validate(xgb, train_input, train_target, return_train_score=True, n_jobs=-1)\n",
        "\n",
        "print(np.mean(scores['train_score']), np.mean(scores['test_score']))"
      ],
      "execution_count": null,
      "outputs": [
        {
          "output_type": "stream",
          "text": [
            "0.8824322471423747 0.8726214185237284\n"
          ],
          "name": "stdout"
        }
      ]
    },
    {
      "cell_type": "markdown",
      "metadata": {
        "id": "2diTwwdqUIHy"
      },
      "source": [
        "LightGBM:히스토그램기반"
      ]
    },
    {
      "cell_type": "code",
      "metadata": {
        "colab": {
          "base_uri": "https://localhost:8080/"
        },
        "id": "Gii_Xj7WUJfX",
        "outputId": "d64f510d-07a5-4fc4-e01b-66054f7024e3"
      },
      "source": [
        "from lightgbm import LGBMClassifier\n",
        "\n",
        "lgb = LGBMClassifier(random_state=42)\n",
        "scores = cross_validate(lgb, train_input, train_target, return_train_score=True, n_jobs=-1)\n",
        "\n",
        "print(np.mean(scores['train_score']), np.mean(scores['test_score']))"
      ],
      "execution_count": null,
      "outputs": [
        {
          "output_type": "stream",
          "text": [
            "0.9338079582727165 0.8789710890649293\n"
          ],
          "name": "stdout"
        }
      ]
    },
    {
      "cell_type": "markdown",
      "metadata": {
        "id": "MiOc2X7d2h81"
      },
      "source": [
        "앙상블 보고서 (작성자:혼공머신)\n",
        "\n",
        "앙상블학습은 정형데이터에서 가장 뛰어난 성능을 내는 머신러닝 알고리즘중 하나입니다.\n",
        "\n",
        "1.랜덤포레스트: 부트스트랩 샘플사용. 대표적인 학습 알고리즘\n",
        "\n",
        "2.엑스트라 트리: 결정트리의 노드를 랜덤하게 분할함\n",
        "\n",
        "3.그레이디언트 부스팅: 이전 트리의 손실을 보완하는 식으로 결정트리를 연속해서 추가함\n",
        "\n",
        "4.히스토그램기반 그레이디언트부스팅: 훈련데이터를 256개의 정수구간으로 나누어 빠르고 높은 성능을 냄\n",
        "\n",
        "5.XGBoost, LightGBM"
      ]
    }
  ]
}