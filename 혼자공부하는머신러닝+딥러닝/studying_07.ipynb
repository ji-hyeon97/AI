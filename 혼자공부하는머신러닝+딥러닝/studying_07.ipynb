{
  "nbformat": 4,
  "nbformat_minor": 0,
  "metadata": {
    "colab": {
      "name": "studying_07.ipynb",
      "provenance": [],
      "collapsed_sections": []
    },
    "kernelspec": {
      "name": "python3",
      "display_name": "Python 3"
    },
    "language_info": {
      "name": "python"
    }
  },
  "cells": [
    {
      "cell_type": "markdown",
      "metadata": {
        "id": "UHIlPGG3eHkf"
      },
      "source": [
        "Lucky Bag\n",
        "\n",
        "Q)랜덤으로 담겨있는 생선의 확률 구하기\n",
        "\n",
        "특성은 길이, 높이, 두께, 대각선, 무게 사용가능\n",
        "\n",
        "ex)도미일 확률:72%,  빙어일 확률:16%\n",
        "\n",
        "확률 계산하기: k-최근접 이웃 분류기\n"
      ]
    },
    {
      "cell_type": "code",
      "metadata": {
        "colab": {
          "base_uri": "https://localhost:8080/",
          "height": 195
        },
        "id": "BskTXasreigD",
        "outputId": "e562c5de-2174-48ee-9667-91b45c6551e7"
      },
      "source": [
        "import pandas as pd\n",
        "fish = pd.read_csv(\"/content/fish.csv\")\n",
        "fish.head()"
      ],
      "execution_count": null,
      "outputs": [
        {
          "output_type": "execute_result",
          "data": {
            "text/html": [
              "<div>\n",
              "<style scoped>\n",
              "    .dataframe tbody tr th:only-of-type {\n",
              "        vertical-align: middle;\n",
              "    }\n",
              "\n",
              "    .dataframe tbody tr th {\n",
              "        vertical-align: top;\n",
              "    }\n",
              "\n",
              "    .dataframe thead th {\n",
              "        text-align: right;\n",
              "    }\n",
              "</style>\n",
              "<table border=\"1\" class=\"dataframe\">\n",
              "  <thead>\n",
              "    <tr style=\"text-align: right;\">\n",
              "      <th></th>\n",
              "      <th>Species</th>\n",
              "      <th>Weight</th>\n",
              "      <th>Length</th>\n",
              "      <th>Diagonal</th>\n",
              "      <th>Height</th>\n",
              "      <th>Width</th>\n",
              "    </tr>\n",
              "  </thead>\n",
              "  <tbody>\n",
              "    <tr>\n",
              "      <th>0</th>\n",
              "      <td>Bream</td>\n",
              "      <td>242.0</td>\n",
              "      <td>25.4</td>\n",
              "      <td>30.0</td>\n",
              "      <td>11.5200</td>\n",
              "      <td>4.0200</td>\n",
              "    </tr>\n",
              "    <tr>\n",
              "      <th>1</th>\n",
              "      <td>Bream</td>\n",
              "      <td>290.0</td>\n",
              "      <td>26.3</td>\n",
              "      <td>31.2</td>\n",
              "      <td>12.4800</td>\n",
              "      <td>4.3056</td>\n",
              "    </tr>\n",
              "    <tr>\n",
              "      <th>2</th>\n",
              "      <td>Bream</td>\n",
              "      <td>340.0</td>\n",
              "      <td>26.5</td>\n",
              "      <td>31.1</td>\n",
              "      <td>12.3778</td>\n",
              "      <td>4.6961</td>\n",
              "    </tr>\n",
              "    <tr>\n",
              "      <th>3</th>\n",
              "      <td>Bream</td>\n",
              "      <td>363.0</td>\n",
              "      <td>29.0</td>\n",
              "      <td>33.5</td>\n",
              "      <td>12.7300</td>\n",
              "      <td>4.4555</td>\n",
              "    </tr>\n",
              "    <tr>\n",
              "      <th>4</th>\n",
              "      <td>Bream</td>\n",
              "      <td>430.0</td>\n",
              "      <td>29.0</td>\n",
              "      <td>34.0</td>\n",
              "      <td>12.4440</td>\n",
              "      <td>5.1340</td>\n",
              "    </tr>\n",
              "  </tbody>\n",
              "</table>\n",
              "</div>"
            ],
            "text/plain": [
              "  Species  Weight  Length  Diagonal   Height   Width\n",
              "0   Bream   242.0    25.4      30.0  11.5200  4.0200\n",
              "1   Bream   290.0    26.3      31.2  12.4800  4.3056\n",
              "2   Bream   340.0    26.5      31.1  12.3778  4.6961\n",
              "3   Bream   363.0    29.0      33.5  12.7300  4.4555\n",
              "4   Bream   430.0    29.0      34.0  12.4440  5.1340"
            ]
          },
          "metadata": {
            "tags": []
          },
          "execution_count": 4
        }
      ]
    },
    {
      "cell_type": "markdown",
      "metadata": {
        "id": "ZKd4peppfypl"
      },
      "source": [
        "타깃 데이터: Species\n",
        "\n",
        "판다스 unique()함수 사용"
      ]
    },
    {
      "cell_type": "code",
      "metadata": {
        "colab": {
          "base_uri": "https://localhost:8080/"
        },
        "id": "qWbAmM6cfkVC",
        "outputId": "eeae6b05-e2bf-4396-dcd5-c4eaa6975507"
      },
      "source": [
        "print(pd.unique(fish['Species']))"
      ],
      "execution_count": null,
      "outputs": [
        {
          "output_type": "stream",
          "text": [
            "['Bream' 'Roach' 'Whitefish' 'Parkki' 'Perch' 'Pike' 'Smelt']\n"
          ],
          "name": "stdout"
        }
      ]
    },
    {
      "cell_type": "markdown",
      "metadata": {
        "id": "fKupFo9xf3Jk"
      },
      "source": [
        "특성 데이터 ->데이터프레임으로 반환 후 넘파이 배열을 만듬"
      ]
    },
    {
      "cell_type": "code",
      "metadata": {
        "colab": {
          "base_uri": "https://localhost:8080/"
        },
        "id": "hXjeQuDSfwGB",
        "outputId": "824bb1fe-ef35-41e2-c1ec-f88703664b28"
      },
      "source": [
        "fish_input = fish[['Weight','Length','Diagonal','Height','Width']].to_numpy()#입력데이터\n",
        "print(fish_input[:5])"
      ],
      "execution_count": null,
      "outputs": [
        {
          "output_type": "stream",
          "text": [
            "[[242.      25.4     30.      11.52     4.02  ]\n",
            " [290.      26.3     31.2     12.48     4.3056]\n",
            " [340.      26.5     31.1     12.3778   4.6961]\n",
            " [363.      29.      33.5     12.73     4.4555]\n",
            " [430.      29.      34.      12.444    5.134 ]]\n"
          ],
          "name": "stdout"
        }
      ]
    },
    {
      "cell_type": "code",
      "metadata": {
        "colab": {
          "base_uri": "https://localhost:8080/"
        },
        "id": "Yl7GkI3jg_Zg",
        "outputId": "fbf2f7a0-056a-45cc-cf4e-90c7c935cf7d"
      },
      "source": [
        "fish_target = fish['Species'].to_numpy()#타깃데이터\n",
        "print(fish_target[:5])"
      ],
      "execution_count": null,
      "outputs": [
        {
          "output_type": "stream",
          "text": [
            "['Bream' 'Bream' 'Bream' 'Bream' 'Bream']\n"
          ],
          "name": "stdout"
        }
      ]
    },
    {
      "cell_type": "markdown",
      "metadata": {
        "id": "CxsQvZofg-bO"
      },
      "source": [
        "훈련세트와 테스트세트로 나누기"
      ]
    },
    {
      "cell_type": "code",
      "metadata": {
        "id": "fy7S34tLhOb0"
      },
      "source": [
        "from sklearn.model_selection import train_test_split\n",
        "train_input, test_input, train_target, test_target = train_test_split(fish_input,fish_target,random_state=42)"
      ],
      "execution_count": null,
      "outputs": []
    },
    {
      "cell_type": "markdown",
      "metadata": {
        "id": "bBozTE5whBUZ"
      },
      "source": [
        "StandardScaler 클래스를 사용하여 표준화 전처리 하기"
      ]
    },
    {
      "cell_type": "code",
      "metadata": {
        "id": "Dq9466lvhiIL"
      },
      "source": [
        "from sklearn.preprocessing import StandardScaler\n",
        "ss = StandardScaler()\n",
        "ss.fit(train_input)\n",
        "train_scaled = ss.transform(train_input)\n",
        "test_scaled = ss.transform(test_input)\n",
        "#표준화 fit -> transform"
      ],
      "execution_count": null,
      "outputs": []
    },
    {
      "cell_type": "markdown",
      "metadata": {
        "id": "KPfpBtoJhWQG"
      },
      "source": [
        "k-최근접 이웃의 다중 분류\n",
        "\n",
        "다중분류: 타깃 데이터에 2개 이상의 클래스가 포함된것.."
      ]
    },
    {
      "cell_type": "code",
      "metadata": {
        "colab": {
          "base_uri": "https://localhost:8080/"
        },
        "id": "UfiLXBqYh3gK",
        "outputId": "4cf11884-63ed-43b4-9403-087662e34e71"
      },
      "source": [
        "from sklearn.neighbors import KNeighborsClassifier\n",
        "kn = KNeighborsClassifier(n_neighbors=3)#최근접 이웃개수는 3개!\n",
        "kn.fit(train_scaled,train_target)#사이킷런이 문자열을 정수로 알아서 바꿔줌\n",
        "print(kn.score(train_scaled,train_target))\n",
        "print(kn.score(test_scaled,test_target))"
      ],
      "execution_count": null,
      "outputs": [
        {
          "output_type": "stream",
          "text": [
            "0.8907563025210085\n",
            "0.85\n"
          ],
          "name": "stdout"
        }
      ]
    },
    {
      "cell_type": "code",
      "metadata": {
        "colab": {
          "base_uri": "https://localhost:8080/"
        },
        "id": "cxAUhYvhiLq4",
        "outputId": "f78f73d1-2d42-4dde-ae0c-cb730fb90b5e"
      },
      "source": [
        "print(kn.classes_)#_:train 타켓으로부터 학습한 값. 알파벳순서대로 나옴"
      ],
      "execution_count": null,
      "outputs": [
        {
          "output_type": "stream",
          "text": [
            "['Bream' 'Parkki' 'Perch' 'Pike' 'Roach' 'Smelt' 'Whitefish']\n"
          ],
          "name": "stdout"
        }
      ]
    },
    {
      "cell_type": "code",
      "metadata": {
        "colab": {
          "base_uri": "https://localhost:8080/"
        },
        "id": "xXCt7eq5iWSJ",
        "outputId": "8d590628-a7d6-437e-d11f-0546a08c63cc"
      },
      "source": [
        "print(kn.predict(test_scaled[:5]))"
      ],
      "execution_count": null,
      "outputs": [
        {
          "output_type": "stream",
          "text": [
            "['Perch' 'Smelt' 'Pike' 'Perch' 'Perch']\n"
          ],
          "name": "stdout"
        }
      ]
    },
    {
      "cell_type": "markdown",
      "metadata": {
        "id": "INJporNkitAM"
      },
      "source": [
        "사이킷런의 분류모델은 predict_proba()메서드로 클래스별 확률값을 알 수있다\n",
        "\n",
        "3개의 최근접 이웃을 사용했기 때문에 확률은 다음과 같이 4가지로 만 나온다"
      ]
    },
    {
      "cell_type": "code",
      "metadata": {
        "colab": {
          "base_uri": "https://localhost:8080/"
        },
        "id": "1c_J86Z9ibK1",
        "outputId": "9ad2e1d5-7d2e-495f-832c-a58a505d7f2c"
      },
      "source": [
        "import numpy as np\n",
        "proba = kn.predict_proba(test_scaled[:5])#출력순서는 classes_ 속성과 같음\n",
        "print(np.round(proba,decimals=4))# round는 반올림, decimals는 소수점 자리수"
      ],
      "execution_count": null,
      "outputs": [
        {
          "output_type": "stream",
          "text": [
            "[[0.     0.     1.     0.     0.     0.     0.    ]\n",
            " [0.     0.     0.     0.     0.     1.     0.    ]\n",
            " [0.     0.     0.     1.     0.     0.     0.    ]\n",
            " [0.     0.     0.6667 0.     0.3333 0.     0.    ]\n",
            " [0.     0.     0.6667 0.     0.3333 0.     0.    ]]\n"
          ],
          "name": "stdout"
        }
      ]
    },
    {
      "cell_type": "code",
      "metadata": {
        "colab": {
          "base_uri": "https://localhost:8080/"
        },
        "id": "esFvExw5ikoz",
        "outputId": "03230a8d-ed12-4eae-81e2-90861b211915"
      },
      "source": [
        "distances, indexes = kn.kneighbors(test_scaled[3:4])#4번째 샘플의 3개의 최근접 이웃클래스\n",
        "print(train_target[indexes])"
      ],
      "execution_count": null,
      "outputs": [
        {
          "output_type": "stream",
          "text": [
            "[['Roach' 'Perch' 'Perch']]\n"
          ],
          "name": "stdout"
        }
      ]
    },
    {
      "cell_type": "markdown",
      "metadata": {
        "id": "2neVuRdjmW9C"
      },
      "source": [
        "로지스틱 회귀 : 분류모델\n",
        "\n",
        "z = aX무게 + bX길이 + cX대각선 + dX높이 + eX두께 + f\n",
        "\n",
        "z값을 그대로 사용하면 회귀가 됨\n",
        "\n",
        "확률의 개념인 0~1로 바꾸기 위해 시그모이드함수, 로지스틱함수를 사용"
      ]
    },
    {
      "cell_type": "code",
      "metadata": {
        "colab": {
          "base_uri": "https://localhost:8080/",
          "height": 279
        },
        "id": "eFlcWNPfnGHt",
        "outputId": "15881b83-e9fc-46fe-c8f1-089acb02b25e"
      },
      "source": [
        "import matplotlib.pyplot as plt\n",
        "z = np.arange(-5,5,0.1)\n",
        "phi = 1/(1+np.exp(-z))\n",
        "plt.plot(z,phi)\n",
        "plt.xlabel('z')\n",
        "plt.ylabel('phi')\n",
        "plt.show()\n"
      ],
      "execution_count": null,
      "outputs": [
        {
          "output_type": "display_data",
          "data": {
            "image/png": "[encoded data removed]",
            "text/plain": [
              "<Figure size 432x288 with 1 Axes>"
            ]
          },
          "metadata": {
            "tags": [],
            "needs_background": "light"
          }
        }
      ]
    },
    {
      "cell_type": "markdown",
      "metadata": {
        "id": "i322HbaXokgO"
      },
      "source": [
        "이진분류에서는 시그모이드 함수의 출력값이 0.5보다 크면 양성클래스, 0.5이하이면 음성클래스로 판단\n",
        "\n",
        "도미와 빙어를 이용해 이진분류를 수행해보자"
      ]
    },
    {
      "cell_type": "code",
      "metadata": {
        "id": "oPTZ-klEox1D"
      },
      "source": [
        "bream_smelt_indexes = (train_target == \"Bream\")|(train_target == \"Smelt\") #or연산자를 이용해 도미와 빙어에 대한 행만 선택\n",
        "train_bream_smelt = train_scaled[bream_smelt_indexes]\n",
        "target_bream_smelt = train_target[bream_smelt_indexes]"
      ],
      "execution_count": null,
      "outputs": []
    },
    {
      "cell_type": "code",
      "metadata": {
        "colab": {
          "base_uri": "https://localhost:8080/"
        },
        "id": "reCsrKotpLeO",
        "outputId": "db92697f-f9c8-4f9a-a4aa-1a236a8498ea"
      },
      "source": [
        "from sklearn.linear_model import LogisticRegression\n",
        "lr = LogisticRegression()\n",
        "lr.fit(train_bream_smelt, target_bream_smelt)"
      ],
      "execution_count": null,
      "outputs": [
        {
          "output_type": "execute_result",
          "data": {
            "text/plain": [
              "LogisticRegression(C=1.0, class_weight=None, dual=False, fit_intercept=True,\n",
              "                   intercept_scaling=1, l1_ratio=None, max_iter=100,\n",
              "                   multi_class='auto', n_jobs=None, penalty='l2',\n",
              "                   random_state=None, solver='lbfgs', tol=0.0001, verbose=0,\n",
              "                   warm_start=False)"
            ]
          },
          "metadata": {
            "tags": []
          },
          "execution_count": 17
        }
      ]
    },
    {
      "cell_type": "markdown",
      "metadata": {
        "id": "xK0dcS4arb_s"
      },
      "source": [
        "훈련을 진행후 train_bream_smelt에 있는 처음 5개의 샘플을 예측해서 출력"
      ]
    },
    {
      "cell_type": "code",
      "metadata": {
        "colab": {
          "base_uri": "https://localhost:8080/"
        },
        "id": "E-7B72cWpWrx",
        "outputId": "254a8434-6e61-4003-f413-32c84044963a"
      },
      "source": [
        "print(lr.predict(train_bream_smelt[:5]))"
      ],
      "execution_count": null,
      "outputs": [
        {
          "output_type": "stream",
          "text": [
            "['Bream' 'Smelt' 'Bream' 'Bream' 'Bream']\n"
          ],
          "name": "stdout"
        }
      ]
    },
    {
      "cell_type": "code",
      "metadata": {
        "colab": {
          "base_uri": "https://localhost:8080/"
        },
        "id": "0GBGYs7nqAJI",
        "outputId": "f974b47c-bbc0-4d12-bf15-a0c299908376"
      },
      "source": [
        "print(lr.predict_proba(train_bream_smelt[:5])) #1열: 음성클래스, 2열:양성클래스"
      ],
      "execution_count": null,
      "outputs": [
        {
          "output_type": "stream",
          "text": [
            "[[0.99759855 0.00240145]\n",
            " [0.02735183 0.97264817]\n",
            " [0.99486072 0.00513928]\n",
            " [0.98584202 0.01415798]\n",
            " [0.99767269 0.00232731]]\n"
          ],
          "name": "stdout"
        }
      ]
    },
    {
      "cell_type": "markdown",
      "metadata": {
        "id": "b0IXgZQlqwDB"
      },
      "source": [
        "1열은 음성클래스(도미, Bream), 2열은 양성클래스(빙어,Smelt)"
      ]
    },
    {
      "cell_type": "code",
      "metadata": {
        "colab": {
          "base_uri": "https://localhost:8080/"
        },
        "id": "K078pOQlrB4T",
        "outputId": "2207223c-286a-4eba-eb78-1f62016e52f1"
      },
      "source": [
        "print(lr.classes_)"
      ],
      "execution_count": null,
      "outputs": [
        {
          "output_type": "stream",
          "text": [
            "['Bream' 'Smelt']\n"
          ],
          "name": "stdout"
        }
      ]
    },
    {
      "cell_type": "markdown",
      "metadata": {
        "id": "y7vtogPQqakI"
      },
      "source": [
        "로지스틱회귀 계수 확인"
      ]
    },
    {
      "cell_type": "code",
      "metadata": {
        "colab": {
          "base_uri": "https://localhost:8080/"
        },
        "id": "XQ0Ay7B0qdC9",
        "outputId": "ee3e096d-77c5-4b15-a6ce-016986f18ff1"
      },
      "source": [
        "print(lr.coef_, lr.intercept_)"
      ],
      "execution_count": null,
      "outputs": [
        {
          "output_type": "stream",
          "text": [
            "[[-0.4037798  -0.57620209 -0.66280298 -1.01290277 -0.73168947]] [-2.16155132]\n"
          ],
          "name": "stdout"
        }
      ]
    },
    {
      "cell_type": "markdown",
      "metadata": {
        "id": "LUHfdeU4quAG"
      },
      "source": [
        "로지스틱 회귀의 방정식은 \n",
        "\n",
        "z = -0.4Xweight + -0.5Xlength + -0.6Xdiagonal + 1.0Xheight + -0.7Xwidth -2.1\n",
        "\n",
        "LogisticRegression 모델로 z값 계산가능\n",
        "\n",
        "decision_function()을 통해 z값 출력가능"
      ]
    },
    {
      "cell_type": "code",
      "metadata": {
        "colab": {
          "base_uri": "https://localhost:8080/"
        },
        "id": "4vcTi9r9sBPR",
        "outputId": "9f76f565-b9da-476e-c580-dc4b61832b14"
      },
      "source": [
        "decisions = lr.decision_function(train_bream_smelt[:5])\n",
        "print(decisions) #이 z값들을 시그모이드 함수에 대입하면 확률을 얻을 수 있다"
      ],
      "execution_count": null,
      "outputs": [
        {
          "output_type": "stream",
          "text": [
            "[-6.02927744  3.57123907 -5.26568906 -4.24321775 -6.0607117 ]\n"
          ],
          "name": "stdout"
        }
      ]
    },
    {
      "cell_type": "markdown",
      "metadata": {
        "id": "ruyeuwezFbei"
      },
      "source": [
        "이는 predict_proba()메소드 출력의 두 번째 열의 값과 동일 하다\n",
        "\n",
        "즉 decision_function()에서 양성 클래스에 대한 z값을 반환한다"
      ]
    },
    {
      "cell_type": "code",
      "metadata": {
        "colab": {
          "base_uri": "https://localhost:8080/"
        },
        "id": "4tbgKkjfsMbZ",
        "outputId": "9fd42a37-a4dc-44be-b703-8393158deee6"
      },
      "source": [
        "from scipy.special import expit #scipy라이브러리에 시그모이드 함수(expit) 존재\n",
        "print(expit(decisions))#확률값"
      ],
      "execution_count": null,
      "outputs": [
        {
          "output_type": "stream",
          "text": [
            "[0.00240145 0.97264817 0.00513928 0.01415798 0.00232731]\n"
          ],
          "name": "stdout"
        }
      ]
    },
    {
      "cell_type": "markdown",
      "metadata": {
        "id": "a5ZI9T8VFuAX"
      },
      "source": [
        "이진분류를 통한 로지스틱 회귀모델 훈련 완료!"
      ]
    },
    {
      "cell_type": "markdown",
      "metadata": {
        "id": "alO7RysauTWa"
      },
      "source": [
        "다중분류(로지스틱 회귀)\n",
        "\n",
        "반복의 기본값은 100이고 충분하게 훈련시키기 위해 1000으로 늘렷다\n",
        "\n",
        "C값은 분류모델시 규제변수. C값이 높을수록 규제강도는 약하다(L2)\n",
        "\n",
        "C의 기본값은 1이다"
      ]
    },
    {
      "cell_type": "code",
      "metadata": {
        "colab": {
          "base_uri": "https://localhost:8080/"
        },
        "id": "YMJKrdiVuYPN",
        "outputId": "4e8ff6fd-2534-49b5-d42b-f4a10aee568d"
      },
      "source": [
        "lr = LogisticRegression(C=20, max_iter = 1000)#반복횟수 조절, C값은 L2규제를 기본적으로 적용\n",
        "lr.fit(train_scaled, train_target)\n",
        "print(lr.score(train_scaled, train_target))#정확도\n",
        "print(lr.score(test_scaled,test_target))#overfitting, underfitting -> X"
      ],
      "execution_count": null,
      "outputs": [
        {
          "output_type": "stream",
          "text": [
            "0.9327731092436975\n",
            "0.925\n"
          ],
          "name": "stdout"
        }
      ]
    },
    {
      "cell_type": "markdown",
      "metadata": {
        "id": "7ei_-64quyIU"
      },
      "source": [
        "테스트세트의 처음 5개 샘플에 대한 예측과 확률"
      ]
    },
    {
      "cell_type": "code",
      "metadata": {
        "colab": {
          "base_uri": "https://localhost:8080/"
        },
        "id": "Kqc--DoJuwwl",
        "outputId": "f6e1136f-63dc-4e1e-c2c4-530e362d717a"
      },
      "source": [
        "print(lr.predict(test_scaled[:5]))"
      ],
      "execution_count": null,
      "outputs": [
        {
          "output_type": "stream",
          "text": [
            "['Perch' 'Smelt' 'Pike' 'Roach' 'Perch']\n"
          ],
          "name": "stdout"
        }
      ]
    },
    {
      "cell_type": "code",
      "metadata": {
        "colab": {
          "base_uri": "https://localhost:8080/"
        },
        "id": "xvaTWUugu7SB",
        "outputId": "ce74fdba-04d7-4558-f9c8-bb398812b961"
      },
      "source": [
        "proba = lr.predict_proba(test_scaled[:5])\n",
        "print(np.round(proba,decimals = 3))"
      ],
      "execution_count": null,
      "outputs": [
        {
          "output_type": "stream",
          "text": [
            "[[0.    0.014 0.841 0.    0.136 0.007 0.003]\n",
            " [0.    0.003 0.044 0.    0.007 0.946 0.   ]\n",
            " [0.    0.    0.034 0.935 0.015 0.016 0.   ]\n",
            " [0.011 0.034 0.306 0.007 0.567 0.    0.076]\n",
            " [0.    0.    0.904 0.002 0.089 0.002 0.001]]\n"
          ],
          "name": "stdout"
        }
      ]
    },
    {
      "cell_type": "code",
      "metadata": {
        "colab": {
          "base_uri": "https://localhost:8080/"
        },
        "id": "qQ1u1KcDvFAg",
        "outputId": "29ce0e1b-6ef5-49ae-bc70-0b34e1998dda"
      },
      "source": [
        "print(lr.classes_)"
      ],
      "execution_count": null,
      "outputs": [
        {
          "output_type": "stream",
          "text": [
            "['Bream' 'Parkki' 'Perch' 'Pike' 'Roach' 'Smelt' 'Whitefish']\n"
          ],
          "name": "stdout"
        }
      ]
    },
    {
      "cell_type": "markdown",
      "metadata": {
        "id": "2OgJ3VPBowAt"
      },
      "source": [
        "7개의 행 5개의 열\n",
        "\n",
        "7개->클래스, 5개-> 특성\n",
        "\n",
        "클래스마다 선형함수가 만들어짐 z값이 7개 만들어짐\n",
        "\n",
        "가장 큰 값이 예측클래스\n",
        "\n",
        "이진분류를 7번 실행-> 다중분류\n",
        "\n",
        "z값을 확률로 바꾸기\n",
        "\n",
        "->7개의 시그모이드 합=1 <안됨>\n",
        "\n",
        "->소프트맥스함수를 사용 다중분류의 경우\n"
      ]
    },
    {
      "cell_type": "code",
      "metadata": {
        "colab": {
          "base_uri": "https://localhost:8080/"
        },
        "id": "4t41QxW4vHr2",
        "outputId": "e4f36180-b35b-4a8f-cd8f-6f158eaebe40"
      },
      "source": [
        "print(lr.coef_.shape, lr.intercept_.shape)"
      ],
      "execution_count": null,
      "outputs": [
        {
          "output_type": "stream",
          "text": [
            "(7, 5) (7,)\n"
          ],
          "name": "stdout"
        }
      ]
    },
    {
      "cell_type": "code",
      "metadata": {
        "colab": {
          "base_uri": "https://localhost:8080/"
        },
        "id": "hhZ-AU8avNM0",
        "outputId": "78283c05-984f-4fd0-89fc-533547ff54d8"
      },
      "source": [
        "decision = lr.decision_function(test_scaled[:5])\n",
        "print(np.round(decision,decimals=2))"
      ],
      "execution_count": null,
      "outputs": [
        {
          "output_type": "stream",
          "text": [
            "[[ -6.5    1.03   5.16  -2.73   3.34   0.33  -0.63]\n",
            " [-10.86   1.93   4.77  -2.4    2.98   7.84  -4.26]\n",
            " [ -4.34  -6.23   3.17   6.49   2.36   2.42  -3.87]\n",
            " [ -0.68   0.45   2.65  -1.19   3.26  -5.75   1.26]\n",
            " [ -6.4   -1.99   5.82  -0.11   3.5   -0.11  -0.71]]\n"
          ],
          "name": "stdout"
        }
      ]
    },
    {
      "cell_type": "markdown",
      "metadata": {
        "id": "HOF-WhKCyYTe"
      },
      "source": [
        "로지스틱회귀 다중분류의 경우 소프트맥스 함수를 사용하여야 한다"
      ]
    },
    {
      "cell_type": "code",
      "metadata": {
        "colab": {
          "base_uri": "https://localhost:8080/"
        },
        "id": "txEHbj8qvemJ",
        "outputId": "a6530370-e760-41bc-ad0e-c25e6f82b54d"
      },
      "source": [
        "from scipy.special import softmax\n",
        "proba = softmax(decision, axis =1)\n",
        "print(np.round(proba, decimals =3))"
      ],
      "execution_count": null,
      "outputs": [
        {
          "output_type": "stream",
          "text": [
            "[[0.    0.014 0.841 0.    0.136 0.007 0.003]\n",
            " [0.    0.003 0.044 0.    0.007 0.946 0.   ]\n",
            " [0.    0.    0.034 0.935 0.015 0.016 0.   ]\n",
            " [0.011 0.034 0.306 0.007 0.567 0.    0.076]\n",
            " [0.    0.    0.904 0.002 0.089 0.002 0.001]]\n"
          ],
          "name": "stdout"
        }
      ]
    },
    {
      "cell_type": "markdown",
      "metadata": {
        "id": "ZyqFhxURquD6"
      },
      "source": [
        "proba배열과 정확히 일치-> 7개의 생선 확률예측 모델훈련\n",
        "\n",
        "시그모이드->이진분류\n",
        "\n",
        "소프트맥스->다중분류\n",
        "\n",
        "이진분류에서는 시그모이드함수를 사용하여 z를 0~1사이 값으로 변환\n",
        "\n",
        "다중분류에서는 소프트맥스 함수를 사용하여 7개의 z값을 확률로 변환"
      ]
    },
    {
      "cell_type": "markdown",
      "metadata": {
        "id": "Cgp9qQ7LkAVN"
      },
      "source": [
        "요약\n",
        "\n",
        "<이진분류>\n",
        "\n",
        "k최근접 이웃을 통해 분류하고 확률을 구할수 있다 허나 이는 확률값이 다양하지 않는 단점이 있다\n",
        "\n",
        "로지스틱회귀:분류모델. 선형방정식 학습 = z값 ->시그모이드 함수를 통해 확률값을 구한다\n",
        "0.5보다 크면 양성클래스 0.5보다 작으면 음성클래스 허나 z값의 0을 기준으로 분류할수 있다\n",
        "\n",
        "단지 z값만 보고 판단-> dicision_function-> predict\n",
        "\n",
        "시그모이드함수 사용 ->predict_proba\n",
        "\n",
        "<다중분류>\n",
        "\n",
        "클래스별로 선형함수 하나씩 학습\n",
        "1. 로지스틱회귀 모델 학습\n",
        "2. predict_proba 각 샘플마다 확률 출력 클래스 개수만큼 출력 총합 = 1\n",
        "3. 소프트맥스함수를 사용 확률총합 = 1\n",
        "4. 문자열 그대로 타깃값을 넣어도 됨. 알파벳 순서대로 할당됨"
      ]
    }
  ]
}