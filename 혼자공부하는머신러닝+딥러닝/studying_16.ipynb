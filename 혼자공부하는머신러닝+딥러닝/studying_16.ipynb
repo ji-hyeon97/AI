{
  "nbformat": 4,
  "nbformat_minor": 0,
  "metadata": {
    "colab": {
      "name": "studying_16.ipynb",
      "provenance": [],
      "collapsed_sections": []
    },
    "kernelspec": {
      "name": "python3",
      "display_name": "Python 3"
    },
    "language_info": {
      "name": "python"
    }
  },
  "cells": [
    {
      "cell_type": "markdown",
      "metadata": {
        "id": "Riv1zUwsO1yP"
      },
      "source": [
        "<h2>심층신경망</h2>\n",
        "<br>\n",
        "<h3>2개의 층</h3>\n",
        "\n",
        "입력층: 28X28크기의 784개 뉴런\n",
        "\n",
        "은닉층: 출력층보다 개수가 큰 뉴런(활성화 함수)->비선형식을 만들어 선형식으로 합쳐지지 않도록 하기 위해 (시그모이드, 렐루)\n",
        "\n",
        "출력층: 클래스 개수\n",
        "\n"
      ]
    },
    {
      "cell_type": "markdown",
      "metadata": {
        "id": "3knZ4F7Dsjo3"
      },
      "source": [
        "심층신경망\n",
        "\n",
        "은닉층 -> dense1\n",
        "\n",
        "출력층 -> dense2\n",
        "\n",
        "keras.Sequential([dense1,dense2])"
      ]
    },
    {
      "cell_type": "code",
      "metadata": {
        "colab": {
          "base_uri": "https://localhost:8080/"
        },
        "id": "whji-FhVOnWP",
        "outputId": "65f7c5c4-fbee-48ad-a167-55b03e3a75a3"
      },
      "source": [
        "from tensorflow import keras\n",
        "\n",
        "(train_input, train_target), (test_input, test_target) = keras.datasets.fashion_mnist.load_data()"
      ],
      "execution_count": null,
      "outputs": [
        {
          "output_type": "stream",
          "text": [
            "Downloading data from https://storage.googleapis.com/tensorflow/tf-keras-datasets/train-labels-idx1-ubyte.gz\n",
            "32768/29515 [=================================] - 0s 0us/step\n",
            "Downloading data from https://storage.googleapis.com/tensorflow/tf-keras-datasets/train-images-idx3-ubyte.gz\n",
            "26427392/26421880 [==============================] - 0s 0us/step\n",
            "Downloading data from https://storage.googleapis.com/tensorflow/tf-keras-datasets/t10k-labels-idx1-ubyte.gz\n",
            "8192/5148 [===============================================] - 0s 0us/step\n",
            "Downloading data from https://storage.googleapis.com/tensorflow/tf-keras-datasets/t10k-images-idx3-ubyte.gz\n",
            "4423680/4422102 [==============================] - 0s 0us/step\n"
          ],
          "name": "stdout"
        }
      ]
    },
    {
      "cell_type": "code",
      "metadata": {
        "id": "ISMAINESOzvF"
      },
      "source": [
        "from sklearn.model_selection import train_test_split\n",
        "\n",
        "train_scaled = train_input / 255.0 # 정규화\n",
        "train_scaled = train_scaled.reshape(-1, 28*28)\n",
        "\n",
        "train_scaled, val_scaled, train_target, val_target = train_test_split(\n",
        "    train_scaled, train_target, test_size=0.2, random_state=42)"
      ],
      "execution_count": null,
      "outputs": []
    },
    {
      "cell_type": "markdown",
      "metadata": {
        "id": "0Nn45xrKDE4E"
      },
      "source": [
        "심층 신경망"
      ]
    },
    {
      "cell_type": "code",
      "metadata": {
        "id": "L1zKbl-4PJtv"
      },
      "source": [
        "dense1 = keras.layers.Dense(100, activation='sigmoid', input_shape=(784,))\n",
        "#activation='sigmoid' : 시그모이드 활성화 함수\n",
        "dense2 = keras.layers.Dense(10, activation='softmax')\n",
        "#activation='softmax' : 소프트맥스 함수"
      ],
      "execution_count": null,
      "outputs": []
    },
    {
      "cell_type": "markdown",
      "metadata": {
        "id": "EufYRnRnPMTH"
      },
      "source": [
        "심층 신경망 만들기"
      ]
    },
    {
      "cell_type": "code",
      "metadata": {
        "id": "bpjSy9f6PMyx"
      },
      "source": [
        "model = keras.Sequential([dense1, dense2])\n",
        "#순서: 은닉층, 출력층"
      ],
      "execution_count": null,
      "outputs": []
    },
    {
      "cell_type": "code",
      "metadata": {
        "colab": {
          "base_uri": "https://localhost:8080/"
        },
        "id": "gGaa1Z5-PRRu",
        "outputId": "d7677de8-ca69-408e-e91e-725330be019a"
      },
      "source": [
        "model.summary()\n",
        "# 층마다 층 이름, 클래스, 출력 크기, 모델 파라미터 개수가 출력\n",
        "#batch_size: 미니배치경사하강법, 기본값 32개, 크기변경가능,배치차원을 none으로 지정\n",
        "#따라서 32개, 64개, 128개 batch_size 설정 가능\n",
        "#params => 입력층(784)X은닉층(100)+100 = 가중치 + 절편 = 78500\n",
        "#params => 은닉층(100)X출력층(10)+10 =가중치 + 절편 = 1010\n",
        "# Non-trainable params: 경사 하강법으로 훈련되지 않는 파라미터 층의 파라미터 개수"
      ],
      "execution_count": null,
      "outputs": [
        {
          "output_type": "stream",
          "text": [
            "Model: \"sequential\"\n",
            "_________________________________________________________________\n",
            "Layer (type)                 Output Shape              Param #   \n",
            "=================================================================\n",
            "dense (Dense)                (None, 100)               78500     \n",
            "_________________________________________________________________\n",
            "dense_1 (Dense)              (None, 10)                1010      \n",
            "=================================================================\n",
            "Total params: 79,510\n",
            "Trainable params: 79,510\n",
            "Non-trainable params: 0\n",
            "_________________________________________________________________\n"
          ],
          "name": "stdout"
        }
      ]
    },
    {
      "cell_type": "markdown",
      "metadata": {
        "id": "cOdgwHlyPTt_"
      },
      "source": [
        "층을 추가하는 다른 방법2"
      ]
    },
    {
      "cell_type": "code",
      "metadata": {
        "id": "kDifi8YXPUNg"
      },
      "source": [
        "model = keras.Sequential([\n",
        "    keras.layers.Dense(100, activation='sigmoid', input_shape=(784,), name='hidden'),\n",
        "    keras.layers.Dense(10, activation='softmax', name='output')\n",
        "], name='패션 MNIST 모델')"
      ],
      "execution_count": null,
      "outputs": []
    },
    {
      "cell_type": "code",
      "metadata": {
        "colab": {
          "base_uri": "https://localhost:8080/"
        },
        "id": "UMqwf6QBPWlD",
        "outputId": "33a72ee8-6759-4bc3-f6a5-8ed3c10ca2ef"
      },
      "source": [
        "model.summary()"
      ],
      "execution_count": null,
      "outputs": [
        {
          "output_type": "stream",
          "text": [
            "Model: \"패션 MNIST 모델\"\n",
            "_________________________________________________________________\n",
            "Layer (type)                 Output Shape              Param #   \n",
            "=================================================================\n",
            "hidden (Dense)               (None, 100)               78500     \n",
            "_________________________________________________________________\n",
            "output (Dense)               (None, 10)                1010      \n",
            "=================================================================\n",
            "Total params: 79,510\n",
            "Trainable params: 79,510\n",
            "Non-trainable params: 0\n",
            "_________________________________________________________________\n"
          ],
          "name": "stdout"
        }
      ]
    },
    {
      "cell_type": "markdown",
      "metadata": {
        "id": "tB0t4qUsFDlX"
      },
      "source": [
        "층을 추가하는 다른 방법3"
      ]
    },
    {
      "cell_type": "code",
      "metadata": {
        "id": "iGYjMqQEPX_A"
      },
      "source": [
        "model = keras.Sequential()\n",
        "model.add(keras.layers.Dense(100, activation='sigmoid', input_shape=(784,)))\n",
        "model.add(keras.layers.Dense(10, activation='softmax'))"
      ],
      "execution_count": null,
      "outputs": []
    },
    {
      "cell_type": "code",
      "metadata": {
        "colab": {
          "base_uri": "https://localhost:8080/"
        },
        "id": "VyNbk75JPaWi",
        "outputId": "2c89edd7-042f-4a21-82e9-cbb85b6e6ed8"
      },
      "source": [
        "model.summary()"
      ],
      "execution_count": null,
      "outputs": [
        {
          "output_type": "stream",
          "text": [
            "Model: \"sequential_1\"\n",
            "_________________________________________________________________\n",
            "Layer (type)                 Output Shape              Param #   \n",
            "=================================================================\n",
            "dense_2 (Dense)              (None, 100)               78500     \n",
            "_________________________________________________________________\n",
            "dense_3 (Dense)              (None, 10)                1010      \n",
            "=================================================================\n",
            "Total params: 79,510\n",
            "Trainable params: 79,510\n",
            "Non-trainable params: 0\n",
            "_________________________________________________________________\n"
          ],
          "name": "stdout"
        }
      ]
    },
    {
      "cell_type": "code",
      "metadata": {
        "colab": {
          "base_uri": "https://localhost:8080/"
        },
        "id": "wtz_uPSvPcm7",
        "outputId": "a1d7fc94-4594-4d3a-b5b8-fd88b679a499"
      },
      "source": [
        "model.compile(loss='sparse_categorical_crossentropy', metrics='accuracy')\n",
        "\n",
        "model.fit(train_scaled, train_target, epochs=5)"
      ],
      "execution_count": null,
      "outputs": [
        {
          "output_type": "stream",
          "text": [
            "Epoch 1/5\n",
            "1500/1500 [==============================] - 4s 2ms/step - loss: 0.5631 - accuracy: 0.8088\n",
            "Epoch 2/5\n",
            "1500/1500 [==============================] - 3s 2ms/step - loss: 0.4072 - accuracy: 0.8541\n",
            "Epoch 3/5\n",
            "1500/1500 [==============================] - 3s 2ms/step - loss: 0.3722 - accuracy: 0.8652\n",
            "Epoch 4/5\n",
            "1500/1500 [==============================] - 3s 2ms/step - loss: 0.3499 - accuracy: 0.8725\n",
            "Epoch 5/5\n",
            "1500/1500 [==============================] - 3s 2ms/step - loss: 0.3331 - accuracy: 0.8788\n"
          ],
          "name": "stdout"
        },
        {
          "output_type": "execute_result",
          "data": {
            "text/plain": [
              "<tensorflow.python.keras.callbacks.History at 0x7f12625b0d50>"
            ]
          },
          "metadata": {
            "tags": []
          },
          "execution_count": 10
        }
      ]
    },
    {
      "cell_type": "markdown",
      "metadata": {
        "id": "Eodu3idoPfWk"
      },
      "source": [
        "렐루 활성화 함수\n",
        "\n",
        "렐루 함수와 Flatten 층\n",
        "\n",
        "z>0이면 z값 출력\n",
        "\n",
        "z<0이면 0으로 출력"
      ]
    },
    {
      "cell_type": "markdown",
      "metadata": {
        "id": "6rUx4yiSLPa6"
      },
      "source": [
        "시그모이드 함수의 단점 -> 선형출력 값이 넘 크거나 작은경우 시그모이드함수 변화가 작아짐 -> '포화가 되었다' -> 신경망 모델이 빠르게 학습하는 것을 할 수 없다 -> 층을 깊게 못함"
      ]
    },
    {
      "cell_type": "code",
      "metadata": {
        "id": "8YGjtkM8PfwU"
      },
      "source": [
        "model = keras.Sequential()\n",
        "model.add(keras.layers.Flatten(input_shape=(28, 28)))\n",
        "#flatten층: 2차원 이미지를 1차원 배열로 바꾸어 준다 ->784개\n",
        "#가중치 절편 모두 없기 때문에 Param=0  \n",
        "#그래도 keras.layers밑에 있기 때문에 하나의 층으로 본다!\n",
        "model.add(keras.layers.Dense(100, activation='relu'))#시그모이드 대신 렐루 함수사용\n",
        "model.add(keras.layers.Dense(10, activation='softmax'))"
      ],
      "execution_count": null,
      "outputs": []
    },
    {
      "cell_type": "code",
      "metadata": {
        "colab": {
          "base_uri": "https://localhost:8080/"
        },
        "id": "toxaFgD-PiuW",
        "outputId": "afedbf3e-da2c-4be5-e9a4-8eef911165df"
      },
      "source": [
        "model.summary()"
      ],
      "execution_count": null,
      "outputs": [
        {
          "output_type": "stream",
          "text": [
            "Model: \"sequential_2\"\n",
            "_________________________________________________________________\n",
            "Layer (type)                 Output Shape              Param #   \n",
            "=================================================================\n",
            "flatten (Flatten)            (None, 784)               0         \n",
            "_________________________________________________________________\n",
            "dense_4 (Dense)              (None, 100)               78500     \n",
            "_________________________________________________________________\n",
            "dense_5 (Dense)              (None, 10)                1010      \n",
            "=================================================================\n",
            "Total params: 79,510\n",
            "Trainable params: 79,510\n",
            "Non-trainable params: 0\n",
            "_________________________________________________________________\n"
          ],
          "name": "stdout"
        }
      ]
    },
    {
      "cell_type": "code",
      "metadata": {
        "id": "atPokmRfPky0"
      },
      "source": [
        "(train_input, train_target), (test_input, test_target) = keras.datasets.fashion_mnist.load_data()\n",
        "\n",
        "train_scaled = train_input / 255.0\n",
        "\n",
        "train_scaled, val_scaled, train_target, val_target = train_test_split(\n",
        "    train_scaled, train_target, test_size=0.2, random_state=42)"
      ],
      "execution_count": null,
      "outputs": []
    },
    {
      "cell_type": "code",
      "metadata": {
        "colab": {
          "base_uri": "https://localhost:8080/"
        },
        "id": "kyz41YMAPmqj",
        "outputId": "99f939a5-b76d-42a0-f92a-25bb487c3f3e"
      },
      "source": [
        "model.compile(loss='sparse_categorical_crossentropy', metrics='accuracy')\n",
        "\n",
        "model.fit(train_scaled, train_target, epochs=5)\n",
        "#확실히 렐루함수가 시그모이드 함수보다 성능이 쬐금 좋긴 함!"
      ],
      "execution_count": null,
      "outputs": [
        {
          "output_type": "stream",
          "text": [
            "Epoch 1/5\n",
            "1500/1500 [==============================] - 3s 2ms/step - loss: 0.5318 - accuracy: 0.8134\n",
            "Epoch 2/5\n",
            "1500/1500 [==============================] - 3s 2ms/step - loss: 0.3921 - accuracy: 0.8584\n",
            "Epoch 3/5\n",
            "1500/1500 [==============================] - 3s 2ms/step - loss: 0.3533 - accuracy: 0.8727\n",
            "Epoch 4/5\n",
            "1500/1500 [==============================] - 3s 2ms/step - loss: 0.3325 - accuracy: 0.8789\n",
            "Epoch 5/5\n",
            "1500/1500 [==============================] - 3s 2ms/step - loss: 0.3179 - accuracy: 0.8877\n"
          ],
          "name": "stdout"
        },
        {
          "output_type": "execute_result",
          "data": {
            "text/plain": [
              "<tensorflow.python.keras.callbacks.History at 0x7f125fe29410>"
            ]
          },
          "metadata": {
            "tags": []
          },
          "execution_count": 14
        }
      ]
    },
    {
      "cell_type": "code",
      "metadata": {
        "colab": {
          "base_uri": "https://localhost:8080/"
        },
        "id": "0sSXBEIfPooq",
        "outputId": "906276b7-0692-448a-fec3-56cc91c398ae"
      },
      "source": [
        "model.evaluate(val_scaled, val_target)"
      ],
      "execution_count": null,
      "outputs": [
        {
          "output_type": "stream",
          "text": [
            "375/375 [==============================] - 1s 1ms/step - loss: 0.3877 - accuracy: 0.8708\n"
          ],
          "name": "stdout"
        },
        {
          "output_type": "execute_result",
          "data": {
            "text/plain": [
              "[0.38768866658210754, 0.8708333373069763]"
            ]
          },
          "metadata": {
            "tags": []
          },
          "execution_count": 15
        }
      ]
    },
    {
      "cell_type": "markdown",
      "metadata": {
        "id": "YzjW-orHPqkJ"
      },
      "source": [
        "옵티마이저 : 확률적 경사 하강법\n",
        "\n",
        "최적화: SGD->모멘텀->네스테로브 모멘텀\n",
        "\n",
        "모멘텀 + RMS prop = Adam -> 적응적 학습률 옵티마이저\n",
        "\n",
        "확률적경사하강법: 천천히 내려가야함 learning rate-> 처음에는 경사가 급하다가 수렴점에는 조금씩 이동하는게 좋음 -> 즉 learning rate가 바뀌는 것이 좋다 = 적응적 학습률 옵티마이저\n",
        "\n"
      ]
    },
    {
      "cell_type": "code",
      "metadata": {
        "id": "6r41ZFwSPsvu"
      },
      "source": [
        "model.compile(optimizer='sgd', loss='sparse_categorical_crossentropy', metrics='accuracy')\n",
        "#문자열로 옵티마이저를 입력받는 경우 매개변수를 사용X, 기본값만"
      ],
      "execution_count": null,
      "outputs": []
    },
    {
      "cell_type": "code",
      "metadata": {
        "id": "lYDA8BiLPvpo"
      },
      "source": [
        "sgd = keras.optimizers.SGD()\n",
        "model.compile(optimizer=sgd, loss='sparse_categorical_crossentropy', metrics='accuracy')\n",
        "#sgd객체 전달->매개변수 사용 가능\n",
        "#위의 코드랑 동일\n"
      ],
      "execution_count": null,
      "outputs": []
    },
    {
      "cell_type": "code",
      "metadata": {
        "id": "vWf7Yfp5Pzs_"
      },
      "source": [
        "sgd = keras.optimizers.SGD(learning_rate=0.1)#기본값은 0.01"
      ],
      "execution_count": null,
      "outputs": []
    },
    {
      "cell_type": "code",
      "metadata": {
        "id": "1bxBpQxcP15y"
      },
      "source": [
        "sgd = keras.optimizers.SGD(momentum=0.9, nesterov=True)\n",
        "#모멘텀,네스토르브 모멘텀 매개변수 각각의 기본값 0,false"
      ],
      "execution_count": null,
      "outputs": []
    },
    {
      "cell_type": "code",
      "metadata": {
        "id": "RcV1l9KGP2nQ"
      },
      "source": [
        "# 적응적 학습률 사용하는 대표적인 옵티마이저 : Adagrad\n",
        "adagrad = keras.optimizers.Adagrad()\n",
        "model.compile(optimizer=adagrad, loss='sparse_categorical_crossentropy', metrics='accuracy')"
      ],
      "execution_count": null,
      "outputs": []
    },
    {
      "cell_type": "code",
      "metadata": {
        "id": "sC8t0sZiP6bN"
      },
      "source": [
        "# 적응적 학습률 사용하는 대표적인 옵티마이저 : RMSprop\n",
        "rmsprop = keras.optimizers.RMSprop()\n",
        "model.compile(optimizer=rmsprop, loss='sparse_categorical_crossentropy', metrics='accuracy')"
      ],
      "execution_count": null,
      "outputs": []
    },
    {
      "cell_type": "code",
      "metadata": {
        "id": "MyNbFjEeP8KW"
      },
      "source": [
        "model = keras.Sequential()\n",
        "model.add(keras.layers.Flatten(input_shape=(28, 28)))\n",
        "model.add(keras.layers.Dense(100, activation='relu'))\n",
        "model.add(keras.layers.Dense(10, activation='softmax'))"
      ],
      "execution_count": null,
      "outputs": []
    },
    {
      "cell_type": "code",
      "metadata": {
        "colab": {
          "base_uri": "https://localhost:8080/"
        },
        "id": "yRgCcN1pP-aY",
        "outputId": "bab430f0-1e34-4e98-d497-9b369d862b59"
      },
      "source": [
        "model.compile(optimizer='adam', loss='sparse_categorical_crossentropy', metrics='accuracy')\n",
        "#옵티마이저를 SGD,Adam,RMSprop, 등 여러개를 시도해보고 가장 잘 맞는 것을 찾는다.!\n",
        "model.fit(train_scaled, train_target, epochs=5)"
      ],
      "execution_count": null,
      "outputs": [
        {
          "output_type": "stream",
          "text": [
            "Epoch 1/5\n",
            "1500/1500 [==============================] - 3s 2ms/step - loss: 0.5218 - accuracy: 0.8172\n",
            "Epoch 2/5\n",
            "1500/1500 [==============================] - 2s 2ms/step - loss: 0.3916 - accuracy: 0.8599\n",
            "Epoch 3/5\n",
            "1500/1500 [==============================] - 2s 2ms/step - loss: 0.3509 - accuracy: 0.8720\n",
            "Epoch 4/5\n",
            "1500/1500 [==============================] - 2s 2ms/step - loss: 0.3256 - accuracy: 0.8791\n",
            "Epoch 5/5\n",
            "1500/1500 [==============================] - 2s 2ms/step - loss: 0.3027 - accuracy: 0.8895\n"
          ],
          "name": "stdout"
        },
        {
          "output_type": "execute_result",
          "data": {
            "text/plain": [
              "<tensorflow.python.keras.callbacks.History at 0x7f125ec394d0>"
            ]
          },
          "metadata": {
            "tags": []
          },
          "execution_count": 23
        }
      ]
    },
    {
      "cell_type": "code",
      "metadata": {
        "colab": {
          "base_uri": "https://localhost:8080/"
        },
        "id": "ft9kTAfhQAC9",
        "outputId": "18dedf0a-42f3-4694-85b5-d3264005f7c9"
      },
      "source": [
        "model.evaluate(val_scaled, val_target)"
      ],
      "execution_count": null,
      "outputs": [
        {
          "output_type": "stream",
          "text": [
            "375/375 [==============================] - 0s 1ms/step - loss: 0.3381 - accuracy: 0.8767\n"
          ],
          "name": "stdout"
        },
        {
          "output_type": "execute_result",
          "data": {
            "text/plain": [
              "[0.3380657136440277, 0.8766666650772095]"
            ]
          },
          "metadata": {
            "tags": []
          },
          "execution_count": 24
        }
      ]
    },
    {
      "cell_type": "markdown",
      "metadata": {
        "id": "sT2d9LMnrfrI"
      },
      "source": [
        "앙상블(랜덤포레스트)\n",
        "\n",
        "1.여러개의 모델을 가지고 앙상블 함\n",
        "\n",
        "2.각각의 개별 트리가 독립적으로 훈련후 합쳐짐\n",
        "\n",
        "3.앙상블된 결과 위에 여러개의 층을 쌓을수 없다\n",
        "\n",
        "4.그레이언트부스팅, 스태킹 은 순차적으로 훈련\n",
        "\n",
        "5.DB, 엑셀"
      ]
    },
    {
      "cell_type": "markdown",
      "metadata": {
        "id": "1sdel7jerjhy"
      },
      "source": [
        "심층신경망\n",
        "\n",
        "1.여러개의 유닛(은닉층)을 활용하여 출력층을 만든다.\n",
        "\n",
        "2.은닉층의 유닛이 동시에 훈련\n",
        "\n",
        "3.여러개의 층을 쌓을수 있다. 단계별 학습 가능\n",
        "\n",
        "4.여러개의 층이 동시에 훈련\n",
        "\n",
        "5.이미지, 텍스트"
      ]
    }
  ]
}