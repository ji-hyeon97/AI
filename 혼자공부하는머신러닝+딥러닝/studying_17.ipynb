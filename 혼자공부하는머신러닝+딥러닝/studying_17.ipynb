{
  "nbformat": 4,
  "nbformat_minor": 0,
  "metadata": {
    "colab": {
      "name": "studying_17.ipynb",
      "provenance": [],
      "collapsed_sections": []
    },
    "kernelspec": {
      "name": "python3",
      "display_name": "Python 3"
    },
    "language_info": {
      "name": "python"
    },
    "accelerator": "GPU"
  },
  "cells": [
    {
      "cell_type": "code",
      "metadata": {
        "id": "YBBUf3lDjzop"
      },
      "source": [
        "from tensorflow import keras\n",
        "from sklearn.model_selection import train_test_split\n",
        "\n",
        "(train_input, train_target), (test_input, test_target) = keras.datasets.fashion_mnist.load_data()\n",
        "\n",
        "train_scaled = train_input / 255.0\n",
        "\n",
        "train_scaled, val_scaled, train_target, val_target = train_test_split(\n",
        "    train_scaled, train_target, test_size=0.2, random_state=42)\n",
        "#케라스에서 제공해주는 패션 MNIST데이터셋을 불러온후\n",
        "#정규화\n",
        "#훈련세트 검증세트 테스트세트 준비완료"
      ],
      "execution_count": null,
      "outputs": []
    },
    {
      "cell_type": "code",
      "metadata": {
        "id": "EYgIDgK_qCe6"
      },
      "source": [
        "def model_fn(a_layer=None):\n",
        "    model = keras.Sequential()\n",
        "    model.add(keras.layers.Flatten(input_shape=(28, 28)))#28X28이미지 -> 1X786이미지\n",
        "    model.add(keras.layers.Dense(100, activation='relu'))#렐루함수, 뉴런 100개\n",
        "    if a_layer:#사용자가 층을 추가하고 싶다면\n",
        "        model.add(a_layer)#매개변수 a_layer을 통해 추가할수 있도록\n",
        "    model.add(keras.layers.Dense(10, activation='softmax'))#소프트맥스함수, 출력층 10개\n",
        "    return model"
      ],
      "execution_count": null,
      "outputs": []
    },
    {
      "cell_type": "code",
      "metadata": {
        "colab": {
          "base_uri": "https://localhost:8080/"
        },
        "id": "wF0eRsZ0qD2T",
        "outputId": "02a9e974-77c1-452a-818c-18459b660015"
      },
      "source": [
        "model = model_fn()\n",
        "\n",
        "model.summary()"
      ],
      "execution_count": null,
      "outputs": [
        {
          "output_type": "stream",
          "text": [
            "Model: \"sequential_20\"\n",
            "_________________________________________________________________\n",
            "Layer (type)                 Output Shape              Param #   \n",
            "=================================================================\n",
            "flatten_20 (Flatten)         (None, 784)               0         \n",
            "_________________________________________________________________\n",
            "dense_40 (Dense)             (None, 100)               78500     \n",
            "_________________________________________________________________\n",
            "dense_41 (Dense)             (None, 10)                1010      \n",
            "=================================================================\n",
            "Total params: 79,510\n",
            "Trainable params: 79,510\n",
            "Non-trainable params: 0\n",
            "_________________________________________________________________\n"
          ],
          "name": "stdout"
        }
      ]
    },
    {
      "cell_type": "markdown",
      "metadata": {
        "id": "UJCATBYW-Oma"
      },
      "source": [
        "손실 곡선"
      ]
    },
    {
      "cell_type": "code",
      "metadata": {
        "id": "QbkeQjbNqFiS"
      },
      "source": [
        "model.compile(loss='sparse_categorical_crossentropy', metrics='accuracy')\n",
        "\n",
        "history = model.fit(train_scaled, train_target, epochs=5, verbose=0)\n",
        "#history 객체로 각 epoch마다 loss값, accuracy값 즉,fit()함수가 반환하는 것을 받음\n",
        "#verbose는 학습이 진행되는 상황을 보여줄것인지 지정 \n",
        "#verbose=0 -> 훈련과정 안보여줌, verbose=1 -> 훈련과정 보여줌"
      ],
      "execution_count": null,
      "outputs": []
    },
    {
      "cell_type": "code",
      "metadata": {
        "colab": {
          "base_uri": "https://localhost:8080/"
        },
        "id": "PSuSc--KqGw_",
        "outputId": "4ddfb4d0-c03f-4e4d-e600-9624473951f8"
      },
      "source": [
        "print(history.history.keys())\n",
        "#키 값: loss, accuracy. accuracy의 경우는 metrics에서 지정했음"
      ],
      "execution_count": null,
      "outputs": [
        {
          "output_type": "stream",
          "text": [
            "dict_keys(['loss', 'accuracy'])\n"
          ],
          "name": "stdout"
        }
      ]
    },
    {
      "cell_type": "code",
      "metadata": {
        "colab": {
          "base_uri": "https://localhost:8080/",
          "height": 279
        },
        "id": "NPLMF1XFqIZO",
        "outputId": "d8d6e043-3d23-48da-8b73-ceee26fa49ff"
      },
      "source": [
        "import matplotlib.pyplot as plt\n",
        "\n",
        "plt.plot(history.history['loss'])\n",
        "plt.xlabel('epoch')\n",
        "plt.ylabel('loss')\n",
        "plt.savefig('7_3-01', dpi=300)\n",
        "plt.show()\n",
        "#epoch가 클수록 loss가 줄어든다."
      ],
      "execution_count": null,
      "outputs": [
        {
          "output_type": "display_data",
          "data": {
            "image/png": "[encoded data removed]",
            "text/plain": [
              "<Figure size 432x288 with 1 Axes>"
            ]
          },
          "metadata": {
            "tags": [],
            "needs_background": "light"
          }
        }
      ]
    },
    {
      "cell_type": "code",
      "metadata": {
        "colab": {
          "base_uri": "https://localhost:8080/",
          "height": 282
        },
        "id": "YVqDtfvXqKDv",
        "outputId": "feb7b248-9f6e-4e87-dd6e-58781fdb568f"
      },
      "source": [
        "plt.plot(history.history['accuracy'])\n",
        "plt.xlabel('epoch')\n",
        "plt.ylabel('accuracy')\n",
        "plt.savefig('7_3-02', dpi=300)\n",
        "plt.show()\n",
        "#epoch가 클수록 accuracy는 증가한다."
      ],
      "execution_count": null,
      "outputs": [
        {
          "output_type": "display_data",
          "data": {
            "image/png": "[encoded data removed]",
            "text/plain": [
              "<Figure size 432x288 with 1 Axes>"
            ]
          },
          "metadata": {
            "tags": [],
            "needs_background": "light"
          }
        }
      ]
    },
    {
      "cell_type": "markdown",
      "metadata": {
        "id": "RovYqKaZ_nvQ"
      },
      "source": [
        "더 많은 에포크(5->20)"
      ]
    },
    {
      "cell_type": "code",
      "metadata": {
        "id": "YLR5KybeqLnW"
      },
      "source": [
        "model = model_fn()\n",
        "model.compile(loss='sparse_categorical_crossentropy', metrics='accuracy')\n",
        "\n",
        "history = model.fit(train_scaled, train_target, epochs=20, verbose=0)"
      ],
      "execution_count": null,
      "outputs": []
    },
    {
      "cell_type": "code",
      "metadata": {
        "colab": {
          "base_uri": "https://localhost:8080/",
          "height": 283
        },
        "id": "G8AJFDCUqM_k",
        "outputId": "c2e2d3cc-51d6-4809-81b4-c05e3c7d850d"
      },
      "source": [
        "plt.plot(history.history['loss'])\n",
        "plt.xlabel('epoch')\n",
        "plt.ylabel('loss')\n",
        "plt.savefig('7_3-03', dpi=300)\n",
        "plt.show()\n",
        "#훈련세트에 더 잘맞게 된다.\n",
        "#실전에서는 더 잘 안맞을수 있다\n",
        "#검증세트, 테스트세트에서의 성능의 절충점을 찾을 필요있음."
      ],
      "execution_count": null,
      "outputs": [
        {
          "output_type": "display_data",
          "data": {
            "image/png": "[encoded data removed]",
            "text/plain": [
              "<Figure size 432x288 with 1 Axes>"
            ]
          },
          "metadata": {
            "tags": [],
            "needs_background": "light"
          }
        }
      ]
    },
    {
      "cell_type": "markdown",
      "metadata": {
        "id": "a-Xncd-5qOYO"
      },
      "source": [
        "검증 손실"
      ]
    },
    {
      "cell_type": "code",
      "metadata": {
        "id": "TGL0zVllqT_1"
      },
      "source": [
        "model = model_fn()\n",
        "model.compile(loss='sparse_categorical_crossentropy', metrics='accuracy')\n",
        "\n",
        "history = model.fit(train_scaled, train_target, epochs=20, verbose=0, \n",
        "                    validation_data=(val_scaled, val_target))\n",
        "#validation_data: 매개변수를 통해 각 epoch마다 검증 손실, 검증 정확도 확인가능"
      ],
      "execution_count": null,
      "outputs": []
    },
    {
      "cell_type": "code",
      "metadata": {
        "colab": {
          "base_uri": "https://localhost:8080/"
        },
        "id": "bSv6kTFrqVMm",
        "outputId": "672dec5b-cb18-4c68-db06-e687cc066e08"
      },
      "source": [
        "print(history.history.keys())"
      ],
      "execution_count": null,
      "outputs": [
        {
          "output_type": "stream",
          "text": [
            "dict_keys(['loss', 'accuracy', 'val_loss', 'val_accuracy'])\n"
          ],
          "name": "stdout"
        }
      ]
    },
    {
      "cell_type": "code",
      "metadata": {
        "colab": {
          "base_uri": "https://localhost:8080/",
          "height": 279
        },
        "id": "PVqvI8WvqXeo",
        "outputId": "1b4e20dc-be60-4070-f509-4868932b5cac"
      },
      "source": [
        "plt.plot(history.history['loss'])\n",
        "plt.plot(history.history['val_loss'])\n",
        "plt.xlabel('epoch')\n",
        "plt.ylabel('loss')\n",
        "plt.legend(['train', 'val'])\n",
        "plt.savefig('7_3-04', dpi=300)\n",
        "plt.show()\n",
        "#epoch가 너무 크면 검증세트의 loss값이 우상향하는 것을 알 수 있다.\n",
        "#훈련세트에는 잘 맞는 검증세트에서는 잘 맞지 않는 과대적합된 모델임을 알 수 있다."
      ],
      "execution_count": null,
      "outputs": [
        {
          "output_type": "display_data",
          "data": {
            "image/png": "[encoded data removed]",
            "text/plain": [
              "<Figure size 432x288 with 1 Axes>"
            ]
          },
          "metadata": {
            "tags": [],
            "needs_background": "light"
          }
        }
      ]
    },
    {
      "cell_type": "markdown",
      "metadata": {
        "id": "RoSN3PECCAOU"
      },
      "source": [
        "옵티마이저 사용하기(Adam)"
      ]
    },
    {
      "cell_type": "code",
      "metadata": {
        "id": "IRcGVEGwqY6w"
      },
      "source": [
        "model = model_fn()\n",
        "model.compile(optimizer='adam', loss='sparse_categorical_crossentropy', metrics='accuracy')\n",
        "#원래 옵티마이저의 기본값은 RMSprop\n",
        "history = model.fit(train_scaled, train_target, epochs=20, verbose=0, \n",
        "                    validation_data=(val_scaled, val_target))"
      ],
      "execution_count": null,
      "outputs": []
    },
    {
      "cell_type": "code",
      "metadata": {
        "colab": {
          "base_uri": "https://localhost:8080/",
          "height": 279
        },
        "id": "9F4nLyoUqbpa",
        "outputId": "72f3282d-f246-4156-efc8-f83e7f9f3249"
      },
      "source": [
        "plt.plot(history.history['loss'])\n",
        "plt.plot(history.history['val_loss'])\n",
        "plt.xlabel('epoch')\n",
        "plt.ylabel('loss')\n",
        "plt.legend(['train', 'val'])\n",
        "plt.savefig('7_3-05', dpi=300)\n",
        "plt.show()\n",
        "#epoch가 증가되더라고 검증세트의 loss값은 급격히 상승하지는 않는다\n",
        "#옵티마이저 adam이 RMSprop보다 과대적합이 줄어들었다\n",
        "#learning rate로도 조정가능"
      ],
      "execution_count": null,
      "outputs": [
        {
          "output_type": "display_data",
          "data": {
            "image/png": "[encoded data removed]",
            "text/plain": [
              "<Figure size 432x288 with 1 Axes>"
            ]
          },
          "metadata": {
            "tags": [],
            "needs_background": "light"
          }
        }
      ]
    },
    {
      "cell_type": "markdown",
      "metadata": {
        "id": "N0ZgsFJJJUMj"
      },
      "source": [
        "드롭아웃: 은닉층의 뉴런을 계산하지 않는다 (인공신경망의 규제)\n",
        "\n",
        "1.매개변수를 통해여 몇% 계산하지 않을지 결정\n",
        "\n",
        "2.어떤뉴런이 계산되지 않을지는 랜덤\n",
        "\n",
        "장점: 뉴런이 훈련세트에 잘 맞지 않게 됨 ->특정 뉴런에 과도하게 의존되는 현상 막을 수 있다.\n",
        "\n",
        "테스트나 평가시는 모든 뉴런 사용"
      ]
    },
    {
      "cell_type": "code",
      "metadata": {
        "colab": {
          "base_uri": "https://localhost:8080/"
        },
        "id": "Rr-hhiV4JUxy",
        "outputId": "374c4f2c-b17a-46fe-a332-87870bf9ee5d"
      },
      "source": [
        "model = model_fn(keras.layers.Dropout(0.3))\n",
        "#은닉층의 100개의 뉴런중 30%는 사용하지 않겠다고 지정\n",
        "model.summary()\n",
        "#드롭아웃은 입력된 값을 by pass하되 몇몇의 값을 끄는 역할을 함(100개)"
      ],
      "execution_count": null,
      "outputs": [
        {
          "output_type": "stream",
          "text": [
            "Model: \"sequential_24\"\n",
            "_________________________________________________________________\n",
            "Layer (type)                 Output Shape              Param #   \n",
            "=================================================================\n",
            "flatten_24 (Flatten)         (None, 784)               0         \n",
            "_________________________________________________________________\n",
            "dense_48 (Dense)             (None, 100)               78500     \n",
            "_________________________________________________________________\n",
            "dropout_10 (Dropout)         (None, 100)               0         \n",
            "_________________________________________________________________\n",
            "dense_49 (Dense)             (None, 10)                1010      \n",
            "=================================================================\n",
            "Total params: 79,510\n",
            "Trainable params: 79,510\n",
            "Non-trainable params: 0\n",
            "_________________________________________________________________\n"
          ],
          "name": "stdout"
        }
      ]
    },
    {
      "cell_type": "code",
      "metadata": {
        "id": "FHDgQOg4qg2J"
      },
      "source": [
        "model.compile(optimizer='adam', loss='sparse_categorical_crossentropy', metrics='accuracy')\n",
        "\n",
        "history = model.fit(train_scaled, train_target, epochs=20, verbose=0, \n",
        "                    validation_data=(val_scaled, val_target))"
      ],
      "execution_count": null,
      "outputs": []
    },
    {
      "cell_type": "code",
      "metadata": {
        "colab": {
          "base_uri": "https://localhost:8080/",
          "height": 279
        },
        "id": "1n0jkat1qiuP",
        "outputId": "0cd5b307-dc42-4420-e6ac-e2f2ef50cbc0"
      },
      "source": [
        "plt.plot(history.history['loss'])\n",
        "plt.plot(history.history['val_loss'])\n",
        "plt.xlabel('epoch')\n",
        "plt.ylabel('loss')\n",
        "plt.legend(['train', 'val'])\n",
        "plt.savefig('7_3-06', dpi=300)\n",
        "plt.show()\n",
        "#epoch가 증가되더라고 검증세트의 loss값은 급격히 상승하지는 않는다\n",
        "#Dropout: 과대적합을 막음..\n",
        "#옵티마이저 adam이 RMSprop보다 과대적합이 줄어들었다\n",
        "#learning rate로도 조정가능"
      ],
      "execution_count": null,
      "outputs": [
        {
          "output_type": "display_data",
          "data": {
            "image/png": "[encoded data removed]",
            "text/plain": [
              "<Figure size 432x288 with 1 Axes>"
            ]
          },
          "metadata": {
            "tags": [],
            "needs_background": "light"
          }
        }
      ]
    },
    {
      "cell_type": "markdown",
      "metadata": {
        "id": "usYuw6-8qj82"
      },
      "source": [
        "모델 저장과 복원\n",
        "\n",
        "사용용도 : 에포크10번 하고 저장후 아 10번 더 하고 싶을때, 최적의 모델을 다시 불러 새로운 데이터 추론에 사용"
      ]
    },
    {
      "cell_type": "code",
      "metadata": {
        "id": "nwTT8gpVqnOT"
      },
      "source": [
        "model = model_fn(keras.layers.Dropout(0.3))\n",
        "model.compile(optimizer='adam', loss='sparse_categorical_crossentropy', metrics='accuracy')\n",
        "\n",
        "history = model.fit(train_scaled, train_target, epochs=10, verbose=0, \n",
        "                    validation_data=(val_scaled, val_target))"
      ],
      "execution_count": null,
      "outputs": []
    },
    {
      "cell_type": "code",
      "metadata": {
        "id": "QIzzcMnEqpzF"
      },
      "source": [
        "model.save_weights('model-weights.h5')\n",
        "#확장자 h5인 파일로 저장\n",
        "#save_weights(): 가중치만 저장, 모델의 구조는 저장X-> 가중치, 절편"
      ],
      "execution_count": null,
      "outputs": []
    },
    {
      "cell_type": "code",
      "metadata": {
        "id": "LxrAi6XYqq29"
      },
      "source": [
        "model.save('model-whole.h5')\n",
        "#save(): 모델구조 가중치 모두 저장"
      ],
      "execution_count": null,
      "outputs": []
    },
    {
      "cell_type": "code",
      "metadata": {
        "colab": {
          "base_uri": "https://localhost:8080/"
        },
        "id": "hpSIaXBSqsgu",
        "outputId": "2b7cacd8-5ed1-4517-ac2d-81cdbb251ce5"
      },
      "source": [
        "!ls -al *.h5\n",
        "#파일이 정상적으로 저장됨"
      ],
      "execution_count": null,
      "outputs": [
        {
          "output_type": "stream",
          "text": [
            "-rw-r--r-- 1 root root 981736 Jul 30 02:00 best-model.h5\n",
            "-rw-r--r-- 1 root root 332480 Jul 30 02:06 model-weights.h5\n",
            "-rw-r--r-- 1 root root 981736 Jul 30 02:06 model-whole.h5\n"
          ],
          "name": "stdout"
        }
      ]
    },
    {
      "cell_type": "code",
      "metadata": {
        "id": "AeoWa0eqqt1J"
      },
      "source": [
        "model = model_fn(keras.layers.Dropout(0.3))\n",
        "\n",
        "model.load_weights('model-weights.h5')\n",
        "#save_weights를 load_weights로 불러온다!"
      ],
      "execution_count": null,
      "outputs": []
    },
    {
      "cell_type": "code",
      "metadata": {
        "colab": {
          "base_uri": "https://localhost:8080/"
        },
        "id": "ZHENdsbrqvHo",
        "outputId": "07979e67-37fd-475d-e069-8e6df08fbdfb"
      },
      "source": [
        "import numpy as np\n",
        "\n",
        "val_labels = np.argmax(model.predict(val_scaled), axis=-1)\n",
        "#각 샘플마다 확률값이 가장 큰 값의 인덱스 반환\n",
        "#axis=0 행, axis=1 열, axis=-1\n",
        "#predict_classes메소드는 클래스 레이블을 출력해주었슴. 허나 삭제될 예정\n",
        "#predict():각각의 샘플마다 특성의 확률을 구해줌\n",
        "print(np.mean(val_labels == val_target))#t(1),f(0)로 구분해줌"
      ],
      "execution_count": null,
      "outputs": [
        {
          "output_type": "stream",
          "text": [
            "0.8815833333333334\n"
          ],
          "name": "stdout"
        }
      ]
    },
    {
      "cell_type": "code",
      "metadata": {
        "colab": {
          "base_uri": "https://localhost:8080/"
        },
        "id": "35M5Rl09qw31",
        "outputId": "60396d32-0196-485e-91d3-ae31e1f29257"
      },
      "source": [
        "model = keras.models.load_model('model-whole.h5')\n",
        "#keras.models.load_model를 통해 save된 모델을 가져온다\n",
        "# 텐서플로 2.3에서는 버그(https://github.com/tensorflow/tensorflow/issues/42890) 때문에 compile() 메서드를 호출해야 합니다.\n",
        "# model.compile(optimizer='adam', loss='sparse_categorical_crossentropy', metrics='accuracy')\n",
        "\n",
        "model.evaluate(val_scaled, val_target)"
      ],
      "execution_count": null,
      "outputs": [
        {
          "output_type": "stream",
          "text": [
            "375/375 [==============================] - 1s 2ms/step - loss: 0.3266 - accuracy: 0.8816\n"
          ],
          "name": "stdout"
        },
        {
          "output_type": "execute_result",
          "data": {
            "text/plain": [
              "[0.3265897333621979, 0.8815833330154419]"
            ]
          },
          "metadata": {
            "tags": []
          },
          "execution_count": 99
        }
      ]
    },
    {
      "cell_type": "markdown",
      "metadata": {
        "id": "FAo40nljqyRp"
      },
      "source": [
        "콜백: 모델이 훈련하는 도중에 자기가 지정한 작업을 수행한다."
      ]
    },
    {
      "cell_type": "code",
      "metadata": {
        "colab": {
          "base_uri": "https://localhost:8080/"
        },
        "id": "suIOFb92qxLH",
        "outputId": "6bd6714c-3ac3-4b08-ea4d-866bdfd21291"
      },
      "source": [
        "model = model_fn(keras.layers.Dropout(0.3))\n",
        "model.compile(optimizer='adam', loss='sparse_categorical_crossentropy', metrics='accuracy')\n",
        "\n",
        "checkpoint_cb = keras.callbacks.ModelCheckpoint('best-model.h5')\n",
        "#callbacks.ModelCheckpoint(): 훈련도중 가장 낮은 손실값을 저장\n",
        "\n",
        "model.fit(train_scaled, train_target, epochs=20, verbose=0, \n",
        "          validation_data=(val_scaled, val_target),\n",
        "          callbacks=[checkpoint_cb])"
      ],
      "execution_count": null,
      "outputs": [
        {
          "output_type": "execute_result",
          "data": {
            "text/plain": [
              "<tensorflow.python.keras.callbacks.History at 0x7ff523fb2a50>"
            ]
          },
          "metadata": {
            "tags": []
          },
          "execution_count": 100
        }
      ]
    },
    {
      "cell_type": "code",
      "metadata": {
        "colab": {
          "base_uri": "https://localhost:8080/"
        },
        "id": "NGURKynuq0BU",
        "outputId": "2005783a-f606-4b73-9e92-dae3b96fbdbb"
      },
      "source": [
        "model = keras.models.load_model('best-model.h5')\n",
        "# 텐서플로 2.3에서는 버그(https://github.com/tensorflow/tensorflow/issues/42890) 때문에 compile() 메서드를 호출해야 합니다.\n",
        "# model.compile(optimizer='adam', loss='sparse_categorical_crossentropy', metrics='accuracy')\n",
        "\n",
        "model.evaluate(val_scaled, val_target)"
      ],
      "execution_count": null,
      "outputs": [
        {
          "output_type": "stream",
          "text": [
            "375/375 [==============================] - 1s 2ms/step - loss: 0.3352 - accuracy: 0.8794\n"
          ],
          "name": "stdout"
        },
        {
          "output_type": "execute_result",
          "data": {
            "text/plain": [
              "[0.3352460265159607, 0.8794166445732117]"
            ]
          },
          "metadata": {
            "tags": []
          },
          "execution_count": 101
        }
      ]
    },
    {
      "cell_type": "markdown",
      "metadata": {
        "id": "LXLutVVNQilU"
      },
      "source": [
        "조기종료"
      ]
    },
    {
      "cell_type": "code",
      "metadata": {
        "id": "PUPvhjl5q1lR"
      },
      "source": [
        "model = model_fn(keras.layers.Dropout(0.3))\n",
        "model.compile(optimizer='adam', loss='sparse_categorical_crossentropy', metrics='accuracy')\n",
        "\n",
        "checkpoint_cb = keras.callbacks.ModelCheckpoint('best-model.h5')\n",
        "early_stopping_cb = keras.callbacks.EarlyStopping(patience=2,\n",
        "                                                  restore_best_weights=True)\n",
        "#patience: 검증세트의 점수가 증가하는 명우 몇번까지 참을 수 있는가? 2번\n",
        "#restore_best_weights: 가장 손실이 낮은 가준치로 되돌려라\n",
        "\n",
        "history = model.fit(train_scaled, train_target, epochs=20, verbose=0, \n",
        "                    validation_data=(val_scaled, val_target),\n",
        "                    callbacks=[checkpoint_cb, early_stopping_cb])"
      ],
      "execution_count": null,
      "outputs": []
    },
    {
      "cell_type": "code",
      "metadata": {
        "colab": {
          "base_uri": "https://localhost:8080/"
        },
        "id": "K74zFyRZq3Cl",
        "outputId": "8e3b3068-577f-482e-b561-2c0ab51cbed0"
      },
      "source": [
        "print(early_stopping_cb.stopped_epoch)\n",
        "#9번째 에포크에서 멈춤\n",
        "#7번째 에포크가 검증 손실값이 가장 낮음 <결과값 - patience값>"
      ],
      "execution_count": null,
      "outputs": [
        {
          "output_type": "stream",
          "text": [
            "9\n"
          ],
          "name": "stdout"
        }
      ]
    },
    {
      "cell_type": "code",
      "metadata": {
        "colab": {
          "base_uri": "https://localhost:8080/",
          "height": 279
        },
        "id": "nufQckI_q5Og",
        "outputId": "2720776b-0dfa-4cf9-acd5-29c1d8a5fc60"
      },
      "source": [
        "plt.plot(history.history['loss'])\n",
        "plt.plot(history.history['val_loss'])\n",
        "plt.xlabel('epoch')\n",
        "plt.ylabel('loss')\n",
        "plt.legend(['train', 'val'])\n",
        "plt.savefig('7_3-07', dpi=300)\n",
        "plt.show()\n",
        "#9번째 멈춤 7번째 검증 손실값 가장 낮음"
      ],
      "execution_count": null,
      "outputs": [
        {
          "output_type": "display_data",
          "data": {
            "image/png": "[encoded data removed]",
            "text/plain": [
              "<Figure size 432x288 with 1 Axes>"
            ]
          },
          "metadata": {
            "tags": [],
            "needs_background": "light"
          }
        }
      ]
    },
    {
      "cell_type": "code",
      "metadata": {
        "colab": {
          "base_uri": "https://localhost:8080/"
        },
        "id": "xvgeNv-Mq6o9",
        "outputId": "d90435fe-66ea-4ae7-8213-89275305bfda"
      },
      "source": [
        "model.evaluate(val_scaled, val_target)\n",
        "#검증세트 성능 확인"
      ],
      "execution_count": null,
      "outputs": [
        {
          "output_type": "stream",
          "text": [
            "375/375 [==============================] - 1s 2ms/step - loss: 0.3323 - accuracy: 0.8782\n"
          ],
          "name": "stdout"
        },
        {
          "output_type": "execute_result",
          "data": {
            "text/plain": [
              "[0.33233433961868286, 0.878166675567627]"
            ]
          },
          "metadata": {
            "tags": []
          },
          "execution_count": 105
        }
      ]
    }
  ]
}