{
  "nbformat": 4,
  "nbformat_minor": 0,
  "metadata": {
    "colab": {
      "name": "studying_22.ipynb",
      "provenance": [],
      "collapsed_sections": []
    },
    "kernelspec": {
      "name": "python3",
      "display_name": "Python 3"
    },
    "language_info": {
      "name": "python"
    }
  },
  "cells": [
    {
      "cell_type": "markdown",
      "metadata": {
        "id": "SEnbdOyxsSyC"
      },
      "source": [
        "\n",
        "순환 신경망으로 IMDB 리뷰 분류하기 -> 리뷰가 긍정인지 부정인지 감성을 분석"
      ]
    },
    {
      "cell_type": "markdown",
      "metadata": {
        "id": "eyWPBc64sUha"
      },
      "source": [
        "IMDB 리뷰 데이터셋: 감성분석\n",
        "\n",
        "훈련데이터:25,000개 테스트데이터:25,000개\n",
        "\n",
        "총 50,000개"
      ]
    },
    {
      "cell_type": "markdown",
      "metadata": {
        "id": "Cma-VeCzcpiA"
      },
      "source": [
        "NLP\n",
        "\n",
        "데이터셋: 말뭉치\n",
        "\n",
        "문장을 공백을 기준으로 분리하는 것: 토큰\n",
        "\n",
        "he follows the cat. he loves the cat -> he, follows, the ,cat, loves:말뭉치에 나오는 고유한 단어 or 토큰의 집합(어휘 사전)"
      ]
    },
    {
      "cell_type": "markdown",
      "metadata": {
        "id": "J6eoZ51wfNPg"
      },
      "source": [
        "문장에서 분리된 단어 = 토큰\n",
        "\n",
        "하나의 리뷰 샘플은 여러개의 토큰으로 구성되면 1개의 토큰은 하나의 타임스텝에 해당됨"
      ]
    },
    {
      "cell_type": "markdown",
      "metadata": {
        "id": "tMEZo9kpesAH"
      },
      "source": [
        "데이터셋을 순환 신경망에 주입시\n",
        "\n",
        "1. 원-핫 인코딩\n",
        "\n",
        "2. 단어 임베딩"
      ]
    },
    {
      "cell_type": "code",
      "metadata": {
        "colab": {
          "base_uri": "https://localhost:8080/"
        },
        "id": "kBXdq2MRsch0",
        "outputId": "5cb3bdc4-1fa3-48c2-dd13-99c09e5a6460"
      },
      "source": [
        "from tensorflow.keras.datasets import imdb\n",
        "#영어문장을 숫자로 이미 바꾸어줌\n",
        "\n",
        "(train_input, train_target), (test_input, test_target) = imdb.load_data(\n",
        "    num_words=500)\n",
        "#500개의 단어만 사용"
      ],
      "execution_count": null,
      "outputs": [
        {
          "output_type": "stream",
          "text": [
            "Downloading data from https://storage.googleapis.com/tensorflow/tf-keras-datasets/imdb.npz\n",
            "17465344/17464789 [==============================] - 0s 0us/step\n"
          ],
          "name": "stdout"
        },
        {
          "output_type": "stream",
          "text": [
            "<string>:6: VisibleDeprecationWarning: Creating an ndarray from ragged nested sequences (which is a list-or-tuple of lists-or-tuples-or ndarrays with different lengths or shapes) is deprecated. If you meant to do this, you must specify 'dtype=object' when creating the ndarray\n",
            "/usr/local/lib/python3.7/dist-packages/tensorflow/python/keras/datasets/imdb.py:155: VisibleDeprecationWarning: Creating an ndarray from ragged nested sequences (which is a list-or-tuple of lists-or-tuples-or ndarrays with different lengths or shapes) is deprecated. If you meant to do this, you must specify 'dtype=object' when creating the ndarray\n",
            "  x_train, y_train = np.array(xs[:idx]), np.array(labels[:idx])\n",
            "/usr/local/lib/python3.7/dist-packages/tensorflow/python/keras/datasets/imdb.py:156: VisibleDeprecationWarning: Creating an ndarray from ragged nested sequences (which is a list-or-tuple of lists-or-tuples-or ndarrays with different lengths or shapes) is deprecated. If you meant to do this, you must specify 'dtype=object' when creating the ndarray\n",
            "  x_test, y_test = np.array(xs[idx:]), np.array(labels[idx:])\n"
          ],
          "name": "stderr"
        }
      ]
    },
    {
      "cell_type": "code",
      "metadata": {
        "colab": {
          "base_uri": "https://localhost:8080/"
        },
        "id": "xF7MleGwsd6P",
        "outputId": "6cca5583-5f54-473b-fbdc-a16d0fb67fda"
      },
      "source": [
        "print(train_input.shape, test_input.shape)"
      ],
      "execution_count": null,
      "outputs": [
        {
          "output_type": "stream",
          "text": [
            "(25000,) (25000,)\n"
          ],
          "name": "stdout"
        }
      ]
    },
    {
      "cell_type": "code",
      "metadata": {
        "colab": {
          "base_uri": "https://localhost:8080/"
        },
        "id": "WcoXQrKUsfA-",
        "outputId": "04acce61-78b3-41c7-9e24-40e1aaca9b44"
      },
      "source": [
        "print(len(train_input[0]))\n",
        "#첫번째 샘플은 218개 토큰"
      ],
      "execution_count": null,
      "outputs": [
        {
          "output_type": "stream",
          "text": [
            "218\n"
          ],
          "name": "stdout"
        }
      ]
    },
    {
      "cell_type": "code",
      "metadata": {
        "colab": {
          "base_uri": "https://localhost:8080/"
        },
        "id": "r3P5K5ZTsgTn",
        "outputId": "b55a990c-47b0-48bf-87cb-70d70a6edcd3"
      },
      "source": [
        "print(len(train_input[1]))\n",
        "#두번째 샘플은 189개 샘플"
      ],
      "execution_count": null,
      "outputs": [
        {
          "output_type": "stream",
          "text": [
            "189\n"
          ],
          "name": "stdout"
        }
      ]
    },
    {
      "cell_type": "code",
      "metadata": {
        "colab": {
          "base_uri": "https://localhost:8080/"
        },
        "id": "PVStD0s8sgsD",
        "outputId": "887bfc00-1b57-489b-e977-0173ca447c89"
      },
      "source": [
        "print(train_input[0])\n",
        "#샘플의 시작 토큰은 1\n",
        "#2 : 500개의 단어에 포함되지 않은 단어(어휘사전에는 없는 단어)\n",
        "#샘플의 토큰이 여러개의 정수->신경망에 텍스트 자체를 전달 X\n",
        "#단어마다 고유한 정수값이 부여되어 문자로 표현 가능"
      ],
      "execution_count": null,
      "outputs": [
        {
          "output_type": "stream",
          "text": [
            "[1, 14, 22, 16, 43, 2, 2, 2, 2, 65, 458, 2, 66, 2, 4, 173, 36, 256, 5, 25, 100, 43, 2, 112, 50, 2, 2, 9, 35, 480, 284, 5, 150, 4, 172, 112, 167, 2, 336, 385, 39, 4, 172, 2, 2, 17, 2, 38, 13, 447, 4, 192, 50, 16, 6, 147, 2, 19, 14, 22, 4, 2, 2, 469, 4, 22, 71, 87, 12, 16, 43, 2, 38, 76, 15, 13, 2, 4, 22, 17, 2, 17, 12, 16, 2, 18, 2, 5, 62, 386, 12, 8, 316, 8, 106, 5, 4, 2, 2, 16, 480, 66, 2, 33, 4, 130, 12, 16, 38, 2, 5, 25, 124, 51, 36, 135, 48, 25, 2, 33, 6, 22, 12, 215, 28, 77, 52, 5, 14, 407, 16, 82, 2, 8, 4, 107, 117, 2, 15, 256, 4, 2, 7, 2, 5, 2, 36, 71, 43, 2, 476, 26, 400, 317, 46, 7, 4, 2, 2, 13, 104, 88, 4, 381, 15, 297, 98, 32, 2, 56, 26, 141, 6, 194, 2, 18, 4, 226, 22, 21, 134, 476, 26, 480, 5, 144, 30, 2, 18, 51, 36, 28, 224, 92, 25, 104, 4, 226, 65, 16, 38, 2, 88, 12, 16, 283, 5, 16, 2, 113, 103, 32, 15, 16, 2, 19, 178, 32]\n"
          ],
          "name": "stdout"
        }
      ]
    },
    {
      "cell_type": "code",
      "metadata": {
        "colab": {
          "base_uri": "https://localhost:8080/"
        },
        "id": "WOkK_-uVsita",
        "outputId": "5412a50e-220a-40f6-b874-5bcdfc58ccd9"
      },
      "source": [
        "print(train_target[:20])\n",
        "#긍정, 부정을 판단하는 이진분류"
      ],
      "execution_count": null,
      "outputs": [
        {
          "output_type": "stream",
          "text": [
            "[1 0 0 1 0 0 1 0 1 0 1 0 0 0 0 0 1 1 0 1]\n"
          ],
          "name": "stdout"
        }
      ]
    },
    {
      "cell_type": "code",
      "metadata": {
        "id": "VHReJqcXsjt3"
      },
      "source": [
        "from sklearn.model_selection import train_test_split\n",
        "\n",
        "train_input, val_input, train_target, val_target = train_test_split(\n",
        "    train_input, train_target, test_size=0.2, random_state=42)"
      ],
      "execution_count": null,
      "outputs": []
    },
    {
      "cell_type": "code",
      "metadata": {
        "id": "Ef6yW4LOsk2s"
      },
      "source": [
        "import numpy as np\n",
        "\n",
        "lengths = np.array([len(x) for x in train_input])"
      ],
      "execution_count": null,
      "outputs": []
    },
    {
      "cell_type": "code",
      "metadata": {
        "colab": {
          "base_uri": "https://localhost:8080/"
        },
        "id": "3O-hhnyKslxa",
        "outputId": "82bb97ff-f22b-42fc-85af-bc71547f1825"
      },
      "source": [
        "print(np.mean(lengths), np.median(lengths))\n",
        "#전체적으로 문장이 길다고 할 수 있다."
      ],
      "execution_count": null,
      "outputs": [
        {
          "output_type": "stream",
          "text": [
            "239.00925 178.0\n"
          ],
          "name": "stdout"
        }
      ]
    },
    {
      "cell_type": "code",
      "metadata": {
        "colab": {
          "base_uri": "https://localhost:8080/",
          "height": 279
        },
        "id": "JjU58YR_smvZ",
        "outputId": "cf4251ec-8c72-4a46-b0d8-c9cf2d85a8fd"
      },
      "source": [
        "import matplotlib.pyplot as plt\n",
        "\n",
        "plt.hist(lengths)\n",
        "plt.xlabel('length')\n",
        "plt.ylabel('frequency')\n",
        "plt.show()\n",
        "#대부분의 리뷰길이는 300미만임을 알수 있다\n",
        "#어떤 리뷰는 1000개가 넘는 단어... "
      ],
      "execution_count": null,
      "outputs": [
        {
          "output_type": "display_data",
          "data": {
            "image/png": "[encoded data removed]",
            "text/plain": [
              "<Figure size 432x288 with 1 Axes>"
            ]
          },
          "metadata": {
            "tags": [],
            "needs_background": "light"
          }
        }
      ]
    },
    {
      "cell_type": "markdown",
      "metadata": {
        "id": "lEmAJwFtv6kI"
      },
      "source": [
        "시퀀스 패딩: 리뷰마다 단어의 대수가 다르기 때문에 모델을 훈련시킬때 사용하는 단어 길이를 통일시켜주어야 한다"
      ]
    },
    {
      "cell_type": "code",
      "metadata": {
        "id": "hi1qah2ysnxq"
      },
      "source": [
        "from tensorflow.keras.preprocessing.sequence import pad_sequences\n",
        "\n",
        "train_seq = pad_sequences(train_input, maxlen=100)\n",
        "#pad_sequences():단어의 개수가 100보다 작으면 샘플을 0으로 채우고, \n",
        "#100보다 큰 경우 단어를 잘라냄"
      ],
      "execution_count": null,
      "outputs": []
    },
    {
      "cell_type": "code",
      "metadata": {
        "colab": {
          "base_uri": "https://localhost:8080/"
        },
        "id": "FuK3SYMHso1K",
        "outputId": "5ff34c28-17fe-4eb9-a135-c22bd0633a57"
      },
      "source": [
        "print(train_seq.shape)\n",
        "#5000개는 검증세트로 덜어냄"
      ],
      "execution_count": null,
      "outputs": [
        {
          "output_type": "stream",
          "text": [
            "(20000, 100)\n"
          ],
          "name": "stdout"
        }
      ]
    },
    {
      "cell_type": "code",
      "metadata": {
        "colab": {
          "base_uri": "https://localhost:8080/"
        },
        "id": "OTt3LXqSspxd",
        "outputId": "7781d34f-fd52-4f89-9ca2-97d80ea1dd80"
      },
      "source": [
        "print(train_seq[0])\n",
        "#뒤에서 100개"
      ],
      "execution_count": null,
      "outputs": [
        {
          "output_type": "stream",
          "text": [
            "[ 10   4  20   9   2 364 352   5  45   6   2   2  33 269   8   2 142   2\n",
            "   5   2  17  73  17 204   5   2  19  55   2   2  92  66 104  14  20  93\n",
            "  76   2 151  33   4  58  12 188   2 151  12 215  69 224 142  73 237   6\n",
            "   2   7   2   2 188   2 103  14  31  10  10 451   7   2   5   2  80  91\n",
            "   2  30   2  34  14  20 151  50  26 131  49   2  84  46  50  37  80  79\n",
            "   6   2  46   7  14  20  10  10 470 158]\n"
          ],
          "name": "stdout"
        }
      ]
    },
    {
      "cell_type": "code",
      "metadata": {
        "colab": {
          "base_uri": "https://localhost:8080/"
        },
        "id": "dHqW7aBXsq3J",
        "outputId": "6776c2a5-f5dc-4de5-f142-93e67cffdca9"
      },
      "source": [
        "print(train_input[0][-10:])\n",
        "#첫번째 샘플의 마지막 10개\n",
        "#0으로 패딩된 것이 없으므로 토큰이 100개보다 길다\n",
        "#100개로 자르는 과정중 앞부분을 잘라냄\n",
        "#문장의 뒷부분이 더 의미있다고 생각할수 있음"
      ],
      "execution_count": null,
      "outputs": [
        {
          "output_type": "stream",
          "text": [
            "[6, 2, 46, 7, 14, 20, 10, 10, 470, 158]\n"
          ],
          "name": "stdout"
        }
      ]
    },
    {
      "cell_type": "code",
      "metadata": {
        "colab": {
          "base_uri": "https://localhost:8080/"
        },
        "id": "zBR17MUQssDQ",
        "outputId": "23caa1cb-e98e-4b37-ea87-2e9b69956b62"
      },
      "source": [
        "print(train_seq[5])\n",
        "#앞부분을 0으로 패딩함"
      ],
      "execution_count": null,
      "outputs": [
        {
          "output_type": "stream",
          "text": [
            "[  0   0   0   0   1   2 195  19  49   2   2 190   4   2 352   2 183  10\n",
            "  10  13  82  79   4   2  36  71 269   8   2  25  19  49   7   4   2   2\n",
            "   2   2   2  10  10  48  25  40   2  11   2   2  40   2   2   5   4   2\n",
            "   2  95  14 238  56 129   2  10  10  21   2  94 364 352   2   2  11 190\n",
            "  24 484   2   7  94 205 405  10  10  87   2  34  49   2   7   2   2   2\n",
            "   2   2 290   2  46  48  64  18   4   2]\n"
          ],
          "name": "stdout"
        }
      ]
    },
    {
      "cell_type": "code",
      "metadata": {
        "id": "T6WSNaJ-ss8N"
      },
      "source": [
        "val_seq = pad_sequences(val_input, maxlen=100)\n",
        "#검증세트도 시퀸스 패딩 해줌"
      ],
      "execution_count": null,
      "outputs": []
    },
    {
      "cell_type": "markdown",
      "metadata": {
        "id": "qetxn_ySsu2x"
      },
      "source": [
        "순환 신경망 모델 만들기"
      ]
    },
    {
      "cell_type": "code",
      "metadata": {
        "id": "6qGkc2h3svnX"
      },
      "source": [
        "from tensorflow import keras\n",
        "\n",
        "model = keras.Sequential()\n",
        "\n",
        "model.add(keras.layers.SimpleRNN(8, input_shape=(100, 500)))\n",
        "#뉴런의 개수 8개, 100개의 토큰, 500은 빈도수가 높은 단어의 개수\n",
        "model.add(keras.layers.Dense(1, activation='sigmoid'))\n",
        "#이진분류 -> 시그모이드 함수, 마지막 출력층은 하나의 뉴런"
      ],
      "execution_count": null,
      "outputs": []
    },
    {
      "cell_type": "markdown",
      "metadata": {
        "id": "EQGgxkRn0EPZ"
      },
      "source": [
        "원-핫 인코딩\n",
        "\n",
        "500개의 어휘사전<해당단어에만 1로 인코딩>\n",
        "\n",
        "하는\n"
      ]
    },
    {
      "cell_type": "code",
      "metadata": {
        "id": "_swszwG2sxqZ"
      },
      "source": [
        "train_oh = keras.utils.to_categorical(train_seq)\n",
        "#to_categorical(): 정수배열을 입력하면 원-핫 인코딩된 배열로 반환해줌"
      ],
      "execution_count": null,
      "outputs": []
    },
    {
      "cell_type": "code",
      "metadata": {
        "colab": {
          "base_uri": "https://localhost:8080/"
        },
        "id": "7asVwPH6sysp",
        "outputId": "b9d11af9-dc9c-4a08-a3e8-7792d0d45ead"
      },
      "source": [
        "print(train_oh.shape)\n",
        "#20000개의 샘플이 100개의 정수로 이루어짐\n",
        "#100개의 정수마다 500크기의 배열로 원-핫 인코딩 됨 "
      ],
      "execution_count": null,
      "outputs": [
        {
          "output_type": "stream",
          "text": [
            "(20000, 100, 500)\n"
          ],
          "name": "stdout"
        }
      ]
    },
    {
      "cell_type": "code",
      "metadata": {
        "colab": {
          "base_uri": "https://localhost:8080/"
        },
        "id": "Y6TAqVmEsz6w",
        "outputId": "eba4693e-984c-4164-9240-538b98a71cda"
      },
      "source": [
        "print(train_oh[0][0][:12])\n",
        "#첫번째 샘플의 첫번째 토큰\n",
        "#앞에서 11번째 원소만 1이다"
      ],
      "execution_count": null,
      "outputs": [
        {
          "output_type": "stream",
          "text": [
            "[0. 0. 0. 0. 0. 0. 0. 0. 0. 0. 1. 0.]\n"
          ],
          "name": "stdout"
        }
      ]
    },
    {
      "cell_type": "code",
      "metadata": {
        "colab": {
          "base_uri": "https://localhost:8080/"
        },
        "id": "o4pXUMgPs1At",
        "outputId": "33fa9a61-15af-42ba-8884-6df028bfc11b"
      },
      "source": [
        "print(np.sum(train_oh[0][0]))\n",
        "#나머지의 원소도 모두 0인지 확인해보기 위해"
      ],
      "execution_count": null,
      "outputs": [
        {
          "output_type": "stream",
          "text": [
            "1.0\n"
          ],
          "name": "stdout"
        }
      ]
    },
    {
      "cell_type": "code",
      "metadata": {
        "id": "h7PcrIuas2Oe"
      },
      "source": [
        "val_oh = keras.utils.to_categorical(val_seq)\n",
        "#교차검증 데이터도 원-핫 인코딩 해줌"
      ],
      "execution_count": null,
      "outputs": []
    },
    {
      "cell_type": "markdown",
      "metadata": {
        "id": "k2FtNKOe2aIJ"
      },
      "source": [
        "모델 구조 확인"
      ]
    },
    {
      "cell_type": "code",
      "metadata": {
        "colab": {
          "base_uri": "https://localhost:8080/"
        },
        "id": "-Lq_ECgws3QX",
        "outputId": "c6c95f16-38a9-407a-f01e-634206e9de70"
      },
      "source": [
        "model.summary()\n",
        "#simple_rnn 가중치: 500X8(완전연결)+ 8X8(은닉상태 순환) + 8(절편)\n",
        "#dense 가중치: 8x1(완전연결) + 1(절편)"
      ],
      "execution_count": null,
      "outputs": [
        {
          "output_type": "stream",
          "text": [
            "Model: \"sequential\"\n",
            "_________________________________________________________________\n",
            "Layer (type)                 Output Shape              Param #   \n",
            "=================================================================\n",
            "simple_rnn (SimpleRNN)       (None, 8)                 4072      \n",
            "_________________________________________________________________\n",
            "dense (Dense)                (None, 1)                 9         \n",
            "=================================================================\n",
            "Total params: 4,081\n",
            "Trainable params: 4,081\n",
            "Non-trainable params: 0\n",
            "_________________________________________________________________\n"
          ],
          "name": "stdout"
        }
      ]
    },
    {
      "cell_type": "markdown",
      "metadata": {
        "id": "lGDjXELhs4jU"
      },
      "source": [
        "순환 신경망 모델 훈련하기"
      ]
    },
    {
      "cell_type": "code",
      "metadata": {
        "colab": {
          "base_uri": "https://localhost:8080/"
        },
        "id": "saPS-ZWts5H2",
        "outputId": "9921a8c3-ab6a-46a7-b09e-988e2df0245a"
      },
      "source": [
        "rmsprop = keras.optimizers.RMSprop(learning_rate=1e-4)\n",
        "#학습률 = 0.0001\n",
        "model.compile(optimizer=rmsprop, loss='binary_crossentropy', \n",
        "              metrics=['accuracy'])\n",
        "#옵티마이저: rmsprop, 손실값: 이진분류->'binary_crossentropy', 정확도 추가\n",
        "\n",
        "checkpoint_cb = keras.callbacks.ModelCheckpoint('best-simplernn-model.h5')\n",
        "early_stopping_cb = keras.callbacks.EarlyStopping(patience=3,\n",
        "                                                  restore_best_weights=True)\n",
        "#patience 3번, 최고값 저장\n",
        "\n",
        "history = model.fit(train_oh, train_target, epochs=100, batch_size=64,\n",
        "                    validation_data=(val_oh, val_target),\n",
        "                    callbacks=[checkpoint_cb, early_stopping_cb])\n",
        "#반복: 100, 배치크기:64, 검증세트, 체크포인트와 조기종료 추가\n",
        "#훈련세트에서의 정확도: 0.81 검증세트에서의 정확도: 0.78\n",
        "#입력토큰의 개수 100개, 어휘사전의 개수 500개임에도 불구하고 정확도 값은 잘 나오편이라 생각할수 있다"
      ],
      "execution_count": null,
      "outputs": [
        {
          "output_type": "stream",
          "text": [
            "Epoch 1/100\n",
            "313/313 [==============================] - 13s 38ms/step - loss: 0.6967 - accuracy: 0.5052 - val_loss: 0.6945 - val_accuracy: 0.5144\n",
            "Epoch 2/100\n",
            "313/313 [==============================] - 11s 37ms/step - loss: 0.6900 - accuracy: 0.5285 - val_loss: 0.6877 - val_accuracy: 0.5376\n",
            "Epoch 3/100\n",
            "313/313 [==============================] - 11s 37ms/step - loss: 0.6724 - accuracy: 0.5893 - val_loss: 0.6569 - val_accuracy: 0.6210\n",
            "Epoch 4/100\n",
            "313/313 [==============================] - 11s 37ms/step - loss: 0.6401 - accuracy: 0.6475 - val_loss: 0.6320 - val_accuracy: 0.6586\n",
            "Epoch 5/100\n",
            "313/313 [==============================] - 11s 37ms/step - loss: 0.6199 - accuracy: 0.6751 - val_loss: 0.6150 - val_accuracy: 0.6758\n",
            "Epoch 6/100\n",
            "313/313 [==============================] - 11s 37ms/step - loss: 0.6009 - accuracy: 0.6967 - val_loss: 0.5966 - val_accuracy: 0.6978\n",
            "Epoch 7/100\n",
            "313/313 [==============================] - 11s 37ms/step - loss: 0.5788 - accuracy: 0.7222 - val_loss: 0.5789 - val_accuracy: 0.7180\n",
            "Epoch 8/100\n",
            "313/313 [==============================] - 11s 37ms/step - loss: 0.5640 - accuracy: 0.7332 - val_loss: 0.5685 - val_accuracy: 0.7254\n",
            "Epoch 9/100\n",
            "313/313 [==============================] - 11s 36ms/step - loss: 0.5512 - accuracy: 0.7434 - val_loss: 0.5549 - val_accuracy: 0.7322\n",
            "Epoch 10/100\n",
            "313/313 [==============================] - 11s 37ms/step - loss: 0.5393 - accuracy: 0.7525 - val_loss: 0.5448 - val_accuracy: 0.7436\n",
            "Epoch 11/100\n",
            "313/313 [==============================] - 12s 37ms/step - loss: 0.5282 - accuracy: 0.7589 - val_loss: 0.5357 - val_accuracy: 0.7500\n",
            "Epoch 12/100\n",
            "313/313 [==============================] - 12s 37ms/step - loss: 0.5192 - accuracy: 0.7638 - val_loss: 0.5283 - val_accuracy: 0.7482\n",
            "Epoch 13/100\n",
            "313/313 [==============================] - 11s 36ms/step - loss: 0.5089 - accuracy: 0.7713 - val_loss: 0.5179 - val_accuracy: 0.7580\n",
            "Epoch 14/100\n",
            "313/313 [==============================] - 11s 36ms/step - loss: 0.5002 - accuracy: 0.7763 - val_loss: 0.5112 - val_accuracy: 0.7608\n",
            "Epoch 15/100\n",
            "313/313 [==============================] - 11s 37ms/step - loss: 0.4899 - accuracy: 0.7817 - val_loss: 0.5037 - val_accuracy: 0.7680\n",
            "Epoch 16/100\n",
            "313/313 [==============================] - 11s 36ms/step - loss: 0.4822 - accuracy: 0.7868 - val_loss: 0.4967 - val_accuracy: 0.7686\n",
            "Epoch 17/100\n",
            "313/313 [==============================] - 11s 37ms/step - loss: 0.4740 - accuracy: 0.7902 - val_loss: 0.4923 - val_accuracy: 0.7732\n",
            "Epoch 18/100\n",
            "313/313 [==============================] - 11s 36ms/step - loss: 0.4672 - accuracy: 0.7939 - val_loss: 0.4861 - val_accuracy: 0.7780\n",
            "Epoch 19/100\n",
            "313/313 [==============================] - 11s 37ms/step - loss: 0.4614 - accuracy: 0.7974 - val_loss: 0.4820 - val_accuracy: 0.7796\n",
            "Epoch 20/100\n",
            "313/313 [==============================] - 12s 37ms/step - loss: 0.4562 - accuracy: 0.7978 - val_loss: 0.4804 - val_accuracy: 0.7770\n",
            "Epoch 21/100\n",
            "313/313 [==============================] - 11s 36ms/step - loss: 0.4509 - accuracy: 0.8020 - val_loss: 0.4778 - val_accuracy: 0.7776\n",
            "Epoch 22/100\n",
            "313/313 [==============================] - 11s 37ms/step - loss: 0.4474 - accuracy: 0.8043 - val_loss: 0.4748 - val_accuracy: 0.7832\n",
            "Epoch 23/100\n",
            "313/313 [==============================] - 11s 36ms/step - loss: 0.4433 - accuracy: 0.8043 - val_loss: 0.4733 - val_accuracy: 0.7862\n",
            "Epoch 24/100\n",
            "313/313 [==============================] - 11s 36ms/step - loss: 0.4399 - accuracy: 0.8073 - val_loss: 0.4744 - val_accuracy: 0.7792\n",
            "Epoch 25/100\n",
            "313/313 [==============================] - 11s 37ms/step - loss: 0.4373 - accuracy: 0.8076 - val_loss: 0.4698 - val_accuracy: 0.7860\n",
            "Epoch 26/100\n",
            "313/313 [==============================] - 11s 37ms/step - loss: 0.4342 - accuracy: 0.8103 - val_loss: 0.4702 - val_accuracy: 0.7832\n",
            "Epoch 27/100\n",
            "313/313 [==============================] - 11s 36ms/step - loss: 0.4317 - accuracy: 0.8119 - val_loss: 0.4695 - val_accuracy: 0.7848\n",
            "Epoch 28/100\n",
            "313/313 [==============================] - 11s 36ms/step - loss: 0.4294 - accuracy: 0.8130 - val_loss: 0.4675 - val_accuracy: 0.7850\n",
            "Epoch 29/100\n",
            "313/313 [==============================] - 11s 36ms/step - loss: 0.4275 - accuracy: 0.8127 - val_loss: 0.4689 - val_accuracy: 0.7816\n",
            "Epoch 30/100\n",
            "313/313 [==============================] - 11s 36ms/step - loss: 0.4251 - accuracy: 0.8146 - val_loss: 0.4684 - val_accuracy: 0.7850\n",
            "Epoch 31/100\n",
            "313/313 [==============================] - 11s 37ms/step - loss: 0.4233 - accuracy: 0.8162 - val_loss: 0.4705 - val_accuracy: 0.7846\n"
          ],
          "name": "stdout"
        }
      ]
    },
    {
      "cell_type": "code",
      "metadata": {
        "colab": {
          "base_uri": "https://localhost:8080/",
          "height": 279
        },
        "id": "hN6Rm4_Fs7kC",
        "outputId": "af63443f-da11-4080-a7ba-cd364f5b0bf5"
      },
      "source": [
        "plt.plot(history.history['loss'])\n",
        "plt.plot(history.history['val_loss'])\n",
        "plt.xlabel('epoch')\n",
        "plt.ylabel('loss')\n",
        "plt.legend(['train', 'val'])\n",
        "plt.show()\n",
        "#훈련손실은 지속저긍로 감소\n",
        "#검증 손실은 20에포크 정도 에서 감소가 둔해짐(그후 조기종료)"
      ],
      "execution_count": null,
      "outputs": [
        {
          "output_type": "display_data",
          "data": {
            "image/png": "[encoded data removed]",
            "text/plain": [
              "<Figure size 432x288 with 1 Axes>"
            ]
          },
          "metadata": {
            "tags": [],
            "needs_background": "light"
          }
        }
      ]
    },
    {
      "cell_type": "markdown",
      "metadata": {
        "id": "uf33TZck4sJN"
      },
      "source": [
        "원-핫 인코딩 : 20000X100X500 즉 입력데이터의 크기가 너무 커져서 어휘사전을 늘리기 힘들게 된다\n",
        "\n",
        "대부분 다 0 하나의 값만 1이기 때문에 훈련의 결과가 좋지 않게 나옴\n",
        "\n",
        "단어와 단어의 의미사이가 없다(단어사이 유사도 무시)"
      ]
    },
    {
      "cell_type": "markdown",
      "metadata": {
        "id": "-obxCnzts9iA"
      },
      "source": [
        "단어 임베딩을 사용하기\n",
        "\n",
        "실수 값으로 벡터를 채움"
      ]
    },
    {
      "cell_type": "code",
      "metadata": {
        "colab": {
          "base_uri": "https://localhost:8080/"
        },
        "id": "rX8UzmVss_iE",
        "outputId": "e438eb92-a677-40b2-a233-e4a6c8032776"
      },
      "source": [
        "model2 = keras.Sequential()\n",
        "\n",
        "model2.add(keras.layers.Embedding(500, 16, input_length=100))\n",
        "#500개의 어휘사전, 16개의 출력차원(임베딩벡터크기), 타임스텝의 개수(시퀸스 길이, 토큰의 수):100\n",
        "model2.add(keras.layers.SimpleRNN(8))\n",
        "model2.add(keras.layers.Dense(1, activation='sigmoid'))\n",
        "\n",
        "model2.summary()\n",
        "#embedding 가중치: 500 X 16\n",
        "#simple_rnn 가중치 : 16X8(완전연결) + 8X8(은닉층완전연결) + 8(절편)\n",
        "#dense 가중치 : 8X1(완전연결) + 1(절편)\n",
        "#simple_rnn의 가중치가 많이 작아져도 모델의 정확도가 크기 떨어지지 않음\n",
        "#입력데이터의 크기를 2차원배열로 입력하여 메모리공간 효율적 사용"
      ],
      "execution_count": null,
      "outputs": [
        {
          "output_type": "stream",
          "text": [
            "Model: \"sequential_1\"\n",
            "_________________________________________________________________\n",
            "Layer (type)                 Output Shape              Param #   \n",
            "=================================================================\n",
            "embedding (Embedding)        (None, 100, 16)           8000      \n",
            "_________________________________________________________________\n",
            "simple_rnn_1 (SimpleRNN)     (None, 8)                 200       \n",
            "_________________________________________________________________\n",
            "dense_1 (Dense)              (None, 1)                 9         \n",
            "=================================================================\n",
            "Total params: 8,209\n",
            "Trainable params: 8,209\n",
            "Non-trainable params: 0\n",
            "_________________________________________________________________\n"
          ],
          "name": "stdout"
        }
      ]
    },
    {
      "cell_type": "code",
      "metadata": {
        "colab": {
          "base_uri": "https://localhost:8080/"
        },
        "id": "ylxvE5BitBCm",
        "outputId": "2142bad4-69de-4168-db63-4fa7e92b3bd0"
      },
      "source": [
        "rmsprop = keras.optimizers.RMSprop(learning_rate=1e-4)\n",
        "#학습률 = 0.0001\n",
        "model2.compile(optimizer=rmsprop, loss='binary_crossentropy', \n",
        "               metrics=['accuracy'])\n",
        "#옵티마이저: rmsprop, 손실값: 이진분류->'binary_crossentropy', 정확도 추가\n",
        "checkpoint_cb = keras.callbacks.ModelCheckpoint('best-embedding-model.h5')\n",
        "early_stopping_cb = keras.callbacks.EarlyStopping(patience=3,\n",
        "                                                  restore_best_weights=True)\n",
        "#patience 3번, 최고값 저장\n",
        "history = model2.fit(train_seq, train_target, epochs=100, batch_size=64,\n",
        "                     validation_data=(val_seq, val_target),\n",
        "                     callbacks=[checkpoint_cb, early_stopping_cb])\n",
        "#반복: 100, 배치크기:64, 검증세트, 체크포인트와 조기종료 추가\n",
        "#훈련세트에서의 정확도: 0.82 검증세트에서의 정확도: 0.79\n",
        "#원=핫 인코딩과 비슷한 결과를 냈지만 가중치의 개수가 적고 훈련세트의 크기도 줄었다"
      ],
      "execution_count": null,
      "outputs": [
        {
          "output_type": "stream",
          "text": [
            "Epoch 1/100\n",
            "313/313 [==============================] - 7s 20ms/step - loss: 0.6942 - accuracy: 0.5076 - val_loss: 0.6911 - val_accuracy: 0.5358\n",
            "Epoch 2/100\n",
            "313/313 [==============================] - 6s 19ms/step - loss: 0.6908 - accuracy: 0.5293 - val_loss: 0.6896 - val_accuracy: 0.5382\n",
            "Epoch 3/100\n",
            "313/313 [==============================] - 6s 19ms/step - loss: 0.6830 - accuracy: 0.5742 - val_loss: 0.6776 - val_accuracy: 0.6040\n",
            "Epoch 4/100\n",
            "313/313 [==============================] - 6s 19ms/step - loss: 0.6683 - accuracy: 0.6316 - val_loss: 0.6622 - val_accuracy: 0.6508\n",
            "Epoch 5/100\n",
            "313/313 [==============================] - 6s 19ms/step - loss: 0.6462 - accuracy: 0.6818 - val_loss: 0.6393 - val_accuracy: 0.6920\n",
            "Epoch 6/100\n",
            "313/313 [==============================] - 6s 19ms/step - loss: 0.6215 - accuracy: 0.7187 - val_loss: 0.6213 - val_accuracy: 0.7022\n",
            "Epoch 7/100\n",
            "313/313 [==============================] - 6s 19ms/step - loss: 0.5993 - accuracy: 0.7358 - val_loss: 0.6003 - val_accuracy: 0.7160\n",
            "Epoch 8/100\n",
            "313/313 [==============================] - 6s 19ms/step - loss: 0.5787 - accuracy: 0.7498 - val_loss: 0.5811 - val_accuracy: 0.7354\n",
            "Epoch 9/100\n",
            "313/313 [==============================] - 6s 19ms/step - loss: 0.5597 - accuracy: 0.7608 - val_loss: 0.5649 - val_accuracy: 0.7484\n",
            "Epoch 10/100\n",
            "313/313 [==============================] - 6s 19ms/step - loss: 0.5417 - accuracy: 0.7702 - val_loss: 0.5509 - val_accuracy: 0.7630\n",
            "Epoch 11/100\n",
            "313/313 [==============================] - 6s 19ms/step - loss: 0.5260 - accuracy: 0.7785 - val_loss: 0.5360 - val_accuracy: 0.7590\n",
            "Epoch 12/100\n",
            "313/313 [==============================] - 6s 19ms/step - loss: 0.5113 - accuracy: 0.7839 - val_loss: 0.5257 - val_accuracy: 0.7606\n",
            "Epoch 13/100\n",
            "313/313 [==============================] - 6s 20ms/step - loss: 0.4977 - accuracy: 0.7914 - val_loss: 0.5121 - val_accuracy: 0.7706\n",
            "Epoch 14/100\n",
            "313/313 [==============================] - 6s 19ms/step - loss: 0.4857 - accuracy: 0.7962 - val_loss: 0.5029 - val_accuracy: 0.7756\n",
            "Epoch 15/100\n",
            "313/313 [==============================] - 6s 19ms/step - loss: 0.4743 - accuracy: 0.7999 - val_loss: 0.4937 - val_accuracy: 0.7806\n",
            "Epoch 16/100\n",
            "313/313 [==============================] - 6s 19ms/step - loss: 0.4648 - accuracy: 0.8046 - val_loss: 0.4900 - val_accuracy: 0.7762\n",
            "Epoch 17/100\n",
            "313/313 [==============================] - 6s 19ms/step - loss: 0.4559 - accuracy: 0.8076 - val_loss: 0.4804 - val_accuracy: 0.7836\n",
            "Epoch 18/100\n",
            "313/313 [==============================] - 6s 19ms/step - loss: 0.4485 - accuracy: 0.8099 - val_loss: 0.4750 - val_accuracy: 0.7858\n",
            "Epoch 19/100\n",
            "313/313 [==============================] - 6s 19ms/step - loss: 0.4414 - accuracy: 0.8116 - val_loss: 0.4721 - val_accuracy: 0.7846\n",
            "Epoch 20/100\n",
            "313/313 [==============================] - 6s 19ms/step - loss: 0.4357 - accuracy: 0.8145 - val_loss: 0.4696 - val_accuracy: 0.7872\n",
            "Epoch 21/100\n",
            "313/313 [==============================] - 6s 19ms/step - loss: 0.4301 - accuracy: 0.8163 - val_loss: 0.4655 - val_accuracy: 0.7906\n",
            "Epoch 22/100\n",
            "313/313 [==============================] - 6s 19ms/step - loss: 0.4257 - accuracy: 0.8177 - val_loss: 0.4640 - val_accuracy: 0.7868\n",
            "Epoch 23/100\n",
            "313/313 [==============================] - 6s 20ms/step - loss: 0.4211 - accuracy: 0.8188 - val_loss: 0.4619 - val_accuracy: 0.7906\n",
            "Epoch 24/100\n",
            "313/313 [==============================] - 6s 20ms/step - loss: 0.4173 - accuracy: 0.8207 - val_loss: 0.4667 - val_accuracy: 0.7834\n",
            "Epoch 25/100\n",
            "313/313 [==============================] - 6s 20ms/step - loss: 0.4145 - accuracy: 0.8213 - val_loss: 0.4587 - val_accuracy: 0.7912\n",
            "Epoch 26/100\n",
            "313/313 [==============================] - 6s 19ms/step - loss: 0.4112 - accuracy: 0.8224 - val_loss: 0.4584 - val_accuracy: 0.7916\n",
            "Epoch 27/100\n",
            "313/313 [==============================] - 6s 19ms/step - loss: 0.4090 - accuracy: 0.8234 - val_loss: 0.4594 - val_accuracy: 0.7882\n",
            "Epoch 28/100\n",
            "313/313 [==============================] - 6s 20ms/step - loss: 0.4060 - accuracy: 0.8243 - val_loss: 0.4575 - val_accuracy: 0.7874\n",
            "Epoch 29/100\n",
            "313/313 [==============================] - 6s 19ms/step - loss: 0.4038 - accuracy: 0.8253 - val_loss: 0.4551 - val_accuracy: 0.7912\n",
            "Epoch 30/100\n",
            "313/313 [==============================] - 6s 19ms/step - loss: 0.4022 - accuracy: 0.8246 - val_loss: 0.4615 - val_accuracy: 0.7898\n",
            "Epoch 31/100\n",
            "313/313 [==============================] - 6s 19ms/step - loss: 0.3996 - accuracy: 0.8271 - val_loss: 0.4582 - val_accuracy: 0.7916\n",
            "Epoch 32/100\n",
            "313/313 [==============================] - 6s 20ms/step - loss: 0.3984 - accuracy: 0.8270 - val_loss: 0.4555 - val_accuracy: 0.7924\n"
          ],
          "name": "stdout"
        }
      ]
    },
    {
      "cell_type": "code",
      "metadata": {
        "colab": {
          "base_uri": "https://localhost:8080/",
          "height": 279
        },
        "id": "qqzAVv2_tDb1",
        "outputId": "82323146-514d-4b31-90e1-5fdc0a7a5694"
      },
      "source": [
        "plt.plot(history.history['loss'])\n",
        "plt.plot(history.history['val_loss'])\n",
        "plt.xlabel('epoch')\n",
        "plt.ylabel('loss')\n",
        "plt.legend(['train', 'val'])\n",
        "plt.show()\n",
        "#훈련 손실은 계속 감소\n",
        "#검증손실은 지속적으로 감소하지 않아 조기 종료"
      ],
      "execution_count": null,
      "outputs": [
        {
          "output_type": "display_data",
          "data": {
            "image/png": "[encoded data removed]",
            "text/plain": [
              "<Figure size 432x288 with 1 Axes>"
            ]
          },
          "metadata": {
            "tags": [],
            "needs_background": "light"
          }
        }
      ]
    }
  ]
}