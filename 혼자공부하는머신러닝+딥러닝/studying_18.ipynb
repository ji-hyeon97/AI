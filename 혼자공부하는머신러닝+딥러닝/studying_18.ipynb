{
  "nbformat": 4,
  "nbformat_minor": 0,
  "metadata": {
    "colab": {
      "name": "studying_18.ipynb",
      "provenance": [],
      "collapsed_sections": []
    },
    "kernelspec": {
      "name": "python3",
      "display_name": "Python 3"
    },
    "language_info": {
      "name": "python"
    }
  },
  "cells": [
    {
      "cell_type": "markdown",
      "metadata": {
        "id": "WeRkRIpm3P6N"
      },
      "source": [
        "밀집층 : 각 특성에 뉴런의 가중치를 곱하고 절편 더하기"
      ]
    },
    {
      "cell_type": "markdown",
      "metadata": {
        "id": "ChfPBHCCV0Tq"
      },
      "source": [
        "합성곱 신경망은 이미지 데이터를 분류할때 효과적인 딥러닝이다.\n",
        "\n",
        "합성곱은 마치 입력 데이터에 도장을 찍어 유용한 특성만 드러나게 하는 것으로 비유할 수 있다"
      ]
    },
    {
      "cell_type": "markdown",
      "metadata": {
        "id": "Yh9lCcyMWJRy"
      },
      "source": [
        "인공신경망 밀집층에서는 뉴런마다 입력 개수 만큼 가중치가 있었고 모든 입력에 가중치를 곱하였습니다. "
      ]
    },
    {
      "cell_type": "markdown",
      "metadata": {
        "id": "aKhnWj2ZWkNI"
      },
      "source": [
        "합성곱 신경망은 입력 데이터에 전체에 가중치를 곱하는 것이 아닌 일부에만 가중치를 곱합니다."
      ]
    },
    {
      "cell_type": "markdown",
      "metadata": {
        "id": "L_b1lOLWWwNe"
      },
      "source": [
        "예를 들어 특성이 7개 인경우\n",
        "\n",
        "인공신경망의 경우 출력은 7개\n",
        "\n",
        "합성곱 신경망에서 가중치(w)=3인경우 출력은 5개"
      ]
    },
    {
      "cell_type": "markdown",
      "metadata": {
        "id": "eYrkxHVna-zx"
      },
      "source": [
        "합성곱에서는 뉴런을 필터 or 커널이라 부른다\n",
        "\n",
        "필터의 가중치를 커널이라고 부름"
      ]
    },
    {
      "cell_type": "markdown",
      "metadata": {
        "id": "kZaMVi3KL8Yp"
      },
      "source": [
        "이러한 합성곱신경망 계산(활성화 함수:relu)을 통해 얻은 출력을 특성맵이라고 한다\n",
        "\n",
        "예를 들어 입력테이터가 4X4인 경우 필터는 3X3인경우 오른쪽으로 이동하면서 결과값을 만들어 내고 더 이상 오른쪽으로 이동할수 없으면 아래로 한칸 내려간 후 왼쪽에서 오른쪽 순서대로 합성곱을 수행한다 \n",
        "\n",
        "그 결과 총 2X2의 특성맵을 출력하게 된다\n",
        "\n",
        "여기서 3X3크기의 필터의 개수가 4개라면 특성맵의 형태는 (2,2,4)라고 표현한다"
      ]
    },
    {
      "cell_type": "markdown",
      "metadata": {
        "id": "knmg0e0iMu91"
      },
      "source": [
        "이렇듯 4X4의 크기에 입력을 3X3으로 하는 경우 2X2의 특성맵을 만들었다 만일 커널의 크기를 유지하고 출력의 크기(특성맵)를 입력의 크기와 동일하게 하는 방법은 패딩이라고 한다"
      ]
    },
    {
      "cell_type": "markdown",
      "metadata": {
        "id": "7fLik16_ePMg"
      },
      "source": [
        "4X4의 입력데이터에 패딩을 하게 되면 6X6이 된다. 가장자리는 다 0으로 두는 방법이다 이를 3X3크기의 커널로 합성곱을 계산하는 경우 4X4 크기의 특성맵을 만들수 있다"
      ]
    },
    {
      "cell_type": "markdown",
      "metadata": {
        "id": "qVCkGhcHOhZt"
      },
      "source": [
        "이렇듯 입력배열의 주의를 가상의 원소로 채우는 작업을 패딩이라고 부른다 이는 실제 입력값이 아니기 때문에 패딩을 0으로 채운다."
      ]
    },
    {
      "cell_type": "markdown",
      "metadata": {
        "id": "zl6t2-OcPV1O"
      },
      "source": [
        "이렇게 입력과 특성맵의 크기를 통일하게 만들기 위해 주위에 0으로 패딩하는 것을 same패딩 이라고 한다"
      ]
    },
    {
      "cell_type": "markdown",
      "metadata": {
        "id": "XXqaJwNbPe0k"
      },
      "source": [
        "패딩없이 순수한 입력배열에서만 합성곱을 하여 특성맵을 만드는 경우를 밸리드 패딩이라고 부른다"
      ]
    },
    {
      "cell_type": "markdown",
      "metadata": {
        "id": "Wh1gR3vHPwyT"
      },
      "source": [
        "이러한 패딩의 과정은 입력데이터 모서리부분에 중요한 정보다 있다면 해당 정보는 특성맵에 잘 전달되지 않지만 패딩을 하게 되면 합성곱에 기여하는 비율이 증가하게 된다는 장점이 있다."
      ]
    },
    {
      "cell_type": "markdown",
      "metadata": {
        "id": "T4mAdFmTQBRF"
      },
      "source": [
        "합성곱을 만일 2칸씩 건너뛰고 싶다면 스트라이드(stride)를 2로 설정해 주면 된다"
      ]
    },
    {
      "cell_type": "markdown",
      "metadata": {
        "id": "tZwBMULkQOpH"
      },
      "source": [
        "단, 두 칸씩 이동하게 되면 입력데이터와 커널의 합성곱의 계산이 감소하는 만큼 특성 맵의 크기는 더 작아질 것 이다"
      ]
    },
    {
      "cell_type": "markdown",
      "metadata": {
        "id": "5LBLcqYCQbIm"
      },
      "source": [
        "풀링은 합성곱 층에서 만든 특성맵의 가로세로의 크기를 줄이는 역할을 한다"
      ]
    },
    {
      "cell_type": "markdown",
      "metadata": {
        "id": "r7-SmfIn7IkM"
      },
      "source": [
        "풀링은 가중치가 없다"
      ]
    },
    {
      "cell_type": "markdown",
      "metadata": {
        "id": "z-O35QnAUITu"
      },
      "source": [
        "이는 계산과정중 가장 큰값을 고르거나 평균값을 계산하는데 여기서 가장 큰 값을 고르는 경우 최대풀링이라고 부르면 평균값을 고르는 경우 평균풀링이라고 한다"
      ]
    },
    {
      "cell_type": "markdown",
      "metadata": {
        "id": "xFBl31ngUfdM"
      },
      "source": [
        "예를 등어 4X4 크기의 특성맵을 2X2 최대풀링을 적용하는 경우 2칸씩 이동하며 합성곱을 계산한다 그이유는 풀링은 겹치지 않기 때문이다."
      ]
    },
    {
      "cell_type": "markdown",
      "metadata": {
        "id": "cESYaB2RVh5-"
      },
      "source": [
        "만일 특성맵이 10개 존재하는 (4,4,10)형태의 특성맵인경우 풀링도 10번 진행하여 (2,2,10)의 형태가 된다."
      ]
    },
    {
      "cell_type": "markdown",
      "metadata": {
        "id": "Ztooe-zpVvIj"
      },
      "source": [
        "평균풀링도 이와 동일하다 단, 최대풀링과 다르게 특성맵의 평균값을 구하여 특성맵을 줄여나간다."
      ]
    },
    {
      "cell_type": "markdown",
      "metadata": {
        "id": "6QvLpVzp72JL"
      },
      "source": [
        "3차원 합성곱 -> 3차원 커널을 만듬\n",
        "27개의 가중치 + 절편 = 1개의 출력값\n",
        "\n",
        "28X28 = 28X28X1(2차원을 3차원으로 만들기)\n",
        "\n",
        "필터의 깊이를 입력데이터의 깊이와 같게 만들어야 한다\n",
        "\n",
        "원리는 2차원 합성곱과 동일"
      ]
    },
    {
      "cell_type": "code",
      "metadata": {
        "colab": {
          "base_uri": "https://localhost:8080/"
        },
        "id": "d8wUG8iEdiuu",
        "outputId": "6f6619bd-6bb7-4646-9e0a-371e88182e0e"
      },
      "source": [
        "from tensorflow import keras\n",
        "keras.layers.Conv2D(10,kernel_size=(3,3),activation='relu')\n",
        "#필터의 개수 = 10개, 커널크기: 3X3 렐루함수"
      ],
      "execution_count": null,
      "outputs": [
        {
          "output_type": "execute_result",
          "data": {
            "text/plain": [
              "<tensorflow.python.keras.layers.convolutional.Conv2D at 0x7f8726f47f50>"
            ]
          },
          "metadata": {
            "tags": []
          },
          "execution_count": 3
        }
      ]
    },
    {
      "cell_type": "code",
      "metadata": {
        "colab": {
          "base_uri": "https://localhost:8080/"
        },
        "id": "CnZPNvaauttU",
        "outputId": "d378aebe-4d9e-412e-fee1-80d165aec8be"
      },
      "source": [
        "#케라스의 패딩설정\n",
        "keras.layers.Conv2D(10,kernel_size=(3,3),activation='relu',padding='same')\n",
        "#패딩설정의 종류 : same, valid"
      ],
      "execution_count": null,
      "outputs": [
        {
          "output_type": "execute_result",
          "data": {
            "text/plain": [
              "<tensorflow.python.keras.layers.convolutional.Conv2D at 0x7f8726c6aa90>"
            ]
          },
          "metadata": {
            "tags": []
          },
          "execution_count": 5
        }
      ]
    },
    {
      "cell_type": "code",
      "metadata": {
        "colab": {
          "base_uri": "https://localhost:8080/"
        },
        "id": "LJ30q89-vT1C",
        "outputId": "8f448c07-58f7-4ad0-9774-c0787280e103"
      },
      "source": [
        "#케라스의 스트라이드 설정\n",
        "keras.layers.Conv2D(10,kernel_size=(3,3),activation='relu',padding='same',strides=1)\n",
        "#1칸씩 이동"
      ],
      "execution_count": null,
      "outputs": [
        {
          "output_type": "execute_result",
          "data": {
            "text/plain": [
              "<tensorflow.python.keras.layers.convolutional.Conv2D at 0x7f8726b15d90>"
            ]
          },
          "metadata": {
            "tags": []
          },
          "execution_count": 6
        }
      ]
    },
    {
      "cell_type": "code",
      "metadata": {
        "colab": {
          "base_uri": "https://localhost:8080/"
        },
        "id": "SI8omEKoCzFN",
        "outputId": "b6fe9d35-bc9b-41d8-d049-9ddad8825f8b"
      },
      "source": [
        "#케라스의 풀링 층\n",
        "keras.layers.MaxPooling2D(2)#풀링의 크기\n",
        "keras.layers.MaxPooling2D(2,strides=2,padding='valid') \n",
        "#패딩X"
      ],
      "execution_count": null,
      "outputs": [
        {
          "output_type": "execute_result",
          "data": {
            "text/plain": [
              "<tensorflow.python.keras.layers.pooling.MaxPooling2D at 0x7f8726b81250>"
            ]
          },
          "metadata": {
            "tags": []
          },
          "execution_count": 8
        }
      ]
    }
  ]
}