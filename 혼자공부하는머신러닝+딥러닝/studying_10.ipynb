{
  "nbformat": 4,
  "nbformat_minor": 0,
  "metadata": {
    "colab": {
      "name": "studying_10.ipynb",
      "provenance": [],
      "collapsed_sections": []
    },
    "kernelspec": {
      "name": "python3",
      "display_name": "Python 3"
    },
    "language_info": {
      "name": "python"
    }
  },
  "cells": [
    {
      "cell_type": "code",
      "metadata": {
        "id": "UACuNrsCmEU9"
      },
      "source": [
        "import pandas as pd\n",
        "wine = pd.read_csv('https://bit.ly/wine-date')\n",
        "\n",
        "#와인 데이터 불러들이기"
      ],
      "execution_count": 5,
      "outputs": []
    },
    {
      "cell_type": "code",
      "metadata": {
        "id": "5CuId4pOuDIF"
      },
      "source": [
        "data = wine[['alcohol', 'sugar', 'pH']].to_numpy()#데이터\n",
        "target = wine['class'].to_numpy()#타겟"
      ],
      "execution_count": 6,
      "outputs": []
    },
    {
      "cell_type": "markdown",
      "metadata": {
        "id": "KEdaCia3wRYy"
      },
      "source": [
        "검증세트"
      ]
    },
    {
      "cell_type": "code",
      "metadata": {
        "id": "qyazgowZuEAs"
      },
      "source": [
        "from sklearn.model_selection import train_test_split\n",
        "\n",
        "train_input, test_input, train_target, test_target = train_test_split(\n",
        "    data, target, test_size=0.2, random_state=42)\n",
        "\n",
        "#훈련데이터,테스트데이터 분류하기"
      ],
      "execution_count": 7,
      "outputs": []
    },
    {
      "cell_type": "code",
      "metadata": {
        "id": "PhxDvJ5OuGS9"
      },
      "source": [
        "sub_input, val_input, sub_target, val_target = train_test_split(\n",
        "    train_input, train_target, test_size=0.2, random_state=42)\n",
        "\n",
        "#훈련데이터를 sub와 val로 나눔 sub->모델훈련, val->매게변수 튜닝\n",
        "#마지막에 합친후 최종모델 훈련 -> 테스트 데이터 입력"
      ],
      "execution_count": 8,
      "outputs": []
    },
    {
      "cell_type": "code",
      "metadata": {
        "colab": {
          "base_uri": "https://localhost:8080/"
        },
        "id": "YVGmwicFuJFk",
        "outputId": "fe74e077-825a-431e-efc6-f1d8f604f5ec"
      },
      "source": [
        "print(sub_input.shape, val_input.shape) #test_size = 0.2니깐"
      ],
      "execution_count": 9,
      "outputs": [
        {
          "output_type": "stream",
          "text": [
            "(4157, 3) (1040, 3)\n"
          ],
          "name": "stdout"
        }
      ]
    },
    {
      "cell_type": "markdown",
      "metadata": {
        "id": "TRr2myKvItZG"
      },
      "source": [
        "결정트리"
      ]
    },
    {
      "cell_type": "code",
      "metadata": {
        "colab": {
          "base_uri": "https://localhost:8080/"
        },
        "id": "CHM9DMaJuMWK",
        "outputId": "1418d85a-66bb-4bce-d936-282f10a7b55a"
      },
      "source": [
        "from sklearn.tree import DecisionTreeClassifier\n",
        "\n",
        "dt = DecisionTreeClassifier(random_state=42)\n",
        "dt.fit(sub_input, sub_target)\n",
        "\n",
        "print(dt.score(sub_input, sub_target))\n",
        "print(dt.score(val_input, val_target))\n",
        "\n",
        "#과대적합, 매개변수를 바꿀 필요가 있다"
      ],
      "execution_count": 11,
      "outputs": [
        {
          "output_type": "stream",
          "text": [
            "0.9971133028626413\n",
            "0.864423076923077\n"
          ],
          "name": "stdout"
        }
      ]
    },
    {
      "cell_type": "markdown",
      "metadata": {
        "id": "Lriqbq81urUk"
      },
      "source": [
        "교차검증"
      ]
    },
    {
      "cell_type": "code",
      "metadata": {
        "colab": {
          "base_uri": "https://localhost:8080/"
        },
        "id": "QNQtiufXuNcz",
        "outputId": "499e3b79-eab3-4508-8b31-2499363970d2"
      },
      "source": [
        "from sklearn.model_selection import cross_validate\n",
        "\n",
        "scores = cross_validate(dt, train_input, train_target)\n",
        "print(scores)\n",
        "\n",
        "#기본적으로는 5개의 모델을 만듬"
      ],
      "execution_count": 12,
      "outputs": [
        {
          "output_type": "stream",
          "text": [
            "{'fit_time': array([0.00830817, 0.00698686, 0.00738001, 0.00760245, 0.00717926]), 'score_time': array([0.00081468, 0.00065088, 0.00067568, 0.00066805, 0.00070477]), 'test_score': array([0.86923077, 0.84615385, 0.87680462, 0.84889317, 0.83541867])}\n"
          ],
          "name": "stdout"
        }
      ]
    },
    {
      "cell_type": "code",
      "metadata": {
        "colab": {
          "base_uri": "https://localhost:8080/"
        },
        "id": "tXG_8922uQWG",
        "outputId": "c151e64a-5222-407a-839b-a8c38c3cc757"
      },
      "source": [
        "import numpy as np\n",
        "\n",
        "print(np.mean(scores['test_score']))\n",
        "#scor-testdml 5개 값을 평균냄"
      ],
      "execution_count": 14,
      "outputs": [
        {
          "output_type": "stream",
          "text": [
            "0.855300214703487\n"
          ],
          "name": "stdout"
        }
      ]
    },
    {
      "cell_type": "markdown",
      "metadata": {
        "id": "YrVQOVDj1IZ8"
      },
      "source": [
        "검증세트, 훈련세트 : 딥러닝\n",
        "\n",
        "교차검증, 그리드서치 : 머신러닝"
      ]
    },
    {
      "cell_type": "markdown",
      "metadata": {
        "id": "f-CDaf5O10CO"
      },
      "source": [
        "분할기(spliter)를 사용한 교차검증"
      ]
    },
    {
      "cell_type": "code",
      "metadata": {
        "colab": {
          "base_uri": "https://localhost:8080/"
        },
        "id": "6vDmmGHmuill",
        "outputId": "e77efd5a-36da-4d90-81bd-ddef4af66210"
      },
      "source": [
        "from sklearn.model_selection import StratifiedKFold\n",
        "#cv=10으로 폴더수 구분가능..10개 쓰고 싶다면\n",
        "scores = cross_validate(dt, train_input, train_target, cv=StratifiedKFold())\n",
        "print(np.mean(scores['test_score']))\n",
        "\n",
        "#cross_validate애서 cv객체는 분류모델인경우 StratifiedKFold()\n",
        "#회귀모델일경우 kFlold()"
      ],
      "execution_count": 15,
      "outputs": [
        {
          "output_type": "stream",
          "text": [
            "0.855300214703487\n"
          ],
          "name": "stdout"
        }
      ]
    },
    {
      "cell_type": "code",
      "metadata": {
        "colab": {
          "base_uri": "https://localhost:8080/"
        },
        "id": "_DeoXhPgukTi",
        "outputId": "f7e2e503-6188-4ab2-ca8a-fa24a5a883ae"
      },
      "source": [
        "splitter = StratifiedKFold(n_splits=10, shuffle=True, random_state=42)\n",
        "scores = cross_validate(dt, train_input, train_target, cv=splitter)\n",
        "print(np.mean(scores['test_score']))\n",
        "\n",
        "#dt와 같은 객체를 통해 모델인식\n",
        "#spliiter라는 객체를 통해 폴더를 나누는 행위를 제어 가능(훈련세트를 섞고 10개 폴드로 나눔)"
      ],
      "execution_count": 16,
      "outputs": [
        {
          "output_type": "stream",
          "text": [
            "0.8574181117533719\n"
          ],
          "name": "stdout"
        }
      ]
    },
    {
      "cell_type": "markdown",
      "metadata": {
        "id": "IfG28RxVvAHs"
      },
      "source": [
        "하이퍼파라미터튜닝\n",
        "\n",
        "그리드서치: 교차검증+여러개의 매개변수"
      ]
    },
    {
      "cell_type": "code",
      "metadata": {
        "id": "WL0PmAzRvDhX"
      },
      "source": [
        "from sklearn.model_selection import GridSearchCV\n",
        "\n",
        "params = {'min_impurity_decrease': [0.0001, 0.0002, 0.0003, 0.0004, 0.0005]}#넣을값 리스트 전체적으로는 딕셔너리\n",
        "#분류,회귀시 많이 사용\n",
        "#매개변수를 딕셔너리로 지정 ->최적값찾기\n",
        "#기본5개모델 X 매개변수(5) = 25개모델\n",
        "#불순도 차이= (부모노드 - 자식노드)불순도 = 정보이득 = 클수록 좋음 = 최솟값지정 => 가지치기유무"
      ],
      "execution_count": 17,
      "outputs": []
    },
    {
      "cell_type": "code",
      "metadata": {
        "id": "whH02zfuvFhF"
      },
      "source": [
        "gs = GridSearchCV(DecisionTreeClassifier(random_state=42), params, n_jobs=-1)\n",
        "#n_jobs=-1 가능한 모든 코어를 다 사용"
      ],
      "execution_count": 18,
      "outputs": []
    },
    {
      "cell_type": "code",
      "metadata": {
        "colab": {
          "base_uri": "https://localhost:8080/"
        },
        "id": "WQvb9NwMvHah",
        "outputId": "587187e7-ac50-4ab3-f8ea-0bea99e86edf"
      },
      "source": [
        "gs.fit(train_input, train_target)#25개 모델 훈련"
      ],
      "execution_count": 19,
      "outputs": [
        {
          "output_type": "execute_result",
          "data": {
            "text/plain": [
              "GridSearchCV(cv=None, error_score=nan,\n",
              "             estimator=DecisionTreeClassifier(ccp_alpha=0.0, class_weight=None,\n",
              "                                              criterion='gini', max_depth=None,\n",
              "                                              max_features=None,\n",
              "                                              max_leaf_nodes=None,\n",
              "                                              min_impurity_decrease=0.0,\n",
              "                                              min_impurity_split=None,\n",
              "                                              min_samples_leaf=1,\n",
              "                                              min_samples_split=2,\n",
              "                                              min_weight_fraction_leaf=0.0,\n",
              "                                              presort='deprecated',\n",
              "                                              random_state=42,\n",
              "                                              splitter='best'),\n",
              "             iid='deprecated', n_jobs=-1,\n",
              "             param_grid={'min_impurity_decrease': [0.0001, 0.0002, 0.0003,\n",
              "                                                   0.0004, 0.0005]},\n",
              "             pre_dispatch='2*n_jobs', refit=True, return_train_score=False,\n",
              "             scoring=None, verbose=0)"
            ]
          },
          "metadata": {
            "tags": []
          },
          "execution_count": 19
        }
      ]
    },
    {
      "cell_type": "code",
      "metadata": {
        "colab": {
          "base_uri": "https://localhost:8080/"
        },
        "id": "0nuKWNHJvKdV",
        "outputId": "2b49e149-c9e7-4341-af40-2ecd4536efba"
      },
      "source": [
        "dt = gs.best_estimator_\n",
        "print(dt.score(train_input, train_target))\n",
        "\n",
        "#훈련종료시 가장 높은 모델로 다시 훈련"
      ],
      "execution_count": 20,
      "outputs": [
        {
          "output_type": "stream",
          "text": [
            "0.9615162593804117\n"
          ],
          "name": "stdout"
        }
      ]
    },
    {
      "cell_type": "code",
      "metadata": {
        "colab": {
          "base_uri": "https://localhost:8080/"
        },
        "id": "CX8HOEWQvMXP",
        "outputId": "880cc1cd-a868-4a34-dbdb-dfcd0eecbac4"
      },
      "source": [
        "print(gs.best_params_)\n",
        "#최적의 매개변수 확인"
      ],
      "execution_count": 21,
      "outputs": [
        {
          "output_type": "stream",
          "text": [
            "{'min_impurity_decrease': 0.0001}\n"
          ],
          "name": "stdout"
        }
      ]
    },
    {
      "cell_type": "code",
      "metadata": {
        "colab": {
          "base_uri": "https://localhost:8080/"
        },
        "id": "mtlJ8n5VvOK-",
        "outputId": "222b451a-028f-4a21-d4ff-b3d2f4bee480"
      },
      "source": [
        "print(gs.cv_results_['mean_test_score'])\n",
        "#교차검증을 점수는 gs.cv_results의 mean_test_score속성에 들어감"
      ],
      "execution_count": 22,
      "outputs": [
        {
          "output_type": "stream",
          "text": [
            "[0.86819297 0.86453617 0.86492226 0.86780891 0.86761605]\n"
          ],
          "name": "stdout"
        }
      ]
    },
    {
      "cell_type": "code",
      "metadata": {
        "colab": {
          "base_uri": "https://localhost:8080/"
        },
        "id": "afxU7LGzvQa-",
        "outputId": "edf0a254-8872-4588-ec49-7b071faf1b18"
      },
      "source": [
        "best_index = np.argmax(gs.cv_results_['mean_test_score'])#mean_test_score의 최적값 인덱스\n",
        "print(gs.cv_results_['params'][best_index])#그 인덱스를 활용해 최적매개변수 찾기"
      ],
      "execution_count": 23,
      "outputs": [
        {
          "output_type": "stream",
          "text": [
            "{'min_impurity_decrease': 0.0001}\n"
          ],
          "name": "stdout"
        }
      ]
    },
    {
      "cell_type": "markdown",
      "metadata": {
        "id": "fU5d0UQLM-No"
      },
      "source": [
        "매개변수를 더 많이 탐색해 보고 싶다 ..??"
      ]
    },
    {
      "cell_type": "code",
      "metadata": {
        "id": "Ois43moSvScd"
      },
      "source": [
        "params = {'min_impurity_decrease': np.arange(0.0001, 0.001, 0.0001),#9개 #매개변수불순도\n",
        "          'max_depth': range(5, 20, 1),#15개 #매개변수 깊이\n",
        "          'min_samples_split': range(2, 100, 10)#10개 노드에 분할하기 위한 최소한 샘플개수\n",
        "          }\n",
        "#9X15X10X5=6750\n",
        "#결정트리와 관련되어있다<가지치기의 일환>"
      ],
      "execution_count": 24,
      "outputs": []
    },
    {
      "cell_type": "code",
      "metadata": {
        "colab": {
          "base_uri": "https://localhost:8080/"
        },
        "id": "hqM9kB8RvTwJ",
        "outputId": "0c726505-d94d-4036-d242-4255f26b1d91"
      },
      "source": [
        "gs = GridSearchCV(DecisionTreeClassifier(random_state=42), params, n_jobs=-1)\n",
        "gs.fit(train_input, train_target)"
      ],
      "execution_count": 25,
      "outputs": [
        {
          "output_type": "execute_result",
          "data": {
            "text/plain": [
              "GridSearchCV(cv=None, error_score=nan,\n",
              "             estimator=DecisionTreeClassifier(ccp_alpha=0.0, class_weight=None,\n",
              "                                              criterion='gini', max_depth=None,\n",
              "                                              max_features=None,\n",
              "                                              max_leaf_nodes=None,\n",
              "                                              min_impurity_decrease=0.0,\n",
              "                                              min_impurity_split=None,\n",
              "                                              min_samples_leaf=1,\n",
              "                                              min_samples_split=2,\n",
              "                                              min_weight_fraction_leaf=0.0,\n",
              "                                              presort='deprecated',\n",
              "                                              random_state=42,\n",
              "                                              splitter='best'),\n",
              "             iid='deprecated', n_jobs=-1,\n",
              "             param_grid={'max_depth': range(5, 20),\n",
              "                         'min_impurity_decrease': array([0.0001, 0.0002, 0.0003, 0.0004, 0.0005, 0.0006, 0.0007, 0.0008,\n",
              "       0.0009]),\n",
              "                         'min_samples_split': range(2, 100, 10)},\n",
              "             pre_dispatch='2*n_jobs', refit=True, return_train_score=False,\n",
              "             scoring=None, verbose=0)"
            ]
          },
          "metadata": {
            "tags": []
          },
          "execution_count": 25
        }
      ]
    },
    {
      "cell_type": "code",
      "metadata": {
        "colab": {
          "base_uri": "https://localhost:8080/"
        },
        "id": "B8sYL1ZKvWtp",
        "outputId": "05989cde-5bdb-482d-b294-14f6540afe77"
      },
      "source": [
        "print(gs.best_params_)\n",
        "\n",
        "#최적의 매개변수 조합"
      ],
      "execution_count": 26,
      "outputs": [
        {
          "output_type": "stream",
          "text": [
            "{'max_depth': 14, 'min_impurity_decrease': 0.0004, 'min_samples_split': 12}\n"
          ],
          "name": "stdout"
        }
      ]
    },
    {
      "cell_type": "code",
      "metadata": {
        "colab": {
          "base_uri": "https://localhost:8080/"
        },
        "id": "IxfqNsfBvYxR",
        "outputId": "bfb04ff9-7b2d-4990-a3f6-f1928f96d0ea"
      },
      "source": [
        "print(np.max(gs.cv_results_['mean_test_score']))\n",
        "\n",
        "#최적의 교차검증점수"
      ],
      "execution_count": 27,
      "outputs": [
        {
          "output_type": "stream",
          "text": [
            "0.8683865773302731\n"
          ],
          "name": "stdout"
        }
      ]
    },
    {
      "cell_type": "markdown",
      "metadata": {
        "id": "NeciDr8Qvay9"
      },
      "source": [
        "확률분포선택<랜덤서치>"
      ]
    },
    {
      "cell_type": "code",
      "metadata": {
        "id": "KeCRLEJ_veJ-"
      },
      "source": [
        "from scipy.stats import uniform, randint\n",
        "\n",
        "#균등분포 -> 랜덤값 선택"
      ],
      "execution_count": 28,
      "outputs": []
    },
    {
      "cell_type": "code",
      "metadata": {
        "colab": {
          "base_uri": "https://localhost:8080/"
        },
        "id": "qzy1QcRxvop5",
        "outputId": "4a3c5550-7711-4c46-f75c-fd9cd679c7aa"
      },
      "source": [
        "rgen = randint(0, 10)\n",
        "rgen.rvs(10)"
      ],
      "execution_count": 29,
      "outputs": [
        {
          "output_type": "execute_result",
          "data": {
            "text/plain": [
              "array([1, 5, 5, 1, 5, 7, 7, 4, 0, 4])"
            ]
          },
          "metadata": {
            "tags": []
          },
          "execution_count": 29
        }
      ]
    },
    {
      "cell_type": "code",
      "metadata": {
        "colab": {
          "base_uri": "https://localhost:8080/"
        },
        "id": "-iMslnX-vqRc",
        "outputId": "238f68e8-19b6-41f8-eb10-b01d1ba45493"
      },
      "source": [
        "np.unique(rgen.rvs(1000), return_counts=True)"
      ],
      "execution_count": 30,
      "outputs": [
        {
          "output_type": "execute_result",
          "data": {
            "text/plain": [
              "(array([0, 1, 2, 3, 4, 5, 6, 7, 8, 9]),\n",
              " array([ 99, 105,  91, 107, 101,  95, 107, 100,  91, 104]))"
            ]
          },
          "metadata": {
            "tags": []
          },
          "execution_count": 30
        }
      ]
    },
    {
      "cell_type": "code",
      "metadata": {
        "colab": {
          "base_uri": "https://localhost:8080/"
        },
        "id": "UeV4nk9tvr3m",
        "outputId": "8809d050-6e45-4e34-9284-f3083b9e7a5b"
      },
      "source": [
        "ugen = uniform(0, 1)\n",
        "ugen.rvs(10)\n",
        "\n",
        "#uniform 실수값 가능"
      ],
      "execution_count": 31,
      "outputs": [
        {
          "output_type": "execute_result",
          "data": {
            "text/plain": [
              "array([0.90918114, 0.76095007, 0.45506757, 0.54490802, 0.10798245,\n",
              "       0.07416922, 0.32938556, 0.3622878 , 0.03926237, 0.56525043])"
            ]
          },
          "metadata": {
            "tags": []
          },
          "execution_count": 31
        }
      ]
    },
    {
      "cell_type": "code",
      "metadata": {
        "id": "MjxeSrSEvtmr"
      },
      "source": [
        "params = {'min_impurity_decrease': uniform(0.0001, 0.001),\n",
        "          'max_depth': randint(20, 50),\n",
        "          'min_samples_split': randint(2, 25),\n",
        "          'min_samples_leaf': randint(1, 25),\n",
        "          }\n",
        "\n",
        "#그리드서치 ->일정간격으로 테스트, 촘촘->모델이 많아짐\n",
        "#범위를 크게주고 랜덤으로 테스트, 모델개수 규정가능-> 편리\n",
        "#매개변수가 실수인경우도 효율적!"
      ],
      "execution_count": 32,
      "outputs": []
    },
    {
      "cell_type": "code",
      "metadata": {
        "colab": {
          "base_uri": "https://localhost:8080/"
        },
        "id": "zpSVVtXRvw4X",
        "outputId": "a36c2864-c7bb-4539-f6a9-9c5550682bf4"
      },
      "source": [
        "from sklearn.model_selection import RandomizedSearchCV\n",
        "\n",
        "gs = RandomizedSearchCV(DecisionTreeClassifier(random_state=42), params, \n",
        "                        n_iter=100, n_jobs=-1, random_state=42)\n",
        "gs.fit(train_input, train_target)\n",
        "\n",
        "#샘플링은 100번"
      ],
      "execution_count": 33,
      "outputs": [
        {
          "output_type": "execute_result",
          "data": {
            "text/plain": [
              "RandomizedSearchCV(cv=None, error_score=nan,\n",
              "                   estimator=DecisionTreeClassifier(ccp_alpha=0.0,\n",
              "                                                    class_weight=None,\n",
              "                                                    criterion='gini',\n",
              "                                                    max_depth=None,\n",
              "                                                    max_features=None,\n",
              "                                                    max_leaf_nodes=None,\n",
              "                                                    min_impurity_decrease=0.0,\n",
              "                                                    min_impurity_split=None,\n",
              "                                                    min_samples_leaf=1,\n",
              "                                                    min_samples_split=2,\n",
              "                                                    min_weight_fraction_leaf=0.0,\n",
              "                                                    presort='deprecated',\n",
              "                                                    random_state=42,\n",
              "                                                    splitter='best'),...\n",
              "                                        'min_impurity_decrease': <scipy.stats._distn_infrastructure.rv_frozen object at 0x7f0688e662d0>,\n",
              "                                        'min_samples_leaf': <scipy.stats._distn_infrastructure.rv_frozen object at 0x7f0688d0bad0>,\n",
              "                                        'min_samples_split': <scipy.stats._distn_infrastructure.rv_frozen object at 0x7f0688e09790>},\n",
              "                   pre_dispatch='2*n_jobs', random_state=42, refit=True,\n",
              "                   return_train_score=False, scoring=None, verbose=0)"
            ]
          },
          "metadata": {
            "tags": []
          },
          "execution_count": 33
        }
      ]
    },
    {
      "cell_type": "code",
      "metadata": {
        "colab": {
          "base_uri": "https://localhost:8080/"
        },
        "id": "FBiW3q5Fvxo7",
        "outputId": "5cd43b4d-eb2f-4256-c0d2-9d3a2ab1a0c3"
      },
      "source": [
        "print(gs.best_params_)\n",
        "\n",
        "#최적의 매개변수"
      ],
      "execution_count": 34,
      "outputs": [
        {
          "output_type": "stream",
          "text": [
            "{'max_depth': 39, 'min_impurity_decrease': 0.00034102546602601173, 'min_samples_leaf': 7, 'min_samples_split': 13}\n"
          ],
          "name": "stdout"
        }
      ]
    },
    {
      "cell_type": "code",
      "metadata": {
        "colab": {
          "base_uri": "https://localhost:8080/"
        },
        "id": "UMrQuSjSvzqe",
        "outputId": "9ef539e2-d16b-4b1e-feb3-f03f54a30148"
      },
      "source": [
        "print(np.max(gs.cv_results_['mean_test_score']))\n",
        "\n",
        "#검증 점수 "
      ],
      "execution_count": 35,
      "outputs": [
        {
          "output_type": "stream",
          "text": [
            "0.8695428296438884\n"
          ],
          "name": "stdout"
        }
      ]
    },
    {
      "cell_type": "code",
      "metadata": {
        "colab": {
          "base_uri": "https://localhost:8080/"
        },
        "id": "bdpot3wQv2pl",
        "outputId": "415af1f3-8802-46ad-c55f-a2985e86ee19"
      },
      "source": [
        "dt = gs.best_estimator_\n",
        "\n",
        "print(dt.score(test_input, test_target))\n",
        "\n",
        "#테스트세트 정확도 확인"
      ],
      "execution_count": 36,
      "outputs": [
        {
          "output_type": "stream",
          "text": [
            "0.86\n"
          ],
          "name": "stdout"
        }
      ]
    },
    {
      "cell_type": "markdown",
      "metadata": {
        "id": "T6BFxVLJQxQh"
      },
      "source": [
        "요약\n",
        "\n",
        "훈련세트 - 검증세트 - 테스트세트\n",
        "\n",
        "검증세트를 이용해 모델 튜닝 교차검증을 사용해 훈련세트를 많이 사용\n",
        "\n",
        "그리드서치 ->교차검증,매개변수 탐색을 한번에 실시\n",
        "\n",
        "매개변수가 많은경우 너무 많은 모델이 만들어져\n",
        "랜덤서치를 사용하여 모델의 수를 지정가능 + 넓은 범위의 매개변수 수행"
      ]
    }
  ]
}