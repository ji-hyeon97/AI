{
  "nbformat": 4,
  "nbformat_minor": 0,
  "metadata": {
    "colab": {
      "name": "studying_21.ipynb",
      "provenance": [],
      "collapsed_sections": []
    },
    "kernelspec": {
      "name": "python3",
      "display_name": "Python 3"
    },
    "language_info": {
      "name": "python"
    }
  },
  "cells": [
    {
      "cell_type": "markdown",
      "metadata": {
        "id": "co0VIT7KTYWe"
      },
      "source": [
        "순차데이터"
      ]
    },
    {
      "cell_type": "markdown",
      "metadata": {
        "id": "xkFWshJyTYYx"
      },
      "source": [
        "텍스트데이터 : 순서가 있다고 일반적으로 가정\n",
        "\n",
        "시계열데이터 : 과거의 데이터를 사용하여 미래를 예측\n",
        "\n",
        "ex) 1일 15도 -> 2일 17도 -> 3일 16도"
      ]
    },
    {
      "cell_type": "markdown",
      "metadata": {
        "id": "7o6IXp9fTYbX"
      },
      "source": [
        "\n",
        "순환신경망(RNN): 일반적인 완전 연결 신경망과 거의 동일하다.\n",
        "\n",
        "완전 연결 신경망에 이전 데이터의 처리 흐름을 순환하는 고리를 하나 추가하면 됨\n",
        "\n",
        "즉, 뉴런의 출력이 자기자신으로 전달 = 이전에 사용했던 데이터를 재사용하는 것"
      ]
    },
    {
      "cell_type": "markdown",
      "metadata": {
        "id": "24qVzrWdXKjG"
      },
      "source": [
        "순환신경망에서 사용하는 데이터는 텍스트나 일정한 시간 간격으로 기록된 시계열 데이터와 같은 순차데이터가 필요하다"
      ]
    },
    {
      "cell_type": "markdown",
      "metadata": {
        "id": "hiz2y-zJ_Ya9"
      },
      "source": [
        "또한 순차데이터와 같은 문장의 감정분석, 음성분석에도 자주 사용된다."
      ]
    },
    {
      "cell_type": "markdown",
      "metadata": {
        "id": "l_mRsdvdTYd9"
      },
      "source": [
        "타임스텝 : 샘플을 처리하는 한 단계\n",
        "\n",
        "순환층 : 셀(앞에서의 정보를 기억하고 있다)"
      ]
    },
    {
      "cell_type": "markdown",
      "metadata": {
        "id": "NMj8BFkf_rdd"
      },
      "source": [
        "허나 이전 타임스텝의 샘플을 기억하기는 하지만 타임스텝이 오래될수록 순환되는 정보가 점점 희미해진다"
      ]
    },
    {
      "cell_type": "markdown",
      "metadata": {
        "id": "vn6TbPZITYgj"
      },
      "source": [
        "순환층 -> 활성화 함수(tanh) -> k(은닉상태) ->재사용\n",
        "\n",
        "은닉상태 : 출력값"
      ]
    },
    {
      "cell_type": "markdown",
      "metadata": {
        "id": "95GVoYaATYjD"
      },
      "source": [
        "tanh함수 - 시그모이드 -> 로지스틱함수는 아님\n",
        "\n",
        "-1< tanh함수 <1\n",
        "\n",
        "0< 시그모이드함수 <1\n"
      ]
    },
    {
      "cell_type": "markdown",
      "metadata": {
        "id": "kdh4x_NBTYld"
      },
      "source": [
        "순환신경망의 가중치\n",
        "\n",
        "입력층 : 4개 , 순환층 : 3개 -> 12개 가중치 + 3개 절편\n",
        "\n",
        "뉴런과 뉴런 사이 완전연결"
      ]
    },
    {
      "cell_type": "markdown",
      "metadata": {
        "id": "Y6GUL_3FTYnj"
      },
      "source": [
        "입력층 -> 순환층(은닉상태), 완전연결신경망"
      ]
    },
    {
      "cell_type": "markdown",
      "metadata": {
        "id": "on9ftqD6TYqw"
      },
      "source": [
        "순환 신경망 입력"
      ]
    },
    {
      "cell_type": "markdown",
      "metadata": {
        "id": "bbaxY7QRTYtP"
      },
      "source": [
        "단어 or 토큰: I am a boy\n",
        "\n",
        "(1,4,3)-> 3차원 텐서가 순환신경망으로 입력\n",
        "\n",
        "1: 샘플의 수\n",
        "\n",
        "4 : 타임스텝의 크기\n",
        "\n",
        "3: 3개의 원소를 가진 벡터"
      ]
    },
    {
      "cell_type": "markdown",
      "metadata": {
        "id": "uyfMSNQFTYvr"
      },
      "source": [
        "순환층 통과후 뉴런의 개수만큼 출력이 나옴"
      ]
    },
    {
      "cell_type": "markdown",
      "metadata": {
        "id": "5Qj_TJDQTYyL"
      },
      "source": [
        "즉 하나의 샘플은 시퀸스 길이와 단어표현의 2차원 배열로 이루어 진다"
      ]
    },
    {
      "cell_type": "markdown",
      "metadata": {
        "id": "4z7KFp2aFT0H"
      },
      "source": [
        "다층 순환 신경망"
      ]
    },
    {
      "cell_type": "markdown",
      "metadata": {
        "id": "3d-7Er1LFmPE"
      },
      "source": [
        "순환신경망에서 셀에서 출력될때 마지막 타임스텝의 은닉상태만 출력\n",
        "\n",
        "순환되는 은닉상태는 모든타임스텝의 은닉상태 순환"
      ]
    },
    {
      "cell_type": "markdown",
      "metadata": {
        "id": "KTGz4XM3RFPq"
      },
      "source": [
        "순환신경망이 2개 이상 쌓이는 경우, 마지막 셀에 있는 은닉상태만 마지막 타임스텝 값을 출력\n",
        "\n",
        "그 이전에 있는 모든 순환신경망의 셀은 모든 타임스탭의 은닉상태를 출력해야 함 -> 3차원 텐서가 입력에서의 3차원 텐서 그대로 유지 가능\n",
        "\n",
        "샘플, 타임스텝, 이전층 셀에 있는 뉴런 개수\n"
      ]
    },
    {
      "cell_type": "markdown",
      "metadata": {
        "id": "y6_ZbAyYR_Fy"
      },
      "source": [
        "순환신경망을 사용한 예측"
      ]
    },
    {
      "cell_type": "markdown",
      "metadata": {
        "id": "Yyn0-nUKRoZz"
      },
      "source": [
        "(20,100)입력 -> 은닉층(셀) - 뉴런 10개의 순환층 - (10,)출력의 펼칠 필요가 없음 = Flatten층이 필요없다 -> 출력층(소프트맥스) -밀집층- ->예측"
      ]
    },
    {
      "cell_type": "markdown",
      "metadata": {
        "id": "k1WoKiHYTTNp"
      },
      "source": [
        "쉽게 설명하면 하나의 샘플은 시퀸스 길이(20), 단어 표현(100)의 2차원 배열로 이루어져 있다. 이것이 순환층을 통과하면 뉴런의 수만큼 1차원 배열로 바뀐다. 즉 순환층은 사실상 마지막 타임스텝의 은닉상태만 출력으로 내보내게 된다. 그결과 셀의 출력이 1차원이기 때문에 Flatten 클래스를 사용하지 않아도 된다"
      ]
    }
  ]
}