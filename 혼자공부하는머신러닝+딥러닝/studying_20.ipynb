{
  "nbformat": 4,
  "nbformat_minor": 0,
  "metadata": {
    "colab": {
      "name": "studying_20.ipynb",
      "provenance": [],
      "collapsed_sections": []
    },
    "kernelspec": {
      "name": "python3",
      "display_name": "Python 3"
    },
    "language_info": {
      "name": "python"
    },
    "accelerator": "GPU"
  },
  "cells": [
    {
      "cell_type": "markdown",
      "metadata": {
        "id": "49IF3nXFOLTz"
      },
      "source": [
        "합성곱 신경망의 시각화"
      ]
    },
    {
      "cell_type": "markdown",
      "metadata": {
        "id": "qk1E5-NQONWh"
      },
      "source": [
        "가중치 시각화\n",
        "\n",
        "1.필터의 가중치가 높은 영역: 특성맵에 높은 출력값\n",
        "\n",
        "2.필터의 가중치가 낮은 영역: 특성맵에 낮은 출력값"
      ]
    },
    {
      "cell_type": "code",
      "metadata": {
        "id": "8YWLDFIPOQwz"
      },
      "source": [
        "from tensorflow import keras"
      ],
      "execution_count": null,
      "outputs": []
    },
    {
      "cell_type": "code",
      "metadata": {
        "id": "oNOSIlyIOSCV"
      },
      "source": [
        "model = keras.models.load_model('best-cnn-model.h5')"
      ],
      "execution_count": null,
      "outputs": []
    },
    {
      "cell_type": "markdown",
      "metadata": {
        "id": "dHIojV0CifPd"
      },
      "source": [
        "층의 가중치 분포"
      ]
    },
    {
      "cell_type": "code",
      "metadata": {
        "colab": {
          "base_uri": "https://localhost:8080/"
        },
        "id": "Ul9IUaZNOTsj",
        "outputId": "1ae8e96b-f4bf-475e-a68f-d4d9f0d61458"
      },
      "source": [
        "model.layers\n",
        "#studying_19에서 학습한 데이터\n",
        "#입력데이터도 많고.. 시간이 오래걸려서 파일값을 가져오기로 했음\n",
        "#8개의 객체"
      ],
      "execution_count": null,
      "outputs": [
        {
          "output_type": "execute_result",
          "data": {
            "text/plain": [
              "[<tensorflow.python.keras.layers.convolutional.Conv2D at 0x7f1a249edb50>,\n",
              " <tensorflow.python.keras.layers.pooling.MaxPooling2D at 0x7f1a24ac1ad0>,\n",
              " <tensorflow.python.keras.layers.convolutional.Conv2D at 0x7f1a24ac5990>,\n",
              " <tensorflow.python.keras.layers.pooling.MaxPooling2D at 0x7f1a249dcd50>,\n",
              " <tensorflow.python.keras.layers.core.Flatten at 0x7f1a6b1cdb90>,\n",
              " <tensorflow.python.keras.layers.core.Dense at 0x7f1a24ad6290>,\n",
              " <tensorflow.python.keras.layers.core.Dropout at 0x7f1a20a03e10>,\n",
              " <tensorflow.python.keras.layers.core.Dense at 0x7f1a6cc0c450>]"
            ]
          },
          "metadata": {
            "tags": []
          },
          "execution_count": 6
        }
      ]
    },
    {
      "cell_type": "code",
      "metadata": {
        "colab": {
          "base_uri": "https://localhost:8080/"
        },
        "id": "w2EzhsHdOVZm",
        "outputId": "10a8faeb-c02e-4fd4-8725-dc0ada235b6b"
      },
      "source": [
        "conv = model.layers[0]\n",
        "#첫번째 Conv2D객체의 가중치\n",
        "print(conv.weights[0].shape, conv.weights[1].shape)\n",
        "#필터(가중치)와 필터의 개수(절편)\n",
        "#3X3X1크기(3차원) + 32개 => 필터"
      ],
      "execution_count": null,
      "outputs": [
        {
          "output_type": "stream",
          "text": [
            "(3, 3, 1, 32) (32,)\n"
          ],
          "name": "stdout"
        }
      ]
    },
    {
      "cell_type": "code",
      "metadata": {
        "colab": {
          "base_uri": "https://localhost:8080/"
        },
        "id": "6IXc5MKdOWUM",
        "outputId": "b2cffd0b-cc0b-4843-f440-6007a11f0ed9"
      },
      "source": [
        "conv_weights = conv.weights[0].numpy()\n",
        "#필터(가중치)시각화\n",
        "\n",
        "print(conv_weights.mean(), conv_weights.std())"
      ],
      "execution_count": null,
      "outputs": [
        {
          "output_type": "stream",
          "text": [
            "-0.010689763 0.24276347\n"
          ],
          "name": "stdout"
        }
      ]
    },
    {
      "cell_type": "code",
      "metadata": {
        "id": "t3iBmCFkOW-q"
      },
      "source": [
        "import matplotlib.pyplot as plt"
      ],
      "execution_count": null,
      "outputs": []
    },
    {
      "cell_type": "code",
      "metadata": {
        "colab": {
          "base_uri": "https://localhost:8080/",
          "height": 279
        },
        "id": "v0SQ2cQYOX4b",
        "outputId": "39c66243-8048-4f6b-e0a6-619ce28c1f62"
      },
      "source": [
        "plt.hist(conv_weights.reshape(-1, 1))#3X3X1X32\n",
        "plt.xlabel('weight')\n",
        "plt.ylabel('count')\n",
        "plt.show()\n",
        "#0에 가까운값: 의미있는것을 학습하는 가중치 X\n",
        "#0에 먼값은 입력데이터에서 의미가 있는 부분\n",
        "#이는 훈련된 모델이기 때문에 가중치의 범위값이 넓은 것으로 알 수 있다."
      ],
      "execution_count": null,
      "outputs": [
        {
          "output_type": "display_data",
          "data": {
            "image/png": "[encoded data removed]",
            "text/plain": [
              "<Figure size 432x288 with 1 Axes>"
            ]
          },
          "metadata": {
            "tags": [],
            "needs_background": "light"
          }
        }
      ]
    },
    {
      "cell_type": "markdown",
      "metadata": {
        "id": "747q59CMjCO0"
      },
      "source": [
        "층의 가중치 시각화 3x3x1 32개"
      ]
    },
    {
      "cell_type": "code",
      "metadata": {
        "colab": {
          "base_uri": "https://localhost:8080/",
          "height": 134
        },
        "id": "oQDY7IwnOYsm",
        "outputId": "b7e8ad3b-aab1-4f50-ef90-78c737bc9734"
      },
      "source": [
        "fig, axs = plt.subplots(2, 16, figsize=(15,2))\n",
        "\n",
        "for i in range(2):\n",
        "    for j in range(16):\n",
        "        axs[i, j].imshow(conv_weights[:,:,0,i*16 + j], vmin=-0.5, vmax=0.5)\n",
        "        #최대값: 0.5(밝음) 최소값: -0.5(어두움)\n",
        "        axs[i, j].axis('off')\n",
        "\n",
        "plt.show()\n",
        "#1번째 필터의 경우 첫 가로줄이 높은 가중치로 이루어져 있는것을 보아\n",
        "#유의미한 결과를 검출하기 위한 것으로 볼수 있다. "
      ],
      "execution_count": null,
      "outputs": [
        {
          "output_type": "display_data",
          "data": {
            "image/png": "[encoded data removed]",
            "text/plain": [
              "<Figure size 1080x144 with 32 Axes>"
            ]
          },
          "metadata": {
            "tags": [],
            "needs_background": "light"
          }
        }
      ]
    },
    {
      "cell_type": "code",
      "metadata": {
        "id": "PrC4mkZkOZw6"
      },
      "source": [
        "no_training_model = keras.Sequential()\n",
        "\n",
        "no_training_model.add(keras.layers.Conv2D(32, kernel_size=3, activation='relu', \n",
        "                                          padding='same', input_shape=(28,28,1)))"
      ],
      "execution_count": null,
      "outputs": []
    },
    {
      "cell_type": "code",
      "metadata": {
        "colab": {
          "base_uri": "https://localhost:8080/"
        },
        "id": "z0u91eryOali",
        "outputId": "b428fe80-190e-4083-eac1-cb6c3860b527"
      },
      "source": [
        "no_training_conv = no_training_model.layers[0]\n",
        "\n",
        "print(no_training_conv.weights[0].shape)"
      ],
      "execution_count": null,
      "outputs": [
        {
          "output_type": "stream",
          "text": [
            "(3, 3, 1, 32)\n"
          ],
          "name": "stdout"
        }
      ]
    },
    {
      "cell_type": "code",
      "metadata": {
        "colab": {
          "base_uri": "https://localhost:8080/"
        },
        "id": "lC4WOv5cOb2S",
        "outputId": "6daa4229-42ff-4da1-97af-4d97238996c4"
      },
      "source": [
        "no_training_weights = no_training_conv.weights[0].numpy()\n",
        "\n",
        "print(no_training_weights.mean(), no_training_weights.std())"
      ],
      "execution_count": null,
      "outputs": [
        {
          "output_type": "stream",
          "text": [
            "-0.00076825224 0.08380037\n"
          ],
          "name": "stdout"
        }
      ]
    },
    {
      "cell_type": "code",
      "metadata": {
        "colab": {
          "base_uri": "https://localhost:8080/",
          "height": 279
        },
        "id": "u0NkVdSgOcro",
        "outputId": "a6939bef-d990-4e3e-a0f9-bfcfd096a89c"
      },
      "source": [
        "plt.hist(no_training_weights.reshape(-1, 1))\n",
        "plt.xlabel('weight')\n",
        "plt.ylabel('count')\n",
        "plt.show()\n",
        "#훈련되지 않은 모델의 경우의 가중치 필터값 => 균등"
      ],
      "execution_count": null,
      "outputs": [
        {
          "output_type": "display_data",
          "data": {
            "image/png": "[encoded data removed]",
            "text/plain": [
              "<Figure size 432x288 with 1 Axes>"
            ]
          },
          "metadata": {
            "tags": [],
            "needs_background": "light"
          }
        }
      ]
    },
    {
      "cell_type": "code",
      "metadata": {
        "colab": {
          "base_uri": "https://localhost:8080/",
          "height": 134
        },
        "id": "RyGREEjQOdwW",
        "outputId": "62f845ed-7d2a-4320-a582-6afd005626d2"
      },
      "source": [
        "fig, axs = plt.subplots(2, 16, figsize=(15,2))\n",
        "\n",
        "for i in range(2):\n",
        "    for j in range(16):\n",
        "        axs[i, j].imshow(no_training_weights[:,:,0,i*16 + j], vmin=-0.5, vmax=0.5)\n",
        "        axs[i, j].axis('off')\n",
        "\n",
        "plt.show()\n",
        "#32개의 필터의 가중치들이 균등하다잇~!"
      ],
      "execution_count": null,
      "outputs": [
        {
          "output_type": "display_data",
          "data": {
            "image/png": "[encoded data removed]",
            "text/plain": [
              "<Figure size 1080x144 with 32 Axes>"
            ]
          },
          "metadata": {
            "tags": [],
            "needs_background": "light"
          }
        }
      ]
    },
    {
      "cell_type": "markdown",
      "metadata": {
        "id": "OrNWthqCOd86"
      },
      "source": [
        "함수형 API"
      ]
    },
    {
      "cell_type": "code",
      "metadata": {
        "colab": {
          "base_uri": "https://localhost:8080/"
        },
        "id": "SG4faewLOgYv",
        "outputId": "6acf9b13-f396-4a70-eacf-b6a7f1983134"
      },
      "source": [
        "print(model.input)"
      ],
      "execution_count": null,
      "outputs": [
        {
          "output_type": "stream",
          "text": [
            "KerasTensor(type_spec=TensorSpec(shape=(None, 28, 28, 1), dtype=tf.float32, name='conv2d_input'), name='conv2d_input', description=\"created by layer 'conv2d_input'\")\n"
          ],
          "name": "stdout"
        }
      ]
    },
    {
      "cell_type": "code",
      "metadata": {
        "id": "osO9285ZOhW1"
      },
      "source": [
        "conv_acti = keras.models.Model(model.input, model.layers[0].output)\n",
        "#함수형 API\n",
        "#첫 번째 특성 맵 시각화\n",
        "#model.layers[0] = Conv2D"
      ],
      "execution_count": null,
      "outputs": []
    },
    {
      "cell_type": "markdown",
      "metadata": {
        "id": "A4KFLtGTOjLu"
      },
      "source": [
        "특성 맵 시각화"
      ]
    },
    {
      "cell_type": "code",
      "metadata": {
        "colab": {
          "base_uri": "https://localhost:8080/"
        },
        "id": "nW9F-VtUOjks",
        "outputId": "5a69d909-71e2-4795-bd95-93cf0bccbf34"
      },
      "source": [
        "(train_input, train_target), (test_input, test_target) = keras.datasets.fashion_mnist.load_data()"
      ],
      "execution_count": null,
      "outputs": [
        {
          "output_type": "stream",
          "text": [
            "Downloading data from https://storage.googleapis.com/tensorflow/tf-keras-datasets/train-labels-idx1-ubyte.gz\n",
            "32768/29515 [=================================] - 0s 0us/step\n",
            "Downloading data from https://storage.googleapis.com/tensorflow/tf-keras-datasets/train-images-idx3-ubyte.gz\n",
            "26427392/26421880 [==============================] - 0s 0us/step\n",
            "Downloading data from https://storage.googleapis.com/tensorflow/tf-keras-datasets/t10k-labels-idx1-ubyte.gz\n",
            "8192/5148 [===============================================] - 0s 0us/step\n",
            "Downloading data from https://storage.googleapis.com/tensorflow/tf-keras-datasets/t10k-images-idx3-ubyte.gz\n",
            "4423680/4422102 [==============================] - 0s 0us/step\n"
          ],
          "name": "stdout"
        }
      ]
    },
    {
      "cell_type": "code",
      "metadata": {
        "colab": {
          "base_uri": "https://localhost:8080/",
          "height": 265
        },
        "id": "HgdlbORkOlUI",
        "outputId": "907e0fe6-fe07-43e4-d21d-485a5896a437"
      },
      "source": [
        "plt.imshow(train_input[0], cmap='gray_r')\n",
        "plt.show()\n",
        "#첫번째는 신발"
      ],
      "execution_count": null,
      "outputs": [
        {
          "output_type": "display_data",
          "data": {
            "image/png": "[encoded data removed]",
            "text/plain": [
              "<Figure size 432x288 with 1 Axes>"
            ]
          },
          "metadata": {
            "tags": [],
            "needs_background": "light"
          }
        }
      ]
    },
    {
      "cell_type": "code",
      "metadata": {
        "id": "EMbqWzLzOmWz"
      },
      "source": [
        "inputs = train_input[0:1].reshape(-1, 28, 28, 1)/255.0\n",
        "#정규화\n",
        "feature_maps = conv_acti.predict(inputs)"
      ],
      "execution_count": null,
      "outputs": []
    },
    {
      "cell_type": "code",
      "metadata": {
        "colab": {
          "base_uri": "https://localhost:8080/"
        },
        "id": "wT77oNhZOm76",
        "outputId": "0274000a-bb08-421f-ae7a-1f414a2f0d82"
      },
      "source": [
        "print(feature_maps.shape)"
      ],
      "execution_count": null,
      "outputs": [
        {
          "output_type": "stream",
          "text": [
            "(1, 28, 28, 32)\n"
          ],
          "name": "stdout"
        }
      ]
    },
    {
      "cell_type": "code",
      "metadata": {
        "colab": {
          "base_uri": "https://localhost:8080/",
          "height": 460
        },
        "id": "VAmU5Fb5On5u",
        "outputId": "943c2af0-6a3b-4198-f5d5-339251a1b31a"
      },
      "source": [
        "fig, axs = plt.subplots(4, 8, figsize=(15,8))\n",
        "\n",
        "for i in range(4):\n",
        "    for j in range(8):\n",
        "        axs[i, j].imshow(feature_maps[0,:,:,i*8 + j])\n",
        "        axs[i, j].axis('off')\n",
        "\n",
        "plt.show()"
      ],
      "execution_count": null,
      "outputs": [
        {
          "output_type": "display_data",
          "data": {
            "image/png": "[encoded data removed]",
            "text/plain": [
              "<Figure size 1080x576 with 32 Axes>"
            ]
          },
          "metadata": {
            "tags": [],
            "needs_background": "light"
          }
        }
      ]
    },
    {
      "cell_type": "markdown",
      "metadata": {
        "id": "GA6uxmzNnLgJ"
      },
      "source": [
        "두 번째 특성 맵 시각화"
      ]
    },
    {
      "cell_type": "code",
      "metadata": {
        "id": "FX9dBazkOo0r"
      },
      "source": [
        "conv2_acti = keras.models.Model(model.input, model.layers[2].output)\n",
        "#2번째 합성곱 층\n",
        "#maxpooling층을 한번 지났음 Con2D 층"
      ],
      "execution_count": null,
      "outputs": []
    },
    {
      "cell_type": "code",
      "metadata": {
        "id": "ADzByzQAOpmd"
      },
      "source": [
        "feature_maps = conv2_acti.predict(train_input[0:1].reshape(-1, 28, 28, 1)/255.0)\n",
        "#정규화"
      ],
      "execution_count": null,
      "outputs": []
    },
    {
      "cell_type": "code",
      "metadata": {
        "colab": {
          "base_uri": "https://localhost:8080/"
        },
        "id": "4gFhWJPXOqQ1",
        "outputId": "5e533efd-c663-4111-b8e5-21492ce4c3bd"
      },
      "source": [
        "print(feature_maps.shape)"
      ],
      "execution_count": null,
      "outputs": [
        {
          "output_type": "stream",
          "text": [
            "(1, 14, 14, 64)\n"
          ],
          "name": "stdout"
        }
      ]
    },
    {
      "cell_type": "code",
      "metadata": {
        "colab": {
          "base_uri": "https://localhost:8080/",
          "height": 683
        },
        "id": "lTN1GpADOrAW",
        "outputId": "d06e6ab0-a826-4257-c58c-fdb2757d58bf"
      },
      "source": [
        "fig, axs = plt.subplots(8, 8, figsize=(12,12))\n",
        "\n",
        "for i in range(8):\n",
        "    for j in range(8):\n",
        "        axs[i, j].imshow(feature_maps[0,:,:,i*8 + j])\n",
        "        axs[i, j].axis('off')\n",
        "\n",
        "plt.show()\n",
        "#층이 갚어질수록 난해하고 여렵다"
      ],
      "execution_count": null,
      "outputs": [
        {
          "output_type": "display_data",
          "data": {
            "image/png": "[encoded data removed]",
            "text/plain": [
              "<Figure size 864x864 with 64 Axes>"
            ]
          },
          "metadata": {
            "tags": [],
            "needs_background": "light"
          }
        }
      ]
    },
    {
      "cell_type": "markdown",
      "metadata": {
        "id": "uxwdQsQpC71e"
      },
      "source": [
        "대부분 sequential 모델 -> 케라스모델설정\n",
        "\n",
        "경우에따라 복잡한 작업은 함수형 API를 통해서 함"
      ]
    }
  ]
}