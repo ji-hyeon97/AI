{
  "nbformat": 4,
  "nbformat_minor": 0,
  "metadata": {
    "colab": {
      "name": "studying_06.ipynb",
      "provenance": [],
      "collapsed_sections": []
    },
    "kernelspec": {
      "name": "python3",
      "display_name": "Python 3"
    },
    "language_info": {
      "name": "python"
    }
  },
  "cells": [
    {
      "cell_type": "markdown",
      "metadata": {
        "id": "WdZ6PDG3URXh"
      },
      "source": [
        "다중회귀 : 여러개의 특성을 사용한 선형회귀"
      ]
    },
    {
      "cell_type": "markdown",
      "metadata": {
        "id": "NPv8Q1FpXWux"
      },
      "source": [
        "판다스로 데이터 준비\n",
        "\n",
        "농어의 길이, 높이, 무게"
      ]
    },
    {
      "cell_type": "code",
      "metadata": {
        "colab": {
          "base_uri": "https://localhost:8080/"
        },
        "id": "oT1zg0-hUTCw",
        "outputId": "6470267c-a766-4b9c-be07-3c8fbd17082a"
      },
      "source": [
        "import pandas as pd\n",
        "df = pd.read_csv(\"/content/perch_full.csv\") #판다스로 데이터 부르고\n",
        "perch_full = df.to_numpy() #넘파이 배열로 바꾼다\n",
        "print(perch_full)"
      ],
      "execution_count": null,
      "outputs": [
        {
          "output_type": "stream",
          "text": [
            "[[ 8.4   2.11  1.41]\n",
            " [13.7   3.53  2.  ]\n",
            " [15.    3.82  2.43]\n",
            " [16.2   4.59  2.63]\n",
            " [17.4   4.59  2.94]\n",
            " [18.    5.22  3.32]\n",
            " [18.7   5.2   3.12]\n",
            " [19.    5.64  3.05]\n",
            " [19.6   5.14  3.04]\n",
            " [20.    5.08  2.77]\n",
            " [21.    5.69  3.56]\n",
            " [21.    5.92  3.31]\n",
            " [21.    5.69  3.67]\n",
            " [21.3   6.38  3.53]\n",
            " [22.    6.11  3.41]\n",
            " [22.    5.64  3.52]\n",
            " [22.    6.11  3.52]\n",
            " [22.    5.88  3.52]\n",
            " [22.    5.52  4.  ]\n",
            " [22.5   5.86  3.62]\n",
            " [22.5   6.79  3.62]\n",
            " [22.7   5.95  3.63]\n",
            " [23.    5.22  3.63]\n",
            " [23.5   6.28  3.72]\n",
            " [24.    7.29  3.72]\n",
            " [24.    6.38  3.82]\n",
            " [24.6   6.73  4.17]\n",
            " [25.    6.44  3.68]\n",
            " [25.6   6.56  4.24]\n",
            " [26.5   7.17  4.14]\n",
            " [27.3   8.32  5.14]\n",
            " [27.5   7.17  4.34]\n",
            " [27.5   7.05  4.34]\n",
            " [27.5   7.28  4.57]\n",
            " [28.    7.82  4.2 ]\n",
            " [28.7   7.59  4.64]\n",
            " [30.    7.62  4.77]\n",
            " [32.8  10.03  6.02]\n",
            " [34.5  10.26  6.39]\n",
            " [35.   11.49  7.8 ]\n",
            " [36.5  10.88  6.86]\n",
            " [36.   10.61  6.74]\n",
            " [37.   10.84  6.26]\n",
            " [37.   10.57  6.37]\n",
            " [39.   11.14  7.49]\n",
            " [39.   11.14  6.  ]\n",
            " [39.   12.43  7.35]\n",
            " [40.   11.93  7.11]\n",
            " [40.   11.73  7.22]\n",
            " [40.   12.38  7.46]\n",
            " [40.   11.14  6.63]\n",
            " [42.   12.8   6.87]\n",
            " [43.   11.93  7.28]\n",
            " [43.   12.51  7.42]\n",
            " [43.5  12.6   8.14]\n",
            " [44.   12.49  7.6 ]]\n"
          ],
          "name": "stdout"
        }
      ]
    },
    {
      "cell_type": "markdown",
      "metadata": {
        "id": "zd5eMH0LaToR"
      },
      "source": [
        "타켓테이터 준비완료!"
      ]
    },
    {
      "cell_type": "code",
      "metadata": {
        "id": "kQttxe5aaW4K"
      },
      "source": [
        "import numpy as np\n",
        "\n",
        "perch_weight = np.array(\n",
        "    [5.9, 32.0, 40.0, 51.5, 70.0, 100.0, 78.0, 80.0, 85.0, 85.0, \n",
        "     110.0, 115.0, 125.0, 130.0, 120.0, 120.0, 130.0, 135.0, 110.0, \n",
        "     130.0, 150.0, 145.0, 150.0, 170.0, 225.0, 145.0, 188.0, 180.0, \n",
        "     197.0, 218.0, 300.0, 260.0, 265.0, 250.0, 250.0, 300.0, 320.0, \n",
        "     514.0, 556.0, 840.0, 685.0, 700.0, 700.0, 690.0, 900.0, 650.0, \n",
        "     820.0, 850.0, 900.0, 1015.0, 820.0, 1100.0, 1000.0, 1100.0, \n",
        "     1000.0, 1000.0]\n",
        "     )"
      ],
      "execution_count": null,
      "outputs": []
    },
    {
      "cell_type": "markdown",
      "metadata": {
        "id": "r2dBGjs4YG89"
      },
      "source": [
        "다항특성만들기\n",
        "\n",
        "특성공학: 특성을 서로 곱해서 다른 특성을 만듬\n",
        "기존의 특성을 사용하여 새로운 특성을 만듬\n",
        "\n",
        "변환기: polynomialFeatures->fit, transform\n",
        "\n",
        "추정기: 모델링 하는거, 선형회귀, k이웃->fit, score, predict"
      ]
    },
    {
      "cell_type": "code",
      "metadata": {
        "colab": {
          "base_uri": "https://localhost:8080/"
        },
        "id": "wmuCQYpMYKMk",
        "outputId": "ee180f5a-ad21-448c-e7b7-c3da9a408b68"
      },
      "source": [
        "from sklearn.preprocessing import PolynomialFeatures\n",
        "# degree = 2\n",
        "poly = PolynomialFeatures()\n",
        "poly.fit([[2,3]])\n",
        "#1(bias), 2, 3, 2**2, 2*3, 3**2 \n",
        "print(poly.transform([[2,3]]))"
      ],
      "execution_count": null,
      "outputs": [
        {
          "output_type": "stream",
          "text": [
            "[[1. 2. 3. 4. 6. 9.]]\n"
          ],
          "name": "stdout"
        }
      ]
    },
    {
      "cell_type": "markdown",
      "metadata": {
        "id": "umUCMPLfftqv"
      },
      "source": [
        "사이킷런에서 제공해주는 train_test_split함수로부터 훈련세트, 테스트세트 나누기"
      ]
    },
    {
      "cell_type": "code",
      "metadata": {
        "id": "MFcNf7A-edMD"
      },
      "source": [
        "from sklearn.model_selection import train_test_split\n",
        "train_input, test_input, train_target, test_target = train_test_split(perch_full,perch_weight,random_state=42)"
      ],
      "execution_count": null,
      "outputs": []
    },
    {
      "cell_type": "markdown",
      "metadata": {
        "id": "rZzv5Hm3f-bx"
      },
      "source": [
        "LinearRegression"
      ]
    },
    {
      "cell_type": "code",
      "metadata": {
        "colab": {
          "base_uri": "https://localhost:8080/"
        },
        "id": "naP4nezVewi9",
        "outputId": "e5b82904-a901-4337-ae92-0337eedf582e"
      },
      "source": [
        "from sklearn.preprocessing import PolynomialFeatures\n",
        "poly = PolynomialFeatures(include_bias=False) #절편데이터=1 제거\n",
        "poly.fit(train_input)\n",
        "train_poly = poly.transform(train_input)\n",
        "print(train_poly.shape)"
      ],
      "execution_count": null,
      "outputs": [
        {
          "output_type": "stream",
          "text": [
            "(42, 9)\n"
          ],
          "name": "stdout"
        }
      ]
    },
    {
      "cell_type": "markdown",
      "metadata": {
        "id": "Tn1ZXFirgidv"
      },
      "source": [
        "42개 샘플, 9개의 특성"
      ]
    },
    {
      "cell_type": "code",
      "metadata": {
        "colab": {
          "base_uri": "https://localhost:8080/"
        },
        "id": "Mn4CBVYgfIdq",
        "outputId": "bd4f0f17-cc26-477d-b894-e7f43d9fc68d"
      },
      "source": [
        "poly.get_feature_names()\n",
        "#특성은 다음과 같다! 기본 degree=2"
      ],
      "execution_count": null,
      "outputs": [
        {
          "output_type": "execute_result",
          "data": {
            "text/plain": [
              "['x0', 'x1', 'x2', 'x0^2', 'x0 x1', 'x0 x2', 'x1^2', 'x1 x2', 'x2^2']"
            ]
          },
          "metadata": {
            "tags": []
          },
          "execution_count": 43
        }
      ]
    },
    {
      "cell_type": "code",
      "metadata": {
        "id": "64gU49bUfL6G"
      },
      "source": [
        "test_poly = poly.transform(test_input)"
      ],
      "execution_count": null,
      "outputs": []
    },
    {
      "cell_type": "markdown",
      "metadata": {
        "id": "i-63Jsadj1Pu"
      },
      "source": [
        "높이, 두께를 모두 사용 + 각 특성을 제곱, 서로곱하기를 했더니 선형회귀능력 매우 우수"
      ]
    },
    {
      "cell_type": "code",
      "metadata": {
        "colab": {
          "base_uri": "https://localhost:8080/"
        },
        "id": "HrmGJbpKfT10",
        "outputId": "2b2b9fd7-86c5-4464-ccd6-a5d93a283941"
      },
      "source": [
        "from sklearn.linear_model import LinearRegression\n",
        "lr = LinearRegression()\n",
        "lr.fit(train_poly, train_target)\n",
        "print(lr.score(train_poly, train_target))\n",
        "#특성이 9개자냐~"
      ],
      "execution_count": null,
      "outputs": [
        {
          "output_type": "stream",
          "text": [
            "0.9903183436982124\n"
          ],
          "name": "stdout"
        }
      ]
    },
    {
      "cell_type": "markdown",
      "metadata": {
        "id": "3nirSjU7j4Sa"
      },
      "source": [
        "underfitting도 발생 X"
      ]
    },
    {
      "cell_type": "code",
      "metadata": {
        "colab": {
          "base_uri": "https://localhost:8080/"
        },
        "id": "Sw3px_46fhdB",
        "outputId": "f03f3246-ccff-40b2-8fdf-05bf58fd1a83"
      },
      "source": [
        "print(lr.score(test_poly,test_target))"
      ],
      "execution_count": null,
      "outputs": [
        {
          "output_type": "stream",
          "text": [
            "0.9714559911594132\n"
          ],
          "name": "stdout"
        }
      ]
    },
    {
      "cell_type": "markdown",
      "metadata": {
        "id": "YKeD36f4hUYR"
      },
      "source": [
        "더 많은 특성을 만들기 5제곱!"
      ]
    },
    {
      "cell_type": "code",
      "metadata": {
        "colab": {
          "base_uri": "https://localhost:8080/"
        },
        "id": "0vQPCCRvhWxj",
        "outputId": "8e6f3a30-419b-402e-fe71-b1034712dd37"
      },
      "source": [
        "poly = PolynomialFeatures(degree=5, include_bias = False)\n",
        "\n",
        "poly.fit(train_input)\n",
        "train_poly = poly.transform(train_input)\n",
        "test_poly = poly.transform(test_input)\n",
        "\n",
        "print(train_poly.shape)\n",
        "#특성이 55개"
      ],
      "execution_count": null,
      "outputs": [
        {
          "output_type": "stream",
          "text": [
            "(42, 55)\n"
          ],
          "name": "stdout"
        }
      ]
    },
    {
      "cell_type": "code",
      "metadata": {
        "colab": {
          "base_uri": "https://localhost:8080/"
        },
        "id": "wjuV-YG1hv_0",
        "outputId": "e8d85f4c-3167-4e53-8dce-585f3a0dc3fe"
      },
      "source": [
        "lr.fit(train_poly,train_target)\n",
        "print(lr.score(train_poly,train_target))"
      ],
      "execution_count": null,
      "outputs": [
        {
          "output_type": "stream",
          "text": [
            "0.9999999999991096\n"
          ],
          "name": "stdout"
        }
      ]
    },
    {
      "cell_type": "code",
      "metadata": {
        "colab": {
          "base_uri": "https://localhost:8080/"
        },
        "id": "XhVWnOiBh50j",
        "outputId": "751a4d65-feac-4ea2-c98d-1fed73b3962e"
      },
      "source": [
        "print(lr.score(test_poly,test_target))#??"
      ],
      "execution_count": null,
      "outputs": [
        {
          "output_type": "stream",
          "text": [
            "-144.40579242335605\n"
          ],
          "name": "stdout"
        }
      ]
    },
    {
      "cell_type": "markdown",
      "metadata": {
        "id": "HGxnXY-kkWYx"
      },
      "source": [
        "특성의 개수가 많아지면 선형모델은 강력해진다\n",
        "\n",
        "훈련세트에 과대적합이 되어 테스트세트는 이상해짐\n",
        "\n",
        "샘플이 42개 특성이 55개 ㅋㅋㅋㅋ\n",
        "맞혀야 할 대상보다 사용할 도구가 더 많닼ㅋㅋ\n",
        "\n",
        "\n",
        "규제(정규화)가 필요 ->가중치(기울기)를 작게만든다(Ridge, Rasso)\n",
        "\n",
        "규제: 머신러닝모델이 훈련세트를 너무 과도하게 학습하지 못하도록 규제를 가하는 것\n",
        "\n",
        "선형회귀모델의 경우 특성에 곱해지는 계수의 크기를 작게 만드는 일이다.\n"
      ]
    },
    {
      "cell_type": "markdown",
      "metadata": {
        "id": "M4TVAGeSIEH-"
      },
      "source": [
        "규제(Regularization)"
      ]
    },
    {
      "cell_type": "code",
      "metadata": {
        "id": "BwAwxx3xGkIK"
      },
      "source": [
        "from sklearn.preprocessing import StandardScaler #규제하기전에 표준화\n",
        "ss=StandardScaler()\n",
        "ss.fit(train_poly)\n",
        "train_scaled = ss.transform(train_poly)#표준점수로 반환\n",
        "test_scaled=ss.transform(test_poly)#표준점수로 반환"
      ],
      "execution_count": null,
      "outputs": []
    },
    {
      "cell_type": "markdown",
      "metadata": {
        "id": "9yLh5q8wpJKS"
      },
      "source": [
        "릿지(Ridge) 회귀 : 가중치^2, L2규제 ->모델파라미터\n",
        "\n",
        "alpha = 1 <기본적으로> ->하이퍼파라미터\n",
        "\n",
        "alpha가 클수록 강도가 강해짐"
      ]
    },
    {
      "cell_type": "code",
      "metadata": {
        "colab": {
          "base_uri": "https://localhost:8080/"
        },
        "id": "PoptIYFJSFJN",
        "outputId": "4b3ca408-7b76-4714-ecf5-2396b736d33e"
      },
      "source": [
        "from sklearn.linear_model import Ridge\n",
        "ridge = Ridge()\n",
        "ridge.fit(train_scaled, train_target)#훈련\n",
        "print(ridge.score(train_scaled, train_target))#평가"
      ],
      "execution_count": null,
      "outputs": [
        {
          "output_type": "stream",
          "text": [
            "0.9896101671037343\n"
          ],
          "name": "stdout"
        }
      ]
    },
    {
      "cell_type": "code",
      "metadata": {
        "colab": {
          "base_uri": "https://localhost:8080/"
        },
        "id": "wWlSHL0vSfeD",
        "outputId": "a24364f2-4ea3-478c-a43e-3f4583d90874"
      },
      "source": [
        "print(ridge.score(test_scaled, test_target))"
      ],
      "execution_count": null,
      "outputs": [
        {
          "output_type": "stream",
          "text": [
            "0.9790693977615398\n"
          ],
          "name": "stdout"
        }
      ]
    },
    {
      "cell_type": "markdown",
      "metadata": {
        "id": "wWw5NrUVIuvf"
      },
      "source": [
        "적절한 규제 강도 찾기 (alpha값 찾기)"
      ]
    },
    {
      "cell_type": "code",
      "metadata": {
        "id": "s8Xko9FmSmWR"
      },
      "source": [
        "import matplotlib.pyplot as plt\n",
        "train_score=[]\n",
        "test_score=[]"
      ],
      "execution_count": null,
      "outputs": []
    },
    {
      "cell_type": "code",
      "metadata": {
        "id": "KiWzdGZxS9dB"
      },
      "source": [
        "alpha_list=[0.001, 0.01,0.1,1,10,100]\n",
        "for alpha in alpha_list:\n",
        "  ridge = Ridge(alpha=alpha)\n",
        "  ridge.fit(train_scaled,train_target)\n",
        "  train_score.append(ridge.score(train_scaled, train_target))\n",
        "  test_score.append(ridge.score(test_scaled, test_target))"
      ],
      "execution_count": null,
      "outputs": []
    },
    {
      "cell_type": "markdown",
      "metadata": {
        "id": "1fWgSY7pqqjX"
      },
      "source": [
        "파란색: 훈련세트 \n",
        "\n",
        "노란색: 테스트세트\n",
        "\n",
        "-> alpha의 상용로그값이 -1 즉, 알파값이 0.1일때가 가장 이상적임\n",
        "\n",
        "alpha값이 작아질수록 overfitting, 클수록 underfitting"
      ]
    },
    {
      "cell_type": "code",
      "metadata": {
        "colab": {
          "base_uri": "https://localhost:8080/",
          "height": 265
        },
        "id": "UHtXMs6lTb40",
        "outputId": "4df8cf40-1150-4c9a-b6a6-84cc6b03a074"
      },
      "source": [
        "plt.plot(np.log10(alpha_list), train_score)#상용로그<간격을 맞추기 위해-3,-2,-1,0,1,2>\n",
        "plt.plot(np.log10(alpha_list), test_score)\n",
        "plt.show()"
      ],
      "execution_count": null,
      "outputs": [
        {
          "output_type": "display_data",
          "data": {
            "image/png": "[encoded data removed]",
            "text/plain": [
              "<Figure size 432x288 with 1 Axes>"
            ]
          },
          "metadata": {
            "tags": [],
            "needs_background": "light"
          }
        }
      ]
    },
    {
      "cell_type": "code",
      "metadata": {
        "colab": {
          "base_uri": "https://localhost:8080/"
        },
        "id": "CYu6tCI0XHng",
        "outputId": "5202ca13-359e-439e-d697-9a3fb357d8f0"
      },
      "source": [
        "ridge = Ridge(alpha=0.1) #규제하는 알파값은 0.1일때 베리 굿\n",
        "ridge.fit(train_scaled, train_target)\n",
        "\n",
        "print(ridge.score(train_scaled, train_target))\n",
        "print(ridge.score(test_scaled, test_target))"
      ],
      "execution_count": null,
      "outputs": [
        {
          "output_type": "stream",
          "text": [
            "0.9903815817570366\n",
            "0.9827976465386927\n"
          ],
          "name": "stdout"
        }
      ]
    },
    {
      "cell_type": "markdown",
      "metadata": {
        "id": "GFD4dJ-zrTy2"
      },
      "source": [
        "라쏘(Lasso)회귀: 가중치의 절대값, L1규제"
      ]
    },
    {
      "cell_type": "code",
      "metadata": {
        "colab": {
          "base_uri": "https://localhost:8080/"
        },
        "id": "1ii5RJJ7rgaw",
        "outputId": "df5bd5b8-ddb7-4492-b759-6181853bd05c"
      },
      "source": [
        "from sklearn.linear_model import Lasso\n",
        "lasso = Lasso()\n",
        "lasso.fit(train_scaled, train_target)\n",
        "print(lasso.score(train_scaled,train_target))"
      ],
      "execution_count": null,
      "outputs": [
        {
          "output_type": "stream",
          "text": [
            "0.9897898972080961\n"
          ],
          "name": "stdout"
        }
      ]
    },
    {
      "cell_type": "code",
      "metadata": {
        "colab": {
          "base_uri": "https://localhost:8080/"
        },
        "id": "x6m0mTcbrv5w",
        "outputId": "810a71e0-db2b-4bd2-d854-6358c3e62b45"
      },
      "source": [
        "print(lasso.score(test_scaled, test_target))"
      ],
      "execution_count": null,
      "outputs": [
        {
          "output_type": "stream",
          "text": [
            "0.9800593698421883\n"
          ],
          "name": "stdout"
        }
      ]
    },
    {
      "cell_type": "code",
      "metadata": {
        "colab": {
          "base_uri": "https://localhost:8080/"
        },
        "id": "f7EJyzaEr_Nt",
        "outputId": "5f40b67c-dd2c-4bfb-f91c-5d061043f6ae"
      },
      "source": [
        "train_score=[]\n",
        "test_score=[]\n",
        "alpha_list=[0.001, 0.01,0.1,1,10,100]\n",
        "for alpha in alpha_list:\n",
        "  lasso = Lasso(alpha=alpha, max_iter=10000)\n",
        "  lasso.fit(train_scaled,train_target)\n",
        "  train_score.append(lasso.score(train_scaled, train_target))\n",
        "  test_score.append(lasso.score(test_scaled, test_target))"
      ],
      "execution_count": null,
      "outputs": [
        {
          "output_type": "stream",
          "text": [
            "/usr/local/lib/python3.7/dist-packages/sklearn/linear_model/_coordinate_descent.py:476: ConvergenceWarning: Objective did not converge. You might want to increase the number of iterations. Duality gap: 18778.697957792876, tolerance: 518.2793833333334\n",
            "  positive)\n",
            "/usr/local/lib/python3.7/dist-packages/sklearn/linear_model/_coordinate_descent.py:476: ConvergenceWarning: Objective did not converge. You might want to increase the number of iterations. Duality gap: 12972.821345404844, tolerance: 518.2793833333334\n",
            "  positive)\n"
          ],
          "name": "stderr"
        }
      ]
    },
    {
      "cell_type": "code",
      "metadata": {
        "colab": {
          "base_uri": "https://localhost:8080/"
        },
        "id": "HBli6LQxvHWO",
        "outputId": "dcae4716-ddc7-40b0-8b95-a2dd334e54b8"
      },
      "source": [
        "print(train_score)\n",
        "print(test_score)#그래프 ㄱㄱ"
      ],
      "execution_count": null,
      "outputs": [
        {
          "output_type": "stream",
          "text": [
            "[0.9924957354689654, 0.9922988130765112, 0.9902080238600285, 0.9898116789062786, 0.9887624603020235, 0.9078618674946646]\n",
            "[0.9731817502723494, 0.9761545611184548, 0.9824382983968606, 0.9801844137326112, 0.9830309645308443, 0.9090772073024512]\n"
          ],
          "name": "stdout"
        }
      ]
    },
    {
      "cell_type": "markdown",
      "metadata": {
        "id": "vGGTB2aquHg3"
      },
      "source": [
        "alpha 파라미터값은 10이 적절하다"
      ]
    },
    {
      "cell_type": "code",
      "metadata": {
        "colab": {
          "base_uri": "https://localhost:8080/",
          "height": 279
        },
        "id": "yCArhTZStE3C",
        "outputId": "40198aaf-ab3d-4ee5-84d7-5431d50f1659"
      },
      "source": [
        "plt.plot(np.log10(alpha_list), train_score)\n",
        "plt.plot(np.log10(alpha_list), test_score)\n",
        "plt.xlabel('alpha')\n",
        "plt.ylabel('R^2')\n",
        "plt.show()"
      ],
      "execution_count": null,
      "outputs": [
        {
          "output_type": "display_data",
          "data": {
            "image/png": "[encoded data removed]",
            "text/plain": [
              "<Figure size 432x288 with 1 Axes>"
            ]
          },
          "metadata": {
            "tags": [],
            "needs_background": "light"
          }
        }
      ]
    },
    {
      "cell_type": "code",
      "metadata": {
        "colab": {
          "base_uri": "https://localhost:8080/"
        },
        "id": "G2uujiZStUXC",
        "outputId": "8be14c02-4879-44a6-ca86-dbc8d44ac0a4"
      },
      "source": [
        "lasso = Lasso(alpha=10)\n",
        "lasso.fit(train_scaled, train_target)\n",
        "\n",
        "print(lasso.score(train_scaled, train_target))\n",
        "print(lasso.score(test_scaled, test_target))"
      ],
      "execution_count": null,
      "outputs": [
        {
          "output_type": "stream",
          "text": [
            "0.9888067471131867\n",
            "0.9824470598706695\n"
          ],
          "name": "stdout"
        }
      ]
    },
    {
      "cell_type": "markdown",
      "metadata": {
        "id": "4GN6JUJBtmT2"
      },
      "source": [
        "일반적으로는 Lasso보다는 Ridge 회귀를 더 선호한다\n",
        "\n",
        "가중치를 0으로 만들어서 특성을 0으로 만들어 특성을 사용안하게 된다"
      ]
    },
    {
      "cell_type": "code",
      "metadata": {
        "colab": {
          "base_uri": "https://localhost:8080/"
        },
        "id": "bZDtqG-ptVNO",
        "outputId": "61e30bb6-acd6-4fd1-80c3-e8df2842c2f9"
      },
      "source": [
        "print(np.sum(lasso.coef_ == 0))"
      ],
      "execution_count": null,
      "outputs": [
        {
          "output_type": "stream",
          "text": [
            "40\n"
          ],
          "name": "stdout"
        }
      ]
    },
    {
      "cell_type": "markdown",
      "metadata": {
        "id": "tgYAltN8t65W"
      },
      "source": [
        "총 55개. 15개만 특성을 사용. 40개의 특성 사용X"
      ]
    }
  ]
}