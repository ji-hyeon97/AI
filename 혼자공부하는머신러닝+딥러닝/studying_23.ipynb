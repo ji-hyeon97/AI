{
  "nbformat": 4,
  "nbformat_minor": 0,
  "metadata": {
    "colab": {
      "name": "studying_23.ipynb",
      "provenance": [],
      "collapsed_sections": []
    },
    "kernelspec": {
      "name": "python3",
      "display_name": "Python 3"
    },
    "language_info": {
      "name": "python"
    }
  },
  "cells": [
    {
      "cell_type": "markdown",
      "metadata": {
        "id": "Fa3gdITIBfhJ"
      },
      "source": [
        "기존의 simple rnn모델\n",
        "\n",
        "장기 의존성 문제는 입력데이터가 많아 질수록 Simple RNN층, 즉 은닉 층세거 보관하는 과거의 정보가 마지막 층까지 충분히 전달되지 못하는 현상을 의미함\n",
        "\n",
        "그 이유는 활성화 함수 tanh 함수의 출력값의 범위는 -1에서 1사이인데 1보다 작은수를 곱할 수 록 더 작아지기 때문입니다.\n",
        "\n"
      ]
    },
    {
      "cell_type": "markdown",
      "metadata": {
        "id": "-axv5yuw-b7C"
      },
      "source": [
        "LSTM과 GRU 셀"
      ]
    },
    {
      "cell_type": "markdown",
      "metadata": {
        "id": "0TP3Adpjktj_"
      },
      "source": [
        "LSTM셀(long short term memory) : 순환셀이 4개가 더 들어있다 + 은닉상태뿐만 아니라 셀상태도 만들고 이는 LSTM셀의 출력을 사용되는 것이 아닌 셀 자체내에서 순환되는 상태값\n",
        "\n",
        "1.은닉상태 h를 출력하지만 h는  다음 타임스텝에서 다시 셀에 주입된다.\n",
        "\n",
        "\n"
      ]
    },
    {
      "cell_type": "markdown",
      "metadata": {
        "id": "eSiVEertpbFl"
      },
      "source": [
        "LSTM층은 셀상태라는 변수가 추가적으로 공유되는 특징이 있습니다 -> LSTM의 셀 상태가 다음 층으로 전달되면서 기존의 상태를 보존하므로 장기의존성 문제를 해결할 수 있습니다. "
      ]
    },
    {
      "cell_type": "markdown",
      "metadata": {
        "id": "yjn1-5qip23d"
      },
      "source": [
        "LSTM의 핵심은 이전 단계 정보를 메모리셀에 저장하여 다음 단계로 전달하는 것 입니다. 즉, LSTM은 현재 시점의 정보를 바탕으로 과거 내용을 얼마나 잊을지 또는 기억할지 등을 계산하고, 그 결과에 현재 정보를 추가해서 다음 시점으로 정보를 전달합니다."
      ]
    },
    {
      "cell_type": "markdown",
      "metadata": {
        "id": "zmSCxiQ4DeZ1"
      },
      "source": [
        "LSTM셀 : 메모리셀과 은닉층셀 존재\n",
        "\n",
        "잊는 메커니즘(forget gate) : 과거의 정보를 얼마나 잊을지(기억할지)결정하는 게이트이며, 현 시점의 데이터 와 과거의 은닉층 값을 각각 가중치에 맞게 곱한후 그 2개의 값을 더하고 시그모이드 함수에 적용하는 과정입니다. 여기서 만일 시그모이드 함수의 값이 1에 가깝다면 과거의 정보를 많이 활용한다는 의미이고, 시그모이드값이 0에 가깝다면 과거의 정보를 많이 잃게 되는 원리입니다. 그 후 이 값과 이전의 메모리 셀에서의 값을 곱하게 됩니다.\n",
        "\n",
        "새로운 정보 추가 방법(input gate) : 입력값과 이전의 은닉층값에 각각의 가중치를 곱하고 이를 더한결과를 시그모이드 함수에 적용합니다. 또한 입력값과 이전 은닉층값에 각각 서로 다른 가중치를 또 곱한후 활성화 함수 tanh함수를 적용하여 현재 시점의 새로운 정보를 생성합니다. 즉 시그모이드함수, 활성화 함수 tanh의 값을 곱한후 이전의 메모리셀에 있던 값을 더합니다. -> 즉, 과거의 정보를 forget gate에서 계산됨 만큼 잊고 현 시점의 정보값에 입력 게이트의 중요도만큼 곱해준 것을 더해서 현재 시점기준의 memory cell값을 계산합니다.\n",
        "\n",
        "출력의 경우(output gate) : 입력값이 은닉층셀에서 시그모이드함수를 통해 메모리 셀에서 출력값이 tanh활성화 함수를 통해 서로 곱해짐 이 값이 출력이 되고 가중치와 절편은 은닉층셀에 존재 그 후 다음 은닉층 셀로 이동"
      ]
    },
    {
      "cell_type": "markdown",
      "metadata": {
        "id": "naU7V_31e4F2"
      },
      "source": [
        "GRU: LSTM과 구조는 비슷하지만 더 간단한 구조 ->연산량 감소 + 계산상 이점이 있다\n",
        "\n",
        "LSTM 구조의 cell state의 역할-> GRU 계층 출력 값 H 수행\n",
        "\n",
        "LSTM 구조의 활성화 함수 시그모이드 3개, tanh함수 2개(5개) -> GRU 구조의 활성화 함수 시그모이드 2개 tanh함수 1개(3개) -> 연산량 감소\n",
        "\n"
      ]
    },
    {
      "cell_type": "markdown",
      "metadata": {
        "id": "yOoXPEiu403X"
      },
      "source": [
        "GRU의 reset gate : 과거의 정보를 얼마나 잊을지(기억할지) 결정\n",
        "\n",
        "입력데이터와 과거의 은닉층 값에 각각의 가중치를 곱하고 더한 값을 시그모이드 함수 적용\n",
        "\n",
        "\n",
        "\n"
      ]
    },
    {
      "cell_type": "markdown",
      "metadata": {
        "id": "uDOClRoG5Sv9"
      },
      "source": [
        "GRU의 update gate : LSTM의 input, forget gate를 합쳐놓은 개념이라고 볼수 있다. 이는 과거와 현재의 정보가운데 어떤 정보를 더 많이 업데이트 할지를 결정하는 게이트 이다. 현재의 값에 가중치를 곱한후 시그모이드 함수를 적용한후 가져가야할 양의 데이터와 버릴양의 데이터를 구분한다"
      ]
    },
    {
      "cell_type": "markdown",
      "metadata": {
        "id": "YQulUZVsBUX9"
      },
      "source": [
        "GRU의 Candidate(데이터 선정) : 과거의 출력값과 입력값을 시그모이드 함수 적용한 값과의 완전연결상태에서 곱 연산을 한 후, 입력값과의 tanh함수를 통해 새로운 데이터를 선정"
      ]
    },
    {
      "cell_type": "markdown",
      "metadata": {
        "id": "-UpTsCr9HkH7"
      },
      "source": [
        "GRU의 Output : 현재 시점의 데이터중 얼마나 챙길것인지, 얼마나 잊을것인지를 결정하는 부분입니다. 데이터 선정단계에서 챙겨갈 데이터값 + 챙기지 않을 데이터값 곱하기 이전의 출력값을 해주면 최종 GRU층의 출력값이 된다"
      ]
    },
    {
      "cell_type": "markdown",
      "metadata": {
        "id": "AqBWteVf-eh2"
      },
      "source": [
        "LSTM 신경망 훈련하기"
      ]
    },
    {
      "cell_type": "code",
      "metadata": {
        "colab": {
          "base_uri": "https://localhost:8080/"
        },
        "id": "pnMVKr-B-f0W",
        "outputId": "64d1a87e-9b57-47cf-8ac9-e67c27e672e1"
      },
      "source": [
        "from tensorflow.keras.datasets import imdb\n",
        "from sklearn.model_selection import train_test_split\n",
        "\n",
        "(train_input, train_target), (test_input, test_target) = imdb.load_data(\n",
        "    num_words=500)\n",
        "#500의 단어만 사용\n",
        "\n",
        "train_input, val_input, train_target, val_target = train_test_split(\n",
        "    train_input, train_target, test_size=0.2, random_state=42)\n",
        "#검증데이터 생성"
      ],
      "execution_count": null,
      "outputs": [
        {
          "output_type": "stream",
          "text": [
            "Downloading data from https://storage.googleapis.com/tensorflow/tf-keras-datasets/imdb.npz\n",
            "17465344/17464789 [==============================] - 0s 0us/step\n"
          ],
          "name": "stdout"
        },
        {
          "output_type": "stream",
          "text": [
            "<string>:6: VisibleDeprecationWarning: Creating an ndarray from ragged nested sequences (which is a list-or-tuple of lists-or-tuples-or ndarrays with different lengths or shapes) is deprecated. If you meant to do this, you must specify 'dtype=object' when creating the ndarray\n",
            "/usr/local/lib/python3.7/dist-packages/tensorflow/python/keras/datasets/imdb.py:155: VisibleDeprecationWarning: Creating an ndarray from ragged nested sequences (which is a list-or-tuple of lists-or-tuples-or ndarrays with different lengths or shapes) is deprecated. If you meant to do this, you must specify 'dtype=object' when creating the ndarray\n",
            "  x_train, y_train = np.array(xs[:idx]), np.array(labels[:idx])\n",
            "/usr/local/lib/python3.7/dist-packages/tensorflow/python/keras/datasets/imdb.py:156: VisibleDeprecationWarning: Creating an ndarray from ragged nested sequences (which is a list-or-tuple of lists-or-tuples-or ndarrays with different lengths or shapes) is deprecated. If you meant to do this, you must specify 'dtype=object' when creating the ndarray\n",
            "  x_test, y_test = np.array(xs[idx:]), np.array(labels[idx:])\n"
          ],
          "name": "stderr"
        }
      ]
    },
    {
      "cell_type": "code",
      "metadata": {
        "id": "w_Z38cJu-g6V"
      },
      "source": [
        "from tensorflow.keras.preprocessing.sequence import pad_sequences\n",
        "#시퀸스 패딩: 모델훈련시 사용하는 단어의 길이를 통일시켜중\n",
        "train_seq = pad_sequences(train_input, maxlen=100)\n",
        "val_seq = pad_sequences(val_input, maxlen=100)\n",
        "#단어의 개수가 100보다 작으면 0으로 채우고 100보다 크면 잘라냄(앞에서부터)"
      ],
      "execution_count": null,
      "outputs": []
    },
    {
      "cell_type": "markdown",
      "metadata": {
        "id": "ji4FdKTCmvU7"
      },
      "source": [
        "LSTM 신경망"
      ]
    },
    {
      "cell_type": "code",
      "metadata": {
        "colab": {
          "base_uri": "https://localhost:8080/"
        },
        "id": "mIUfnTvn-iAY",
        "outputId": "f0d4c17f-e1ca-4dab-8625-6841777be331"
      },
      "source": [
        "from tensorflow import keras\n",
        "\n",
        "model = keras.Sequential()\n",
        "\n",
        "model.add(keras.layers.Embedding(500, 16, input_length=100))\n",
        "#500개어휘사전, 16개 출력차원, 토큰의 수 100개\n",
        "model.add(keras.layers.LSTM(8))\n",
        "#LSTM의 뉴런의 개수 8개\n",
        "model.add(keras.layers.Dense(1, activation='sigmoid'))\n",
        "#이진분류(시그모이드 함수)\n",
        "\n",
        "model.summary()\n",
        "#LSTM()가중치: (16X8 + 8X8 + 8)X4"
      ],
      "execution_count": null,
      "outputs": [
        {
          "output_type": "stream",
          "text": [
            "Model: \"sequential\"\n",
            "_________________________________________________________________\n",
            "Layer (type)                 Output Shape              Param #   \n",
            "=================================================================\n",
            "embedding (Embedding)        (None, 100, 16)           8000      \n",
            "_________________________________________________________________\n",
            "lstm (LSTM)                  (None, 8)                 800       \n",
            "_________________________________________________________________\n",
            "dense (Dense)                (None, 1)                 9         \n",
            "=================================================================\n",
            "Total params: 8,809\n",
            "Trainable params: 8,809\n",
            "Non-trainable params: 0\n",
            "_________________________________________________________________\n"
          ],
          "name": "stdout"
        }
      ]
    },
    {
      "cell_type": "code",
      "metadata": {
        "colab": {
          "base_uri": "https://localhost:8080/"
        },
        "id": "acDAh8UE-jTD",
        "outputId": "ccb4c1fa-5ff5-461e-9280-6a3b188ffdeb"
      },
      "source": [
        "rmsprop = keras.optimizers.RMSprop(learning_rate=1e-4)\n",
        "#학습률 : 0.0001\n",
        "model.compile(optimizer=rmsprop, loss='binary_crossentropy', \n",
        "              metrics=['accuracy'])\n",
        "#옵티마이저: rmsprop, 손실값: 이진분류->'binary_crossentropy', 정확도 추가\n",
        "checkpoint_cb = keras.callbacks.ModelCheckpoint('best-lstm-model.h5')\n",
        "#콜백\n",
        "early_stopping_cb = keras.callbacks.EarlyStopping(patience=3,\n",
        "                                                  restore_best_weights=True)\n",
        "#patience 3번, 최고값 저장\n",
        "history = model.fit(train_seq, train_target, epochs=100, batch_size=64,\n",
        "                    validation_data=(val_seq, val_target),\n",
        "                    callbacks=[checkpoint_cb, early_stopping_cb])\n",
        "#반복: 100, 미니배치크기:64, 검증세트, 체크포인트와 조기종료 추가\n",
        "#훈련세트에서의 정확도: 0.82 검증세트에서의 정확도: 0.80"
      ],
      "execution_count": null,
      "outputs": [
        {
          "output_type": "stream",
          "text": [
            "Epoch 1/100\n",
            "313/313 [==============================] - 15s 40ms/step - loss: 0.6923 - accuracy: 0.5471 - val_loss: 0.6913 - val_accuracy: 0.5994\n",
            "Epoch 2/100\n",
            "313/313 [==============================] - 12s 38ms/step - loss: 0.6896 - accuracy: 0.6163 - val_loss: 0.6873 - val_accuracy: 0.6384\n",
            "Epoch 3/100\n",
            "313/313 [==============================] - 12s 39ms/step - loss: 0.6804 - accuracy: 0.6536 - val_loss: 0.6656 - val_accuracy: 0.6746\n",
            "Epoch 4/100\n",
            "313/313 [==============================] - 12s 38ms/step - loss: 0.6326 - accuracy: 0.7070 - val_loss: 0.6062 - val_accuracy: 0.7222\n",
            "Epoch 5/100\n",
            "313/313 [==============================] - 12s 37ms/step - loss: 0.5971 - accuracy: 0.7234 - val_loss: 0.5860 - val_accuracy: 0.7356\n",
            "Epoch 6/100\n",
            "313/313 [==============================] - 12s 38ms/step - loss: 0.5757 - accuracy: 0.7419 - val_loss: 0.5703 - val_accuracy: 0.7426\n",
            "Epoch 7/100\n",
            "313/313 [==============================] - 12s 39ms/step - loss: 0.5570 - accuracy: 0.7534 - val_loss: 0.5521 - val_accuracy: 0.7526\n",
            "Epoch 8/100\n",
            "313/313 [==============================] - 12s 39ms/step - loss: 0.5392 - accuracy: 0.7648 - val_loss: 0.5367 - val_accuracy: 0.7648\n",
            "Epoch 9/100\n",
            "313/313 [==============================] - 12s 39ms/step - loss: 0.5221 - accuracy: 0.7713 - val_loss: 0.5235 - val_accuracy: 0.7616\n",
            "Epoch 10/100\n",
            "313/313 [==============================] - 12s 39ms/step - loss: 0.5063 - accuracy: 0.7807 - val_loss: 0.5076 - val_accuracy: 0.7746\n",
            "Epoch 11/100\n",
            "313/313 [==============================] - 12s 38ms/step - loss: 0.4911 - accuracy: 0.7850 - val_loss: 0.4934 - val_accuracy: 0.7780\n",
            "Epoch 12/100\n",
            "313/313 [==============================] - 12s 39ms/step - loss: 0.4775 - accuracy: 0.7918 - val_loss: 0.4843 - val_accuracy: 0.7796\n",
            "Epoch 13/100\n",
            "313/313 [==============================] - 12s 39ms/step - loss: 0.4661 - accuracy: 0.7966 - val_loss: 0.4724 - val_accuracy: 0.7830\n",
            "Epoch 14/100\n",
            "313/313 [==============================] - 12s 39ms/step - loss: 0.4561 - accuracy: 0.8002 - val_loss: 0.4636 - val_accuracy: 0.7882\n",
            "Epoch 15/100\n",
            "313/313 [==============================] - 12s 39ms/step - loss: 0.4484 - accuracy: 0.8030 - val_loss: 0.4569 - val_accuracy: 0.7928\n",
            "Epoch 16/100\n",
            "313/313 [==============================] - 12s 39ms/step - loss: 0.4422 - accuracy: 0.8039 - val_loss: 0.4520 - val_accuracy: 0.7960\n",
            "Epoch 17/100\n",
            "313/313 [==============================] - 12s 38ms/step - loss: 0.4372 - accuracy: 0.8064 - val_loss: 0.4485 - val_accuracy: 0.7982\n",
            "Epoch 18/100\n",
            "313/313 [==============================] - 12s 39ms/step - loss: 0.4329 - accuracy: 0.8066 - val_loss: 0.4469 - val_accuracy: 0.7966\n",
            "Epoch 19/100\n",
            "313/313 [==============================] - 12s 38ms/step - loss: 0.4292 - accuracy: 0.8080 - val_loss: 0.4425 - val_accuracy: 0.7988\n",
            "Epoch 20/100\n",
            "313/313 [==============================] - 12s 38ms/step - loss: 0.4261 - accuracy: 0.8087 - val_loss: 0.4409 - val_accuracy: 0.7996\n",
            "Epoch 21/100\n",
            "313/313 [==============================] - 12s 39ms/step - loss: 0.4228 - accuracy: 0.8098 - val_loss: 0.4447 - val_accuracy: 0.8012\n",
            "Epoch 22/100\n",
            "313/313 [==============================] - 12s 38ms/step - loss: 0.4206 - accuracy: 0.8112 - val_loss: 0.4386 - val_accuracy: 0.7976\n",
            "Epoch 23/100\n",
            "313/313 [==============================] - 12s 39ms/step - loss: 0.4185 - accuracy: 0.8109 - val_loss: 0.4386 - val_accuracy: 0.8014\n",
            "Epoch 24/100\n",
            "313/313 [==============================] - 12s 39ms/step - loss: 0.4163 - accuracy: 0.8126 - val_loss: 0.4385 - val_accuracy: 0.7940\n",
            "Epoch 25/100\n",
            "313/313 [==============================] - 12s 39ms/step - loss: 0.4151 - accuracy: 0.8140 - val_loss: 0.4355 - val_accuracy: 0.8024\n",
            "Epoch 26/100\n",
            "313/313 [==============================] - 12s 39ms/step - loss: 0.4137 - accuracy: 0.8130 - val_loss: 0.4343 - val_accuracy: 0.8016\n",
            "Epoch 27/100\n",
            "313/313 [==============================] - 12s 39ms/step - loss: 0.4118 - accuracy: 0.8141 - val_loss: 0.4348 - val_accuracy: 0.8016\n",
            "Epoch 28/100\n",
            "313/313 [==============================] - 12s 40ms/step - loss: 0.4110 - accuracy: 0.8134 - val_loss: 0.4340 - val_accuracy: 0.8030\n",
            "Epoch 29/100\n",
            "313/313 [==============================] - 12s 39ms/step - loss: 0.4096 - accuracy: 0.8144 - val_loss: 0.4335 - val_accuracy: 0.8014\n",
            "Epoch 30/100\n",
            "313/313 [==============================] - 12s 39ms/step - loss: 0.4088 - accuracy: 0.8152 - val_loss: 0.4328 - val_accuracy: 0.7986\n",
            "Epoch 31/100\n",
            "313/313 [==============================] - 12s 40ms/step - loss: 0.4078 - accuracy: 0.8163 - val_loss: 0.4371 - val_accuracy: 0.8022\n",
            "Epoch 32/100\n",
            "313/313 [==============================] - 12s 39ms/step - loss: 0.4071 - accuracy: 0.8160 - val_loss: 0.4323 - val_accuracy: 0.8016\n",
            "Epoch 33/100\n",
            "313/313 [==============================] - 12s 40ms/step - loss: 0.4061 - accuracy: 0.8166 - val_loss: 0.4313 - val_accuracy: 0.8014\n",
            "Epoch 34/100\n",
            "313/313 [==============================] - 12s 38ms/step - loss: 0.4052 - accuracy: 0.8171 - val_loss: 0.4310 - val_accuracy: 0.8010\n",
            "Epoch 35/100\n",
            "313/313 [==============================] - 12s 39ms/step - loss: 0.4047 - accuracy: 0.8170 - val_loss: 0.4333 - val_accuracy: 0.8030\n",
            "Epoch 36/100\n",
            "313/313 [==============================] - 13s 40ms/step - loss: 0.4041 - accuracy: 0.8160 - val_loss: 0.4306 - val_accuracy: 0.8012\n",
            "Epoch 37/100\n",
            "313/313 [==============================] - 12s 39ms/step - loss: 0.4030 - accuracy: 0.8182 - val_loss: 0.4316 - val_accuracy: 0.8052\n",
            "Epoch 38/100\n",
            "313/313 [==============================] - 12s 39ms/step - loss: 0.4024 - accuracy: 0.8183 - val_loss: 0.4304 - val_accuracy: 0.8036\n",
            "Epoch 39/100\n",
            "313/313 [==============================] - 12s 38ms/step - loss: 0.4021 - accuracy: 0.8171 - val_loss: 0.4299 - val_accuracy: 0.8018\n",
            "Epoch 40/100\n",
            "313/313 [==============================] - 12s 38ms/step - loss: 0.4012 - accuracy: 0.8170 - val_loss: 0.4343 - val_accuracy: 0.8032\n",
            "Epoch 41/100\n",
            "313/313 [==============================] - 12s 39ms/step - loss: 0.4006 - accuracy: 0.8182 - val_loss: 0.4293 - val_accuracy: 0.8042\n",
            "Epoch 42/100\n",
            "313/313 [==============================] - 12s 39ms/step - loss: 0.4004 - accuracy: 0.8183 - val_loss: 0.4298 - val_accuracy: 0.8032\n",
            "Epoch 43/100\n",
            "313/313 [==============================] - 12s 40ms/step - loss: 0.3999 - accuracy: 0.8196 - val_loss: 0.4291 - val_accuracy: 0.8022\n",
            "Epoch 44/100\n",
            "313/313 [==============================] - 12s 38ms/step - loss: 0.3993 - accuracy: 0.8196 - val_loss: 0.4299 - val_accuracy: 0.8048\n",
            "Epoch 45/100\n",
            "313/313 [==============================] - 12s 38ms/step - loss: 0.3986 - accuracy: 0.8184 - val_loss: 0.4313 - val_accuracy: 0.7974\n",
            "Epoch 46/100\n",
            "313/313 [==============================] - 12s 39ms/step - loss: 0.3983 - accuracy: 0.8215 - val_loss: 0.4292 - val_accuracy: 0.8044\n"
          ],
          "name": "stdout"
        }
      ]
    },
    {
      "cell_type": "code",
      "metadata": {
        "id": "tqYDv-hK-kQT",
        "colab": {
          "base_uri": "https://localhost:8080/",
          "height": 279
        },
        "outputId": "9661ebdc-9e6c-4049-b6d0-877be0f6a2c6"
      },
      "source": [
        "import matplotlib.pyplot as plt\n",
        "\n",
        "plt.plot(history.history['loss'])\n",
        "plt.plot(history.history['val_loss'])\n",
        "plt.xlabel('epoch')\n",
        "plt.ylabel('loss')\n",
        "plt.legend(['train', 'val'])\n",
        "plt.show()\n",
        "#simple_rnn보다 검증세트에서의 loss값이 감소함\n",
        "#뿐만 아니라 훈련세트와 검증세트의 loss값 차이가 줄어듬"
      ],
      "execution_count": null,
      "outputs": [
        {
          "output_type": "display_data",
          "data": {
            "image/png": "[encoded data removed]",
            "text/plain": [
              "<Figure size 432x288 with 1 Axes>"
            ]
          },
          "metadata": {
            "tags": [],
            "needs_background": "light"
          }
        }
      ]
    },
    {
      "cell_type": "markdown",
      "metadata": {
        "id": "-PF1meO2-nOl"
      },
      "source": [
        "순환 층에 드롭아웃 적용하기"
      ]
    },
    {
      "cell_type": "code",
      "metadata": {
        "id": "TH_5ye3D-oOW"
      },
      "source": [
        "model2 = keras.Sequential()\n",
        "\n",
        "model2.add(keras.layers.Embedding(500, 16, input_length=100))\n",
        "model2.add(keras.layers.LSTM(8, dropout=0.3))\n",
        "#은닉상태에 드롭아웃 비율을 지정 30%끔\n",
        "model2.add(keras.layers.Dense(1, activation='sigmoid'))"
      ],
      "execution_count": null,
      "outputs": []
    },
    {
      "cell_type": "code",
      "metadata": {
        "id": "kq4GXepv-pqP",
        "colab": {
          "base_uri": "https://localhost:8080/"
        },
        "outputId": "aff874b8-12a7-4e45-9045-b48f5349259a"
      },
      "source": [
        "rmsprop = keras.optimizers.RMSprop(learning_rate=1e-4)\n",
        "model2.compile(optimizer=rmsprop, loss='binary_crossentropy', \n",
        "               metrics=['accuracy'])\n",
        "\n",
        "checkpoint_cb = keras.callbacks.ModelCheckpoint('best-dropout-model.h5')\n",
        "early_stopping_cb = keras.callbacks.EarlyStopping(patience=3,\n",
        "                                                  restore_best_weights=True)\n",
        "\n",
        "history = model2.fit(train_seq, train_target, epochs=100, batch_size=64,\n",
        "                     validation_data=(val_seq, val_target),\n",
        "                     callbacks=[checkpoint_cb, early_stopping_cb])"
      ],
      "execution_count": null,
      "outputs": [
        {
          "output_type": "stream",
          "text": [
            "Epoch 1/100\n",
            "313/313 [==============================] - 17s 45ms/step - loss: 0.6928 - accuracy: 0.5367 - val_loss: 0.6924 - val_accuracy: 0.5802\n",
            "Epoch 2/100\n",
            "313/313 [==============================] - 13s 41ms/step - loss: 0.6919 - accuracy: 0.5862 - val_loss: 0.6910 - val_accuracy: 0.6132\n",
            "Epoch 3/100\n",
            "313/313 [==============================] - 13s 41ms/step - loss: 0.6891 - accuracy: 0.6291 - val_loss: 0.6865 - val_accuracy: 0.6522\n",
            "Epoch 4/100\n",
            "313/313 [==============================] - 13s 41ms/step - loss: 0.6769 - accuracy: 0.6684 - val_loss: 0.6597 - val_accuracy: 0.6728\n",
            "Epoch 5/100\n",
            "313/313 [==============================] - 13s 40ms/step - loss: 0.6297 - accuracy: 0.6983 - val_loss: 0.6134 - val_accuracy: 0.7068\n",
            "Epoch 6/100\n",
            "313/313 [==============================] - 13s 41ms/step - loss: 0.6024 - accuracy: 0.7120 - val_loss: 0.5986 - val_accuracy: 0.7100\n",
            "Epoch 7/100\n",
            "313/313 [==============================] - 12s 40ms/step - loss: 0.5864 - accuracy: 0.7236 - val_loss: 0.5810 - val_accuracy: 0.7304\n",
            "Epoch 8/100\n",
            "313/313 [==============================] - 12s 40ms/step - loss: 0.5693 - accuracy: 0.7379 - val_loss: 0.5630 - val_accuracy: 0.7378\n",
            "Epoch 9/100\n",
            "313/313 [==============================] - 13s 41ms/step - loss: 0.5538 - accuracy: 0.7462 - val_loss: 0.5460 - val_accuracy: 0.7544\n",
            "Epoch 10/100\n",
            "313/313 [==============================] - 13s 41ms/step - loss: 0.5378 - accuracy: 0.7530 - val_loss: 0.5299 - val_accuracy: 0.7586\n",
            "Epoch 11/100\n",
            "313/313 [==============================] - 13s 41ms/step - loss: 0.5216 - accuracy: 0.7659 - val_loss: 0.5154 - val_accuracy: 0.7650\n",
            "Epoch 12/100\n",
            "313/313 [==============================] - 13s 41ms/step - loss: 0.5078 - accuracy: 0.7689 - val_loss: 0.5013 - val_accuracy: 0.7730\n",
            "Epoch 13/100\n",
            "313/313 [==============================] - 13s 40ms/step - loss: 0.4947 - accuracy: 0.7767 - val_loss: 0.4899 - val_accuracy: 0.7790\n",
            "Epoch 14/100\n",
            "313/313 [==============================] - 13s 40ms/step - loss: 0.4809 - accuracy: 0.7864 - val_loss: 0.4783 - val_accuracy: 0.7828\n",
            "Epoch 15/100\n",
            "313/313 [==============================] - 13s 42ms/step - loss: 0.4719 - accuracy: 0.7880 - val_loss: 0.4690 - val_accuracy: 0.7864\n",
            "Epoch 16/100\n",
            "313/313 [==============================] - 13s 41ms/step - loss: 0.4625 - accuracy: 0.7934 - val_loss: 0.4617 - val_accuracy: 0.7900\n",
            "Epoch 17/100\n",
            "313/313 [==============================] - 12s 40ms/step - loss: 0.4549 - accuracy: 0.7964 - val_loss: 0.4570 - val_accuracy: 0.7940\n",
            "Epoch 18/100\n",
            "313/313 [==============================] - 13s 41ms/step - loss: 0.4483 - accuracy: 0.7974 - val_loss: 0.4504 - val_accuracy: 0.7972\n",
            "Epoch 19/100\n",
            "313/313 [==============================] - 13s 40ms/step - loss: 0.4437 - accuracy: 0.7996 - val_loss: 0.4465 - val_accuracy: 0.7972\n",
            "Epoch 20/100\n",
            "313/313 [==============================] - 13s 41ms/step - loss: 0.4380 - accuracy: 0.8018 - val_loss: 0.4437 - val_accuracy: 0.7994\n",
            "Epoch 21/100\n",
            "313/313 [==============================] - 13s 40ms/step - loss: 0.4350 - accuracy: 0.8030 - val_loss: 0.4410 - val_accuracy: 0.7966\n",
            "Epoch 22/100\n",
            "313/313 [==============================] - 13s 41ms/step - loss: 0.4328 - accuracy: 0.8059 - val_loss: 0.4396 - val_accuracy: 0.7990\n",
            "Epoch 23/100\n",
            "313/313 [==============================] - 13s 41ms/step - loss: 0.4302 - accuracy: 0.8033 - val_loss: 0.4371 - val_accuracy: 0.8010\n",
            "Epoch 24/100\n",
            "313/313 [==============================] - 13s 40ms/step - loss: 0.4269 - accuracy: 0.8051 - val_loss: 0.4353 - val_accuracy: 0.7974\n",
            "Epoch 25/100\n",
            "313/313 [==============================] - 13s 40ms/step - loss: 0.4248 - accuracy: 0.8062 - val_loss: 0.4338 - val_accuracy: 0.8024\n",
            "Epoch 26/100\n",
            "313/313 [==============================] - 13s 41ms/step - loss: 0.4240 - accuracy: 0.8057 - val_loss: 0.4358 - val_accuracy: 0.8024\n",
            "Epoch 27/100\n",
            "313/313 [==============================] - 13s 41ms/step - loss: 0.4229 - accuracy: 0.8068 - val_loss: 0.4318 - val_accuracy: 0.8010\n",
            "Epoch 28/100\n",
            "313/313 [==============================] - 13s 41ms/step - loss: 0.4200 - accuracy: 0.8087 - val_loss: 0.4320 - val_accuracy: 0.8024\n",
            "Epoch 29/100\n",
            "313/313 [==============================] - 12s 40ms/step - loss: 0.4182 - accuracy: 0.8095 - val_loss: 0.4318 - val_accuracy: 0.7976\n",
            "Epoch 30/100\n",
            "313/313 [==============================] - 12s 40ms/step - loss: 0.4184 - accuracy: 0.8066 - val_loss: 0.4302 - val_accuracy: 0.7972\n",
            "Epoch 31/100\n",
            "313/313 [==============================] - 13s 41ms/step - loss: 0.4163 - accuracy: 0.8109 - val_loss: 0.4307 - val_accuracy: 0.8028\n",
            "Epoch 32/100\n",
            "313/313 [==============================] - 13s 41ms/step - loss: 0.4157 - accuracy: 0.8093 - val_loss: 0.4302 - val_accuracy: 0.7976\n",
            "Epoch 33/100\n",
            "313/313 [==============================] - 13s 41ms/step - loss: 0.4171 - accuracy: 0.8087 - val_loss: 0.4300 - val_accuracy: 0.7996\n",
            "Epoch 34/100\n",
            "313/313 [==============================] - 13s 41ms/step - loss: 0.4149 - accuracy: 0.8083 - val_loss: 0.4291 - val_accuracy: 0.8000\n",
            "Epoch 35/100\n",
            "313/313 [==============================] - 12s 40ms/step - loss: 0.4151 - accuracy: 0.8084 - val_loss: 0.4295 - val_accuracy: 0.7978\n",
            "Epoch 36/100\n",
            "313/313 [==============================] - 12s 40ms/step - loss: 0.4149 - accuracy: 0.8108 - val_loss: 0.4290 - val_accuracy: 0.8028\n",
            "Epoch 37/100\n",
            "313/313 [==============================] - 13s 41ms/step - loss: 0.4125 - accuracy: 0.8102 - val_loss: 0.4289 - val_accuracy: 0.8002\n",
            "Epoch 38/100\n",
            "313/313 [==============================] - 13s 41ms/step - loss: 0.4137 - accuracy: 0.8098 - val_loss: 0.4289 - val_accuracy: 0.7976\n",
            "Epoch 39/100\n",
            "313/313 [==============================] - 13s 43ms/step - loss: 0.4120 - accuracy: 0.8119 - val_loss: 0.4291 - val_accuracy: 0.8036\n",
            "Epoch 40/100\n",
            "313/313 [==============================] - 13s 43ms/step - loss: 0.4119 - accuracy: 0.8108 - val_loss: 0.4282 - val_accuracy: 0.8020\n",
            "Epoch 41/100\n",
            "313/313 [==============================] - 13s 43ms/step - loss: 0.4095 - accuracy: 0.8123 - val_loss: 0.4285 - val_accuracy: 0.8014\n",
            "Epoch 42/100\n",
            "313/313 [==============================] - 13s 41ms/step - loss: 0.4118 - accuracy: 0.8090 - val_loss: 0.4283 - val_accuracy: 0.8018\n",
            "Epoch 43/100\n",
            "313/313 [==============================] - 13s 41ms/step - loss: 0.4091 - accuracy: 0.8111 - val_loss: 0.4300 - val_accuracy: 0.8052\n"
          ],
          "name": "stdout"
        }
      ]
    },
    {
      "cell_type": "code",
      "metadata": {
        "id": "kSRYbxqG-rTa",
        "colab": {
          "base_uri": "https://localhost:8080/",
          "height": 279
        },
        "outputId": "4dc149cb-383d-4bed-a6d8-d778446ab5fe"
      },
      "source": [
        "plt.plot(history.history['loss'])\n",
        "plt.plot(history.history['val_loss'])\n",
        "plt.xlabel('epoch')\n",
        "plt.ylabel('loss')\n",
        "plt.legend(['train', 'val'])\n",
        "plt.show()\n",
        "#드롭아웃추가시 훈련세트와 검증세트의 차이도 줄고 성능이 좋아짐"
      ],
      "execution_count": null,
      "outputs": [
        {
          "output_type": "display_data",
          "data": {
            "image/png": "[encoded data removed]",
            "text/plain": [
              "<Figure size 432x288 with 1 Axes>"
            ]
          },
          "metadata": {
            "tags": [],
            "needs_background": "light"
          }
        }
      ]
    },
    {
      "cell_type": "markdown",
      "metadata": {
        "id": "AN1SktG6-scQ"
      },
      "source": [
        "2개의 층을 연결하기"
      ]
    },
    {
      "cell_type": "code",
      "metadata": {
        "id": "5PEka2tO-vA5",
        "colab": {
          "base_uri": "https://localhost:8080/"
        },
        "outputId": "5d1a5281-faaf-49d1-8a93-4920fc167b97"
      },
      "source": [
        "model3 = keras.Sequential()\n",
        "\n",
        "model3.add(keras.layers.Embedding(500, 16, input_length=100))\n",
        "model3.add(keras.layers.LSTM(8, dropout=0.3, return_sequences=True))\n",
        "#return_sequences=True을 지정해야 됨->각 타임스텝의 은닉층에서 은닉상태를 출력해주어야 함\n",
        "model3.add(keras.layers.LSTM(8, dropout=0.3))\n",
        "#마지막 순환층\n",
        "model3.add(keras.layers.Dense(1, activation='sigmoid'))\n",
        "\n",
        "model3.summary()"
      ],
      "execution_count": null,
      "outputs": [
        {
          "output_type": "stream",
          "text": [
            "Model: \"sequential_2\"\n",
            "_________________________________________________________________\n",
            "Layer (type)                 Output Shape              Param #   \n",
            "=================================================================\n",
            "embedding_2 (Embedding)      (None, 100, 16)           8000      \n",
            "_________________________________________________________________\n",
            "lstm_2 (LSTM)                (None, 100, 8)            800       \n",
            "_________________________________________________________________\n",
            "lstm_3 (LSTM)                (None, 8)                 544       \n",
            "_________________________________________________________________\n",
            "dense_2 (Dense)              (None, 1)                 9         \n",
            "=================================================================\n",
            "Total params: 9,353\n",
            "Trainable params: 9,353\n",
            "Non-trainable params: 0\n",
            "_________________________________________________________________\n"
          ],
          "name": "stdout"
        }
      ]
    },
    {
      "cell_type": "code",
      "metadata": {
        "id": "Bc4xrZvg-xaz",
        "colab": {
          "base_uri": "https://localhost:8080/"
        },
        "outputId": "95e5da79-3258-42bf-c005-c6371729fb3c"
      },
      "source": [
        "rmsprop = keras.optimizers.RMSprop(learning_rate=1e-4)\n",
        "model3.compile(optimizer=rmsprop, loss='binary_crossentropy', \n",
        "               metrics=['accuracy'])\n",
        "\n",
        "checkpoint_cb = keras.callbacks.ModelCheckpoint('best-2rnn-model.h5')\n",
        "early_stopping_cb = keras.callbacks.EarlyStopping(patience=3,\n",
        "                                                  restore_best_weights=True)\n",
        "\n",
        "history = model3.fit(train_seq, train_target, epochs=100, batch_size=64,\n",
        "                     validation_data=(val_seq, val_target),\n",
        "                     callbacks=[checkpoint_cb, early_stopping_cb])\n",
        "#2개의 층을 연결했기 때문에 시간이 많이 걸리는 듯"
      ],
      "execution_count": null,
      "outputs": [
        {
          "output_type": "stream",
          "text": [
            "Epoch 1/100\n",
            "313/313 [==============================] - 29s 80ms/step - loss: 0.6927 - accuracy: 0.5363 - val_loss: 0.6924 - val_accuracy: 0.5144\n",
            "Epoch 2/100\n",
            "313/313 [==============================] - 24s 78ms/step - loss: 0.6901 - accuracy: 0.5463 - val_loss: 0.6868 - val_accuracy: 0.5350\n",
            "Epoch 3/100\n",
            "313/313 [==============================] - 24s 77ms/step - loss: 0.6591 - accuracy: 0.5886 - val_loss: 0.6311 - val_accuracy: 0.7002\n",
            "Epoch 4/100\n",
            "313/313 [==============================] - 24s 76ms/step - loss: 0.6105 - accuracy: 0.7168 - val_loss: 0.6103 - val_accuracy: 0.7088\n",
            "Epoch 5/100\n",
            "313/313 [==============================] - 23s 75ms/step - loss: 0.5843 - accuracy: 0.7363 - val_loss: 0.5753 - val_accuracy: 0.7476\n",
            "Epoch 6/100\n",
            "313/313 [==============================] - 24s 76ms/step - loss: 0.5592 - accuracy: 0.7509 - val_loss: 0.5523 - val_accuracy: 0.7408\n",
            "Epoch 7/100\n",
            "313/313 [==============================] - 24s 77ms/step - loss: 0.5405 - accuracy: 0.7520 - val_loss: 0.5282 - val_accuracy: 0.7606\n",
            "Epoch 8/100\n",
            "313/313 [==============================] - 24s 77ms/step - loss: 0.5215 - accuracy: 0.7596 - val_loss: 0.5102 - val_accuracy: 0.7646\n",
            "Epoch 9/100\n",
            "313/313 [==============================] - 24s 77ms/step - loss: 0.5095 - accuracy: 0.7620 - val_loss: 0.4978 - val_accuracy: 0.7746\n",
            "Epoch 10/100\n",
            "313/313 [==============================] - 24s 76ms/step - loss: 0.4960 - accuracy: 0.7721 - val_loss: 0.4867 - val_accuracy: 0.7798\n",
            "Epoch 11/100\n",
            "313/313 [==============================] - 25s 79ms/step - loss: 0.4873 - accuracy: 0.7758 - val_loss: 0.4790 - val_accuracy: 0.7810\n",
            "Epoch 12/100\n",
            "313/313 [==============================] - 25s 81ms/step - loss: 0.4787 - accuracy: 0.7793 - val_loss: 0.4739 - val_accuracy: 0.7826\n",
            "Epoch 13/100\n",
            "313/313 [==============================] - 24s 77ms/step - loss: 0.4709 - accuracy: 0.7854 - val_loss: 0.4712 - val_accuracy: 0.7832\n",
            "Epoch 14/100\n",
            "313/313 [==============================] - 24s 77ms/step - loss: 0.4663 - accuracy: 0.7869 - val_loss: 0.4646 - val_accuracy: 0.7844\n",
            "Epoch 15/100\n",
            "313/313 [==============================] - 24s 78ms/step - loss: 0.4630 - accuracy: 0.7876 - val_loss: 0.4614 - val_accuracy: 0.7856\n",
            "Epoch 16/100\n",
            "313/313 [==============================] - 24s 78ms/step - loss: 0.4613 - accuracy: 0.7891 - val_loss: 0.4589 - val_accuracy: 0.7882\n",
            "Epoch 17/100\n",
            "313/313 [==============================] - 25s 79ms/step - loss: 0.4546 - accuracy: 0.7919 - val_loss: 0.4556 - val_accuracy: 0.7898\n",
            "Epoch 18/100\n",
            "313/313 [==============================] - 24s 76ms/step - loss: 0.4524 - accuracy: 0.7934 - val_loss: 0.4533 - val_accuracy: 0.7912\n",
            "Epoch 19/100\n",
            "313/313 [==============================] - 24s 77ms/step - loss: 0.4489 - accuracy: 0.7944 - val_loss: 0.4527 - val_accuracy: 0.7918\n",
            "Epoch 20/100\n",
            "313/313 [==============================] - 23s 75ms/step - loss: 0.4475 - accuracy: 0.7975 - val_loss: 0.4503 - val_accuracy: 0.7914\n",
            "Epoch 21/100\n",
            "313/313 [==============================] - 24s 77ms/step - loss: 0.4455 - accuracy: 0.7966 - val_loss: 0.4491 - val_accuracy: 0.7924\n",
            "Epoch 22/100\n",
            "313/313 [==============================] - 24s 77ms/step - loss: 0.4435 - accuracy: 0.7983 - val_loss: 0.4481 - val_accuracy: 0.7930\n",
            "Epoch 23/100\n",
            "313/313 [==============================] - 24s 75ms/step - loss: 0.4399 - accuracy: 0.7966 - val_loss: 0.4447 - val_accuracy: 0.7930\n",
            "Epoch 24/100\n",
            "313/313 [==============================] - 24s 76ms/step - loss: 0.4388 - accuracy: 0.8020 - val_loss: 0.4437 - val_accuracy: 0.7938\n",
            "Epoch 25/100\n",
            "313/313 [==============================] - 24s 77ms/step - loss: 0.4376 - accuracy: 0.8012 - val_loss: 0.4427 - val_accuracy: 0.7952\n",
            "Epoch 26/100\n",
            "313/313 [==============================] - 24s 77ms/step - loss: 0.4360 - accuracy: 0.8018 - val_loss: 0.4443 - val_accuracy: 0.7976\n",
            "Epoch 27/100\n",
            "313/313 [==============================] - 25s 79ms/step - loss: 0.4343 - accuracy: 0.8015 - val_loss: 0.4412 - val_accuracy: 0.7934\n",
            "Epoch 28/100\n",
            "313/313 [==============================] - 24s 76ms/step - loss: 0.4314 - accuracy: 0.8035 - val_loss: 0.4405 - val_accuracy: 0.7932\n",
            "Epoch 29/100\n",
            "313/313 [==============================] - 24s 77ms/step - loss: 0.4312 - accuracy: 0.8057 - val_loss: 0.4390 - val_accuracy: 0.7958\n",
            "Epoch 30/100\n",
            "313/313 [==============================] - 25s 78ms/step - loss: 0.4315 - accuracy: 0.8036 - val_loss: 0.4412 - val_accuracy: 0.7964\n",
            "Epoch 31/100\n",
            "313/313 [==============================] - 24s 77ms/step - loss: 0.4304 - accuracy: 0.8027 - val_loss: 0.4391 - val_accuracy: 0.7976\n",
            "Epoch 32/100\n",
            "313/313 [==============================] - 25s 79ms/step - loss: 0.4274 - accuracy: 0.8051 - val_loss: 0.4441 - val_accuracy: 0.7964\n"
          ],
          "name": "stdout"
        }
      ]
    },
    {
      "cell_type": "code",
      "metadata": {
        "id": "K2Ydd0TU-zO6",
        "colab": {
          "base_uri": "https://localhost:8080/",
          "height": 279
        },
        "outputId": "4f582d56-0d78-4dcf-e07d-c98a41ee3a71"
      },
      "source": [
        "plt.plot(history.history['loss'])\n",
        "plt.plot(history.history['val_loss'])\n",
        "plt.xlabel('epoch')\n",
        "plt.ylabel('loss')\n",
        "plt.legend(['train', 'val'])\n",
        "plt.show()\n",
        "#성능 굿\n",
        "#2개의 층 + 드롭아웃"
      ],
      "execution_count": null,
      "outputs": [
        {
          "output_type": "display_data",
          "data": {
            "image/png": "[encoded data removed]",
            "text/plain": [
              "<Figure size 432x288 with 1 Axes>"
            ]
          },
          "metadata": {
            "tags": [],
            "needs_background": "light"
          }
        }
      ]
    },
    {
      "cell_type": "markdown",
      "metadata": {
        "id": "8M5L7ff3-06B"
      },
      "source": [
        "GRU 신경망 훈련하기"
      ]
    },
    {
      "cell_type": "markdown",
      "metadata": {
        "id": "QXJRkYApqjw4"
      },
      "source": [
        "GRU셀 : 셀상태 X + "
      ]
    },
    {
      "cell_type": "code",
      "metadata": {
        "id": "EtzIGOhq-2Ol",
        "colab": {
          "base_uri": "https://localhost:8080/"
        },
        "outputId": "1b720990-0e8b-4fdc-f398-4bde3800b8ed"
      },
      "source": [
        "model4 = keras.Sequential()\n",
        "\n",
        "model4.add(keras.layers.Embedding(500, 16, input_length=100))\n",
        "model4.add(keras.layers.GRU(8))\n",
        "model4.add(keras.layers.Dense(1, activation='sigmoid'))\n",
        "\n",
        "model4.summary()\n",
        "#GRU 가중치: (16X8 + 8X8 +8 +8)X3"
      ],
      "execution_count": null,
      "outputs": [
        {
          "output_type": "stream",
          "text": [
            "Model: \"sequential_3\"\n",
            "_________________________________________________________________\n",
            "Layer (type)                 Output Shape              Param #   \n",
            "=================================================================\n",
            "embedding_3 (Embedding)      (None, 100, 16)           8000      \n",
            "_________________________________________________________________\n",
            "gru (GRU)                    (None, 8)                 624       \n",
            "_________________________________________________________________\n",
            "dense_3 (Dense)              (None, 1)                 9         \n",
            "=================================================================\n",
            "Total params: 8,633\n",
            "Trainable params: 8,633\n",
            "Non-trainable params: 0\n",
            "_________________________________________________________________\n"
          ],
          "name": "stdout"
        }
      ]
    },
    {
      "cell_type": "code",
      "metadata": {
        "id": "VbwAlM7b-3vp",
        "colab": {
          "base_uri": "https://localhost:8080/"
        },
        "outputId": "9649bc9d-8028-4dc1-efe5-dc0186729eff"
      },
      "source": [
        "rmsprop = keras.optimizers.RMSprop(learning_rate=1e-4)\n",
        "model4.compile(optimizer=rmsprop, loss='binary_crossentropy', \n",
        "               metrics=['accuracy'])\n",
        "\n",
        "checkpoint_cb = keras.callbacks.ModelCheckpoint('best-gru-model.h5')\n",
        "early_stopping_cb = keras.callbacks.EarlyStopping(patience=3,\n",
        "                                                  restore_best_weights=True)\n",
        "\n",
        "history = model4.fit(train_seq, train_target, epochs=100, batch_size=64,\n",
        "                     validation_data=(val_seq, val_target),\n",
        "                     callbacks=[checkpoint_cb, early_stopping_cb])\n",
        "#GRU층으로서 연산이 LSTM보다 간단해졌는데 생각보다 시간차이가 크지가 않네...."
      ],
      "execution_count": null,
      "outputs": [
        {
          "output_type": "stream",
          "text": [
            "Epoch 1/100\n",
            "313/313 [==============================] - 16s 44ms/step - loss: 0.6920 - accuracy: 0.5355 - val_loss: 0.6911 - val_accuracy: 0.5516\n",
            "Epoch 2/100\n",
            "313/313 [==============================] - 13s 42ms/step - loss: 0.6890 - accuracy: 0.5892 - val_loss: 0.6879 - val_accuracy: 0.5986\n",
            "Epoch 3/100\n",
            "313/313 [==============================] - 13s 42ms/step - loss: 0.6843 - accuracy: 0.6137 - val_loss: 0.6822 - val_accuracy: 0.6174\n",
            "Epoch 4/100\n",
            "313/313 [==============================] - 13s 42ms/step - loss: 0.6764 - accuracy: 0.6320 - val_loss: 0.6729 - val_accuracy: 0.6290\n",
            "Epoch 5/100\n",
            "313/313 [==============================] - 13s 42ms/step - loss: 0.6632 - accuracy: 0.6460 - val_loss: 0.6569 - val_accuracy: 0.6472\n",
            "Epoch 6/100\n",
            "313/313 [==============================] - 13s 43ms/step - loss: 0.6402 - accuracy: 0.6676 - val_loss: 0.6285 - val_accuracy: 0.6726\n",
            "Epoch 7/100\n",
            "313/313 [==============================] - 13s 42ms/step - loss: 0.5959 - accuracy: 0.6989 - val_loss: 0.5688 - val_accuracy: 0.7164\n",
            "Epoch 8/100\n",
            "313/313 [==============================] - 13s 42ms/step - loss: 0.5229 - accuracy: 0.7471 - val_loss: 0.5122 - val_accuracy: 0.7534\n",
            "Epoch 9/100\n",
            "313/313 [==============================] - 13s 43ms/step - loss: 0.4937 - accuracy: 0.7658 - val_loss: 0.4961 - val_accuracy: 0.7632\n",
            "Epoch 10/100\n",
            "313/313 [==============================] - 13s 42ms/step - loss: 0.4788 - accuracy: 0.7754 - val_loss: 0.4829 - val_accuracy: 0.7718\n",
            "Epoch 11/100\n",
            "313/313 [==============================] - 13s 42ms/step - loss: 0.4678 - accuracy: 0.7832 - val_loss: 0.4743 - val_accuracy: 0.7782\n",
            "Epoch 12/100\n",
            "313/313 [==============================] - 13s 41ms/step - loss: 0.4583 - accuracy: 0.7903 - val_loss: 0.4761 - val_accuracy: 0.7726\n",
            "Epoch 13/100\n",
            "313/313 [==============================] - 13s 41ms/step - loss: 0.4514 - accuracy: 0.7959 - val_loss: 0.4635 - val_accuracy: 0.7886\n",
            "Epoch 14/100\n",
            "313/313 [==============================] - 13s 41ms/step - loss: 0.4451 - accuracy: 0.7988 - val_loss: 0.4620 - val_accuracy: 0.7832\n",
            "Epoch 15/100\n",
            "313/313 [==============================] - 13s 42ms/step - loss: 0.4405 - accuracy: 0.8033 - val_loss: 0.4567 - val_accuracy: 0.7908\n",
            "Epoch 16/100\n",
            "313/313 [==============================] - 13s 41ms/step - loss: 0.4367 - accuracy: 0.8043 - val_loss: 0.4542 - val_accuracy: 0.7916\n",
            "Epoch 17/100\n",
            "313/313 [==============================] - 13s 41ms/step - loss: 0.4334 - accuracy: 0.8062 - val_loss: 0.4565 - val_accuracy: 0.7898\n",
            "Epoch 18/100\n",
            "313/313 [==============================] - 13s 41ms/step - loss: 0.4309 - accuracy: 0.8078 - val_loss: 0.4509 - val_accuracy: 0.7900\n",
            "Epoch 19/100\n",
            "313/313 [==============================] - 13s 42ms/step - loss: 0.4286 - accuracy: 0.8096 - val_loss: 0.4490 - val_accuracy: 0.7928\n",
            "Epoch 20/100\n",
            "313/313 [==============================] - 13s 42ms/step - loss: 0.4265 - accuracy: 0.8106 - val_loss: 0.4493 - val_accuracy: 0.7954\n",
            "Epoch 21/100\n",
            "313/313 [==============================] - 13s 41ms/step - loss: 0.4252 - accuracy: 0.8100 - val_loss: 0.4472 - val_accuracy: 0.7948\n",
            "Epoch 22/100\n",
            "313/313 [==============================] - 13s 42ms/step - loss: 0.4236 - accuracy: 0.8116 - val_loss: 0.4469 - val_accuracy: 0.7940\n",
            "Epoch 23/100\n",
            "313/313 [==============================] - 13s 42ms/step - loss: 0.4224 - accuracy: 0.8135 - val_loss: 0.4471 - val_accuracy: 0.7922\n",
            "Epoch 24/100\n",
            "313/313 [==============================] - 13s 41ms/step - loss: 0.4214 - accuracy: 0.8135 - val_loss: 0.4455 - val_accuracy: 0.7932\n",
            "Epoch 25/100\n",
            "313/313 [==============================] - 13s 42ms/step - loss: 0.4206 - accuracy: 0.8152 - val_loss: 0.4451 - val_accuracy: 0.7940\n",
            "Epoch 26/100\n",
            "313/313 [==============================] - 13s 42ms/step - loss: 0.4196 - accuracy: 0.8148 - val_loss: 0.4553 - val_accuracy: 0.7890\n",
            "Epoch 27/100\n",
            "313/313 [==============================] - 13s 42ms/step - loss: 0.4191 - accuracy: 0.8140 - val_loss: 0.4440 - val_accuracy: 0.7962\n",
            "Epoch 28/100\n",
            "313/313 [==============================] - 13s 43ms/step - loss: 0.4184 - accuracy: 0.8141 - val_loss: 0.4465 - val_accuracy: 0.7952\n",
            "Epoch 29/100\n",
            "313/313 [==============================] - 13s 43ms/step - loss: 0.4182 - accuracy: 0.8148 - val_loss: 0.4438 - val_accuracy: 0.7968\n",
            "Epoch 30/100\n",
            "313/313 [==============================] - 13s 42ms/step - loss: 0.4174 - accuracy: 0.8145 - val_loss: 0.4431 - val_accuracy: 0.7954\n",
            "Epoch 31/100\n",
            "313/313 [==============================] - 13s 42ms/step - loss: 0.4167 - accuracy: 0.8152 - val_loss: 0.4437 - val_accuracy: 0.7950\n",
            "Epoch 32/100\n",
            "313/313 [==============================] - 13s 42ms/step - loss: 0.4164 - accuracy: 0.8154 - val_loss: 0.4459 - val_accuracy: 0.7948\n",
            "Epoch 33/100\n",
            "313/313 [==============================] - 14s 43ms/step - loss: 0.4156 - accuracy: 0.8152 - val_loss: 0.4430 - val_accuracy: 0.7930\n",
            "Epoch 34/100\n",
            "313/313 [==============================] - 14s 43ms/step - loss: 0.4155 - accuracy: 0.8158 - val_loss: 0.4424 - val_accuracy: 0.7962\n",
            "Epoch 35/100\n",
            "313/313 [==============================] - 13s 43ms/step - loss: 0.4153 - accuracy: 0.8158 - val_loss: 0.4421 - val_accuracy: 0.7968\n",
            "Epoch 36/100\n",
            "313/313 [==============================] - 13s 43ms/step - loss: 0.4147 - accuracy: 0.8145 - val_loss: 0.4422 - val_accuracy: 0.7914\n",
            "Epoch 37/100\n",
            "313/313 [==============================] - 13s 43ms/step - loss: 0.4142 - accuracy: 0.8159 - val_loss: 0.4409 - val_accuracy: 0.7958\n",
            "Epoch 38/100\n",
            "313/313 [==============================] - 13s 43ms/step - loss: 0.4142 - accuracy: 0.8164 - val_loss: 0.4413 - val_accuracy: 0.7976\n",
            "Epoch 39/100\n",
            "313/313 [==============================] - 13s 42ms/step - loss: 0.4138 - accuracy: 0.8169 - val_loss: 0.4398 - val_accuracy: 0.7966\n",
            "Epoch 40/100\n",
            "313/313 [==============================] - 13s 42ms/step - loss: 0.4138 - accuracy: 0.8145 - val_loss: 0.4394 - val_accuracy: 0.7964\n",
            "Epoch 41/100\n",
            "313/313 [==============================] - 13s 42ms/step - loss: 0.4135 - accuracy: 0.8146 - val_loss: 0.4395 - val_accuracy: 0.7970\n",
            "Epoch 42/100\n",
            "313/313 [==============================] - 13s 42ms/step - loss: 0.4133 - accuracy: 0.8156 - val_loss: 0.4394 - val_accuracy: 0.7984\n",
            "Epoch 43/100\n",
            "313/313 [==============================] - 13s 42ms/step - loss: 0.4128 - accuracy: 0.8146 - val_loss: 0.4395 - val_accuracy: 0.7962\n",
            "Epoch 44/100\n",
            "313/313 [==============================] - 13s 42ms/step - loss: 0.4126 - accuracy: 0.8159 - val_loss: 0.4396 - val_accuracy: 0.7964\n",
            "Epoch 45/100\n",
            "313/313 [==============================] - 13s 41ms/step - loss: 0.4122 - accuracy: 0.8168 - val_loss: 0.4467 - val_accuracy: 0.7934\n"
          ],
          "name": "stdout"
        }
      ]
    },
    {
      "cell_type": "code",
      "metadata": {
        "id": "4m6Ean8P-5ly",
        "colab": {
          "base_uri": "https://localhost:8080/",
          "height": 279
        },
        "outputId": "3b1c8ef8-1295-4736-9abf-7e542ad05cb5"
      },
      "source": [
        "plt.plot(history.history['loss'])\n",
        "plt.plot(history.history['val_loss'])\n",
        "plt.xlabel('epoch')\n",
        "plt.ylabel('loss')\n",
        "plt.legend(['train', 'val'])\n",
        "plt.show()\n",
        "#계산간단, 메모리상 LSTM보다 좋음"
      ],
      "execution_count": null,
      "outputs": [
        {
          "output_type": "display_data",
          "data": {
            "image/png": "[encoded data removed]",
            "text/plain": [
              "<Figure size 432x288 with 1 Axes>"
            ]
          },
          "metadata": {
            "tags": [],
            "needs_background": "light"
          }
        }
      ]
    },
    {
      "cell_type": "markdown",
      "metadata": {
        "id": "PZXKknM3-7Vy"
      },
      "source": [
        "마무리"
      ]
    },
    {
      "cell_type": "code",
      "metadata": {
        "id": "cA1nrXfz-86D",
        "colab": {
          "base_uri": "https://localhost:8080/"
        },
        "outputId": "4ccf4aca-997f-42c3-9b5d-96a9ab1f4afe"
      },
      "source": [
        "test_seq = pad_sequences(test_input, maxlen=100)\n",
        "\n",
        "rnn_model = keras.models.load_model('best-2rnn-model.h5')\n",
        "# 텐서플로 2.3에서는 버그(https://github.com/tensorflow/tensorflow/issues/42890) 때문에 compile() 메서드를 호출해야 합니다.\n",
        "# rnn_model.compile(optimizer='rmsprop', loss='binary_crossentropy', metrics='accuracy')\n",
        "\n",
        "rnn_model.evaluate(test_seq, test_target)\n",
        "#LSTM 2개 연결 + 드롭아웃"
      ],
      "execution_count": null,
      "outputs": [
        {
          "output_type": "stream",
          "text": [
            "782/782 [==============================] - 11s 13ms/step - loss: 0.4379 - accuracy: 0.7942\n"
          ],
          "name": "stdout"
        },
        {
          "output_type": "execute_result",
          "data": {
            "text/plain": [
              "[0.4378754198551178, 0.7942399978637695]"
            ]
          },
          "metadata": {
            "tags": []
          },
          "execution_count": 15
        }
      ]
    }
  ]
}