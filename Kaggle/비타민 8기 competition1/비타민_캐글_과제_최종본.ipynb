{
  "nbformat": 4,
  "nbformat_minor": 0,
  "metadata": {
    "colab": {
      "name": "비타민 캐글 과제 최종본.ipynb",
      "provenance": [],
      "collapsed_sections": []
    },
    "kernelspec": {
      "name": "python3",
      "display_name": "Python 3"
    },
    "language_info": {
      "name": "python"
    }
  },
  "cells": [
    {
      "cell_type": "code",
      "metadata": {
        "colab": {
          "base_uri": "https://localhost:8080/"
        },
        "id": "3otqd9pvEDKZ",
        "outputId": "3c7bff8f-e976-4ec4-8231-7252452b9742"
      },
      "source": [
        "pip install kaggle --upgrade"
      ],
      "execution_count": null,
      "outputs": [
        {
          "output_type": "stream",
          "name": "stdout",
          "text": [
            "Requirement already satisfied: kaggle in /usr/local/lib/python3.7/dist-packages (1.5.12)\n",
            "Requirement already satisfied: python-slugify in /usr/local/lib/python3.7/dist-packages (from kaggle) (5.0.2)\n",
            "Requirement already satisfied: python-dateutil in /usr/local/lib/python3.7/dist-packages (from kaggle) (2.8.2)\n",
            "Requirement already satisfied: requests in /usr/local/lib/python3.7/dist-packages (from kaggle) (2.23.0)\n",
            "Requirement already satisfied: certifi in /usr/local/lib/python3.7/dist-packages (from kaggle) (2021.10.8)\n",
            "Requirement already satisfied: six>=1.10 in /usr/local/lib/python3.7/dist-packages (from kaggle) (1.15.0)\n",
            "Requirement already satisfied: tqdm in /usr/local/lib/python3.7/dist-packages (from kaggle) (4.62.3)\n",
            "Requirement already satisfied: urllib3 in /usr/local/lib/python3.7/dist-packages (from kaggle) (1.24.3)\n",
            "Requirement already satisfied: text-unidecode>=1.3 in /usr/local/lib/python3.7/dist-packages (from python-slugify->kaggle) (1.3)\n",
            "Requirement already satisfied: chardet<4,>=3.0.2 in /usr/local/lib/python3.7/dist-packages (from requests->kaggle) (3.0.4)\n",
            "Requirement already satisfied: idna<3,>=2.5 in /usr/local/lib/python3.7/dist-packages (from requests->kaggle) (2.10)\n"
          ]
        }
      ]
    },
    {
      "cell_type": "code",
      "metadata": {
        "colab": {
          "base_uri": "https://localhost:8080/"
        },
        "id": "MDfewP34EcwN",
        "outputId": "6297c4eb-4371-4d06-e63f-aceb78345caa"
      },
      "source": [
        "!mkdir -p ~/.kaggle\n",
        "!cp kaggle.json ~/.kaggle/\n",
        "# Permission Warning 이 일어나지 않도록 \n",
        "!chmod 600 ~/.kaggle/kaggle.json"
      ],
      "execution_count": null,
      "outputs": [
        {
          "output_type": "stream",
          "name": "stdout",
          "text": [
            "cp: cannot stat 'kaggle.json': No such file or directory\n",
            "chmod: cannot access '/root/.kaggle/kaggle.json': No such file or directory\n"
          ]
        }
      ]
    },
    {
      "cell_type": "code",
      "metadata": {
        "colab": {
          "base_uri": "https://localhost:8080/"
        },
        "id": "md7pqJBeEfKp",
        "outputId": "458d31fc-1bfe-4380-c868-e1e89c6f96bc"
      },
      "source": [
        "!kaggle competitions download -c b8competition1"
      ],
      "execution_count": null,
      "outputs": [
        {
          "output_type": "stream",
          "name": "stdout",
          "text": [
            "Warning: Looks like you're using an outdated API Version, please consider updating (server 1.5.12 / client 1.5.4)\n",
            "Downloading changingjob_testx.csv to /content\n",
            "  0% 0.00/39.8k [00:00<?, ?B/s]\n",
            "100% 39.8k/39.8k [00:00<00:00, 16.1MB/s]\n",
            "Downloading changingjob_train.csv.zip to /content\n",
            "  0% 0.00/271k [00:00<?, ?B/s]\n",
            "100% 271k/271k [00:00<00:00, 38.5MB/s]\n"
          ]
        }
      ]
    },
    {
      "cell_type": "code",
      "metadata": {
        "id": "X94f1S7tOPbC"
      },
      "source": [
        "import numpy as np\n",
        "import pandas as pd\n",
        "import matplotlib.pyplot as plt\n",
        "import seaborn as sns\n",
        "import warnings\n",
        "from sklearn.preprocessing import LabelEncoder\n",
        "\n",
        "warnings.filterwarnings(action='ignore')"
      ],
      "execution_count": null,
      "outputs": []
    },
    {
      "cell_type": "code",
      "metadata": {
        "id": "Y4gP2HYZOpXl",
        "colab": {
          "base_uri": "https://localhost:8080/",
          "height": 472
        },
        "outputId": "e46fa131-62fd-443c-f211-157f30540f8d"
      },
      "source": [
        "train = pd.read_csv('/content/changingjob_train.csv.zip')\n",
        "train"
      ],
      "execution_count": null,
      "outputs": [
        {
          "output_type": "execute_result",
          "data": {
            "text/html": [
              "<div>\n",
              "<style scoped>\n",
              "    .dataframe tbody tr th:only-of-type {\n",
              "        vertical-align: middle;\n",
              "    }\n",
              "\n",
              "    .dataframe tbody tr th {\n",
              "        vertical-align: top;\n",
              "    }\n",
              "\n",
              "    .dataframe thead th {\n",
              "        text-align: right;\n",
              "    }\n",
              "</style>\n",
              "<table border=\"1\" class=\"dataframe\">\n",
              "  <thead>\n",
              "    <tr style=\"text-align: right;\">\n",
              "      <th></th>\n",
              "      <th>Unnamed: 0</th>\n",
              "      <th>Unnamed: 0.1</th>\n",
              "      <th>city</th>\n",
              "      <th>city_development_Index</th>\n",
              "      <th>gender</th>\n",
              "      <th>relevent_experience</th>\n",
              "      <th>enrolled_university</th>\n",
              "      <th>education_level</th>\n",
              "      <th>major_discipline</th>\n",
              "      <th>experience</th>\n",
              "      <th>company_size</th>\n",
              "      <th>company_type</th>\n",
              "      <th>last_new_job</th>\n",
              "      <th>training_hours</th>\n",
              "      <th>target</th>\n",
              "    </tr>\n",
              "  </thead>\n",
              "  <tbody>\n",
              "    <tr>\n",
              "      <th>0</th>\n",
              "      <td>0</td>\n",
              "      <td>0</td>\n",
              "      <td>city_103</td>\n",
              "      <td>0.920</td>\n",
              "      <td>Male</td>\n",
              "      <td>Has relevent experience</td>\n",
              "      <td>no_enrollment</td>\n",
              "      <td>Graduate</td>\n",
              "      <td>STEM</td>\n",
              "      <td>30</td>\n",
              "      <td>NaN</td>\n",
              "      <td>Other</td>\n",
              "      <td>1</td>\n",
              "      <td>36</td>\n",
              "      <td>1</td>\n",
              "    </tr>\n",
              "    <tr>\n",
              "      <th>1</th>\n",
              "      <td>1</td>\n",
              "      <td>1</td>\n",
              "      <td>city_40</td>\n",
              "      <td>0.776</td>\n",
              "      <td>Male</td>\n",
              "      <td>No relevent experience</td>\n",
              "      <td>no_enrollment</td>\n",
              "      <td>Graduate</td>\n",
              "      <td>STEM</td>\n",
              "      <td>15</td>\n",
              "      <td>3.0</td>\n",
              "      <td>Pvt Ltd</td>\n",
              "      <td>&gt;4</td>\n",
              "      <td>47</td>\n",
              "      <td>0</td>\n",
              "    </tr>\n",
              "    <tr>\n",
              "      <th>2</th>\n",
              "      <td>2</td>\n",
              "      <td>2</td>\n",
              "      <td>city_21</td>\n",
              "      <td>0.624</td>\n",
              "      <td>Other</td>\n",
              "      <td>No relevent experience</td>\n",
              "      <td>Full time course</td>\n",
              "      <td>Graduate</td>\n",
              "      <td>STEM</td>\n",
              "      <td>5</td>\n",
              "      <td>NaN</td>\n",
              "      <td>Other</td>\n",
              "      <td>never</td>\n",
              "      <td>83</td>\n",
              "      <td>0</td>\n",
              "    </tr>\n",
              "    <tr>\n",
              "      <th>3</th>\n",
              "      <td>3</td>\n",
              "      <td>3</td>\n",
              "      <td>city_162</td>\n",
              "      <td>0.767</td>\n",
              "      <td>Male</td>\n",
              "      <td>Has relevent experience</td>\n",
              "      <td>no_enrollment</td>\n",
              "      <td>Masters</td>\n",
              "      <td>STEM</td>\n",
              "      <td>30</td>\n",
              "      <td>3.0</td>\n",
              "      <td>Funded Startup</td>\n",
              "      <td>4</td>\n",
              "      <td>8</td>\n",
              "      <td>0</td>\n",
              "    </tr>\n",
              "    <tr>\n",
              "      <th>4</th>\n",
              "      <td>4</td>\n",
              "      <td>4</td>\n",
              "      <td>city_176</td>\n",
              "      <td>0.764</td>\n",
              "      <td>Other</td>\n",
              "      <td>Has relevent experience</td>\n",
              "      <td>Part time course</td>\n",
              "      <td>Graduate</td>\n",
              "      <td>STEM</td>\n",
              "      <td>11</td>\n",
              "      <td>NaN</td>\n",
              "      <td>Other</td>\n",
              "      <td>1</td>\n",
              "      <td>24</td>\n",
              "      <td>1</td>\n",
              "    </tr>\n",
              "    <tr>\n",
              "      <th>...</th>\n",
              "      <td>...</td>\n",
              "      <td>...</td>\n",
              "      <td>...</td>\n",
              "      <td>...</td>\n",
              "      <td>...</td>\n",
              "      <td>...</td>\n",
              "      <td>...</td>\n",
              "      <td>...</td>\n",
              "      <td>...</td>\n",
              "      <td>...</td>\n",
              "      <td>...</td>\n",
              "      <td>...</td>\n",
              "      <td>...</td>\n",
              "      <td>...</td>\n",
              "      <td>...</td>\n",
              "    </tr>\n",
              "    <tr>\n",
              "      <th>18121</th>\n",
              "      <td>18121</td>\n",
              "      <td>18121</td>\n",
              "      <td>city_103</td>\n",
              "      <td>0.920</td>\n",
              "      <td>Female</td>\n",
              "      <td>No relevent experience</td>\n",
              "      <td>no_enrollment</td>\n",
              "      <td>Phd</td>\n",
              "      <td>STEM</td>\n",
              "      <td>17</td>\n",
              "      <td>4.0</td>\n",
              "      <td>NGO</td>\n",
              "      <td>4</td>\n",
              "      <td>16</td>\n",
              "      <td>0</td>\n",
              "    </tr>\n",
              "    <tr>\n",
              "      <th>18122</th>\n",
              "      <td>18122</td>\n",
              "      <td>18122</td>\n",
              "      <td>city_21</td>\n",
              "      <td>0.624</td>\n",
              "      <td>Other</td>\n",
              "      <td>No relevent experience</td>\n",
              "      <td>Full time course</td>\n",
              "      <td>UH</td>\n",
              "      <td>NaN</td>\n",
              "      <td>9</td>\n",
              "      <td>NaN</td>\n",
              "      <td>Other</td>\n",
              "      <td>1</td>\n",
              "      <td>68</td>\n",
              "      <td>1</td>\n",
              "    </tr>\n",
              "    <tr>\n",
              "      <th>18123</th>\n",
              "      <td>18123</td>\n",
              "      <td>18123</td>\n",
              "      <td>city_103</td>\n",
              "      <td>0.920</td>\n",
              "      <td>Male</td>\n",
              "      <td>Has relevent experience</td>\n",
              "      <td>no_enrollment</td>\n",
              "      <td>Masters</td>\n",
              "      <td>STEM</td>\n",
              "      <td>30</td>\n",
              "      <td>2.0</td>\n",
              "      <td>Pvt Ltd</td>\n",
              "      <td>&gt;4</td>\n",
              "      <td>110</td>\n",
              "      <td>0</td>\n",
              "    </tr>\n",
              "    <tr>\n",
              "      <th>18124</th>\n",
              "      <td>18124</td>\n",
              "      <td>18124</td>\n",
              "      <td>city_75</td>\n",
              "      <td>0.939</td>\n",
              "      <td>Male</td>\n",
              "      <td>Has relevent experience</td>\n",
              "      <td>no_enrollment</td>\n",
              "      <td>Masters</td>\n",
              "      <td>STEM</td>\n",
              "      <td>14</td>\n",
              "      <td>8.0</td>\n",
              "      <td>Pvt Ltd</td>\n",
              "      <td>1</td>\n",
              "      <td>82</td>\n",
              "      <td>0</td>\n",
              "    </tr>\n",
              "    <tr>\n",
              "      <th>18125</th>\n",
              "      <td>18125</td>\n",
              "      <td>18125</td>\n",
              "      <td>city_57</td>\n",
              "      <td>0.866</td>\n",
              "      <td>Male</td>\n",
              "      <td>No relevent experience</td>\n",
              "      <td>no_enrollment</td>\n",
              "      <td>Graduate</td>\n",
              "      <td>STEM</td>\n",
              "      <td>10</td>\n",
              "      <td>NaN</td>\n",
              "      <td>Other</td>\n",
              "      <td>1</td>\n",
              "      <td>50</td>\n",
              "      <td>0</td>\n",
              "    </tr>\n",
              "  </tbody>\n",
              "</table>\n",
              "<p>18126 rows × 15 columns</p>\n",
              "</div>"
            ],
            "text/plain": [
              "       Unnamed: 0  Unnamed: 0.1      city  ...  last_new_job training_hours target\n",
              "0               0             0  city_103  ...             1             36      1\n",
              "1               1             1   city_40  ...            >4             47      0\n",
              "2               2             2   city_21  ...         never             83      0\n",
              "3               3             3  city_162  ...             4              8      0\n",
              "4               4             4  city_176  ...             1             24      1\n",
              "...           ...           ...       ...  ...           ...            ...    ...\n",
              "18121       18121         18121  city_103  ...             4             16      0\n",
              "18122       18122         18122   city_21  ...             1             68      1\n",
              "18123       18123         18123  city_103  ...            >4            110      0\n",
              "18124       18124         18124   city_75  ...             1             82      0\n",
              "18125       18125         18125   city_57  ...             1             50      0\n",
              "\n",
              "[18126 rows x 15 columns]"
            ]
          },
          "metadata": {},
          "execution_count": 6
        }
      ]
    },
    {
      "cell_type": "code",
      "metadata": {
        "colab": {
          "base_uri": "https://localhost:8080/",
          "height": 257
        },
        "id": "kinsi4p5Ou8-",
        "outputId": "19e6b8fd-b768-451b-fb5b-c26cdce0e24d"
      },
      "source": [
        "train.head()"
      ],
      "execution_count": null,
      "outputs": [
        {
          "output_type": "execute_result",
          "data": {
            "text/html": [
              "<div>\n",
              "<style scoped>\n",
              "    .dataframe tbody tr th:only-of-type {\n",
              "        vertical-align: middle;\n",
              "    }\n",
              "\n",
              "    .dataframe tbody tr th {\n",
              "        vertical-align: top;\n",
              "    }\n",
              "\n",
              "    .dataframe thead th {\n",
              "        text-align: right;\n",
              "    }\n",
              "</style>\n",
              "<table border=\"1\" class=\"dataframe\">\n",
              "  <thead>\n",
              "    <tr style=\"text-align: right;\">\n",
              "      <th></th>\n",
              "      <th>Unnamed: 0</th>\n",
              "      <th>Unnamed: 0.1</th>\n",
              "      <th>city</th>\n",
              "      <th>city_development_Index</th>\n",
              "      <th>gender</th>\n",
              "      <th>relevent_experience</th>\n",
              "      <th>enrolled_university</th>\n",
              "      <th>education_level</th>\n",
              "      <th>major_discipline</th>\n",
              "      <th>experience</th>\n",
              "      <th>company_size</th>\n",
              "      <th>company_type</th>\n",
              "      <th>last_new_job</th>\n",
              "      <th>training_hours</th>\n",
              "      <th>target</th>\n",
              "    </tr>\n",
              "  </thead>\n",
              "  <tbody>\n",
              "    <tr>\n",
              "      <th>0</th>\n",
              "      <td>0</td>\n",
              "      <td>0</td>\n",
              "      <td>city_103</td>\n",
              "      <td>0.920</td>\n",
              "      <td>Male</td>\n",
              "      <td>Has relevent experience</td>\n",
              "      <td>no_enrollment</td>\n",
              "      <td>Graduate</td>\n",
              "      <td>STEM</td>\n",
              "      <td>30</td>\n",
              "      <td>NaN</td>\n",
              "      <td>Other</td>\n",
              "      <td>1</td>\n",
              "      <td>36</td>\n",
              "      <td>1</td>\n",
              "    </tr>\n",
              "    <tr>\n",
              "      <th>1</th>\n",
              "      <td>1</td>\n",
              "      <td>1</td>\n",
              "      <td>city_40</td>\n",
              "      <td>0.776</td>\n",
              "      <td>Male</td>\n",
              "      <td>No relevent experience</td>\n",
              "      <td>no_enrollment</td>\n",
              "      <td>Graduate</td>\n",
              "      <td>STEM</td>\n",
              "      <td>15</td>\n",
              "      <td>3.0</td>\n",
              "      <td>Pvt Ltd</td>\n",
              "      <td>&gt;4</td>\n",
              "      <td>47</td>\n",
              "      <td>0</td>\n",
              "    </tr>\n",
              "    <tr>\n",
              "      <th>2</th>\n",
              "      <td>2</td>\n",
              "      <td>2</td>\n",
              "      <td>city_21</td>\n",
              "      <td>0.624</td>\n",
              "      <td>Other</td>\n",
              "      <td>No relevent experience</td>\n",
              "      <td>Full time course</td>\n",
              "      <td>Graduate</td>\n",
              "      <td>STEM</td>\n",
              "      <td>5</td>\n",
              "      <td>NaN</td>\n",
              "      <td>Other</td>\n",
              "      <td>never</td>\n",
              "      <td>83</td>\n",
              "      <td>0</td>\n",
              "    </tr>\n",
              "    <tr>\n",
              "      <th>3</th>\n",
              "      <td>3</td>\n",
              "      <td>3</td>\n",
              "      <td>city_162</td>\n",
              "      <td>0.767</td>\n",
              "      <td>Male</td>\n",
              "      <td>Has relevent experience</td>\n",
              "      <td>no_enrollment</td>\n",
              "      <td>Masters</td>\n",
              "      <td>STEM</td>\n",
              "      <td>30</td>\n",
              "      <td>3.0</td>\n",
              "      <td>Funded Startup</td>\n",
              "      <td>4</td>\n",
              "      <td>8</td>\n",
              "      <td>0</td>\n",
              "    </tr>\n",
              "    <tr>\n",
              "      <th>4</th>\n",
              "      <td>4</td>\n",
              "      <td>4</td>\n",
              "      <td>city_176</td>\n",
              "      <td>0.764</td>\n",
              "      <td>Other</td>\n",
              "      <td>Has relevent experience</td>\n",
              "      <td>Part time course</td>\n",
              "      <td>Graduate</td>\n",
              "      <td>STEM</td>\n",
              "      <td>11</td>\n",
              "      <td>NaN</td>\n",
              "      <td>Other</td>\n",
              "      <td>1</td>\n",
              "      <td>24</td>\n",
              "      <td>1</td>\n",
              "    </tr>\n",
              "  </tbody>\n",
              "</table>\n",
              "</div>"
            ],
            "text/plain": [
              "   Unnamed: 0  Unnamed: 0.1      city  ...  last_new_job training_hours target\n",
              "0           0             0  city_103  ...             1             36      1\n",
              "1           1             1   city_40  ...            >4             47      0\n",
              "2           2             2   city_21  ...         never             83      0\n",
              "3           3             3  city_162  ...             4              8      0\n",
              "4           4             4  city_176  ...             1             24      1\n",
              "\n",
              "[5 rows x 15 columns]"
            ]
          },
          "metadata": {},
          "execution_count": 1130
        }
      ]
    },
    {
      "cell_type": "code",
      "metadata": {
        "colab": {
          "base_uri": "https://localhost:8080/"
        },
        "id": "emcStddkTXwj",
        "outputId": "00a7ed11-cf56-47af-bed6-8c6be48df447"
      },
      "source": [
        "train.info()"
      ],
      "execution_count": null,
      "outputs": [
        {
          "output_type": "stream",
          "name": "stdout",
          "text": [
            "<class 'pandas.core.frame.DataFrame'>\n",
            "RangeIndex: 18126 entries, 0 to 18125\n",
            "Data columns (total 15 columns):\n",
            " #   Column                  Non-Null Count  Dtype  \n",
            "---  ------                  --------------  -----  \n",
            " 0   Unnamed: 0              18126 non-null  int64  \n",
            " 1   Unnamed: 0.1            18126 non-null  int64  \n",
            " 2   city                    18126 non-null  object \n",
            " 3   city_development_Index  18126 non-null  float64\n",
            " 4   gender                  18126 non-null  object \n",
            " 5   relevent_experience     18126 non-null  object \n",
            " 6   enrolled_university     18126 non-null  object \n",
            " 7   education_level         18126 non-null  object \n",
            " 8   major_discipline        15554 non-null  object \n",
            " 9   experience              18126 non-null  int64  \n",
            " 10  company_size            12629 non-null  float64\n",
            " 11  company_type            18126 non-null  object \n",
            " 12  last_new_job            18126 non-null  object \n",
            " 13  training_hours          18126 non-null  int64  \n",
            " 14  target                  18126 non-null  int64  \n",
            "dtypes: float64(2), int64(5), object(8)\n",
            "memory usage: 2.1+ MB\n"
          ]
        }
      ]
    },
    {
      "cell_type": "code",
      "metadata": {
        "id": "evRo9MzfToM1"
      },
      "source": [
        "train.drop('Unnamed: 0',axis=1,inplace=True)"
      ],
      "execution_count": null,
      "outputs": []
    },
    {
      "cell_type": "code",
      "metadata": {
        "id": "ZqJrWU01Twta"
      },
      "source": [
        "train.drop('Unnamed: 0.1',axis=1,inplace=True)"
      ],
      "execution_count": null,
      "outputs": []
    },
    {
      "cell_type": "code",
      "metadata": {
        "id": "mBuKKxndZ4Nx"
      },
      "source": [
        "df = train\n",
        "for c in df.columns:\n",
        "    if df[c].dtype=='object': \n",
        "      df[c] = df[c].fillna('N')\n",
        "      lbl = LabelEncoder()\n",
        "      lbl.fit(list(df[c].values))\n",
        "      df[c] = lbl.transform(df[c].values)"
      ],
      "execution_count": null,
      "outputs": []
    },
    {
      "cell_type": "code",
      "metadata": {
        "id": "2mP8ZUJgU2JJ"
      },
      "source": [
        "df = df.dropna(axis=0)"
      ],
      "execution_count": null,
      "outputs": []
    },
    {
      "cell_type": "code",
      "metadata": {
        "colab": {
          "base_uri": "https://localhost:8080/"
        },
        "id": "MKQ8OfwcUXRh",
        "outputId": "ec29fe47-866d-4e27-d715-2f5d5015669f"
      },
      "source": [
        "df.isnull().sum()"
      ],
      "execution_count": null,
      "outputs": [
        {
          "output_type": "execute_result",
          "data": {
            "text/plain": [
              "city                      0\n",
              "city_development_Index    0\n",
              "gender                    0\n",
              "relevent_experience       0\n",
              "enrolled_university       0\n",
              "education_level           0\n",
              "major_discipline          0\n",
              "experience                0\n",
              "company_size              0\n",
              "company_type              0\n",
              "last_new_job              0\n",
              "training_hours            0\n",
              "target                    0\n",
              "dtype: int64"
            ]
          },
          "metadata": {},
          "execution_count": 1136
        }
      ]
    },
    {
      "cell_type": "code",
      "metadata": {
        "id": "bEIcNhVnYUjC"
      },
      "source": [
        "corr_matrix=df.corr()"
      ],
      "execution_count": null,
      "outputs": []
    },
    {
      "cell_type": "code",
      "metadata": {
        "colab": {
          "base_uri": "https://localhost:8080/"
        },
        "id": "gCJIv5l_YVXj",
        "outputId": "b50e75c5-ceb5-4524-e88b-d1560a362e6f"
      },
      "source": [
        "corr_matrix['target'].abs().sort_values(ascending=False)"
      ],
      "execution_count": null,
      "outputs": [
        {
          "output_type": "execute_result",
          "data": {
            "text/plain": [
              "target                    1.000000\n",
              "city_development_Index    0.424703\n",
              "experience                0.181149\n",
              "city                      0.099486\n",
              "enrolled_university       0.088463\n",
              "gender                    0.069721\n",
              "major_discipline          0.066076\n",
              "education_level           0.059277\n",
              "last_new_job              0.047429\n",
              "relevent_experience       0.039110\n",
              "training_hours            0.011436\n",
              "company_size              0.008337\n",
              "company_type              0.002336\n",
              "Name: target, dtype: float64"
            ]
          },
          "metadata": {},
          "execution_count": 1138
        }
      ]
    },
    {
      "cell_type": "code",
      "metadata": {
        "colab": {
          "base_uri": "https://localhost:8080/",
          "height": 316
        },
        "id": "1_GbHlTHlzEy",
        "outputId": "e6b783da-1c3c-4470-87ef-cebfa07b8a7e"
      },
      "source": [
        "df.describe()"
      ],
      "execution_count": null,
      "outputs": [
        {
          "output_type": "execute_result",
          "data": {
            "text/html": [
              "<div>\n",
              "<style scoped>\n",
              "    .dataframe tbody tr th:only-of-type {\n",
              "        vertical-align: middle;\n",
              "    }\n",
              "\n",
              "    .dataframe tbody tr th {\n",
              "        vertical-align: top;\n",
              "    }\n",
              "\n",
              "    .dataframe thead th {\n",
              "        text-align: right;\n",
              "    }\n",
              "</style>\n",
              "<table border=\"1\" class=\"dataframe\">\n",
              "  <thead>\n",
              "    <tr style=\"text-align: right;\">\n",
              "      <th></th>\n",
              "      <th>city</th>\n",
              "      <th>city_development_Index</th>\n",
              "      <th>gender</th>\n",
              "      <th>relevent_experience</th>\n",
              "      <th>enrolled_university</th>\n",
              "      <th>education_level</th>\n",
              "      <th>major_discipline</th>\n",
              "      <th>experience</th>\n",
              "      <th>company_size</th>\n",
              "      <th>company_type</th>\n",
              "      <th>last_new_job</th>\n",
              "      <th>training_hours</th>\n",
              "      <th>target</th>\n",
              "    </tr>\n",
              "  </thead>\n",
              "  <tbody>\n",
              "    <tr>\n",
              "      <th>count</th>\n",
              "      <td>12629.000000</td>\n",
              "      <td>12629.000000</td>\n",
              "      <td>12629.000000</td>\n",
              "      <td>12629.000000</td>\n",
              "      <td>12629.000000</td>\n",
              "      <td>12629.000000</td>\n",
              "      <td>12629.000000</td>\n",
              "      <td>12629.000000</td>\n",
              "      <td>12629.000000</td>\n",
              "      <td>12629.000000</td>\n",
              "      <td>12629.000000</td>\n",
              "      <td>12629.000000</td>\n",
              "      <td>12629.000000</td>\n",
              "    </tr>\n",
              "    <tr>\n",
              "      <th>mean</th>\n",
              "      <td>43.542878</td>\n",
              "      <td>0.835828</td>\n",
              "      <td>1.155040</td>\n",
              "      <td>0.150606</td>\n",
              "      <td>1.674242</td>\n",
              "      <td>0.553567</td>\n",
              "      <td>4.573759</td>\n",
              "      <td>12.425370</td>\n",
              "      <td>4.258453</td>\n",
              "      <td>4.162483</td>\n",
              "      <td>2.493230</td>\n",
              "      <td>65.731333</td>\n",
              "      <td>0.177449</td>\n",
              "    </tr>\n",
              "    <tr>\n",
              "      <th>std</th>\n",
              "      <td>35.397362</td>\n",
              "      <td>0.120458</td>\n",
              "      <td>0.518919</td>\n",
              "      <td>0.357678</td>\n",
              "      <td>0.691126</td>\n",
              "      <td>0.886540</td>\n",
              "      <td>1.048346</td>\n",
              "      <td>9.396321</td>\n",
              "      <td>2.192552</td>\n",
              "      <td>1.519293</td>\n",
              "      <td>1.766919</td>\n",
              "      <td>60.694908</td>\n",
              "      <td>0.382063</td>\n",
              "    </tr>\n",
              "    <tr>\n",
              "      <th>min</th>\n",
              "      <td>0.000000</td>\n",
              "      <td>0.448000</td>\n",
              "      <td>0.000000</td>\n",
              "      <td>0.000000</td>\n",
              "      <td>0.000000</td>\n",
              "      <td>0.000000</td>\n",
              "      <td>0.000000</td>\n",
              "      <td>0.000000</td>\n",
              "      <td>1.000000</td>\n",
              "      <td>0.000000</td>\n",
              "      <td>0.000000</td>\n",
              "      <td>1.000000</td>\n",
              "      <td>0.000000</td>\n",
              "    </tr>\n",
              "    <tr>\n",
              "      <th>25%</th>\n",
              "      <td>5.000000</td>\n",
              "      <td>0.754000</td>\n",
              "      <td>1.000000</td>\n",
              "      <td>0.000000</td>\n",
              "      <td>2.000000</td>\n",
              "      <td>0.000000</td>\n",
              "      <td>5.000000</td>\n",
              "      <td>5.000000</td>\n",
              "      <td>3.000000</td>\n",
              "      <td>4.000000</td>\n",
              "      <td>1.000000</td>\n",
              "      <td>23.000000</td>\n",
              "      <td>0.000000</td>\n",
              "    </tr>\n",
              "    <tr>\n",
              "      <th>50%</th>\n",
              "      <td>48.000000</td>\n",
              "      <td>0.910000</td>\n",
              "      <td>1.000000</td>\n",
              "      <td>0.000000</td>\n",
              "      <td>2.000000</td>\n",
              "      <td>0.000000</td>\n",
              "      <td>5.000000</td>\n",
              "      <td>10.000000</td>\n",
              "      <td>4.000000</td>\n",
              "      <td>5.000000</td>\n",
              "      <td>2.000000</td>\n",
              "      <td>47.000000</td>\n",
              "      <td>0.000000</td>\n",
              "    </tr>\n",
              "    <tr>\n",
              "      <th>75%</th>\n",
              "      <td>64.000000</td>\n",
              "      <td>0.920000</td>\n",
              "      <td>1.000000</td>\n",
              "      <td>0.000000</td>\n",
              "      <td>2.000000</td>\n",
              "      <td>1.000000</td>\n",
              "      <td>5.000000</td>\n",
              "      <td>16.000000</td>\n",
              "      <td>6.000000</td>\n",
              "      <td>5.000000</td>\n",
              "      <td>4.000000</td>\n",
              "      <td>89.000000</td>\n",
              "      <td>0.000000</td>\n",
              "    </tr>\n",
              "    <tr>\n",
              "      <th>max</th>\n",
              "      <td>122.000000</td>\n",
              "      <td>0.949000</td>\n",
              "      <td>2.000000</td>\n",
              "      <td>1.000000</td>\n",
              "      <td>2.000000</td>\n",
              "      <td>3.000000</td>\n",
              "      <td>5.000000</td>\n",
              "      <td>30.000000</td>\n",
              "      <td>8.000000</td>\n",
              "      <td>5.000000</td>\n",
              "      <td>6.000000</td>\n",
              "      <td>336.000000</td>\n",
              "      <td>1.000000</td>\n",
              "    </tr>\n",
              "  </tbody>\n",
              "</table>\n",
              "</div>"
            ],
            "text/plain": [
              "               city  city_development_Index  ...  training_hours        target\n",
              "count  12629.000000            12629.000000  ...    12629.000000  12629.000000\n",
              "mean      43.542878                0.835828  ...       65.731333      0.177449\n",
              "std       35.397362                0.120458  ...       60.694908      0.382063\n",
              "min        0.000000                0.448000  ...        1.000000      0.000000\n",
              "25%        5.000000                0.754000  ...       23.000000      0.000000\n",
              "50%       48.000000                0.910000  ...       47.000000      0.000000\n",
              "75%       64.000000                0.920000  ...       89.000000      0.000000\n",
              "max      122.000000                0.949000  ...      336.000000      1.000000\n",
              "\n",
              "[8 rows x 13 columns]"
            ]
          },
          "metadata": {},
          "execution_count": 1139
        }
      ]
    },
    {
      "cell_type": "code",
      "metadata": {
        "id": "YEe1pq2CdFnq"
      },
      "source": [
        "# data\n",
        "import pandas as pd\n",
        "import numpy as np\n",
        "import warnings\n",
        "warnings.filterwarnings(\"ignore\") \n",
        "\n",
        "# visualization\n",
        "import matplotlib.pyplot as plt\n",
        "import seaborn as sns\n",
        "%matplotlib inline\n",
        "from pandas.plotting import parallel_coordinates\n",
        "\n",
        "# preprocessing\n",
        "from sklearn.preprocessing import StandardScaler\n",
        "from sklearn.preprocessing import MinMaxScaler\n",
        "\n",
        "# model\n",
        "from sklearn.neighbors import KNeighborsClassifier\n",
        "from sklearn.model_selection import train_test_split\n",
        "\n",
        "# grid search\n",
        "from sklearn.model_selection import GridSearchCV\n",
        "\n",
        "# evaluation\n",
        "from sklearn.model_selection import cross_val_score\n",
        "from sklearn.metrics import *"
      ],
      "execution_count": null,
      "outputs": []
    },
    {
      "cell_type": "code",
      "metadata": {
        "id": "irWfCCD2c_B8"
      },
      "source": [
        "X_train, X_test, y_train, y_test = train_test_split(df.iloc[:,:-1], df.iloc[:,-1], test_size=0.2,random_state=42)"
      ],
      "execution_count": null,
      "outputs": []
    },
    {
      "cell_type": "code",
      "metadata": {
        "colab": {
          "base_uri": "https://localhost:8080/",
          "height": 204
        },
        "id": "LQtQLWW5csI4",
        "outputId": "48477f3e-25a6-4a92-ab16-820c3532d39f"
      },
      "source": [
        "ss = StandardScaler() # Scaling\n",
        "X_train_s = pd.DataFrame(ss.fit_transform(X_train), columns = X_train.columns)\n",
        "X_test_s = pd.DataFrame(ss.transform(X_test), columns = X_test.columns)\n",
        "X_train_s.head()"
      ],
      "execution_count": null,
      "outputs": [
        {
          "output_type": "execute_result",
          "data": {
            "text/html": [
              "<div>\n",
              "<style scoped>\n",
              "    .dataframe tbody tr th:only-of-type {\n",
              "        vertical-align: middle;\n",
              "    }\n",
              "\n",
              "    .dataframe tbody tr th {\n",
              "        vertical-align: top;\n",
              "    }\n",
              "\n",
              "    .dataframe thead th {\n",
              "        text-align: right;\n",
              "    }\n",
              "</style>\n",
              "<table border=\"1\" class=\"dataframe\">\n",
              "  <thead>\n",
              "    <tr style=\"text-align: right;\">\n",
              "      <th></th>\n",
              "      <th>city</th>\n",
              "      <th>city_development_Index</th>\n",
              "      <th>gender</th>\n",
              "      <th>relevent_experience</th>\n",
              "      <th>enrolled_university</th>\n",
              "      <th>education_level</th>\n",
              "      <th>major_discipline</th>\n",
              "      <th>experience</th>\n",
              "      <th>company_size</th>\n",
              "      <th>company_type</th>\n",
              "      <th>last_new_job</th>\n",
              "      <th>training_hours</th>\n",
              "    </tr>\n",
              "  </thead>\n",
              "  <tbody>\n",
              "    <tr>\n",
              "      <th>0</th>\n",
              "      <td>-1.081096</td>\n",
              "      <td>0.697537</td>\n",
              "      <td>-0.300173</td>\n",
              "      <td>-0.417889</td>\n",
              "      <td>0.467295</td>\n",
              "      <td>-0.627570</td>\n",
              "      <td>0.408397</td>\n",
              "      <td>0.058550</td>\n",
              "      <td>0.785751</td>\n",
              "      <td>-1.426437</td>\n",
              "      <td>-0.842988</td>\n",
              "      <td>-0.834390</td>\n",
              "    </tr>\n",
              "    <tr>\n",
              "      <th>1</th>\n",
              "      <td>-1.109298</td>\n",
              "      <td>-0.266055</td>\n",
              "      <td>1.627766</td>\n",
              "      <td>2.392982</td>\n",
              "      <td>0.467295</td>\n",
              "      <td>0.500604</td>\n",
              "      <td>0.408397</td>\n",
              "      <td>-0.686586</td>\n",
              "      <td>1.696488</td>\n",
              "      <td>0.553862</td>\n",
              "      <td>1.417135</td>\n",
              "      <td>-0.423006</td>\n",
              "    </tr>\n",
              "    <tr>\n",
              "      <th>2</th>\n",
              "      <td>-1.081096</td>\n",
              "      <td>0.697537</td>\n",
              "      <td>-0.300173</td>\n",
              "      <td>2.392982</td>\n",
              "      <td>-2.446053</td>\n",
              "      <td>2.756953</td>\n",
              "      <td>-1.474778</td>\n",
              "      <td>-0.793034</td>\n",
              "      <td>1.696488</td>\n",
              "      <td>0.553862</td>\n",
              "      <td>-0.842988</td>\n",
              "      <td>-0.176175</td>\n",
              "    </tr>\n",
              "    <tr>\n",
              "      <th>3</th>\n",
              "      <td>-1.109298</td>\n",
              "      <td>-0.266055</td>\n",
              "      <td>-0.300173</td>\n",
              "      <td>-0.417889</td>\n",
              "      <td>0.467295</td>\n",
              "      <td>0.500604</td>\n",
              "      <td>0.408397</td>\n",
              "      <td>-0.047898</td>\n",
              "      <td>1.241120</td>\n",
              "      <td>0.553862</td>\n",
              "      <td>-0.277957</td>\n",
              "      <td>0.021290</td>\n",
              "    </tr>\n",
              "    <tr>\n",
              "      <th>4</th>\n",
              "      <td>0.131601</td>\n",
              "      <td>0.614468</td>\n",
              "      <td>-0.300173</td>\n",
              "      <td>-0.417889</td>\n",
              "      <td>0.467295</td>\n",
              "      <td>-0.627570</td>\n",
              "      <td>0.408397</td>\n",
              "      <td>0.058550</td>\n",
              "      <td>-1.035724</td>\n",
              "      <td>-2.086536</td>\n",
              "      <td>-0.277957</td>\n",
              "      <td>0.597228</td>\n",
              "    </tr>\n",
              "  </tbody>\n",
              "</table>\n",
              "</div>"
            ],
            "text/plain": [
              "       city  city_development_Index  ...  last_new_job  training_hours\n",
              "0 -1.081096                0.697537  ...     -0.842988       -0.834390\n",
              "1 -1.109298               -0.266055  ...      1.417135       -0.423006\n",
              "2 -1.081096                0.697537  ...     -0.842988       -0.176175\n",
              "3 -1.109298               -0.266055  ...     -0.277957        0.021290\n",
              "4  0.131601                0.614468  ...     -0.277957        0.597228\n",
              "\n",
              "[5 rows x 12 columns]"
            ]
          },
          "metadata": {},
          "execution_count": 1142
        }
      ]
    },
    {
      "cell_type": "code",
      "metadata": {
        "id": "dSe17S0mZa5H"
      },
      "source": [
        "X_train_s['city_development_Index'] = X_train_s['city_development_Index'] * 0.424703\n",
        "X_train_s['experience'] = X_train_s['experience'] * 0.181149\n",
        "X_train_s['enrolled_university'] = X_train_s['enrolled_university'] * 0.099486\n",
        "X_train_s['relevent_experience'] = X_train_s['relevent_experience'] * 0.088463\n",
        "X_train_s['company_type'] = X_train_s['company_type'] * 0.069721\n",
        "X_train_s['education_level'] = X_train_s['education_level'] * 0.066076\n",
        "X_train_s['gender'] = X_train_s['gender'] * 0.059277\n",
        "X_train_s['city'] = X_train_s['city'] * 0.047429\n",
        "X_train_s['last_new_job'] = X_train_s['last_new_job'] * 0.039110\n",
        "X_train_s['training_hours'] = X_train_s['training_hours'] * 0.011436\n",
        "X_train_s['company_size'] = X_train_s['company_size'] * 0.008337\n",
        "X_train_s['major_discipline'] = X_train_s['major_discipline'] * 0.002336"
      ],
      "execution_count": null,
      "outputs": []
    },
    {
      "cell_type": "code",
      "metadata": {
        "id": "Q_lF6MhHZgBq"
      },
      "source": [
        "X_test_s['city_development_Index'] = X_test_s['city_development_Index'] *  0.424703\n",
        "X_test_s['experience'] = X_test_s['experience'] * 0.181149\n",
        "X_test_s['enrolled_university'] = X_test_s['enrolled_university'] * 0.099486\n",
        "X_test_s['relevent_experience'] = X_test_s['relevent_experience'] * 0.088463\n",
        "X_test_s['company_type'] = X_test_s['company_type'] * 0.069721\n",
        "X_test_s['education_level'] = X_test_s['education_level'] * 0.066076\n",
        "X_test_s['gender'] = X_test_s['gender'] * 0.059277\n",
        "X_test_s['city'] = X_test_s['city'] * 0.047429\n",
        "X_test_s['last_new_job'] = X_test_s['last_new_job'] * 0.039110\n",
        "X_test_s['training_hours'] = X_test_s['training_hours'] * 0.011436\n",
        "X_test_s['company_size'] = X_test_s['company_size'] * 0.008337\n",
        "X_test_s['major_discipline'] = X_test_s['major_discipline'] * 0.002336"
      ],
      "execution_count": null,
      "outputs": []
    },
    {
      "cell_type": "code",
      "metadata": {
        "id": "urmFSilQdUnx"
      },
      "source": [
        "def print_metrics(model, X_train):\n",
        "    scores = cross_val_score(model, X_train, y_train, cv=10)\n",
        "    print('*** Cross val score *** \\n   {}'.format(scores))\n",
        "    print('\\n*** Mean Accuracy *** \\n   {:.7f}'.format(scores.mean()))"
      ],
      "execution_count": null,
      "outputs": []
    },
    {
      "cell_type": "code",
      "metadata": {
        "id": "H7hrsmfaDNGi"
      },
      "source": [
        "import matplotlib.pyplot as plt\n",
        "train_score=[]\n",
        "test_score=[]"
      ],
      "execution_count": null,
      "outputs": []
    },
    {
      "cell_type": "code",
      "metadata": {
        "id": "dNPRisLWDQQG"
      },
      "source": [
        "alpha_list=[10,15,20,25,30,35,40,45]\n",
        "for alpha in alpha_list:\n",
        "  knn_s = KNeighborsClassifier(n_neighbors=alpha)\n",
        "  knn_s.fit(X_train_s, y_train)\n",
        "  train_score.append(knn_s.score(X_train_s, y_train))\n",
        "  test_score.append(knn_s.score(X_test_s, y_test))"
      ],
      "execution_count": null,
      "outputs": []
    },
    {
      "cell_type": "code",
      "metadata": {
        "id": "RAhrQ42rEeUW",
        "colab": {
          "base_uri": "https://localhost:8080/",
          "height": 265
        },
        "outputId": "024676c4-c92d-49a1-9342-34624a81469f"
      },
      "source": [
        "plt.plot((alpha_list), train_score)\n",
        "plt.plot((alpha_list), test_score)\n",
        "plt.show()"
      ],
      "execution_count": null,
      "outputs": [
        {
          "output_type": "display_data",
          "data": {
            "image/png": "[encoded data removed]",
            "text/plain": [
              "<Figure size 432x288 with 1 Axes>"
            ]
          },
          "metadata": {
            "needs_background": "light"
          }
        }
      ]
    },
    {
      "cell_type": "code",
      "metadata": {
        "id": "jYn7SjcbdNPx",
        "colab": {
          "base_uri": "https://localhost:8080/"
        },
        "outputId": "f46667a0-d7af-4dd5-ec7c-98ab001bcd95"
      },
      "source": [
        "knn_s = KNeighborsClassifier(n_jobs=-1, n_neighbors=25)\n",
        "knn_s.fit(X_train_s, y_train)\n",
        "print_metrics(knn_s, X_train_s)"
      ],
      "execution_count": null,
      "outputs": [
        {
          "output_type": "stream",
          "name": "stdout",
          "text": [
            "*** Cross val score *** \n",
            "   [0.84272997 0.83580613 0.82987141 0.84752475 0.84356436 0.85049505\n",
            " 0.85049505 0.86336634 0.82574257 0.83069307]\n",
            "\n",
            "*** Mean Accuracy *** \n",
            "   0.8420289\n"
          ]
        }
      ]
    },
    {
      "cell_type": "code",
      "metadata": {
        "colab": {
          "base_uri": "https://localhost:8080/"
        },
        "id": "Aweif6Z_3Qlq",
        "outputId": "1d0049dc-6cd8-4770-e0c6-df3d8b9ef064"
      },
      "source": [
        "pred = knn_s.predict(X_test_s)\n",
        "print(accuracy_score(y_test,pred))"
      ],
      "execution_count": null,
      "outputs": [
        {
          "output_type": "stream",
          "name": "stdout",
          "text": [
            "0.8487727632620744\n"
          ]
        }
      ]
    },
    {
      "cell_type": "code",
      "metadata": {
        "id": "1Nr3815GdiGj",
        "colab": {
          "base_uri": "https://localhost:8080/",
          "height": 204
        },
        "outputId": "d0a3b59f-d835-4149-cbae-d87df1d0aabf"
      },
      "source": [
        "# Minmax Scaler\n",
        "ms = MinMaxScaler()\n",
        "X_train_m = pd.DataFrame(ms.fit_transform(X_train), columns = X_train.columns)\n",
        "X_test_m = pd.DataFrame(ms.transform(X_test), columns = X_test.columns)\n",
        "X_train_m.head()"
      ],
      "execution_count": null,
      "outputs": [
        {
          "output_type": "execute_result",
          "data": {
            "text/html": [
              "<div>\n",
              "<style scoped>\n",
              "    .dataframe tbody tr th:only-of-type {\n",
              "        vertical-align: middle;\n",
              "    }\n",
              "\n",
              "    .dataframe tbody tr th {\n",
              "        vertical-align: top;\n",
              "    }\n",
              "\n",
              "    .dataframe thead th {\n",
              "        text-align: right;\n",
              "    }\n",
              "</style>\n",
              "<table border=\"1\" class=\"dataframe\">\n",
              "  <thead>\n",
              "    <tr style=\"text-align: right;\">\n",
              "      <th></th>\n",
              "      <th>city</th>\n",
              "      <th>city_development_Index</th>\n",
              "      <th>gender</th>\n",
              "      <th>relevent_experience</th>\n",
              "      <th>enrolled_university</th>\n",
              "      <th>education_level</th>\n",
              "      <th>major_discipline</th>\n",
              "      <th>experience</th>\n",
              "      <th>company_size</th>\n",
              "      <th>company_type</th>\n",
              "      <th>last_new_job</th>\n",
              "      <th>training_hours</th>\n",
              "    </tr>\n",
              "  </thead>\n",
              "  <tbody>\n",
              "    <tr>\n",
              "      <th>0</th>\n",
              "      <td>0.040984</td>\n",
              "      <td>0.942116</td>\n",
              "      <td>0.5</td>\n",
              "      <td>0.0</td>\n",
              "      <td>1.0</td>\n",
              "      <td>0.000000</td>\n",
              "      <td>1.0</td>\n",
              "      <td>0.433333</td>\n",
              "      <td>0.714286</td>\n",
              "      <td>0.4</td>\n",
              "      <td>0.166667</td>\n",
              "      <td>0.041791</td>\n",
              "    </tr>\n",
              "    <tr>\n",
              "      <th>1</th>\n",
              "      <td>0.032787</td>\n",
              "      <td>0.710579</td>\n",
              "      <td>1.0</td>\n",
              "      <td>1.0</td>\n",
              "      <td>1.0</td>\n",
              "      <td>0.333333</td>\n",
              "      <td>1.0</td>\n",
              "      <td>0.200000</td>\n",
              "      <td>1.000000</td>\n",
              "      <td>1.0</td>\n",
              "      <td>0.833333</td>\n",
              "      <td>0.116418</td>\n",
              "    </tr>\n",
              "    <tr>\n",
              "      <th>2</th>\n",
              "      <td>0.040984</td>\n",
              "      <td>0.942116</td>\n",
              "      <td>0.5</td>\n",
              "      <td>1.0</td>\n",
              "      <td>0.0</td>\n",
              "      <td>1.000000</td>\n",
              "      <td>0.6</td>\n",
              "      <td>0.166667</td>\n",
              "      <td>1.000000</td>\n",
              "      <td>1.0</td>\n",
              "      <td>0.166667</td>\n",
              "      <td>0.161194</td>\n",
              "    </tr>\n",
              "    <tr>\n",
              "      <th>3</th>\n",
              "      <td>0.032787</td>\n",
              "      <td>0.710579</td>\n",
              "      <td>0.5</td>\n",
              "      <td>0.0</td>\n",
              "      <td>1.0</td>\n",
              "      <td>0.333333</td>\n",
              "      <td>1.0</td>\n",
              "      <td>0.400000</td>\n",
              "      <td>0.857143</td>\n",
              "      <td>1.0</td>\n",
              "      <td>0.333333</td>\n",
              "      <td>0.197015</td>\n",
              "    </tr>\n",
              "    <tr>\n",
              "      <th>4</th>\n",
              "      <td>0.393443</td>\n",
              "      <td>0.922156</td>\n",
              "      <td>0.5</td>\n",
              "      <td>0.0</td>\n",
              "      <td>1.0</td>\n",
              "      <td>0.000000</td>\n",
              "      <td>1.0</td>\n",
              "      <td>0.433333</td>\n",
              "      <td>0.142857</td>\n",
              "      <td>0.2</td>\n",
              "      <td>0.333333</td>\n",
              "      <td>0.301493</td>\n",
              "    </tr>\n",
              "  </tbody>\n",
              "</table>\n",
              "</div>"
            ],
            "text/plain": [
              "       city  city_development_Index  ...  last_new_job  training_hours\n",
              "0  0.040984                0.942116  ...      0.166667        0.041791\n",
              "1  0.032787                0.710579  ...      0.833333        0.116418\n",
              "2  0.040984                0.942116  ...      0.166667        0.161194\n",
              "3  0.032787                0.710579  ...      0.333333        0.197015\n",
              "4  0.393443                0.922156  ...      0.333333        0.301493\n",
              "\n",
              "[5 rows x 12 columns]"
            ]
          },
          "metadata": {},
          "execution_count": 1151
        }
      ]
    },
    {
      "cell_type": "code",
      "metadata": {
        "id": "vMKE20uXamH1"
      },
      "source": [
        "X_train_m['city_development_Index'] = X_train_m['city_development_Index'] * 0.424703\n",
        "X_train_m['experience'] = X_train_m['experience'] * 0.181149\n",
        "X_train_m['enrolled_university'] = X_train_m['enrolled_university'] * 0.099486\n",
        "X_train_m['relevent_experience'] = X_train_m['relevent_experience'] * 0.088463\n",
        "X_train_m['company_type'] = X_train_m['company_type'] * 0.069721\n",
        "X_train_m['education_level'] = X_train_m['education_level'] * 0.066076\n",
        "X_train_m['gender'] = X_train_m['gender'] * 0.059277\n",
        "X_train_m['city'] = X_train_m['city'] * 0.047429\n",
        "X_train_m['last_new_job'] = X_train_m['last_new_job'] * 0.039110\n",
        "X_train_m['training_hours'] = X_train_m['training_hours'] * 0.011436\n",
        "X_train_m['company_size'] = X_train_m['company_size'] * 0.008337\n",
        "X_train_m['major_discipline'] = X_train_m['major_discipline'] * 0.002336"
      ],
      "execution_count": null,
      "outputs": []
    },
    {
      "cell_type": "code",
      "metadata": {
        "id": "Nn7edx8QapOh"
      },
      "source": [
        "X_test_m['city_development_Index'] = X_test_m['city_development_Index'] *  0.424703\n",
        "X_test_m['experience'] = X_test_m['experience'] * 0.181149\n",
        "X_test_m['enrolled_university'] = X_test_m['enrolled_university'] * 0.099486\n",
        "X_test_m['relevent_experience'] = X_test_m['relevent_experience'] * 0.088463\n",
        "X_test_m['company_type'] = X_test_m['company_type'] * 0.069721\n",
        "X_test_m['education_level'] = X_test_m['education_level'] * 0.066076\n",
        "X_test_m['gender'] = X_test_m['gender'] * 0.059277\n",
        "X_test_m['city'] = X_test_m['city'] * 0.047429\n",
        "X_test_m['last_new_job'] = X_test_m['last_new_job'] * 0.039110\n",
        "X_test_m['training_hours'] = X_test_m['training_hours'] * 0.011436\n",
        "X_test_m['company_size'] = X_test_m['company_size'] * 0.008337\n",
        "X_test_m['major_discipline'] = X_test_m['major_discipline'] * 0.002336"
      ],
      "execution_count": null,
      "outputs": []
    },
    {
      "cell_type": "code",
      "metadata": {
        "id": "U2kC00tqdiuc",
        "colab": {
          "base_uri": "https://localhost:8080/"
        },
        "outputId": "7bdbca4b-3cb9-48de-9cd4-7aded2eb96fb"
      },
      "source": [
        "knn_m = KNeighborsClassifier(n_jobs=-1, n_neighbors=25)\n",
        "knn_m.fit(X_train_m, y_train)\n",
        "print_metrics(knn_m, X_train_m)"
      ],
      "execution_count": null,
      "outputs": [
        {
          "output_type": "stream",
          "name": "stdout",
          "text": [
            "*** Cross val score *** \n",
            "   [0.83580613 0.83382789 0.83481701 0.84554455 0.83960396 0.84257426\n",
            " 0.84851485 0.86237624 0.82673267 0.83267327]\n",
            "\n",
            "*** Mean Accuracy *** \n",
            "   0.8402471\n"
          ]
        }
      ]
    },
    {
      "cell_type": "code",
      "metadata": {
        "id": "KnIcZ48ktomv",
        "colab": {
          "base_uri": "https://localhost:8080/"
        },
        "outputId": "77b1fc89-f5f4-4511-d5b6-75b2f8f54aba"
      },
      "source": [
        "pred = knn_m.predict(X_test_m)\n",
        "print(accuracy_score(y_test,pred))"
      ],
      "execution_count": null,
      "outputs": [
        {
          "output_type": "stream",
          "name": "stdout",
          "text": [
            "0.8483768804433888\n"
          ]
        }
      ]
    },
    {
      "cell_type": "code",
      "metadata": {
        "id": "fo9UxIgjf-YI",
        "colab": {
          "base_uri": "https://localhost:8080/",
          "height": 240
        },
        "outputId": "ca4fe348-2711-4159-abad-56a476b26635"
      },
      "source": [
        "test = pd.read_csv('/content/changingjob_testx.csv')\n",
        "test.head()"
      ],
      "execution_count": null,
      "outputs": [
        {
          "output_type": "execute_result",
          "data": {
            "text/html": [
              "<div>\n",
              "<style scoped>\n",
              "    .dataframe tbody tr th:only-of-type {\n",
              "        vertical-align: middle;\n",
              "    }\n",
              "\n",
              "    .dataframe tbody tr th {\n",
              "        vertical-align: top;\n",
              "    }\n",
              "\n",
              "    .dataframe thead th {\n",
              "        text-align: right;\n",
              "    }\n",
              "</style>\n",
              "<table border=\"1\" class=\"dataframe\">\n",
              "  <thead>\n",
              "    <tr style=\"text-align: right;\">\n",
              "      <th></th>\n",
              "      <th>Unnamed: 0</th>\n",
              "      <th>Unnamed: 0.1</th>\n",
              "      <th>city</th>\n",
              "      <th>city_development_Index</th>\n",
              "      <th>gender</th>\n",
              "      <th>relevent_experience</th>\n",
              "      <th>enrolled_university</th>\n",
              "      <th>education_level</th>\n",
              "      <th>major_discipline</th>\n",
              "      <th>experience</th>\n",
              "      <th>company_size</th>\n",
              "      <th>company_type</th>\n",
              "      <th>last_new_job</th>\n",
              "      <th>training_hours</th>\n",
              "    </tr>\n",
              "  </thead>\n",
              "  <tbody>\n",
              "    <tr>\n",
              "      <th>0</th>\n",
              "      <td>0</td>\n",
              "      <td>18126</td>\n",
              "      <td>city_128</td>\n",
              "      <td>0.527</td>\n",
              "      <td>Other</td>\n",
              "      <td>Has relevent experience</td>\n",
              "      <td>no_enrollment</td>\n",
              "      <td>Graduate</td>\n",
              "      <td>STEM</td>\n",
              "      <td>4</td>\n",
              "      <td>3.0</td>\n",
              "      <td>Pvt Ltd</td>\n",
              "      <td>4</td>\n",
              "      <td>36</td>\n",
              "    </tr>\n",
              "    <tr>\n",
              "      <th>1</th>\n",
              "      <td>1</td>\n",
              "      <td>18127</td>\n",
              "      <td>city_114</td>\n",
              "      <td>0.926</td>\n",
              "      <td>Other</td>\n",
              "      <td>Has relevent experience</td>\n",
              "      <td>no_enrollment</td>\n",
              "      <td>Graduate</td>\n",
              "      <td>STEM</td>\n",
              "      <td>16</td>\n",
              "      <td>4.0</td>\n",
              "      <td>Pvt Ltd</td>\n",
              "      <td>&gt;4</td>\n",
              "      <td>8</td>\n",
              "    </tr>\n",
              "    <tr>\n",
              "      <th>2</th>\n",
              "      <td>2</td>\n",
              "      <td>18128</td>\n",
              "      <td>city_114</td>\n",
              "      <td>0.926</td>\n",
              "      <td>Male</td>\n",
              "      <td>Has relevent experience</td>\n",
              "      <td>no_enrollment</td>\n",
              "      <td>Graduate</td>\n",
              "      <td>STEM</td>\n",
              "      <td>12</td>\n",
              "      <td>8.0</td>\n",
              "      <td>Pvt Ltd</td>\n",
              "      <td>4</td>\n",
              "      <td>35</td>\n",
              "    </tr>\n",
              "    <tr>\n",
              "      <th>3</th>\n",
              "      <td>3</td>\n",
              "      <td>18129</td>\n",
              "      <td>city_67</td>\n",
              "      <td>0.855</td>\n",
              "      <td>Male</td>\n",
              "      <td>Has relevent experience</td>\n",
              "      <td>no_enrollment</td>\n",
              "      <td>Graduate</td>\n",
              "      <td>STEM</td>\n",
              "      <td>0</td>\n",
              "      <td>NaN</td>\n",
              "      <td>Other</td>\n",
              "      <td>1</td>\n",
              "      <td>41</td>\n",
              "    </tr>\n",
              "    <tr>\n",
              "      <th>4</th>\n",
              "      <td>4</td>\n",
              "      <td>18130</td>\n",
              "      <td>city_100</td>\n",
              "      <td>0.887</td>\n",
              "      <td>Male</td>\n",
              "      <td>Has relevent experience</td>\n",
              "      <td>no_enrollment</td>\n",
              "      <td>Graduate</td>\n",
              "      <td>STEM</td>\n",
              "      <td>2</td>\n",
              "      <td>5.0</td>\n",
              "      <td>Pvt Ltd</td>\n",
              "      <td>2</td>\n",
              "      <td>17</td>\n",
              "    </tr>\n",
              "  </tbody>\n",
              "</table>\n",
              "</div>"
            ],
            "text/plain": [
              "   Unnamed: 0  Unnamed: 0.1      city  ...  company_type last_new_job training_hours\n",
              "0           0         18126  city_128  ...       Pvt Ltd            4             36\n",
              "1           1         18127  city_114  ...       Pvt Ltd           >4              8\n",
              "2           2         18128  city_114  ...       Pvt Ltd            4             35\n",
              "3           3         18129   city_67  ...         Other            1             41\n",
              "4           4         18130  city_100  ...       Pvt Ltd            2             17\n",
              "\n",
              "[5 rows x 14 columns]"
            ]
          },
          "metadata": {},
          "execution_count": 1156
        }
      ]
    },
    {
      "cell_type": "code",
      "metadata": {
        "id": "AziHveHCgJV3"
      },
      "source": [
        "test.drop('Unnamed: 0',axis=1,inplace=True)\n",
        "test.drop('Unnamed: 0.1',axis=1,inplace=True)"
      ],
      "execution_count": null,
      "outputs": []
    },
    {
      "cell_type": "code",
      "metadata": {
        "id": "StM9irkxOZ1Y",
        "colab": {
          "base_uri": "https://localhost:8080/"
        },
        "outputId": "cbbaf905-e1c2-46b6-f811-08c009aa8536"
      },
      "source": [
        "test.isnull().sum()"
      ],
      "execution_count": null,
      "outputs": [
        {
          "output_type": "execute_result",
          "data": {
            "text/plain": [
              "city                        0\n",
              "city_development_Index      0\n",
              "gender                      0\n",
              "relevent_experience         0\n",
              "enrolled_university         0\n",
              "education_level             0\n",
              "major_discipline           57\n",
              "experience                  0\n",
              "company_size              121\n",
              "company_type                0\n",
              "last_new_job                0\n",
              "training_hours              0\n",
              "dtype: int64"
            ]
          },
          "metadata": {},
          "execution_count": 1158
        }
      ]
    },
    {
      "cell_type": "code",
      "metadata": {
        "id": "vucDwlAoS5By",
        "colab": {
          "base_uri": "https://localhost:8080/",
          "height": 204
        },
        "outputId": "c2cb0418-b783-4746-a23b-8918f8b0bf74"
      },
      "source": [
        "test.head()"
      ],
      "execution_count": null,
      "outputs": [
        {
          "output_type": "execute_result",
          "data": {
            "text/html": [
              "<div>\n",
              "<style scoped>\n",
              "    .dataframe tbody tr th:only-of-type {\n",
              "        vertical-align: middle;\n",
              "    }\n",
              "\n",
              "    .dataframe tbody tr th {\n",
              "        vertical-align: top;\n",
              "    }\n",
              "\n",
              "    .dataframe thead th {\n",
              "        text-align: right;\n",
              "    }\n",
              "</style>\n",
              "<table border=\"1\" class=\"dataframe\">\n",
              "  <thead>\n",
              "    <tr style=\"text-align: right;\">\n",
              "      <th></th>\n",
              "      <th>city</th>\n",
              "      <th>city_development_Index</th>\n",
              "      <th>gender</th>\n",
              "      <th>relevent_experience</th>\n",
              "      <th>enrolled_university</th>\n",
              "      <th>education_level</th>\n",
              "      <th>major_discipline</th>\n",
              "      <th>experience</th>\n",
              "      <th>company_size</th>\n",
              "      <th>company_type</th>\n",
              "      <th>last_new_job</th>\n",
              "      <th>training_hours</th>\n",
              "    </tr>\n",
              "  </thead>\n",
              "  <tbody>\n",
              "    <tr>\n",
              "      <th>0</th>\n",
              "      <td>city_128</td>\n",
              "      <td>0.527</td>\n",
              "      <td>Other</td>\n",
              "      <td>Has relevent experience</td>\n",
              "      <td>no_enrollment</td>\n",
              "      <td>Graduate</td>\n",
              "      <td>STEM</td>\n",
              "      <td>4</td>\n",
              "      <td>3.0</td>\n",
              "      <td>Pvt Ltd</td>\n",
              "      <td>4</td>\n",
              "      <td>36</td>\n",
              "    </tr>\n",
              "    <tr>\n",
              "      <th>1</th>\n",
              "      <td>city_114</td>\n",
              "      <td>0.926</td>\n",
              "      <td>Other</td>\n",
              "      <td>Has relevent experience</td>\n",
              "      <td>no_enrollment</td>\n",
              "      <td>Graduate</td>\n",
              "      <td>STEM</td>\n",
              "      <td>16</td>\n",
              "      <td>4.0</td>\n",
              "      <td>Pvt Ltd</td>\n",
              "      <td>&gt;4</td>\n",
              "      <td>8</td>\n",
              "    </tr>\n",
              "    <tr>\n",
              "      <th>2</th>\n",
              "      <td>city_114</td>\n",
              "      <td>0.926</td>\n",
              "      <td>Male</td>\n",
              "      <td>Has relevent experience</td>\n",
              "      <td>no_enrollment</td>\n",
              "      <td>Graduate</td>\n",
              "      <td>STEM</td>\n",
              "      <td>12</td>\n",
              "      <td>8.0</td>\n",
              "      <td>Pvt Ltd</td>\n",
              "      <td>4</td>\n",
              "      <td>35</td>\n",
              "    </tr>\n",
              "    <tr>\n",
              "      <th>3</th>\n",
              "      <td>city_67</td>\n",
              "      <td>0.855</td>\n",
              "      <td>Male</td>\n",
              "      <td>Has relevent experience</td>\n",
              "      <td>no_enrollment</td>\n",
              "      <td>Graduate</td>\n",
              "      <td>STEM</td>\n",
              "      <td>0</td>\n",
              "      <td>NaN</td>\n",
              "      <td>Other</td>\n",
              "      <td>1</td>\n",
              "      <td>41</td>\n",
              "    </tr>\n",
              "    <tr>\n",
              "      <th>4</th>\n",
              "      <td>city_100</td>\n",
              "      <td>0.887</td>\n",
              "      <td>Male</td>\n",
              "      <td>Has relevent experience</td>\n",
              "      <td>no_enrollment</td>\n",
              "      <td>Graduate</td>\n",
              "      <td>STEM</td>\n",
              "      <td>2</td>\n",
              "      <td>5.0</td>\n",
              "      <td>Pvt Ltd</td>\n",
              "      <td>2</td>\n",
              "      <td>17</td>\n",
              "    </tr>\n",
              "  </tbody>\n",
              "</table>\n",
              "</div>"
            ],
            "text/plain": [
              "       city  city_development_Index  ... last_new_job training_hours\n",
              "0  city_128                   0.527  ...            4             36\n",
              "1  city_114                   0.926  ...           >4              8\n",
              "2  city_114                   0.926  ...            4             35\n",
              "3   city_67                   0.855  ...            1             41\n",
              "4  city_100                   0.887  ...            2             17\n",
              "\n",
              "[5 rows x 12 columns]"
            ]
          },
          "metadata": {},
          "execution_count": 1159
        }
      ]
    },
    {
      "cell_type": "code",
      "metadata": {
        "colab": {
          "base_uri": "https://localhost:8080/"
        },
        "id": "2FiZEu6MS0u_",
        "outputId": "14aa42dd-789a-4c9b-d88b-ea884bde4814"
      },
      "source": [
        "test.isnull().sum()"
      ],
      "execution_count": null,
      "outputs": [
        {
          "output_type": "execute_result",
          "data": {
            "text/plain": [
              "city                        0\n",
              "city_development_Index      0\n",
              "gender                      0\n",
              "relevent_experience         0\n",
              "enrolled_university         0\n",
              "education_level             0\n",
              "major_discipline           57\n",
              "experience                  0\n",
              "company_size              121\n",
              "company_type                0\n",
              "last_new_job                0\n",
              "training_hours              0\n",
              "dtype: int64"
            ]
          },
          "metadata": {},
          "execution_count": 1160
        }
      ]
    },
    {
      "cell_type": "code",
      "metadata": {
        "colab": {
          "base_uri": "https://localhost:8080/",
          "height": 296
        },
        "id": "8eifG45dcsoy",
        "outputId": "615173f1-cbe4-4f85-91b8-9bc15dcefc0f"
      },
      "source": [
        "def num_compare2(num_col):\n",
        "    sns.kdeplot(data=test,x=test[num_col])\n",
        "    plt.title(num_col)\n",
        "    plt.show()\n",
        "num_compare2('company_size')"
      ],
      "execution_count": null,
      "outputs": [
        {
          "output_type": "display_data",
          "data": {
            "image/png": "[encoded data removed]",
            "text/plain": [
              "<Figure size 432x288 with 1 Axes>"
            ]
          },
          "metadata": {
            "needs_background": "light"
          }
        }
      ]
    },
    {
      "cell_type": "code",
      "metadata": {
        "id": "4JPS4goaSrOi"
      },
      "source": [
        "test['company_size']=test['company_size'].fillna(3)"
      ],
      "execution_count": null,
      "outputs": []
    },
    {
      "cell_type": "code",
      "metadata": {
        "id": "2tNOhz1ugeBm"
      },
      "source": [
        "df = test\n",
        "for c in test.columns:\n",
        "    if test[c].dtype=='object': \n",
        "      df[c] = df[c].fillna('N')\n",
        "      lbl = LabelEncoder()\n",
        "      lbl.fit(list(test[c].values))\n",
        "      test[c] = lbl.transform(test[c].values)\n",
        "        \n",
        "df=test"
      ],
      "execution_count": null,
      "outputs": []
    },
    {
      "cell_type": "code",
      "metadata": {
        "id": "IeGLlf34gjlo",
        "colab": {
          "base_uri": "https://localhost:8080/"
        },
        "outputId": "eb06d880-d007-4eab-825e-f7c842385de4"
      },
      "source": [
        "test.info()"
      ],
      "execution_count": null,
      "outputs": [
        {
          "output_type": "stream",
          "name": "stdout",
          "text": [
            "<class 'pandas.core.frame.DataFrame'>\n",
            "RangeIndex: 400 entries, 0 to 399\n",
            "Data columns (total 12 columns):\n",
            " #   Column                  Non-Null Count  Dtype  \n",
            "---  ------                  --------------  -----  \n",
            " 0   city                    400 non-null    int64  \n",
            " 1   city_development_Index  400 non-null    float64\n",
            " 2   gender                  400 non-null    int64  \n",
            " 3   relevent_experience     400 non-null    int64  \n",
            " 4   enrolled_university     400 non-null    int64  \n",
            " 5   education_level         400 non-null    int64  \n",
            " 6   major_discipline        400 non-null    int64  \n",
            " 7   experience              400 non-null    int64  \n",
            " 8   company_size            400 non-null    float64\n",
            " 9   company_type            400 non-null    int64  \n",
            " 10  last_new_job            400 non-null    int64  \n",
            " 11  training_hours          400 non-null    int64  \n",
            "dtypes: float64(2), int64(10)\n",
            "memory usage: 37.6 KB\n"
          ]
        }
      ]
    },
    {
      "cell_type": "code",
      "metadata": {
        "id": "YoCVsFBygxQx",
        "colab": {
          "base_uri": "https://localhost:8080/",
          "height": 204
        },
        "outputId": "01ff1210-be59-4593-d106-4a581af41d33"
      },
      "source": [
        "# standard Scaler\n",
        "ss = StandardScaler()\n",
        "X_train_s = pd.DataFrame(ss.fit_transform(test), columns = test.columns)\n",
        "X_train_s.head()"
      ],
      "execution_count": null,
      "outputs": [
        {
          "output_type": "execute_result",
          "data": {
            "text/html": [
              "<div>\n",
              "<style scoped>\n",
              "    .dataframe tbody tr th:only-of-type {\n",
              "        vertical-align: middle;\n",
              "    }\n",
              "\n",
              "    .dataframe tbody tr th {\n",
              "        vertical-align: top;\n",
              "    }\n",
              "\n",
              "    .dataframe thead th {\n",
              "        text-align: right;\n",
              "    }\n",
              "</style>\n",
              "<table border=\"1\" class=\"dataframe\">\n",
              "  <thead>\n",
              "    <tr style=\"text-align: right;\">\n",
              "      <th></th>\n",
              "      <th>city</th>\n",
              "      <th>city_development_Index</th>\n",
              "      <th>gender</th>\n",
              "      <th>relevent_experience</th>\n",
              "      <th>enrolled_university</th>\n",
              "      <th>education_level</th>\n",
              "      <th>major_discipline</th>\n",
              "      <th>experience</th>\n",
              "      <th>company_size</th>\n",
              "      <th>company_type</th>\n",
              "      <th>last_new_job</th>\n",
              "      <th>training_hours</th>\n",
              "    </tr>\n",
              "  </thead>\n",
              "  <tbody>\n",
              "    <tr>\n",
              "      <th>0</th>\n",
              "      <td>-0.488532</td>\n",
              "      <td>-2.370030</td>\n",
              "      <td>1.525540</td>\n",
              "      <td>-0.612022</td>\n",
              "      <td>0.557569</td>\n",
              "      <td>-0.635875</td>\n",
              "      <td>0.501849</td>\n",
              "      <td>-0.807663</td>\n",
              "      <td>-0.517351</td>\n",
              "      <td>0.777378</td>\n",
              "      <td>0.669038</td>\n",
              "      <td>-0.494048</td>\n",
              "    </tr>\n",
              "    <tr>\n",
              "      <th>1</th>\n",
              "      <td>-0.762372</td>\n",
              "      <td>0.788770</td>\n",
              "      <td>1.525540</td>\n",
              "      <td>-0.612022</td>\n",
              "      <td>0.557569</td>\n",
              "      <td>-0.635875</td>\n",
              "      <td>0.501849</td>\n",
              "      <td>0.470538</td>\n",
              "      <td>-0.003851</td>\n",
              "      <td>0.777378</td>\n",
              "      <td>1.179754</td>\n",
              "      <td>-0.932957</td>\n",
              "    </tr>\n",
              "    <tr>\n",
              "      <th>2</th>\n",
              "      <td>-0.762372</td>\n",
              "      <td>0.788770</td>\n",
              "      <td>-0.381385</td>\n",
              "      <td>-0.612022</td>\n",
              "      <td>0.557569</td>\n",
              "      <td>-0.635875</td>\n",
              "      <td>0.501849</td>\n",
              "      <td>0.044471</td>\n",
              "      <td>2.050149</td>\n",
              "      <td>0.777378</td>\n",
              "      <td>0.669038</td>\n",
              "      <td>-0.509723</td>\n",
              "    </tr>\n",
              "    <tr>\n",
              "      <th>3</th>\n",
              "      <td>1.483121</td>\n",
              "      <td>0.226678</td>\n",
              "      <td>-0.381385</td>\n",
              "      <td>-0.612022</td>\n",
              "      <td>0.557569</td>\n",
              "      <td>-0.635875</td>\n",
              "      <td>0.501849</td>\n",
              "      <td>-1.233730</td>\n",
              "      <td>-0.517351</td>\n",
              "      <td>-0.754402</td>\n",
              "      <td>-0.863110</td>\n",
              "      <td>-0.415671</td>\n",
              "    </tr>\n",
              "    <tr>\n",
              "      <th>4</th>\n",
              "      <td>-1.200517</td>\n",
              "      <td>0.480015</td>\n",
              "      <td>-0.381385</td>\n",
              "      <td>-0.612022</td>\n",
              "      <td>0.557569</td>\n",
              "      <td>-0.635875</td>\n",
              "      <td>0.501849</td>\n",
              "      <td>-1.020697</td>\n",
              "      <td>0.509649</td>\n",
              "      <td>0.777378</td>\n",
              "      <td>-0.352394</td>\n",
              "      <td>-0.791879</td>\n",
              "    </tr>\n",
              "  </tbody>\n",
              "</table>\n",
              "</div>"
            ],
            "text/plain": [
              "       city  city_development_Index  ...  last_new_job  training_hours\n",
              "0 -0.488532               -2.370030  ...      0.669038       -0.494048\n",
              "1 -0.762372                0.788770  ...      1.179754       -0.932957\n",
              "2 -0.762372                0.788770  ...      0.669038       -0.509723\n",
              "3  1.483121                0.226678  ...     -0.863110       -0.415671\n",
              "4 -1.200517                0.480015  ...     -0.352394       -0.791879\n",
              "\n",
              "[5 rows x 12 columns]"
            ]
          },
          "metadata": {},
          "execution_count": 1165
        }
      ]
    },
    {
      "cell_type": "code",
      "metadata": {
        "id": "qQpszawgbXTK"
      },
      "source": [
        "X_train_s['city_development_Index'] = X_train_s['city_development_Index'] * 0.424703\n",
        "X_train_s['experience'] = X_train_s['experience'] * 0.181149\n",
        "X_train_s['enrolled_university'] = X_train_s['enrolled_university'] * 0.099486\n",
        "X_train_s['relevent_experience'] = X_train_s['relevent_experience'] * 0.088463\n",
        "X_train_s['company_type'] = X_train_s['company_type'] * 0.069721\n",
        "X_train_s['education_level'] = X_train_s['education_level'] * 0.066076\n",
        "X_train_s['gender'] = X_train_s['gender'] * 0.059277\n",
        "X_train_s['city'] = X_train_s['city'] * 0.047429\n",
        "X_train_s['last_new_job'] = X_train_s['last_new_job'] * 0.039110\n",
        "X_train_s['training_hours'] = X_train_s['training_hours'] * 0.011436\n",
        "X_train_s['company_size'] = X_train_s['company_size'] * 0.008337\n",
        "X_train_s['major_discipline'] = X_train_s['major_discipline'] * 0.002336"
      ],
      "execution_count": null,
      "outputs": []
    },
    {
      "cell_type": "code",
      "metadata": {
        "id": "kOMtUK1sbbWG"
      },
      "source": [
        "X_test_s['city_development_Index'] = X_test_s['city_development_Index'] *  0.424703\n",
        "X_test_s['experience'] = X_test_s['experience'] * 0.181149\n",
        "X_test_s['enrolled_university'] = X_test_s['enrolled_university'] * 0.099486\n",
        "X_test_s['relevent_experience'] = X_test_s['relevent_experience'] * 0.088463\n",
        "X_test_s['company_type'] = X_test_s['company_type'] * 0.069721\n",
        "X_test_s['education_level'] = X_test_s['education_level'] * 0.066076\n",
        "X_test_s['gender'] = X_test_s['gender'] * 0.059277\n",
        "X_test_s['city'] = X_test_s['city'] * 0.047429\n",
        "X_test_s['last_new_job'] = X_test_s['last_new_job'] * 0.039110\n",
        "X_test_s['training_hours'] = X_test_s['training_hours'] * 0.011436\n",
        "X_test_s['company_size'] = X_test_s['company_size'] * 0.008337\n",
        "X_test_s['major_discipline'] = X_test_s['major_discipline'] * 0.002336"
      ],
      "execution_count": null,
      "outputs": []
    },
    {
      "cell_type": "code",
      "metadata": {
        "id": "tdYPjna_hcdY",
        "colab": {
          "base_uri": "https://localhost:8080/"
        },
        "outputId": "7b78c205-4db4-44b6-c3d4-7cd22b0edad8"
      },
      "source": [
        "pred_test = knn_s.predict(X_train_s)\n",
        "pred_test"
      ],
      "execution_count": null,
      "outputs": [
        {
          "output_type": "execute_result",
          "data": {
            "text/plain": [
              "array([1, 0, 0, 0, 0, 0, 0, 0, 0, 0, 0, 0, 0, 0, 0, 0, 0, 0, 0, 1, 0, 0,\n",
              "       0, 0, 1, 0, 0, 1, 0, 0, 0, 0, 0, 0, 0, 0, 0, 0, 1, 0, 0, 0, 1, 0,\n",
              "       0, 0, 0, 0, 0, 0, 0, 0, 1, 0, 0, 0, 0, 0, 0, 0, 0, 0, 1, 0, 0, 0,\n",
              "       1, 1, 0, 0, 0, 1, 0, 0, 1, 0, 0, 0, 0, 0, 0, 0, 0, 0, 0, 0, 0, 0,\n",
              "       1, 0, 1, 1, 0, 0, 1, 0, 0, 0, 0, 0, 0, 0, 0, 1, 1, 0, 1, 1, 0, 0,\n",
              "       0, 0, 0, 0, 1, 0, 0, 0, 0, 0, 0, 0, 0, 0, 0, 0, 0, 0, 0, 1, 1, 0,\n",
              "       0, 1, 1, 1, 0, 0, 0, 0, 1, 0, 0, 0, 0, 1, 0, 0, 1, 0, 0, 0, 0, 0,\n",
              "       0, 0, 1, 0, 1, 0, 0, 0, 0, 0, 0, 0, 0, 0, 1, 0, 0, 0, 1, 0, 0, 0,\n",
              "       0, 0, 1, 0, 0, 1, 0, 0, 0, 0, 0, 0, 0, 0, 0, 0, 0, 1, 0, 1, 0, 0,\n",
              "       0, 0, 0, 0, 1, 0, 0, 0, 0, 0, 0, 0, 0, 1, 0, 0, 0, 0, 0, 0, 1, 1,\n",
              "       0, 0, 1, 0, 0, 0, 1, 0, 1, 1, 1, 0, 0, 0, 0, 0, 0, 0, 0, 0, 0, 0,\n",
              "       0, 0, 0, 0, 0, 0, 0, 1, 0, 0, 0, 0, 0, 0, 1, 1, 0, 0, 0, 0, 0, 0,\n",
              "       0, 0, 0, 0, 0, 0, 0, 0, 0, 0, 0, 0, 0, 0, 0, 0, 1, 0, 0, 0, 0, 0,\n",
              "       0, 0, 0, 0, 1, 0, 0, 0, 1, 0, 0, 0, 0, 0, 1, 0, 0, 0, 0, 0, 0, 0,\n",
              "       0, 0, 0, 0, 0, 0, 0, 0, 0, 0, 0, 0, 0, 0, 1, 0, 0, 0, 0, 1, 0, 0,\n",
              "       0, 0, 0, 0, 0, 0, 0, 0, 0, 0, 0, 0, 0, 0, 0, 0, 0, 0, 0, 0, 0, 0,\n",
              "       0, 0, 0, 0, 0, 0, 0, 0, 0, 0, 1, 0, 0, 0, 0, 0, 1, 0, 0, 0, 0, 1,\n",
              "       0, 0, 0, 0, 0, 1, 1, 0, 1, 0, 0, 0, 0, 1, 0, 0, 0, 1, 0, 0, 0, 0,\n",
              "       0, 0, 0, 0])"
            ]
          },
          "metadata": {},
          "execution_count": 1168
        }
      ]
    },
    {
      "cell_type": "code",
      "metadata": {
        "id": "tmi5l6GKiOik"
      },
      "source": [
        "y_pred = pd.DataFrame(pred_test)\n",
        "y_pred.columns =['target']\n",
        "y_pred['index'] = y_pred.index\n",
        "y_pred = y_pred[['index', 'target']]\n",
        "\n",
        "y_pred.to_csv(\"submit.csv\", header=True, index=False)"
      ],
      "execution_count": null,
      "outputs": []
    },
    {
      "cell_type": "code",
      "metadata": {
        "id": "p7SpymZ8Qf8a"
      },
      "source": [
        "submit = pd.read_csv(\"submit.csv\")"
      ],
      "execution_count": null,
      "outputs": []
    },
    {
      "cell_type": "code",
      "metadata": {
        "id": "hDf03y6ZQuG4",
        "colab": {
          "base_uri": "https://localhost:8080/",
          "height": 296
        },
        "outputId": "f70a25a7-fc7f-4be3-f7c4-4cd6ed141b02"
      },
      "source": [
        "submit.describe()"
      ],
      "execution_count": null,
      "outputs": [
        {
          "output_type": "execute_result",
          "data": {
            "text/html": [
              "<div>\n",
              "<style scoped>\n",
              "    .dataframe tbody tr th:only-of-type {\n",
              "        vertical-align: middle;\n",
              "    }\n",
              "\n",
              "    .dataframe tbody tr th {\n",
              "        vertical-align: top;\n",
              "    }\n",
              "\n",
              "    .dataframe thead th {\n",
              "        text-align: right;\n",
              "    }\n",
              "</style>\n",
              "<table border=\"1\" class=\"dataframe\">\n",
              "  <thead>\n",
              "    <tr style=\"text-align: right;\">\n",
              "      <th></th>\n",
              "      <th>index</th>\n",
              "      <th>target</th>\n",
              "    </tr>\n",
              "  </thead>\n",
              "  <tbody>\n",
              "    <tr>\n",
              "      <th>count</th>\n",
              "      <td>400.000000</td>\n",
              "      <td>400.000000</td>\n",
              "    </tr>\n",
              "    <tr>\n",
              "      <th>mean</th>\n",
              "      <td>199.500000</td>\n",
              "      <td>0.157500</td>\n",
              "    </tr>\n",
              "    <tr>\n",
              "      <th>std</th>\n",
              "      <td>115.614301</td>\n",
              "      <td>0.364728</td>\n",
              "    </tr>\n",
              "    <tr>\n",
              "      <th>min</th>\n",
              "      <td>0.000000</td>\n",
              "      <td>0.000000</td>\n",
              "    </tr>\n",
              "    <tr>\n",
              "      <th>25%</th>\n",
              "      <td>99.750000</td>\n",
              "      <td>0.000000</td>\n",
              "    </tr>\n",
              "    <tr>\n",
              "      <th>50%</th>\n",
              "      <td>199.500000</td>\n",
              "      <td>0.000000</td>\n",
              "    </tr>\n",
              "    <tr>\n",
              "      <th>75%</th>\n",
              "      <td>299.250000</td>\n",
              "      <td>0.000000</td>\n",
              "    </tr>\n",
              "    <tr>\n",
              "      <th>max</th>\n",
              "      <td>399.000000</td>\n",
              "      <td>1.000000</td>\n",
              "    </tr>\n",
              "  </tbody>\n",
              "</table>\n",
              "</div>"
            ],
            "text/plain": [
              "            index      target\n",
              "count  400.000000  400.000000\n",
              "mean   199.500000    0.157500\n",
              "std    115.614301    0.364728\n",
              "min      0.000000    0.000000\n",
              "25%     99.750000    0.000000\n",
              "50%    199.500000    0.000000\n",
              "75%    299.250000    0.000000\n",
              "max    399.000000    1.000000"
            ]
          },
          "metadata": {},
          "execution_count": 1171
        }
      ]
    },
    {
      "cell_type": "code",
      "metadata": {
        "id": "wOgiFeR_RM6h"
      },
      "source": [
        "#!kaggle competitions submit -c b8competition1 -f ./content/submit.csv -m 'first commit knn model no parameter tuning'"
      ],
      "execution_count": null,
      "outputs": []
    },
    {
      "cell_type": "markdown",
      "metadata": {
        "id": "sR6V-ZxFGYCY"
      },
      "source": [
        "SVM"
      ]
    },
    {
      "cell_type": "code",
      "metadata": {
        "id": "mlHPfKU9HIng"
      },
      "source": [
        "import numpy as np\n",
        "import pandas as pd\n",
        "import matplotlib.pyplot as plt\n",
        "from sklearn.svm import SVC\n",
        "from sklearn.model_selection import train_test_split\n",
        "from sklearn.pipeline import Pipeline\n",
        "from sklearn.preprocessing import StandardScaler\n",
        "import matplotlib.pyplot as plt\n",
        "from sklearn.svm import SVC\n",
        "from sklearn.model_selection import train_test_split\n",
        "from sklearn.pipeline import Pipeline\n",
        "from sklearn.preprocessing import StandardScaler\n",
        "from sklearn import metrics\n",
        "from sklearn.model_selection import GridSearchCV, KFold"
      ],
      "execution_count": null,
      "outputs": []
    },
    {
      "cell_type": "code",
      "metadata": {
        "id": "zGtLY0-bJ0PF"
      },
      "source": [
        "train = pd.read_csv('/content/changingjob_train.csv')"
      ],
      "execution_count": null,
      "outputs": []
    },
    {
      "cell_type": "code",
      "metadata": {
        "id": "E84yX30XJ64n"
      },
      "source": [
        "train.drop('Unnamed: 0',axis=1,inplace=True)\n",
        "train.drop('Unnamed: 0.1',axis=1,inplace=True)\n",
        "train = train.dropna(axis=0)"
      ],
      "execution_count": null,
      "outputs": []
    },
    {
      "cell_type": "code",
      "metadata": {
        "id": "-e3UYZhmKHWT"
      },
      "source": [
        "df = train\n",
        "for c in df.columns:\n",
        "    if df[c].dtype=='object': \n",
        "      df[c] = df[c].fillna('N')\n",
        "      lbl = LabelEncoder()\n",
        "      lbl.fit(list(df[c].values))\n",
        "      df[c] = lbl.transform(df[c].values)"
      ],
      "execution_count": null,
      "outputs": []
    },
    {
      "cell_type": "code",
      "metadata": {
        "id": "R5XmbLENKH3P"
      },
      "source": [
        "X_train, X_test, y_train, y_test = train_test_split(df.iloc[:,:-1], df.iloc[:,-1], random_state=42)"
      ],
      "execution_count": null,
      "outputs": []
    },
    {
      "cell_type": "code",
      "metadata": {
        "id": "tYnQy3AWKMg_"
      },
      "source": [
        "ss = StandardScaler() # Scaling\n",
        "X_train_s = pd.DataFrame(ss.fit_transform(X_train), columns = X_train.columns)\n",
        "X_test_s = pd.DataFrame(ss.transform(X_test), columns = X_test.columns)"
      ],
      "execution_count": null,
      "outputs": []
    },
    {
      "cell_type": "code",
      "metadata": {
        "id": "X6pWOp9b5fHY"
      },
      "source": [
        "X_train_s['city_development_Index'] = X_train_s['city_development_Index'] * 0.424703\n",
        "X_train_s['experience'] = X_train_s['experience'] * 0.181149\n",
        "X_train_s['enrolled_university'] = X_train_s['enrolled_university'] * 0.099486\n",
        "X_train_s['relevent_experience'] = X_train_s['relevent_experience'] * 0.088463\n",
        "X_train_s['company_type'] = X_train_s['company_type'] * 0.069721\n",
        "X_train_s['education_level'] = X_train_s['education_level'] * 0.066076\n",
        "X_train_s['gender'] = X_train_s['gender'] * 0.059277\n",
        "X_train_s['city'] = X_train_s['city'] * 0.047429\n",
        "X_train_s['last_new_job'] = X_train_s['last_new_job'] * 0.039110\n",
        "X_train_s['training_hours'] = X_train_s['training_hours'] * 0.011436\n",
        "X_train_s['company_size'] = X_train_s['company_size'] * 0.008337\n",
        "X_train_s['major_discipline'] = X_train_s['major_discipline'] * 0.002336"
      ],
      "execution_count": null,
      "outputs": []
    },
    {
      "cell_type": "code",
      "metadata": {
        "id": "radzJaH0_4kT"
      },
      "source": [
        "X_test_s['city_development_Index'] = X_test_s['city_development_Index'] *  0.424703\n",
        "X_test_s['experience'] = X_test_s['experience'] * 0.181149\n",
        "X_test_s['enrolled_university'] = X_test_s['enrolled_university'] * 0.099486\n",
        "X_test_s['relevent_experience'] = X_test_s['relevent_experience'] * 0.088463\n",
        "X_test_s['company_type'] = X_test_s['company_type'] * 0.069721\n",
        "X_test_s['education_level'] = X_test_s['education_level'] * 0.066076\n",
        "X_test_s['gender'] = X_test_s['gender'] * 0.059277\n",
        "X_test_s['city'] = X_test_s['city'] * 0.047429\n",
        "X_test_s['last_new_job'] = X_test_s['last_new_job'] * 0.039110\n",
        "X_test_s['training_hours'] = X_test_s['training_hours'] * 0.011436\n",
        "X_test_s['company_size'] = X_test_s['company_size'] * 0.008337\n",
        "X_test_s['major_discipline'] = X_test_s['major_discipline'] * 0.002336"
      ],
      "execution_count": null,
      "outputs": []
    },
    {
      "cell_type": "code",
      "metadata": {
        "id": "I9iWBn3pGnkO",
        "colab": {
          "base_uri": "https://localhost:8080/"
        },
        "outputId": "2e2ff4a6-06ca-4c30-ef43-1f5dd474d560"
      },
      "source": [
        "svc_weight=SVC()\n",
        "svc_weight.fit(X_train_s,y_train)"
      ],
      "execution_count": null,
      "outputs": [
        {
          "output_type": "execute_result",
          "data": {
            "text/plain": [
              "SVC(C=1.0, break_ties=False, cache_size=200, class_weight=None, coef0=0.0,\n",
              "    decision_function_shape='ovr', degree=3, gamma='scale', kernel='rbf',\n",
              "    max_iter=-1, probability=False, random_state=None, shrinking=True,\n",
              "    tol=0.001, verbose=False)"
            ]
          },
          "metadata": {},
          "execution_count": 1182
        }
      ]
    },
    {
      "cell_type": "code",
      "metadata": {
        "id": "OKoE1LGuHMvf",
        "colab": {
          "base_uri": "https://localhost:8080/"
        },
        "outputId": "6093a534-1d07-4478-ef66-a0a07e49a0fb"
      },
      "source": [
        "y_pred_weight = svc_weight.predict(X_test_s)\n",
        "print(accuracy_score(y_test,y_pred_weight))"
      ],
      "execution_count": null,
      "outputs": [
        {
          "output_type": "stream",
          "name": "stdout",
          "text": [
            "0.8421234057221648\n"
          ]
        }
      ]
    },
    {
      "cell_type": "code",
      "metadata": {
        "id": "bmtV_6_uKUY7"
      },
      "source": [
        "ms = MinMaxScaler()\n",
        "X_train_m = pd.DataFrame(ms.fit_transform(X_train), columns = X_train.columns)\n",
        "X_test_m = pd.DataFrame(ms.transform(X_test), columns = X_test.columns)"
      ],
      "execution_count": null,
      "outputs": []
    },
    {
      "cell_type": "code",
      "metadata": {
        "id": "wWVILsCzemHL"
      },
      "source": [
        "X_train_m['city_development_Index'] = X_train_m['city_development_Index'] * 0.424703\n",
        "X_train_m['experience'] = X_train_m['experience'] * 0.181149\n",
        "X_train_m['enrolled_university'] = X_train_m['enrolled_university'] * 0.099486\n",
        "X_train_m['relevent_experience'] = X_train_m['relevent_experience'] * 0.088463\n",
        "X_train_m['company_type'] = X_train_m['company_type'] * 0.069721\n",
        "X_train_m['education_level'] = X_train_m['education_level'] * 0.066076\n",
        "X_train_m['gender'] = X_train_m['gender'] * 0.059277\n",
        "X_train_m['city'] = X_train_m['city'] * 0.047429\n",
        "X_train_m['last_new_job'] = X_train_m['last_new_job'] * 0.039110\n",
        "X_train_m['training_hours'] = X_train_m['training_hours'] * 0.011436\n",
        "X_train_m['company_size'] = X_train_m['company_size'] * 0.008337\n",
        "X_train_m['major_discipline'] = X_train_m['major_discipline'] * 0.002336"
      ],
      "execution_count": null,
      "outputs": []
    },
    {
      "cell_type": "code",
      "metadata": {
        "id": "kiCe-iPeemO-"
      },
      "source": [
        "X_test_m['city_development_Index'] = X_test_m['city_development_Index'] *  0.424703\n",
        "X_test_m['experience'] = X_test_m['experience'] * 0.181149\n",
        "X_test_m['enrolled_university'] = X_test_m['enrolled_university'] * 0.099486\n",
        "X_test_m['relevent_experience'] = X_test_m['relevent_experience'] * 0.088463\n",
        "X_test_m['company_type'] = X_test_m['company_type'] * 0.069721\n",
        "X_test_m['education_level'] = X_test_m['education_level'] * 0.066076\n",
        "X_test_m['gender'] = X_test_m['gender'] * 0.059277\n",
        "X_test_m['city'] = X_test_m['city'] * 0.047429\n",
        "X_test_m['last_new_job'] = X_test_m['last_new_job'] * 0.039110\n",
        "X_test_m['training_hours'] = X_test_m['training_hours'] * 0.011436\n",
        "X_test_m['company_size'] = X_test_m['company_size'] * 0.008337\n",
        "X_test_m['major_discipline'] = X_test_m['major_discipline'] * 0.002336"
      ],
      "execution_count": null,
      "outputs": []
    },
    {
      "cell_type": "code",
      "metadata": {
        "id": "_qgWCZG1Io11",
        "colab": {
          "base_uri": "https://localhost:8080/"
        },
        "outputId": "18b393ac-a51c-4cd9-ce12-3594e3a5acda"
      },
      "source": [
        "svc_weight_m=SVC()\n",
        "svc_weight_m.fit(X_train_m,y_train)"
      ],
      "execution_count": null,
      "outputs": [
        {
          "output_type": "execute_result",
          "data": {
            "text/plain": [
              "SVC(C=1.0, break_ties=False, cache_size=200, class_weight=None, coef0=0.0,\n",
              "    decision_function_shape='ovr', degree=3, gamma='scale', kernel='rbf',\n",
              "    max_iter=-1, probability=False, random_state=None, shrinking=True,\n",
              "    tol=0.001, verbose=False)"
            ]
          },
          "metadata": {},
          "execution_count": 1187
        }
      ]
    },
    {
      "cell_type": "code",
      "metadata": {
        "id": "F0rwn7yjIl5r",
        "colab": {
          "base_uri": "https://localhost:8080/"
        },
        "outputId": "63fbeef5-b790-452e-aea8-f71efe866ded"
      },
      "source": [
        "y_pred_weight = svc_weight_m.predict(X_test_m)\n",
        "print(accuracy_score(y_test,y_pred_weight))"
      ],
      "execution_count": null,
      "outputs": [
        {
          "output_type": "stream",
          "name": "stdout",
          "text": [
            "0.8369527749052051\n"
          ]
        }
      ]
    },
    {
      "cell_type": "code",
      "metadata": {
        "id": "166DZDFMMfDY"
      },
      "source": [
        "param_grid = {'C': [0.001, 0.01, 0.1, 1, 10, 100],\n",
        "             'gamma': [0.001, 0.01, 0.1, 1, 10, 100] }"
      ],
      "execution_count": null,
      "outputs": []
    },
    {
      "cell_type": "code",
      "metadata": {
        "id": "Zvz0WHI82e6O"
      },
      "source": [
        ""
      ],
      "execution_count": null,
      "outputs": []
    },
    {
      "cell_type": "code",
      "metadata": {
        "id": "UWiGl-9DMRtx",
        "colab": {
          "base_uri": "https://localhost:8080/"
        },
        "outputId": "190a7406-94e5-419f-f3fb-8f0b88302d91"
      },
      "source": [
        "from sklearn.model_selection import GridSearchCV\n",
        "from sklearn.svm import SVC\n",
        "\n",
        "# GridSearchCV\n",
        "model = SVC()\n",
        "grid_search = GridSearchCV(model, param_grid, cv=3,n_jobs=-1)\n",
        "\n",
        "# grid_search.fit\n",
        "grid_search.fit(X_train_s, y_train)"
      ],
      "execution_count": null,
      "outputs": [
        {
          "output_type": "execute_result",
          "data": {
            "text/plain": [
              "GridSearchCV(cv=3, error_score=nan,\n",
              "             estimator=SVC(C=1.0, break_ties=False, cache_size=200,\n",
              "                           class_weight=None, coef0=0.0,\n",
              "                           decision_function_shape='ovr', degree=3,\n",
              "                           gamma='scale', kernel='rbf', max_iter=-1,\n",
              "                           probability=False, random_state=None, shrinking=True,\n",
              "                           tol=0.001, verbose=False),\n",
              "             iid='deprecated', n_jobs=-1,\n",
              "             param_grid={'C': [0.001, 0.01, 0.1, 1, 10, 100],\n",
              "                         'gamma': [0.001, 0.01, 0.1, 1, 10, 100]},\n",
              "             pre_dispatch='2*n_jobs', refit=True, return_train_score=False,\n",
              "             scoring=None, verbose=0)"
            ]
          },
          "metadata": {},
          "execution_count": 1190
        }
      ]
    },
    {
      "cell_type": "code",
      "metadata": {
        "id": "Le9IPXK-OfjD",
        "colab": {
          "base_uri": "https://localhost:8080/"
        },
        "outputId": "2d1523cb-7648-447b-a836-e62bbc4d2eda"
      },
      "source": [
        "print(\"최적 매개변수: {}\".format(grid_search.best_params_))"
      ],
      "execution_count": null,
      "outputs": [
        {
          "output_type": "stream",
          "name": "stdout",
          "text": [
            "최적 매개변수: {'C': 1, 'gamma': 10}\n"
          ]
        }
      ]
    },
    {
      "cell_type": "code",
      "metadata": {
        "id": "MR7XXdBAPDlV",
        "colab": {
          "base_uri": "https://localhost:8080/"
        },
        "outputId": "3d35a955-482b-48de-eea9-e75237bf632c"
      },
      "source": [
        "svc_weight=SVC(C=1, gamma= 10)\n",
        "svc_weight.fit(X_train_s,y_train)\n",
        "y_pred_weight = svc_weight.predict(X_test_s)\n",
        "print(accuracy_score(y_test,y_pred_weight))"
      ],
      "execution_count": null,
      "outputs": [
        {
          "output_type": "stream",
          "name": "stdout",
          "text": [
            "0.8421234057221648\n"
          ]
        }
      ]
    },
    {
      "cell_type": "code",
      "metadata": {
        "id": "SR8NAM-YPi-X",
        "colab": {
          "base_uri": "https://localhost:8080/",
          "height": 455
        },
        "outputId": "5c5af23e-f55b-4657-b76d-d160159f02c0"
      },
      "source": [
        "test = pd.read_csv('/content/changingjob_testx.csv')\n",
        "test"
      ],
      "execution_count": null,
      "outputs": [
        {
          "output_type": "execute_result",
          "data": {
            "text/html": [
              "<div>\n",
              "<style scoped>\n",
              "    .dataframe tbody tr th:only-of-type {\n",
              "        vertical-align: middle;\n",
              "    }\n",
              "\n",
              "    .dataframe tbody tr th {\n",
              "        vertical-align: top;\n",
              "    }\n",
              "\n",
              "    .dataframe thead th {\n",
              "        text-align: right;\n",
              "    }\n",
              "</style>\n",
              "<table border=\"1\" class=\"dataframe\">\n",
              "  <thead>\n",
              "    <tr style=\"text-align: right;\">\n",
              "      <th></th>\n",
              "      <th>Unnamed: 0</th>\n",
              "      <th>Unnamed: 0.1</th>\n",
              "      <th>city</th>\n",
              "      <th>city_development_Index</th>\n",
              "      <th>gender</th>\n",
              "      <th>relevent_experience</th>\n",
              "      <th>enrolled_university</th>\n",
              "      <th>education_level</th>\n",
              "      <th>major_discipline</th>\n",
              "      <th>experience</th>\n",
              "      <th>company_size</th>\n",
              "      <th>company_type</th>\n",
              "      <th>last_new_job</th>\n",
              "      <th>training_hours</th>\n",
              "    </tr>\n",
              "  </thead>\n",
              "  <tbody>\n",
              "    <tr>\n",
              "      <th>0</th>\n",
              "      <td>0</td>\n",
              "      <td>18126</td>\n",
              "      <td>city_128</td>\n",
              "      <td>0.527</td>\n",
              "      <td>Other</td>\n",
              "      <td>Has relevent experience</td>\n",
              "      <td>no_enrollment</td>\n",
              "      <td>Graduate</td>\n",
              "      <td>STEM</td>\n",
              "      <td>4</td>\n",
              "      <td>3.0</td>\n",
              "      <td>Pvt Ltd</td>\n",
              "      <td>4</td>\n",
              "      <td>36</td>\n",
              "    </tr>\n",
              "    <tr>\n",
              "      <th>1</th>\n",
              "      <td>1</td>\n",
              "      <td>18127</td>\n",
              "      <td>city_114</td>\n",
              "      <td>0.926</td>\n",
              "      <td>Other</td>\n",
              "      <td>Has relevent experience</td>\n",
              "      <td>no_enrollment</td>\n",
              "      <td>Graduate</td>\n",
              "      <td>STEM</td>\n",
              "      <td>16</td>\n",
              "      <td>4.0</td>\n",
              "      <td>Pvt Ltd</td>\n",
              "      <td>&gt;4</td>\n",
              "      <td>8</td>\n",
              "    </tr>\n",
              "    <tr>\n",
              "      <th>2</th>\n",
              "      <td>2</td>\n",
              "      <td>18128</td>\n",
              "      <td>city_114</td>\n",
              "      <td>0.926</td>\n",
              "      <td>Male</td>\n",
              "      <td>Has relevent experience</td>\n",
              "      <td>no_enrollment</td>\n",
              "      <td>Graduate</td>\n",
              "      <td>STEM</td>\n",
              "      <td>12</td>\n",
              "      <td>8.0</td>\n",
              "      <td>Pvt Ltd</td>\n",
              "      <td>4</td>\n",
              "      <td>35</td>\n",
              "    </tr>\n",
              "    <tr>\n",
              "      <th>3</th>\n",
              "      <td>3</td>\n",
              "      <td>18129</td>\n",
              "      <td>city_67</td>\n",
              "      <td>0.855</td>\n",
              "      <td>Male</td>\n",
              "      <td>Has relevent experience</td>\n",
              "      <td>no_enrollment</td>\n",
              "      <td>Graduate</td>\n",
              "      <td>STEM</td>\n",
              "      <td>0</td>\n",
              "      <td>NaN</td>\n",
              "      <td>Other</td>\n",
              "      <td>1</td>\n",
              "      <td>41</td>\n",
              "    </tr>\n",
              "    <tr>\n",
              "      <th>4</th>\n",
              "      <td>4</td>\n",
              "      <td>18130</td>\n",
              "      <td>city_100</td>\n",
              "      <td>0.887</td>\n",
              "      <td>Male</td>\n",
              "      <td>Has relevent experience</td>\n",
              "      <td>no_enrollment</td>\n",
              "      <td>Graduate</td>\n",
              "      <td>STEM</td>\n",
              "      <td>2</td>\n",
              "      <td>5.0</td>\n",
              "      <td>Pvt Ltd</td>\n",
              "      <td>2</td>\n",
              "      <td>17</td>\n",
              "    </tr>\n",
              "    <tr>\n",
              "      <th>...</th>\n",
              "      <td>...</td>\n",
              "      <td>...</td>\n",
              "      <td>...</td>\n",
              "      <td>...</td>\n",
              "      <td>...</td>\n",
              "      <td>...</td>\n",
              "      <td>...</td>\n",
              "      <td>...</td>\n",
              "      <td>...</td>\n",
              "      <td>...</td>\n",
              "      <td>...</td>\n",
              "      <td>...</td>\n",
              "      <td>...</td>\n",
              "      <td>...</td>\n",
              "    </tr>\n",
              "    <tr>\n",
              "      <th>395</th>\n",
              "      <td>395</td>\n",
              "      <td>18521</td>\n",
              "      <td>city_173</td>\n",
              "      <td>0.878</td>\n",
              "      <td>Male</td>\n",
              "      <td>No relevent experience</td>\n",
              "      <td>no_enrollment</td>\n",
              "      <td>Graduate</td>\n",
              "      <td>Humanities</td>\n",
              "      <td>14</td>\n",
              "      <td>NaN</td>\n",
              "      <td>Other</td>\n",
              "      <td>1</td>\n",
              "      <td>42</td>\n",
              "    </tr>\n",
              "    <tr>\n",
              "      <th>396</th>\n",
              "      <td>396</td>\n",
              "      <td>18522</td>\n",
              "      <td>city_103</td>\n",
              "      <td>0.920</td>\n",
              "      <td>Male</td>\n",
              "      <td>Has relevent experience</td>\n",
              "      <td>no_enrollment</td>\n",
              "      <td>Graduate</td>\n",
              "      <td>STEM</td>\n",
              "      <td>14</td>\n",
              "      <td>NaN</td>\n",
              "      <td>Other</td>\n",
              "      <td>4</td>\n",
              "      <td>52</td>\n",
              "    </tr>\n",
              "    <tr>\n",
              "      <th>397</th>\n",
              "      <td>397</td>\n",
              "      <td>18523</td>\n",
              "      <td>city_103</td>\n",
              "      <td>0.920</td>\n",
              "      <td>Male</td>\n",
              "      <td>Has relevent experience</td>\n",
              "      <td>no_enrollment</td>\n",
              "      <td>Graduate</td>\n",
              "      <td>STEM</td>\n",
              "      <td>30</td>\n",
              "      <td>3.0</td>\n",
              "      <td>Pvt Ltd</td>\n",
              "      <td>4</td>\n",
              "      <td>44</td>\n",
              "    </tr>\n",
              "    <tr>\n",
              "      <th>398</th>\n",
              "      <td>398</td>\n",
              "      <td>18524</td>\n",
              "      <td>city_65</td>\n",
              "      <td>0.802</td>\n",
              "      <td>Male</td>\n",
              "      <td>Has relevent experience</td>\n",
              "      <td>no_enrollment</td>\n",
              "      <td>UH</td>\n",
              "      <td>NaN</td>\n",
              "      <td>0</td>\n",
              "      <td>5.0</td>\n",
              "      <td>Pvt Ltd</td>\n",
              "      <td>2</td>\n",
              "      <td>97</td>\n",
              "    </tr>\n",
              "    <tr>\n",
              "      <th>399</th>\n",
              "      <td>399</td>\n",
              "      <td>18525</td>\n",
              "      <td>city_67</td>\n",
              "      <td>0.855</td>\n",
              "      <td>Other</td>\n",
              "      <td>No relevent experience</td>\n",
              "      <td>no_enrollment</td>\n",
              "      <td>UH</td>\n",
              "      <td>NaN</td>\n",
              "      <td>2</td>\n",
              "      <td>NaN</td>\n",
              "      <td>Other</td>\n",
              "      <td>1</td>\n",
              "      <td>127</td>\n",
              "    </tr>\n",
              "  </tbody>\n",
              "</table>\n",
              "<p>400 rows × 14 columns</p>\n",
              "</div>"
            ],
            "text/plain": [
              "     Unnamed: 0  Unnamed: 0.1  ... last_new_job  training_hours\n",
              "0             0         18126  ...            4              36\n",
              "1             1         18127  ...           >4               8\n",
              "2             2         18128  ...            4              35\n",
              "3             3         18129  ...            1              41\n",
              "4             4         18130  ...            2              17\n",
              "..          ...           ...  ...          ...             ...\n",
              "395         395         18521  ...            1              42\n",
              "396         396         18522  ...            4              52\n",
              "397         397         18523  ...            4              44\n",
              "398         398         18524  ...            2              97\n",
              "399         399         18525  ...            1             127\n",
              "\n",
              "[400 rows x 14 columns]"
            ]
          },
          "metadata": {},
          "execution_count": 1193
        }
      ]
    },
    {
      "cell_type": "code",
      "metadata": {
        "id": "es4TZI8QRRa0"
      },
      "source": [
        "test.drop('Unnamed: 0',axis=1,inplace=True)\n",
        "test.drop('Unnamed: 0.1',axis=1,inplace=True)"
      ],
      "execution_count": null,
      "outputs": []
    },
    {
      "cell_type": "code",
      "metadata": {
        "id": "RiJybPo2RVd8"
      },
      "source": [
        "df=test\n",
        "for c in test.columns:\n",
        "    if test[c].dtype=='object': \n",
        "      df[c] = df[c].fillna('N')\n",
        "      lbl = LabelEncoder()\n",
        "      lbl.fit(list(test[c].values))\n",
        "      test[c] = lbl.transform(test[c].values)\n",
        "        \n",
        "df=test"
      ],
      "execution_count": null,
      "outputs": []
    },
    {
      "cell_type": "code",
      "metadata": {
        "colab": {
          "base_uri": "https://localhost:8080/",
          "height": 296
        },
        "id": "J8Xz4HL7fMN-",
        "outputId": "1cd12253-0786-41e6-d9a8-305f53803c9f"
      },
      "source": [
        "def num_compare2(num_col):\n",
        "    sns.kdeplot(data=test,x=test[num_col])\n",
        "    plt.title(num_col)\n",
        "    plt.show()\n",
        "num_compare2('company_size')"
      ],
      "execution_count": null,
      "outputs": [
        {
          "output_type": "display_data",
          "data": {
            "image/png": "[encoded data removed]",
            "text/plain": [
              "<Figure size 432x288 with 1 Axes>"
            ]
          },
          "metadata": {
            "needs_background": "light"
          }
        }
      ]
    },
    {
      "cell_type": "code",
      "metadata": {
        "id": "mlKnUL67nq_9"
      },
      "source": [
        "df['company_size']=df['company_size'].fillna(3)"
      ],
      "execution_count": null,
      "outputs": []
    },
    {
      "cell_type": "code",
      "metadata": {
        "id": "TyunbdnFRaV3",
        "colab": {
          "base_uri": "https://localhost:8080/",
          "height": 204
        },
        "outputId": "94bb1bb5-71c0-4d44-db78-3514357fcf84"
      },
      "source": [
        "# Minmax Scaler\n",
        "ss = StandardScaler()\n",
        "X_train_s = pd.DataFrame(ss.fit_transform(df), columns = df.columns)\n",
        "X_train_s.head()"
      ],
      "execution_count": null,
      "outputs": [
        {
          "output_type": "execute_result",
          "data": {
            "text/html": [
              "<div>\n",
              "<style scoped>\n",
              "    .dataframe tbody tr th:only-of-type {\n",
              "        vertical-align: middle;\n",
              "    }\n",
              "\n",
              "    .dataframe tbody tr th {\n",
              "        vertical-align: top;\n",
              "    }\n",
              "\n",
              "    .dataframe thead th {\n",
              "        text-align: right;\n",
              "    }\n",
              "</style>\n",
              "<table border=\"1\" class=\"dataframe\">\n",
              "  <thead>\n",
              "    <tr style=\"text-align: right;\">\n",
              "      <th></th>\n",
              "      <th>city</th>\n",
              "      <th>city_development_Index</th>\n",
              "      <th>gender</th>\n",
              "      <th>relevent_experience</th>\n",
              "      <th>enrolled_university</th>\n",
              "      <th>education_level</th>\n",
              "      <th>major_discipline</th>\n",
              "      <th>experience</th>\n",
              "      <th>company_size</th>\n",
              "      <th>company_type</th>\n",
              "      <th>last_new_job</th>\n",
              "      <th>training_hours</th>\n",
              "    </tr>\n",
              "  </thead>\n",
              "  <tbody>\n",
              "    <tr>\n",
              "      <th>0</th>\n",
              "      <td>-0.488532</td>\n",
              "      <td>-2.370030</td>\n",
              "      <td>1.525540</td>\n",
              "      <td>-0.612022</td>\n",
              "      <td>0.557569</td>\n",
              "      <td>-0.635875</td>\n",
              "      <td>0.501849</td>\n",
              "      <td>-0.807663</td>\n",
              "      <td>-0.517351</td>\n",
              "      <td>0.777378</td>\n",
              "      <td>0.669038</td>\n",
              "      <td>-0.494048</td>\n",
              "    </tr>\n",
              "    <tr>\n",
              "      <th>1</th>\n",
              "      <td>-0.762372</td>\n",
              "      <td>0.788770</td>\n",
              "      <td>1.525540</td>\n",
              "      <td>-0.612022</td>\n",
              "      <td>0.557569</td>\n",
              "      <td>-0.635875</td>\n",
              "      <td>0.501849</td>\n",
              "      <td>0.470538</td>\n",
              "      <td>-0.003851</td>\n",
              "      <td>0.777378</td>\n",
              "      <td>1.179754</td>\n",
              "      <td>-0.932957</td>\n",
              "    </tr>\n",
              "    <tr>\n",
              "      <th>2</th>\n",
              "      <td>-0.762372</td>\n",
              "      <td>0.788770</td>\n",
              "      <td>-0.381385</td>\n",
              "      <td>-0.612022</td>\n",
              "      <td>0.557569</td>\n",
              "      <td>-0.635875</td>\n",
              "      <td>0.501849</td>\n",
              "      <td>0.044471</td>\n",
              "      <td>2.050149</td>\n",
              "      <td>0.777378</td>\n",
              "      <td>0.669038</td>\n",
              "      <td>-0.509723</td>\n",
              "    </tr>\n",
              "    <tr>\n",
              "      <th>3</th>\n",
              "      <td>1.483121</td>\n",
              "      <td>0.226678</td>\n",
              "      <td>-0.381385</td>\n",
              "      <td>-0.612022</td>\n",
              "      <td>0.557569</td>\n",
              "      <td>-0.635875</td>\n",
              "      <td>0.501849</td>\n",
              "      <td>-1.233730</td>\n",
              "      <td>-0.517351</td>\n",
              "      <td>-0.754402</td>\n",
              "      <td>-0.863110</td>\n",
              "      <td>-0.415671</td>\n",
              "    </tr>\n",
              "    <tr>\n",
              "      <th>4</th>\n",
              "      <td>-1.200517</td>\n",
              "      <td>0.480015</td>\n",
              "      <td>-0.381385</td>\n",
              "      <td>-0.612022</td>\n",
              "      <td>0.557569</td>\n",
              "      <td>-0.635875</td>\n",
              "      <td>0.501849</td>\n",
              "      <td>-1.020697</td>\n",
              "      <td>0.509649</td>\n",
              "      <td>0.777378</td>\n",
              "      <td>-0.352394</td>\n",
              "      <td>-0.791879</td>\n",
              "    </tr>\n",
              "  </tbody>\n",
              "</table>\n",
              "</div>"
            ],
            "text/plain": [
              "       city  city_development_Index  ...  last_new_job  training_hours\n",
              "0 -0.488532               -2.370030  ...      0.669038       -0.494048\n",
              "1 -0.762372                0.788770  ...      1.179754       -0.932957\n",
              "2 -0.762372                0.788770  ...      0.669038       -0.509723\n",
              "3  1.483121                0.226678  ...     -0.863110       -0.415671\n",
              "4 -1.200517                0.480015  ...     -0.352394       -0.791879\n",
              "\n",
              "[5 rows x 12 columns]"
            ]
          },
          "metadata": {},
          "execution_count": 1198
        }
      ]
    },
    {
      "cell_type": "code",
      "metadata": {
        "id": "NSYmrMinA-zV"
      },
      "source": [
        "X_train_s['city_development_Index'] = X_train_s['city_development_Index'] * 0.424703\n",
        "X_train_s['experience'] = X_train_s['experience'] * 0.181149\n",
        "X_train_s['enrolled_university'] = X_train_s['enrolled_university'] * 0.099486\n",
        "X_train_s['relevent_experience'] = X_train_s['relevent_experience'] * 0.088463\n",
        "X_train_s['company_type'] = X_train_s['company_type'] * 0.069721\n",
        "X_train_s['education_level'] = X_train_s['education_level'] * 0.066076\n",
        "X_train_s['gender'] = X_train_s['gender'] * 0.059277\n",
        "X_train_s['city'] = X_train_s['city'] * 0.047429\n",
        "X_train_s['last_new_job'] = X_train_s['last_new_job'] * 0.039110\n",
        "X_train_s['training_hours'] = X_train_s['training_hours'] * 0.011436\n",
        "X_train_s['company_size'] = X_train_s['company_size'] * 0.008337\n",
        "X_train_s['major_discipline'] = X_train_s['major_discipline'] * 0.002336"
      ],
      "execution_count": null,
      "outputs": []
    },
    {
      "cell_type": "code",
      "metadata": {
        "id": "rMmAxM3oSImN",
        "colab": {
          "base_uri": "https://localhost:8080/"
        },
        "outputId": "e3b561dd-e238-4c95-ba24-d1770c5b75ae"
      },
      "source": [
        "pred_test = svc_weight.predict(X_train_s)\n",
        "pred_test"
      ],
      "execution_count": null,
      "outputs": [
        {
          "output_type": "execute_result",
          "data": {
            "text/plain": [
              "array([1, 0, 0, 0, 0, 0, 0, 0, 0, 0, 0, 0, 0, 0, 0, 0, 0, 1, 1, 1, 0, 0,\n",
              "       0, 0, 1, 0, 0, 1, 0, 0, 0, 0, 0, 0, 0, 0, 0, 0, 1, 0, 0, 0, 0, 0,\n",
              "       0, 0, 0, 0, 0, 0, 0, 0, 1, 0, 0, 0, 1, 0, 0, 0, 0, 0, 1, 0, 0, 0,\n",
              "       1, 1, 0, 0, 0, 1, 1, 0, 1, 0, 0, 0, 0, 0, 0, 0, 1, 0, 0, 1, 0, 0,\n",
              "       1, 0, 1, 1, 0, 0, 1, 0, 0, 0, 0, 0, 0, 0, 0, 1, 1, 0, 1, 1, 0, 0,\n",
              "       0, 0, 0, 0, 1, 0, 0, 1, 0, 0, 0, 0, 0, 0, 0, 0, 0, 0, 0, 1, 1, 0,\n",
              "       0, 1, 1, 1, 0, 0, 0, 0, 1, 0, 0, 0, 0, 1, 0, 0, 1, 1, 0, 0, 0, 0,\n",
              "       0, 0, 1, 0, 1, 0, 0, 0, 0, 0, 0, 0, 0, 0, 1, 0, 0, 0, 1, 0, 0, 0,\n",
              "       0, 0, 1, 0, 0, 1, 0, 0, 0, 0, 0, 0, 0, 0, 0, 0, 0, 1, 0, 1, 0, 1,\n",
              "       0, 0, 0, 0, 1, 0, 0, 0, 0, 0, 0, 0, 0, 1, 0, 0, 0, 0, 0, 0, 1, 1,\n",
              "       0, 0, 1, 0, 0, 0, 1, 0, 1, 0, 1, 0, 0, 0, 0, 0, 0, 0, 0, 0, 0, 0,\n",
              "       0, 0, 0, 0, 0, 0, 0, 1, 0, 0, 0, 0, 0, 0, 1, 1, 0, 0, 0, 0, 0, 0,\n",
              "       0, 0, 0, 0, 0, 0, 0, 0, 0, 0, 0, 0, 0, 0, 0, 0, 1, 0, 0, 0, 0, 0,\n",
              "       0, 0, 0, 0, 1, 0, 0, 0, 1, 0, 0, 0, 0, 0, 1, 0, 1, 0, 0, 0, 0, 0,\n",
              "       0, 0, 0, 0, 0, 0, 0, 0, 0, 0, 0, 0, 0, 0, 1, 0, 0, 0, 0, 0, 0, 0,\n",
              "       1, 1, 0, 0, 0, 0, 0, 0, 0, 0, 0, 0, 0, 1, 0, 0, 0, 0, 0, 0, 0, 0,\n",
              "       0, 0, 0, 0, 0, 0, 1, 0, 0, 0, 0, 0, 0, 0, 0, 0, 1, 0, 0, 0, 0, 1,\n",
              "       0, 0, 0, 0, 0, 1, 1, 0, 1, 0, 0, 0, 0, 1, 0, 0, 1, 1, 0, 0, 0, 0,\n",
              "       0, 0, 0, 0])"
            ]
          },
          "metadata": {},
          "execution_count": 1200
        }
      ]
    },
    {
      "cell_type": "code",
      "metadata": {
        "id": "Kp3aMe46STKW"
      },
      "source": [
        "y_pred = pd.DataFrame(pred_test)\n",
        "y_pred.columns =['target']\n",
        "y_pred['index'] = y_pred.index\n",
        "y_pred = y_pred[['index', 'target']]\n",
        "\n",
        "y_pred.to_csv(\"submit_SVC.csv\", header=True, index=False)"
      ],
      "execution_count": null,
      "outputs": []
    },
    {
      "cell_type": "code",
      "metadata": {
        "id": "EicqlvsVSXyg",
        "colab": {
          "base_uri": "https://localhost:8080/",
          "height": 418
        },
        "outputId": "fd25fe18-9b27-4b56-ce23-c24beb64e14f"
      },
      "source": [
        "submit = pd.read_csv(\"submit_SVC.csv\")\n",
        "submit"
      ],
      "execution_count": null,
      "outputs": [
        {
          "output_type": "execute_result",
          "data": {
            "text/html": [
              "<div>\n",
              "<style scoped>\n",
              "    .dataframe tbody tr th:only-of-type {\n",
              "        vertical-align: middle;\n",
              "    }\n",
              "\n",
              "    .dataframe tbody tr th {\n",
              "        vertical-align: top;\n",
              "    }\n",
              "\n",
              "    .dataframe thead th {\n",
              "        text-align: right;\n",
              "    }\n",
              "</style>\n",
              "<table border=\"1\" class=\"dataframe\">\n",
              "  <thead>\n",
              "    <tr style=\"text-align: right;\">\n",
              "      <th></th>\n",
              "      <th>index</th>\n",
              "      <th>target</th>\n",
              "    </tr>\n",
              "  </thead>\n",
              "  <tbody>\n",
              "    <tr>\n",
              "      <th>0</th>\n",
              "      <td>0</td>\n",
              "      <td>1</td>\n",
              "    </tr>\n",
              "    <tr>\n",
              "      <th>1</th>\n",
              "      <td>1</td>\n",
              "      <td>0</td>\n",
              "    </tr>\n",
              "    <tr>\n",
              "      <th>2</th>\n",
              "      <td>2</td>\n",
              "      <td>0</td>\n",
              "    </tr>\n",
              "    <tr>\n",
              "      <th>3</th>\n",
              "      <td>3</td>\n",
              "      <td>0</td>\n",
              "    </tr>\n",
              "    <tr>\n",
              "      <th>4</th>\n",
              "      <td>4</td>\n",
              "      <td>0</td>\n",
              "    </tr>\n",
              "    <tr>\n",
              "      <th>...</th>\n",
              "      <td>...</td>\n",
              "      <td>...</td>\n",
              "    </tr>\n",
              "    <tr>\n",
              "      <th>395</th>\n",
              "      <td>395</td>\n",
              "      <td>0</td>\n",
              "    </tr>\n",
              "    <tr>\n",
              "      <th>396</th>\n",
              "      <td>396</td>\n",
              "      <td>0</td>\n",
              "    </tr>\n",
              "    <tr>\n",
              "      <th>397</th>\n",
              "      <td>397</td>\n",
              "      <td>0</td>\n",
              "    </tr>\n",
              "    <tr>\n",
              "      <th>398</th>\n",
              "      <td>398</td>\n",
              "      <td>0</td>\n",
              "    </tr>\n",
              "    <tr>\n",
              "      <th>399</th>\n",
              "      <td>399</td>\n",
              "      <td>0</td>\n",
              "    </tr>\n",
              "  </tbody>\n",
              "</table>\n",
              "<p>400 rows × 2 columns</p>\n",
              "</div>"
            ],
            "text/plain": [
              "     index  target\n",
              "0        0       1\n",
              "1        1       0\n",
              "2        2       0\n",
              "3        3       0\n",
              "4        4       0\n",
              "..     ...     ...\n",
              "395    395       0\n",
              "396    396       0\n",
              "397    397       0\n",
              "398    398       0\n",
              "399    399       0\n",
              "\n",
              "[400 rows x 2 columns]"
            ]
          },
          "metadata": {},
          "execution_count": 1202
        }
      ]
    },
    {
      "cell_type": "code",
      "metadata": {
        "id": "1VYadZgjSawb",
        "colab": {
          "base_uri": "https://localhost:8080/",
          "height": 296
        },
        "outputId": "ca946d69-040a-4bff-be94-a5462c00e437"
      },
      "source": [
        "submit.describe()"
      ],
      "execution_count": null,
      "outputs": [
        {
          "output_type": "execute_result",
          "data": {
            "text/html": [
              "<div>\n",
              "<style scoped>\n",
              "    .dataframe tbody tr th:only-of-type {\n",
              "        vertical-align: middle;\n",
              "    }\n",
              "\n",
              "    .dataframe tbody tr th {\n",
              "        vertical-align: top;\n",
              "    }\n",
              "\n",
              "    .dataframe thead th {\n",
              "        text-align: right;\n",
              "    }\n",
              "</style>\n",
              "<table border=\"1\" class=\"dataframe\">\n",
              "  <thead>\n",
              "    <tr style=\"text-align: right;\">\n",
              "      <th></th>\n",
              "      <th>index</th>\n",
              "      <th>target</th>\n",
              "    </tr>\n",
              "  </thead>\n",
              "  <tbody>\n",
              "    <tr>\n",
              "      <th>count</th>\n",
              "      <td>400.000000</td>\n",
              "      <td>400.000000</td>\n",
              "    </tr>\n",
              "    <tr>\n",
              "      <th>mean</th>\n",
              "      <td>199.500000</td>\n",
              "      <td>0.185000</td>\n",
              "    </tr>\n",
              "    <tr>\n",
              "      <th>std</th>\n",
              "      <td>115.614301</td>\n",
              "      <td>0.388784</td>\n",
              "    </tr>\n",
              "    <tr>\n",
              "      <th>min</th>\n",
              "      <td>0.000000</td>\n",
              "      <td>0.000000</td>\n",
              "    </tr>\n",
              "    <tr>\n",
              "      <th>25%</th>\n",
              "      <td>99.750000</td>\n",
              "      <td>0.000000</td>\n",
              "    </tr>\n",
              "    <tr>\n",
              "      <th>50%</th>\n",
              "      <td>199.500000</td>\n",
              "      <td>0.000000</td>\n",
              "    </tr>\n",
              "    <tr>\n",
              "      <th>75%</th>\n",
              "      <td>299.250000</td>\n",
              "      <td>0.000000</td>\n",
              "    </tr>\n",
              "    <tr>\n",
              "      <th>max</th>\n",
              "      <td>399.000000</td>\n",
              "      <td>1.000000</td>\n",
              "    </tr>\n",
              "  </tbody>\n",
              "</table>\n",
              "</div>"
            ],
            "text/plain": [
              "            index      target\n",
              "count  400.000000  400.000000\n",
              "mean   199.500000    0.185000\n",
              "std    115.614301    0.388784\n",
              "min      0.000000    0.000000\n",
              "25%     99.750000    0.000000\n",
              "50%    199.500000    0.000000\n",
              "75%    299.250000    0.000000\n",
              "max    399.000000    1.000000"
            ]
          },
          "metadata": {},
          "execution_count": 1203
        }
      ]
    },
    {
      "cell_type": "code",
      "metadata": {
        "id": "N841cqjXEomX"
      },
      "source": [
        "!kaggle competitions submit -c b8competition1 -f ./content/submit_SVC.csv -m 'commit svc model'"
      ],
      "execution_count": null,
      "outputs": []
    },
    {
      "cell_type": "code",
      "metadata": {
        "id": "VrL2pamL6aMu"
      },
      "source": [
        ""
      ],
      "execution_count": null,
      "outputs": []
    }
  ]
}