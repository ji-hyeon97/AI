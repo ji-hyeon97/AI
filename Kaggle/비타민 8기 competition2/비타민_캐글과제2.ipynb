{
  "nbformat": 4,
  "nbformat_minor": 0,
  "metadata": {
    "colab": {
      "name": "비타민_캐글과제2.ipynb",
      "provenance": []
    },
    "kernelspec": {
      "name": "python3",
      "display_name": "Python 3"
    },
    "language_info": {
      "name": "python"
    }
  },
  "cells": [
    {
      "cell_type": "code",
      "execution_count": 1,
      "metadata": {
        "colab": {
          "base_uri": "https://localhost:8080/"
        },
        "id": "5YMEgDzy1wYH",
        "outputId": "3991bfdd-7c51-4c36-b688-4dc6cf210ca4"
      },
      "outputs": [
        {
          "output_type": "stream",
          "name": "stdout",
          "text": [
            "Requirement already satisfied: Kaggle in /usr/local/lib/python3.7/dist-packages (1.5.12)\n",
            "Requirement already satisfied: urllib3 in /usr/local/lib/python3.7/dist-packages (from Kaggle) (1.24.3)\n",
            "Requirement already satisfied: python-dateutil in /usr/local/lib/python3.7/dist-packages (from Kaggle) (2.8.2)\n",
            "Requirement already satisfied: six>=1.10 in /usr/local/lib/python3.7/dist-packages (from Kaggle) (1.15.0)\n",
            "Requirement already satisfied: python-slugify in /usr/local/lib/python3.7/dist-packages (from Kaggle) (5.0.2)\n",
            "Requirement already satisfied: tqdm in /usr/local/lib/python3.7/dist-packages (from Kaggle) (4.62.3)\n",
            "Requirement already satisfied: requests in /usr/local/lib/python3.7/dist-packages (from Kaggle) (2.23.0)\n",
            "Requirement already satisfied: certifi in /usr/local/lib/python3.7/dist-packages (from Kaggle) (2021.10.8)\n",
            "Requirement already satisfied: text-unidecode>=1.3 in /usr/local/lib/python3.7/dist-packages (from python-slugify->Kaggle) (1.3)\n",
            "Requirement already satisfied: idna<3,>=2.5 in /usr/local/lib/python3.7/dist-packages (from requests->Kaggle) (2.10)\n",
            "Requirement already satisfied: chardet<4,>=3.0.2 in /usr/local/lib/python3.7/dist-packages (from requests->Kaggle) (3.0.4)\n"
          ]
        }
      ],
      "source": [
        "pip install Kaggle --upgrade"
      ]
    },
    {
      "cell_type": "code",
      "source": [
        "# from google.colab import files\n",
        "# files.upload()"
      ],
      "metadata": {
        "id": "hQek9CjT118b"
      },
      "execution_count": 97,
      "outputs": []
    },
    {
      "cell_type": "code",
      "source": [
        "!mkdir -p ~/.kaggle\n",
        "!cp kaggle.json ~/.kaggle/\n",
        "!chmod 600 ~/.kaggle/kaggle.json"
      ],
      "metadata": {
        "id": "UfZZPkJx13Ve"
      },
      "execution_count": 3,
      "outputs": []
    },
    {
      "cell_type": "code",
      "source": [
        "!kaggle competitions download -c b8competition2"
      ],
      "metadata": {
        "colab": {
          "base_uri": "https://localhost:8080/"
        },
        "id": "4ZlS_Xe52HgF",
        "outputId": "7494c0cd-61d0-4715-b4c5-3dc6bfcb6074"
      },
      "execution_count": 6,
      "outputs": [
        {
          "output_type": "stream",
          "name": "stdout",
          "text": [
            "Warning: Looks like you're using an outdated API Version, please consider updating (server 1.5.12 / client 1.5.4)\n",
            "Downloading Electronics_train.csv to /content\n",
            "  0% 0.00/97.4k [00:00<?, ?B/s]\n",
            "100% 97.4k/97.4k [00:00<00:00, 30.0MB/s]\n",
            "Downloading Electronics_testx.csv to /content\n",
            "  0% 0.00/31.3k [00:00<?, ?B/s]\n",
            "100% 31.3k/31.3k [00:00<00:00, 30.0MB/s]\n"
          ]
        }
      ]
    },
    {
      "cell_type": "markdown",
      "source": [
        "# analyze data"
      ],
      "metadata": {
        "id": "vS5W7S8y2B_e"
      }
    },
    {
      "cell_type": "code",
      "source": [
        "import numpy as np\n",
        "import pandas as pd\n",
        "import matplotlib.pyplot as plt\n",
        "import seaborn as sns\n",
        "import warnings\n",
        "from sklearn.preprocessing import LabelEncoder"
      ],
      "metadata": {
        "id": "7HtqTwbc2K1o"
      },
      "execution_count": 8,
      "outputs": []
    },
    {
      "cell_type": "code",
      "source": [
        "train=pd.read_csv(\"Electronics_train.csv\")\n",
        "test=pd.read_csv(\"Electronics_testx.csv\")"
      ],
      "metadata": {
        "id": "W7SsIKaR2CeK"
      },
      "execution_count": 7,
      "outputs": []
    },
    {
      "cell_type": "code",
      "source": [
        "train.head(5)"
      ],
      "metadata": {
        "colab": {
          "base_uri": "https://localhost:8080/",
          "height": 206
        },
        "id": "yxJ_wfIh2D9u",
        "outputId": "155737fd-e733-4d68-d23b-c48fbb2b5992"
      },
      "execution_count": 9,
      "outputs": [
        {
          "output_type": "execute_result",
          "data": {
            "text/html": [
              "\n",
              "  <div id=\"df-51947a9d-0cef-49a2-8b8a-aa01f4f5ddce\">\n",
              "    <div class=\"colab-df-container\">\n",
              "      <div>\n",
              "<style scoped>\n",
              "    .dataframe tbody tr th:only-of-type {\n",
              "        vertical-align: middle;\n",
              "    }\n",
              "\n",
              "    .dataframe tbody tr th {\n",
              "        vertical-align: top;\n",
              "    }\n",
              "\n",
              "    .dataframe thead th {\n",
              "        text-align: right;\n",
              "    }\n",
              "</style>\n",
              "<table border=\"1\" class=\"dataframe\">\n",
              "  <thead>\n",
              "    <tr style=\"text-align: right;\">\n",
              "      <th></th>\n",
              "      <th>Unnamed: 0</th>\n",
              "      <th>BP</th>\n",
              "      <th>blue</th>\n",
              "      <th>c_speed</th>\n",
              "      <th>dual</th>\n",
              "      <th>front_c</th>\n",
              "      <th>4G</th>\n",
              "      <th>m_int</th>\n",
              "      <th>m_dep</th>\n",
              "      <th>m_wt</th>\n",
              "      <th>n_cores</th>\n",
              "      <th>prim_c</th>\n",
              "      <th>px_h</th>\n",
              "      <th>px_w</th>\n",
              "      <th>ram</th>\n",
              "      <th>sc_h</th>\n",
              "      <th>sc_w</th>\n",
              "      <th>talk_t</th>\n",
              "      <th>3G</th>\n",
              "      <th>ts</th>\n",
              "      <th>wifi</th>\n",
              "      <th>target</th>\n",
              "    </tr>\n",
              "  </thead>\n",
              "  <tbody>\n",
              "    <tr>\n",
              "      <th>0</th>\n",
              "      <td>0</td>\n",
              "      <td>842</td>\n",
              "      <td>0</td>\n",
              "      <td>2.2</td>\n",
              "      <td>0</td>\n",
              "      <td>1</td>\n",
              "      <td>0</td>\n",
              "      <td>7</td>\n",
              "      <td>0.6</td>\n",
              "      <td>188</td>\n",
              "      <td>2</td>\n",
              "      <td>2</td>\n",
              "      <td>20</td>\n",
              "      <td>756</td>\n",
              "      <td>2549</td>\n",
              "      <td>9</td>\n",
              "      <td>7</td>\n",
              "      <td>19</td>\n",
              "      <td>0</td>\n",
              "      <td>0</td>\n",
              "      <td>1</td>\n",
              "      <td>1</td>\n",
              "    </tr>\n",
              "    <tr>\n",
              "      <th>1</th>\n",
              "      <td>1</td>\n",
              "      <td>1021</td>\n",
              "      <td>1</td>\n",
              "      <td>0.5</td>\n",
              "      <td>1</td>\n",
              "      <td>0</td>\n",
              "      <td>1</td>\n",
              "      <td>53</td>\n",
              "      <td>0.7</td>\n",
              "      <td>136</td>\n",
              "      <td>3</td>\n",
              "      <td>6</td>\n",
              "      <td>905</td>\n",
              "      <td>1988</td>\n",
              "      <td>2631</td>\n",
              "      <td>17</td>\n",
              "      <td>3</td>\n",
              "      <td>7</td>\n",
              "      <td>1</td>\n",
              "      <td>1</td>\n",
              "      <td>0</td>\n",
              "      <td>2</td>\n",
              "    </tr>\n",
              "    <tr>\n",
              "      <th>2</th>\n",
              "      <td>2</td>\n",
              "      <td>563</td>\n",
              "      <td>1</td>\n",
              "      <td>0.5</td>\n",
              "      <td>1</td>\n",
              "      <td>2</td>\n",
              "      <td>1</td>\n",
              "      <td>41</td>\n",
              "      <td>0.9</td>\n",
              "      <td>145</td>\n",
              "      <td>5</td>\n",
              "      <td>6</td>\n",
              "      <td>1263</td>\n",
              "      <td>1716</td>\n",
              "      <td>2603</td>\n",
              "      <td>11</td>\n",
              "      <td>2</td>\n",
              "      <td>9</td>\n",
              "      <td>1</td>\n",
              "      <td>1</td>\n",
              "      <td>0</td>\n",
              "      <td>2</td>\n",
              "    </tr>\n",
              "    <tr>\n",
              "      <th>3</th>\n",
              "      <td>3</td>\n",
              "      <td>615</td>\n",
              "      <td>1</td>\n",
              "      <td>2.5</td>\n",
              "      <td>0</td>\n",
              "      <td>0</td>\n",
              "      <td>0</td>\n",
              "      <td>10</td>\n",
              "      <td>0.8</td>\n",
              "      <td>131</td>\n",
              "      <td>6</td>\n",
              "      <td>9</td>\n",
              "      <td>1216</td>\n",
              "      <td>1786</td>\n",
              "      <td>2769</td>\n",
              "      <td>16</td>\n",
              "      <td>8</td>\n",
              "      <td>11</td>\n",
              "      <td>1</td>\n",
              "      <td>0</td>\n",
              "      <td>0</td>\n",
              "      <td>2</td>\n",
              "    </tr>\n",
              "    <tr>\n",
              "      <th>4</th>\n",
              "      <td>4</td>\n",
              "      <td>1821</td>\n",
              "      <td>1</td>\n",
              "      <td>1.2</td>\n",
              "      <td>0</td>\n",
              "      <td>13</td>\n",
              "      <td>1</td>\n",
              "      <td>44</td>\n",
              "      <td>0.6</td>\n",
              "      <td>141</td>\n",
              "      <td>2</td>\n",
              "      <td>14</td>\n",
              "      <td>1208</td>\n",
              "      <td>1212</td>\n",
              "      <td>1411</td>\n",
              "      <td>8</td>\n",
              "      <td>2</td>\n",
              "      <td>15</td>\n",
              "      <td>1</td>\n",
              "      <td>1</td>\n",
              "      <td>0</td>\n",
              "      <td>1</td>\n",
              "    </tr>\n",
              "  </tbody>\n",
              "</table>\n",
              "</div>\n",
              "      <button class=\"colab-df-convert\" onclick=\"convertToInteractive('df-51947a9d-0cef-49a2-8b8a-aa01f4f5ddce')\"\n",
              "              title=\"Convert this dataframe to an interactive table.\"\n",
              "              style=\"display:none;\">\n",
              "        \n",
              "  <svg xmlns=\"http://www.w3.org/2000/svg\" height=\"24px\"viewBox=\"0 0 24 24\"\n",
              "       width=\"24px\">\n",
              "    <path d=\"M0 0h24v24H0V0z\" fill=\"none\"/>\n",
              "    <path d=\"M18.56 5.44l.94 2.06.94-2.06 2.06-.94-2.06-.94-.94-2.06-.94 2.06-2.06.94zm-11 1L8.5 8.5l.94-2.06 2.06-.94-2.06-.94L8.5 2.5l-.94 2.06-2.06.94zm10 10l.94 2.06.94-2.06 2.06-.94-2.06-.94-.94-2.06-.94 2.06-2.06.94z\"/><path d=\"M17.41 7.96l-1.37-1.37c-.4-.4-.92-.59-1.43-.59-.52 0-1.04.2-1.43.59L10.3 9.45l-7.72 7.72c-.78.78-.78 2.05 0 2.83L4 21.41c.39.39.9.59 1.41.59.51 0 1.02-.2 1.41-.59l7.78-7.78 2.81-2.81c.8-.78.8-2.07 0-2.86zM5.41 20L4 18.59l7.72-7.72 1.47 1.35L5.41 20z\"/>\n",
              "  </svg>\n",
              "      </button>\n",
              "      \n",
              "  <style>\n",
              "    .colab-df-container {\n",
              "      display:flex;\n",
              "      flex-wrap:wrap;\n",
              "      gap: 12px;\n",
              "    }\n",
              "\n",
              "    .colab-df-convert {\n",
              "      background-color: #E8F0FE;\n",
              "      border: none;\n",
              "      border-radius: 50%;\n",
              "      cursor: pointer;\n",
              "      display: none;\n",
              "      fill: #1967D2;\n",
              "      height: 32px;\n",
              "      padding: 0 0 0 0;\n",
              "      width: 32px;\n",
              "    }\n",
              "\n",
              "    .colab-df-convert:hover {\n",
              "      background-color: #E2EBFA;\n",
              "      box-shadow: 0px 1px 2px rgba(60, 64, 67, 0.3), 0px 1px 3px 1px rgba(60, 64, 67, 0.15);\n",
              "      fill: #174EA6;\n",
              "    }\n",
              "\n",
              "    [theme=dark] .colab-df-convert {\n",
              "      background-color: #3B4455;\n",
              "      fill: #D2E3FC;\n",
              "    }\n",
              "\n",
              "    [theme=dark] .colab-df-convert:hover {\n",
              "      background-color: #434B5C;\n",
              "      box-shadow: 0px 1px 3px 1px rgba(0, 0, 0, 0.15);\n",
              "      filter: drop-shadow(0px 1px 2px rgba(0, 0, 0, 0.3));\n",
              "      fill: #FFFFFF;\n",
              "    }\n",
              "  </style>\n",
              "\n",
              "      <script>\n",
              "        const buttonEl =\n",
              "          document.querySelector('#df-51947a9d-0cef-49a2-8b8a-aa01f4f5ddce button.colab-df-convert');\n",
              "        buttonEl.style.display =\n",
              "          google.colab.kernel.accessAllowed ? 'block' : 'none';\n",
              "\n",
              "        async function convertToInteractive(key) {\n",
              "          const element = document.querySelector('#df-51947a9d-0cef-49a2-8b8a-aa01f4f5ddce');\n",
              "          const dataTable =\n",
              "            await google.colab.kernel.invokeFunction('convertToInteractive',\n",
              "                                                     [key], {});\n",
              "          if (!dataTable) return;\n",
              "\n",
              "          const docLinkHtml = 'Like what you see? Visit the ' +\n",
              "            '<a target=\"_blank\" href=https://colab.research.google.com/notebooks/data_table.ipynb>data table notebook</a>'\n",
              "            + ' to learn more about interactive tables.';\n",
              "          element.innerHTML = '';\n",
              "          dataTable['output_type'] = 'display_data';\n",
              "          await google.colab.output.renderOutput(dataTable, element);\n",
              "          const docLink = document.createElement('div');\n",
              "          docLink.innerHTML = docLinkHtml;\n",
              "          element.appendChild(docLink);\n",
              "        }\n",
              "      </script>\n",
              "    </div>\n",
              "  </div>\n",
              "  "
            ],
            "text/plain": [
              "   Unnamed: 0    BP  blue  c_speed  dual  ...  talk_t  3G  ts  wifi  target\n",
              "0           0   842     0      2.2     0  ...      19   0   0     1       1\n",
              "1           1  1021     1      0.5     1  ...       7   1   1     0       2\n",
              "2           2   563     1      0.5     1  ...       9   1   1     0       2\n",
              "3           3   615     1      2.5     0  ...      11   1   0     0       2\n",
              "4           4  1821     1      1.2     0  ...      15   1   1     0       1\n",
              "\n",
              "[5 rows x 22 columns]"
            ]
          },
          "metadata": {},
          "execution_count": 9
        }
      ]
    },
    {
      "cell_type": "code",
      "source": [
        "test.head(5)"
      ],
      "metadata": {
        "colab": {
          "base_uri": "https://localhost:8080/",
          "height": 206
        },
        "id": "1HuFd6I_2OaH",
        "outputId": "8a400633-dd3e-43ac-dc51-5d7abaf326e3"
      },
      "execution_count": 10,
      "outputs": [
        {
          "output_type": "execute_result",
          "data": {
            "text/html": [
              "\n",
              "  <div id=\"df-be7ce9d2-0ede-4716-95df-76f6cafe9d69\">\n",
              "    <div class=\"colab-df-container\">\n",
              "      <div>\n",
              "<style scoped>\n",
              "    .dataframe tbody tr th:only-of-type {\n",
              "        vertical-align: middle;\n",
              "    }\n",
              "\n",
              "    .dataframe tbody tr th {\n",
              "        vertical-align: top;\n",
              "    }\n",
              "\n",
              "    .dataframe thead th {\n",
              "        text-align: right;\n",
              "    }\n",
              "</style>\n",
              "<table border=\"1\" class=\"dataframe\">\n",
              "  <thead>\n",
              "    <tr style=\"text-align: right;\">\n",
              "      <th></th>\n",
              "      <th>Unnamed: 0</th>\n",
              "      <th>BP</th>\n",
              "      <th>blue</th>\n",
              "      <th>c_speed</th>\n",
              "      <th>dual</th>\n",
              "      <th>front_c</th>\n",
              "      <th>4G</th>\n",
              "      <th>m_int</th>\n",
              "      <th>m_dep</th>\n",
              "      <th>m_wt</th>\n",
              "      <th>n_cores</th>\n",
              "      <th>prim_c</th>\n",
              "      <th>px_h</th>\n",
              "      <th>px_w</th>\n",
              "      <th>ram</th>\n",
              "      <th>sc_h</th>\n",
              "      <th>sc_w</th>\n",
              "      <th>talk_t</th>\n",
              "      <th>3G</th>\n",
              "      <th>ts</th>\n",
              "      <th>wifi</th>\n",
              "    </tr>\n",
              "  </thead>\n",
              "  <tbody>\n",
              "    <tr>\n",
              "      <th>0</th>\n",
              "      <td>0</td>\n",
              "      <td>1225</td>\n",
              "      <td>0</td>\n",
              "      <td>0.7</td>\n",
              "      <td>1</td>\n",
              "      <td>6</td>\n",
              "      <td>0</td>\n",
              "      <td>60</td>\n",
              "      <td>0.1</td>\n",
              "      <td>107</td>\n",
              "      <td>2</td>\n",
              "      <td>15</td>\n",
              "      <td>10</td>\n",
              "      <td>1567</td>\n",
              "      <td>2423</td>\n",
              "      <td>17</td>\n",
              "      <td>11</td>\n",
              "      <td>6</td>\n",
              "      <td>1</td>\n",
              "      <td>0</td>\n",
              "      <td>0</td>\n",
              "    </tr>\n",
              "    <tr>\n",
              "      <th>1</th>\n",
              "      <td>1</td>\n",
              "      <td>1970</td>\n",
              "      <td>1</td>\n",
              "      <td>0.5</td>\n",
              "      <td>1</td>\n",
              "      <td>0</td>\n",
              "      <td>1</td>\n",
              "      <td>15</td>\n",
              "      <td>1.0</td>\n",
              "      <td>132</td>\n",
              "      <td>2</td>\n",
              "      <td>0</td>\n",
              "      <td>1399</td>\n",
              "      <td>1684</td>\n",
              "      <td>1658</td>\n",
              "      <td>15</td>\n",
              "      <td>9</td>\n",
              "      <td>20</td>\n",
              "      <td>1</td>\n",
              "      <td>1</td>\n",
              "      <td>1</td>\n",
              "    </tr>\n",
              "    <tr>\n",
              "      <th>2</th>\n",
              "      <td>2</td>\n",
              "      <td>1186</td>\n",
              "      <td>1</td>\n",
              "      <td>0.5</td>\n",
              "      <td>1</td>\n",
              "      <td>2</td>\n",
              "      <td>0</td>\n",
              "      <td>21</td>\n",
              "      <td>0.4</td>\n",
              "      <td>160</td>\n",
              "      <td>8</td>\n",
              "      <td>4</td>\n",
              "      <td>68</td>\n",
              "      <td>584</td>\n",
              "      <td>2361</td>\n",
              "      <td>17</td>\n",
              "      <td>8</td>\n",
              "      <td>7</td>\n",
              "      <td>1</td>\n",
              "      <td>0</td>\n",
              "      <td>0</td>\n",
              "    </tr>\n",
              "    <tr>\n",
              "      <th>3</th>\n",
              "      <td>3</td>\n",
              "      <td>1762</td>\n",
              "      <td>0</td>\n",
              "      <td>0.7</td>\n",
              "      <td>0</td>\n",
              "      <td>7</td>\n",
              "      <td>0</td>\n",
              "      <td>60</td>\n",
              "      <td>0.1</td>\n",
              "      <td>157</td>\n",
              "      <td>4</td>\n",
              "      <td>10</td>\n",
              "      <td>643</td>\n",
              "      <td>790</td>\n",
              "      <td>1380</td>\n",
              "      <td>14</td>\n",
              "      <td>5</td>\n",
              "      <td>14</td>\n",
              "      <td>1</td>\n",
              "      <td>0</td>\n",
              "      <td>0</td>\n",
              "    </tr>\n",
              "    <tr>\n",
              "      <th>4</th>\n",
              "      <td>4</td>\n",
              "      <td>1731</td>\n",
              "      <td>1</td>\n",
              "      <td>1.4</td>\n",
              "      <td>1</td>\n",
              "      <td>4</td>\n",
              "      <td>1</td>\n",
              "      <td>4</td>\n",
              "      <td>0.5</td>\n",
              "      <td>163</td>\n",
              "      <td>6</td>\n",
              "      <td>18</td>\n",
              "      <td>809</td>\n",
              "      <td>1988</td>\n",
              "      <td>3892</td>\n",
              "      <td>5</td>\n",
              "      <td>1</td>\n",
              "      <td>4</td>\n",
              "      <td>1</td>\n",
              "      <td>1</td>\n",
              "      <td>1</td>\n",
              "    </tr>\n",
              "  </tbody>\n",
              "</table>\n",
              "</div>\n",
              "      <button class=\"colab-df-convert\" onclick=\"convertToInteractive('df-be7ce9d2-0ede-4716-95df-76f6cafe9d69')\"\n",
              "              title=\"Convert this dataframe to an interactive table.\"\n",
              "              style=\"display:none;\">\n",
              "        \n",
              "  <svg xmlns=\"http://www.w3.org/2000/svg\" height=\"24px\"viewBox=\"0 0 24 24\"\n",
              "       width=\"24px\">\n",
              "    <path d=\"M0 0h24v24H0V0z\" fill=\"none\"/>\n",
              "    <path d=\"M18.56 5.44l.94 2.06.94-2.06 2.06-.94-2.06-.94-.94-2.06-.94 2.06-2.06.94zm-11 1L8.5 8.5l.94-2.06 2.06-.94-2.06-.94L8.5 2.5l-.94 2.06-2.06.94zm10 10l.94 2.06.94-2.06 2.06-.94-2.06-.94-.94-2.06-.94 2.06-2.06.94z\"/><path d=\"M17.41 7.96l-1.37-1.37c-.4-.4-.92-.59-1.43-.59-.52 0-1.04.2-1.43.59L10.3 9.45l-7.72 7.72c-.78.78-.78 2.05 0 2.83L4 21.41c.39.39.9.59 1.41.59.51 0 1.02-.2 1.41-.59l7.78-7.78 2.81-2.81c.8-.78.8-2.07 0-2.86zM5.41 20L4 18.59l7.72-7.72 1.47 1.35L5.41 20z\"/>\n",
              "  </svg>\n",
              "      </button>\n",
              "      \n",
              "  <style>\n",
              "    .colab-df-container {\n",
              "      display:flex;\n",
              "      flex-wrap:wrap;\n",
              "      gap: 12px;\n",
              "    }\n",
              "\n",
              "    .colab-df-convert {\n",
              "      background-color: #E8F0FE;\n",
              "      border: none;\n",
              "      border-radius: 50%;\n",
              "      cursor: pointer;\n",
              "      display: none;\n",
              "      fill: #1967D2;\n",
              "      height: 32px;\n",
              "      padding: 0 0 0 0;\n",
              "      width: 32px;\n",
              "    }\n",
              "\n",
              "    .colab-df-convert:hover {\n",
              "      background-color: #E2EBFA;\n",
              "      box-shadow: 0px 1px 2px rgba(60, 64, 67, 0.3), 0px 1px 3px 1px rgba(60, 64, 67, 0.15);\n",
              "      fill: #174EA6;\n",
              "    }\n",
              "\n",
              "    [theme=dark] .colab-df-convert {\n",
              "      background-color: #3B4455;\n",
              "      fill: #D2E3FC;\n",
              "    }\n",
              "\n",
              "    [theme=dark] .colab-df-convert:hover {\n",
              "      background-color: #434B5C;\n",
              "      box-shadow: 0px 1px 3px 1px rgba(0, 0, 0, 0.15);\n",
              "      filter: drop-shadow(0px 1px 2px rgba(0, 0, 0, 0.3));\n",
              "      fill: #FFFFFF;\n",
              "    }\n",
              "  </style>\n",
              "\n",
              "      <script>\n",
              "        const buttonEl =\n",
              "          document.querySelector('#df-be7ce9d2-0ede-4716-95df-76f6cafe9d69 button.colab-df-convert');\n",
              "        buttonEl.style.display =\n",
              "          google.colab.kernel.accessAllowed ? 'block' : 'none';\n",
              "\n",
              "        async function convertToInteractive(key) {\n",
              "          const element = document.querySelector('#df-be7ce9d2-0ede-4716-95df-76f6cafe9d69');\n",
              "          const dataTable =\n",
              "            await google.colab.kernel.invokeFunction('convertToInteractive',\n",
              "                                                     [key], {});\n",
              "          if (!dataTable) return;\n",
              "\n",
              "          const docLinkHtml = 'Like what you see? Visit the ' +\n",
              "            '<a target=\"_blank\" href=https://colab.research.google.com/notebooks/data_table.ipynb>data table notebook</a>'\n",
              "            + ' to learn more about interactive tables.';\n",
              "          element.innerHTML = '';\n",
              "          dataTable['output_type'] = 'display_data';\n",
              "          await google.colab.output.renderOutput(dataTable, element);\n",
              "          const docLink = document.createElement('div');\n",
              "          docLink.innerHTML = docLinkHtml;\n",
              "          element.appendChild(docLink);\n",
              "        }\n",
              "      </script>\n",
              "    </div>\n",
              "  </div>\n",
              "  "
            ],
            "text/plain": [
              "   Unnamed: 0    BP  blue  c_speed  dual  ...  sc_w  talk_t  3G  ts  wifi\n",
              "0           0  1225     0      0.7     1  ...    11       6   1   0     0\n",
              "1           1  1970     1      0.5     1  ...     9      20   1   1     1\n",
              "2           2  1186     1      0.5     1  ...     8       7   1   0     0\n",
              "3           3  1762     0      0.7     0  ...     5      14   1   0     0\n",
              "4           4  1731     1      1.4     1  ...     1       4   1   1     1\n",
              "\n",
              "[5 rows x 21 columns]"
            ]
          },
          "metadata": {},
          "execution_count": 10
        }
      ]
    },
    {
      "cell_type": "code",
      "source": [
        "train.drop(['Unnamed: 0'],axis=1, inplace=True )\n",
        "test.drop(['Unnamed: 0'], axis=1,  inplace=True)"
      ],
      "metadata": {
        "id": "ynEzF_Ji2PbF"
      },
      "execution_count": 11,
      "outputs": []
    },
    {
      "cell_type": "code",
      "source": [
        "train.info()"
      ],
      "metadata": {
        "colab": {
          "base_uri": "https://localhost:8080/"
        },
        "id": "-VXTau802P-k",
        "outputId": "58a0374d-6ef2-4381-e16e-4cebb385232f"
      },
      "execution_count": 12,
      "outputs": [
        {
          "output_type": "stream",
          "name": "stdout",
          "text": [
            "<class 'pandas.core.frame.DataFrame'>\n",
            "RangeIndex: 1500 entries, 0 to 1499\n",
            "Data columns (total 21 columns):\n",
            " #   Column   Non-Null Count  Dtype  \n",
            "---  ------   --------------  -----  \n",
            " 0   BP       1500 non-null   int64  \n",
            " 1   blue     1500 non-null   int64  \n",
            " 2   c_speed  1500 non-null   float64\n",
            " 3   dual     1500 non-null   int64  \n",
            " 4   front_c  1500 non-null   int64  \n",
            " 5   4G       1500 non-null   int64  \n",
            " 6   m_int    1500 non-null   int64  \n",
            " 7   m_dep    1500 non-null   float64\n",
            " 8   m_wt     1500 non-null   int64  \n",
            " 9   n_cores  1500 non-null   int64  \n",
            " 10  prim_c   1500 non-null   int64  \n",
            " 11  px_h     1500 non-null   int64  \n",
            " 12  px_w     1500 non-null   int64  \n",
            " 13  ram      1500 non-null   int64  \n",
            " 14  sc_h     1500 non-null   int64  \n",
            " 15  sc_w     1500 non-null   int64  \n",
            " 16  talk_t   1500 non-null   int64  \n",
            " 17  3G       1500 non-null   int64  \n",
            " 18  ts       1500 non-null   int64  \n",
            " 19  wifi     1500 non-null   int64  \n",
            " 20  target   1500 non-null   int64  \n",
            "dtypes: float64(2), int64(19)\n",
            "memory usage: 246.2 KB\n"
          ]
        }
      ]
    },
    {
      "cell_type": "code",
      "source": [
        "train.describe()"
      ],
      "metadata": {
        "colab": {
          "base_uri": "https://localhost:8080/",
          "height": 364
        },
        "id": "t9JeAAVI2R7c",
        "outputId": "b4ddd6ca-e779-40fd-802e-995ea69d8298"
      },
      "execution_count": 13,
      "outputs": [
        {
          "output_type": "execute_result",
          "data": {
            "text/html": [
              "\n",
              "  <div id=\"df-c18042a5-1bde-4159-bd8c-a58a4f91bea2\">\n",
              "    <div class=\"colab-df-container\">\n",
              "      <div>\n",
              "<style scoped>\n",
              "    .dataframe tbody tr th:only-of-type {\n",
              "        vertical-align: middle;\n",
              "    }\n",
              "\n",
              "    .dataframe tbody tr th {\n",
              "        vertical-align: top;\n",
              "    }\n",
              "\n",
              "    .dataframe thead th {\n",
              "        text-align: right;\n",
              "    }\n",
              "</style>\n",
              "<table border=\"1\" class=\"dataframe\">\n",
              "  <thead>\n",
              "    <tr style=\"text-align: right;\">\n",
              "      <th></th>\n",
              "      <th>BP</th>\n",
              "      <th>blue</th>\n",
              "      <th>c_speed</th>\n",
              "      <th>dual</th>\n",
              "      <th>front_c</th>\n",
              "      <th>4G</th>\n",
              "      <th>m_int</th>\n",
              "      <th>m_dep</th>\n",
              "      <th>m_wt</th>\n",
              "      <th>n_cores</th>\n",
              "      <th>prim_c</th>\n",
              "      <th>px_h</th>\n",
              "      <th>px_w</th>\n",
              "      <th>ram</th>\n",
              "      <th>sc_h</th>\n",
              "      <th>sc_w</th>\n",
              "      <th>talk_t</th>\n",
              "      <th>3G</th>\n",
              "      <th>ts</th>\n",
              "      <th>wifi</th>\n",
              "      <th>target</th>\n",
              "    </tr>\n",
              "  </thead>\n",
              "  <tbody>\n",
              "    <tr>\n",
              "      <th>count</th>\n",
              "      <td>1500.000000</td>\n",
              "      <td>1500.000000</td>\n",
              "      <td>1500.000000</td>\n",
              "      <td>1500.000000</td>\n",
              "      <td>1500.000000</td>\n",
              "      <td>1500.000000</td>\n",
              "      <td>1500.000000</td>\n",
              "      <td>1500.000000</td>\n",
              "      <td>1500.000000</td>\n",
              "      <td>1500.000000</td>\n",
              "      <td>1500.000000</td>\n",
              "      <td>1500.000000</td>\n",
              "      <td>1500.000000</td>\n",
              "      <td>1500.000000</td>\n",
              "      <td>1500.000000</td>\n",
              "      <td>1500.000000</td>\n",
              "      <td>1500.000000</td>\n",
              "      <td>1500.000000</td>\n",
              "      <td>1500.000000</td>\n",
              "      <td>1500.000000</td>\n",
              "      <td>1500.000000</td>\n",
              "    </tr>\n",
              "    <tr>\n",
              "      <th>mean</th>\n",
              "      <td>1240.944667</td>\n",
              "      <td>0.483333</td>\n",
              "      <td>1.521067</td>\n",
              "      <td>0.509333</td>\n",
              "      <td>4.302000</td>\n",
              "      <td>0.515333</td>\n",
              "      <td>32.568000</td>\n",
              "      <td>0.499867</td>\n",
              "      <td>140.974667</td>\n",
              "      <td>4.502000</td>\n",
              "      <td>9.872667</td>\n",
              "      <td>649.310000</td>\n",
              "      <td>1249.068000</td>\n",
              "      <td>2127.647333</td>\n",
              "      <td>12.335333</td>\n",
              "      <td>5.754000</td>\n",
              "      <td>11.121333</td>\n",
              "      <td>0.757333</td>\n",
              "      <td>0.510000</td>\n",
              "      <td>0.516000</td>\n",
              "      <td>1.504667</td>\n",
              "    </tr>\n",
              "    <tr>\n",
              "      <th>std</th>\n",
              "      <td>439.306020</td>\n",
              "      <td>0.499889</td>\n",
              "      <td>0.815769</td>\n",
              "      <td>0.500080</td>\n",
              "      <td>4.350565</td>\n",
              "      <td>0.499932</td>\n",
              "      <td>18.156243</td>\n",
              "      <td>0.285776</td>\n",
              "      <td>35.208168</td>\n",
              "      <td>2.296122</td>\n",
              "      <td>6.074843</td>\n",
              "      <td>443.934741</td>\n",
              "      <td>428.751035</td>\n",
              "      <td>1097.176701</td>\n",
              "      <td>4.203173</td>\n",
              "      <td>4.330279</td>\n",
              "      <td>5.397966</td>\n",
              "      <td>0.428838</td>\n",
              "      <td>0.500067</td>\n",
              "      <td>0.499911</td>\n",
              "      <td>1.120781</td>\n",
              "    </tr>\n",
              "    <tr>\n",
              "      <th>min</th>\n",
              "      <td>501.000000</td>\n",
              "      <td>0.000000</td>\n",
              "      <td>0.500000</td>\n",
              "      <td>0.000000</td>\n",
              "      <td>0.000000</td>\n",
              "      <td>0.000000</td>\n",
              "      <td>2.000000</td>\n",
              "      <td>0.100000</td>\n",
              "      <td>80.000000</td>\n",
              "      <td>1.000000</td>\n",
              "      <td>0.000000</td>\n",
              "      <td>0.000000</td>\n",
              "      <td>500.000000</td>\n",
              "      <td>258.000000</td>\n",
              "      <td>5.000000</td>\n",
              "      <td>0.000000</td>\n",
              "      <td>2.000000</td>\n",
              "      <td>0.000000</td>\n",
              "      <td>0.000000</td>\n",
              "      <td>0.000000</td>\n",
              "      <td>0.000000</td>\n",
              "    </tr>\n",
              "    <tr>\n",
              "      <th>25%</th>\n",
              "      <td>851.750000</td>\n",
              "      <td>0.000000</td>\n",
              "      <td>0.700000</td>\n",
              "      <td>0.000000</td>\n",
              "      <td>1.000000</td>\n",
              "      <td>0.000000</td>\n",
              "      <td>16.000000</td>\n",
              "      <td>0.200000</td>\n",
              "      <td>110.000000</td>\n",
              "      <td>3.000000</td>\n",
              "      <td>5.000000</td>\n",
              "      <td>286.750000</td>\n",
              "      <td>878.750000</td>\n",
              "      <td>1185.000000</td>\n",
              "      <td>9.000000</td>\n",
              "      <td>2.000000</td>\n",
              "      <td>6.000000</td>\n",
              "      <td>1.000000</td>\n",
              "      <td>0.000000</td>\n",
              "      <td>0.000000</td>\n",
              "      <td>0.750000</td>\n",
              "    </tr>\n",
              "    <tr>\n",
              "      <th>50%</th>\n",
              "      <td>1241.000000</td>\n",
              "      <td>0.000000</td>\n",
              "      <td>1.500000</td>\n",
              "      <td>1.000000</td>\n",
              "      <td>3.000000</td>\n",
              "      <td>1.000000</td>\n",
              "      <td>33.000000</td>\n",
              "      <td>0.500000</td>\n",
              "      <td>142.000000</td>\n",
              "      <td>4.000000</td>\n",
              "      <td>10.000000</td>\n",
              "      <td>561.500000</td>\n",
              "      <td>1248.500000</td>\n",
              "      <td>2153.000000</td>\n",
              "      <td>12.000000</td>\n",
              "      <td>5.000000</td>\n",
              "      <td>11.000000</td>\n",
              "      <td>1.000000</td>\n",
              "      <td>1.000000</td>\n",
              "      <td>1.000000</td>\n",
              "      <td>2.000000</td>\n",
              "    </tr>\n",
              "    <tr>\n",
              "      <th>75%</th>\n",
              "      <td>1614.250000</td>\n",
              "      <td>1.000000</td>\n",
              "      <td>2.225000</td>\n",
              "      <td>1.000000</td>\n",
              "      <td>7.000000</td>\n",
              "      <td>1.000000</td>\n",
              "      <td>49.000000</td>\n",
              "      <td>0.700000</td>\n",
              "      <td>171.250000</td>\n",
              "      <td>7.000000</td>\n",
              "      <td>15.000000</td>\n",
              "      <td>956.250000</td>\n",
              "      <td>1613.250000</td>\n",
              "      <td>3072.250000</td>\n",
              "      <td>16.000000</td>\n",
              "      <td>9.000000</td>\n",
              "      <td>16.000000</td>\n",
              "      <td>1.000000</td>\n",
              "      <td>1.000000</td>\n",
              "      <td>1.000000</td>\n",
              "      <td>3.000000</td>\n",
              "    </tr>\n",
              "    <tr>\n",
              "      <th>max</th>\n",
              "      <td>1998.000000</td>\n",
              "      <td>1.000000</td>\n",
              "      <td>3.000000</td>\n",
              "      <td>1.000000</td>\n",
              "      <td>18.000000</td>\n",
              "      <td>1.000000</td>\n",
              "      <td>64.000000</td>\n",
              "      <td>1.000000</td>\n",
              "      <td>200.000000</td>\n",
              "      <td>8.000000</td>\n",
              "      <td>20.000000</td>\n",
              "      <td>1949.000000</td>\n",
              "      <td>1998.000000</td>\n",
              "      <td>3998.000000</td>\n",
              "      <td>19.000000</td>\n",
              "      <td>18.000000</td>\n",
              "      <td>20.000000</td>\n",
              "      <td>1.000000</td>\n",
              "      <td>1.000000</td>\n",
              "      <td>1.000000</td>\n",
              "      <td>3.000000</td>\n",
              "    </tr>\n",
              "  </tbody>\n",
              "</table>\n",
              "</div>\n",
              "      <button class=\"colab-df-convert\" onclick=\"convertToInteractive('df-c18042a5-1bde-4159-bd8c-a58a4f91bea2')\"\n",
              "              title=\"Convert this dataframe to an interactive table.\"\n",
              "              style=\"display:none;\">\n",
              "        \n",
              "  <svg xmlns=\"http://www.w3.org/2000/svg\" height=\"24px\"viewBox=\"0 0 24 24\"\n",
              "       width=\"24px\">\n",
              "    <path d=\"M0 0h24v24H0V0z\" fill=\"none\"/>\n",
              "    <path d=\"M18.56 5.44l.94 2.06.94-2.06 2.06-.94-2.06-.94-.94-2.06-.94 2.06-2.06.94zm-11 1L8.5 8.5l.94-2.06 2.06-.94-2.06-.94L8.5 2.5l-.94 2.06-2.06.94zm10 10l.94 2.06.94-2.06 2.06-.94-2.06-.94-.94-2.06-.94 2.06-2.06.94z\"/><path d=\"M17.41 7.96l-1.37-1.37c-.4-.4-.92-.59-1.43-.59-.52 0-1.04.2-1.43.59L10.3 9.45l-7.72 7.72c-.78.78-.78 2.05 0 2.83L4 21.41c.39.39.9.59 1.41.59.51 0 1.02-.2 1.41-.59l7.78-7.78 2.81-2.81c.8-.78.8-2.07 0-2.86zM5.41 20L4 18.59l7.72-7.72 1.47 1.35L5.41 20z\"/>\n",
              "  </svg>\n",
              "      </button>\n",
              "      \n",
              "  <style>\n",
              "    .colab-df-container {\n",
              "      display:flex;\n",
              "      flex-wrap:wrap;\n",
              "      gap: 12px;\n",
              "    }\n",
              "\n",
              "    .colab-df-convert {\n",
              "      background-color: #E8F0FE;\n",
              "      border: none;\n",
              "      border-radius: 50%;\n",
              "      cursor: pointer;\n",
              "      display: none;\n",
              "      fill: #1967D2;\n",
              "      height: 32px;\n",
              "      padding: 0 0 0 0;\n",
              "      width: 32px;\n",
              "    }\n",
              "\n",
              "    .colab-df-convert:hover {\n",
              "      background-color: #E2EBFA;\n",
              "      box-shadow: 0px 1px 2px rgba(60, 64, 67, 0.3), 0px 1px 3px 1px rgba(60, 64, 67, 0.15);\n",
              "      fill: #174EA6;\n",
              "    }\n",
              "\n",
              "    [theme=dark] .colab-df-convert {\n",
              "      background-color: #3B4455;\n",
              "      fill: #D2E3FC;\n",
              "    }\n",
              "\n",
              "    [theme=dark] .colab-df-convert:hover {\n",
              "      background-color: #434B5C;\n",
              "      box-shadow: 0px 1px 3px 1px rgba(0, 0, 0, 0.15);\n",
              "      filter: drop-shadow(0px 1px 2px rgba(0, 0, 0, 0.3));\n",
              "      fill: #FFFFFF;\n",
              "    }\n",
              "  </style>\n",
              "\n",
              "      <script>\n",
              "        const buttonEl =\n",
              "          document.querySelector('#df-c18042a5-1bde-4159-bd8c-a58a4f91bea2 button.colab-df-convert');\n",
              "        buttonEl.style.display =\n",
              "          google.colab.kernel.accessAllowed ? 'block' : 'none';\n",
              "\n",
              "        async function convertToInteractive(key) {\n",
              "          const element = document.querySelector('#df-c18042a5-1bde-4159-bd8c-a58a4f91bea2');\n",
              "          const dataTable =\n",
              "            await google.colab.kernel.invokeFunction('convertToInteractive',\n",
              "                                                     [key], {});\n",
              "          if (!dataTable) return;\n",
              "\n",
              "          const docLinkHtml = 'Like what you see? Visit the ' +\n",
              "            '<a target=\"_blank\" href=https://colab.research.google.com/notebooks/data_table.ipynb>data table notebook</a>'\n",
              "            + ' to learn more about interactive tables.';\n",
              "          element.innerHTML = '';\n",
              "          dataTable['output_type'] = 'display_data';\n",
              "          await google.colab.output.renderOutput(dataTable, element);\n",
              "          const docLink = document.createElement('div');\n",
              "          docLink.innerHTML = docLinkHtml;\n",
              "          element.appendChild(docLink);\n",
              "        }\n",
              "      </script>\n",
              "    </div>\n",
              "  </div>\n",
              "  "
            ],
            "text/plain": [
              "                BP         blue  ...         wifi       target\n",
              "count  1500.000000  1500.000000  ...  1500.000000  1500.000000\n",
              "mean   1240.944667     0.483333  ...     0.516000     1.504667\n",
              "std     439.306020     0.499889  ...     0.499911     1.120781\n",
              "min     501.000000     0.000000  ...     0.000000     0.000000\n",
              "25%     851.750000     0.000000  ...     0.000000     0.750000\n",
              "50%    1241.000000     0.000000  ...     1.000000     2.000000\n",
              "75%    1614.250000     1.000000  ...     1.000000     3.000000\n",
              "max    1998.000000     1.000000  ...     1.000000     3.000000\n",
              "\n",
              "[8 rows x 21 columns]"
            ]
          },
          "metadata": {},
          "execution_count": 13
        }
      ]
    },
    {
      "cell_type": "code",
      "source": [
        "#Histogram\n",
        "%matplotlib inline\n",
        "train.hist(bins=50, figsize=(15, 12))\n",
        "warnings.filterwarnings(action='ignore')"
      ],
      "metadata": {
        "colab": {
          "base_uri": "https://localhost:8080/",
          "height": 716
        },
        "id": "AGZMjgkS2TKQ",
        "outputId": "e6ff2df1-6c0e-4616-f8fe-26392a672be9"
      },
      "execution_count": 14,
      "outputs": [
        {
          "output_type": "display_data",
          "data": {
            "image/png": "[encoded data removed]",
            "text/plain": [
              "<Figure size 1080x864 with 25 Axes>"
            ]
          },
          "metadata": {
            "needs_background": "light"
          }
        }
      ]
    },
    {
      "cell_type": "code",
      "source": [
        "bin_c=['blue', 'dual', '4G', '3G', 'ts', 'wifi']\n",
        "num_c=['BP', 'm_int', 'm_wt', 'px_h', 'px_w', 'ram',\n",
        "       'front_c', 'm_dep', 'n_cores', 'prim_c', 'sc_h', \n",
        "      'sc_w', 'talk_t']"
      ],
      "metadata": {
        "id": "7cuKhDRi2U2X"
      },
      "execution_count": 15,
      "outputs": []
    },
    {
      "cell_type": "code",
      "source": [
        "#Target\n",
        "sns.countplot(x='target', data=train)"
      ],
      "metadata": {
        "colab": {
          "base_uri": "https://localhost:8080/",
          "height": 297
        },
        "id": "M4_mc5HQ2W0f",
        "outputId": "15b87f59-10c9-425b-b0bd-57fc0f826e22"
      },
      "execution_count": 16,
      "outputs": [
        {
          "output_type": "execute_result",
          "data": {
            "text/plain": [
              "<matplotlib.axes._subplots.AxesSubplot at 0x7f2bc6a8c210>"
            ]
          },
          "metadata": {},
          "execution_count": 16
        },
        {
          "output_type": "display_data",
          "data": {
            "image/png": "[encoded data removed]",
            "text/plain": [
              "<Figure size 432x288 with 1 Axes>"
            ]
          },
          "metadata": {
            "needs_background": "light"
          }
        }
      ]
    },
    {
      "cell_type": "code",
      "source": [
        "#Categorical features\n",
        "plt.figure(figsize=(15,10))\n",
        "\n",
        "n=1\n",
        "for f in bin_c:\n",
        "    plt.subplot(2,3,n)\n",
        "    sns.countplot(x=f, hue='target', alpha=0.7, data=train)\n",
        "    plt.title(\"Countplot of {}  by target\".format(f))\n",
        "    n=n+1\n",
        "    \n",
        "plt.tight_layout()\n",
        "plt.show()"
      ],
      "metadata": {
        "colab": {
          "base_uri": "https://localhost:8080/",
          "height": 729
        },
        "id": "Z-hrBwgS2Yiy",
        "outputId": "a5bc3998-0c41-4e95-e459-3cce7cb982c1"
      },
      "execution_count": 17,
      "outputs": [
        {
          "output_type": "display_data",
          "data": {
            "image/png": "[encoded data removed]",
            "text/plain": [
              "<Figure size 1080x720 with 6 Axes>"
            ]
          },
          "metadata": {
            "needs_background": "light"
          }
        }
      ]
    },
    {
      "cell_type": "code",
      "source": [
        "corr=train.corr()\n",
        "matrix = np.triu(corr)"
      ],
      "metadata": {
        "id": "wm8Xbmaq2bmg"
      },
      "execution_count": 18,
      "outputs": []
    },
    {
      "cell_type": "code",
      "source": [
        "#Correlation matrix\n",
        "%matplotlib inline\n",
        "plt.figure(figsize=(12, 8))\n",
        "sns.heatmap(corr, annot=True, mask=matrix)"
      ],
      "metadata": {
        "colab": {
          "base_uri": "https://localhost:8080/",
          "height": 531
        },
        "id": "xWlBHIGO2czq",
        "outputId": "8377ddd1-5f48-4e9f-df45-03047c2d62d1"
      },
      "execution_count": 19,
      "outputs": [
        {
          "output_type": "execute_result",
          "data": {
            "text/plain": [
              "<matplotlib.axes._subplots.AxesSubplot at 0x7f2bc65e05d0>"
            ]
          },
          "metadata": {},
          "execution_count": 19
        },
        {
          "output_type": "display_data",
          "data": {
            "image/png": "[encoded data removed]",
            "text/plain": [
              "<Figure size 864x576 with 2 Axes>"
            ]
          },
          "metadata": {
            "needs_background": "light"
          }
        }
      ]
    },
    {
      "cell_type": "code",
      "source": [
        "corr['target'].abs().sort_values(ascending=False)"
      ],
      "metadata": {
        "colab": {
          "base_uri": "https://localhost:8080/"
        },
        "id": "ZFwX5kee2d6Z",
        "outputId": "12428f75-0740-4be4-dec9-554fed529d97"
      },
      "execution_count": 20,
      "outputs": [
        {
          "output_type": "execute_result",
          "data": {
            "text/plain": [
              "target     1.000000\n",
              "ram        0.918958\n",
              "BP         0.189038\n",
              "px_w       0.153033\n",
              "px_h       0.134545\n",
              "m_int      0.051798\n",
              "sc_w       0.041954\n",
              "3G         0.037057\n",
              "prim_c     0.036389\n",
              "m_wt       0.031087\n",
              "blue       0.028716\n",
              "dual       0.026703\n",
              "ts         0.026270\n",
              "sc_h       0.025653\n",
              "front_c    0.025090\n",
              "talk_t     0.024496\n",
              "4G         0.022494\n",
              "wifi       0.020703\n",
              "c_speed    0.008498\n",
              "n_cores    0.006218\n",
              "m_dep      0.003122\n",
              "Name: target, dtype: float64"
            ]
          },
          "metadata": {},
          "execution_count": 20
        }
      ]
    },
    {
      "cell_type": "markdown",
      "source": [
        "# Preprocessing data"
      ],
      "metadata": {
        "id": "YQvrwHSL2gyK"
      }
    },
    {
      "cell_type": "code",
      "source": [
        "from sklearn.model_selection import train_test_split"
      ],
      "metadata": {
        "id": "MjgNv3jI2ffo"
      },
      "execution_count": 21,
      "outputs": []
    },
    {
      "cell_type": "code",
      "source": [
        "y_train=train['target']\n",
        "X_train=train.drop(['target'], axis=1)\n",
        "X_test=test"
      ],
      "metadata": {
        "id": "MYRtRyUg2kC8"
      },
      "execution_count": 22,
      "outputs": []
    },
    {
      "cell_type": "code",
      "source": [
        "#Split into validation data\n",
        "X_train1, X_valid, y_train1, y_valid=train_test_split(X_train, y_train, test_size=0.2, random_state=42)\n",
        "print(X_train1.shape, X_valid.shape)"
      ],
      "metadata": {
        "colab": {
          "base_uri": "https://localhost:8080/"
        },
        "id": "Ewwh2FJ22laS",
        "outputId": "3096439a-9bcc-4fa4-d247-e20969349877"
      },
      "execution_count": 23,
      "outputs": [
        {
          "output_type": "stream",
          "name": "stdout",
          "text": [
            "(1200, 20) (300, 20)\n"
          ]
        }
      ]
    },
    {
      "cell_type": "code",
      "source": [
        "features = ['ram', 'BP', 'px_w', 'px_h', 'm_int', 'sc_w'] "
      ],
      "metadata": {
        "id": "92zIgSlH2n1_"
      },
      "execution_count": 24,
      "outputs": []
    },
    {
      "cell_type": "code",
      "source": [
        "X_f_train=train[features]\n",
        "X_f_test=X_test[features]\n",
        "X_f_train.head()\n",
        "# 상관관계가 높은 feature로 구성"
      ],
      "metadata": {
        "colab": {
          "base_uri": "https://localhost:8080/",
          "height": 206
        },
        "id": "bclZmlCr2o8F",
        "outputId": "597a67ac-1c44-4a96-819a-9f9f48a78f52"
      },
      "execution_count": 25,
      "outputs": [
        {
          "output_type": "execute_result",
          "data": {
            "text/html": [
              "\n",
              "  <div id=\"df-492e8ab6-36c5-4352-a6a0-e43e8291f288\">\n",
              "    <div class=\"colab-df-container\">\n",
              "      <div>\n",
              "<style scoped>\n",
              "    .dataframe tbody tr th:only-of-type {\n",
              "        vertical-align: middle;\n",
              "    }\n",
              "\n",
              "    .dataframe tbody tr th {\n",
              "        vertical-align: top;\n",
              "    }\n",
              "\n",
              "    .dataframe thead th {\n",
              "        text-align: right;\n",
              "    }\n",
              "</style>\n",
              "<table border=\"1\" class=\"dataframe\">\n",
              "  <thead>\n",
              "    <tr style=\"text-align: right;\">\n",
              "      <th></th>\n",
              "      <th>ram</th>\n",
              "      <th>BP</th>\n",
              "      <th>px_w</th>\n",
              "      <th>px_h</th>\n",
              "      <th>m_int</th>\n",
              "      <th>sc_w</th>\n",
              "    </tr>\n",
              "  </thead>\n",
              "  <tbody>\n",
              "    <tr>\n",
              "      <th>0</th>\n",
              "      <td>2549</td>\n",
              "      <td>842</td>\n",
              "      <td>756</td>\n",
              "      <td>20</td>\n",
              "      <td>7</td>\n",
              "      <td>7</td>\n",
              "    </tr>\n",
              "    <tr>\n",
              "      <th>1</th>\n",
              "      <td>2631</td>\n",
              "      <td>1021</td>\n",
              "      <td>1988</td>\n",
              "      <td>905</td>\n",
              "      <td>53</td>\n",
              "      <td>3</td>\n",
              "    </tr>\n",
              "    <tr>\n",
              "      <th>2</th>\n",
              "      <td>2603</td>\n",
              "      <td>563</td>\n",
              "      <td>1716</td>\n",
              "      <td>1263</td>\n",
              "      <td>41</td>\n",
              "      <td>2</td>\n",
              "    </tr>\n",
              "    <tr>\n",
              "      <th>3</th>\n",
              "      <td>2769</td>\n",
              "      <td>615</td>\n",
              "      <td>1786</td>\n",
              "      <td>1216</td>\n",
              "      <td>10</td>\n",
              "      <td>8</td>\n",
              "    </tr>\n",
              "    <tr>\n",
              "      <th>4</th>\n",
              "      <td>1411</td>\n",
              "      <td>1821</td>\n",
              "      <td>1212</td>\n",
              "      <td>1208</td>\n",
              "      <td>44</td>\n",
              "      <td>2</td>\n",
              "    </tr>\n",
              "  </tbody>\n",
              "</table>\n",
              "</div>\n",
              "      <button class=\"colab-df-convert\" onclick=\"convertToInteractive('df-492e8ab6-36c5-4352-a6a0-e43e8291f288')\"\n",
              "              title=\"Convert this dataframe to an interactive table.\"\n",
              "              style=\"display:none;\">\n",
              "        \n",
              "  <svg xmlns=\"http://www.w3.org/2000/svg\" height=\"24px\"viewBox=\"0 0 24 24\"\n",
              "       width=\"24px\">\n",
              "    <path d=\"M0 0h24v24H0V0z\" fill=\"none\"/>\n",
              "    <path d=\"M18.56 5.44l.94 2.06.94-2.06 2.06-.94-2.06-.94-.94-2.06-.94 2.06-2.06.94zm-11 1L8.5 8.5l.94-2.06 2.06-.94-2.06-.94L8.5 2.5l-.94 2.06-2.06.94zm10 10l.94 2.06.94-2.06 2.06-.94-2.06-.94-.94-2.06-.94 2.06-2.06.94z\"/><path d=\"M17.41 7.96l-1.37-1.37c-.4-.4-.92-.59-1.43-.59-.52 0-1.04.2-1.43.59L10.3 9.45l-7.72 7.72c-.78.78-.78 2.05 0 2.83L4 21.41c.39.39.9.59 1.41.59.51 0 1.02-.2 1.41-.59l7.78-7.78 2.81-2.81c.8-.78.8-2.07 0-2.86zM5.41 20L4 18.59l7.72-7.72 1.47 1.35L5.41 20z\"/>\n",
              "  </svg>\n",
              "      </button>\n",
              "      \n",
              "  <style>\n",
              "    .colab-df-container {\n",
              "      display:flex;\n",
              "      flex-wrap:wrap;\n",
              "      gap: 12px;\n",
              "    }\n",
              "\n",
              "    .colab-df-convert {\n",
              "      background-color: #E8F0FE;\n",
              "      border: none;\n",
              "      border-radius: 50%;\n",
              "      cursor: pointer;\n",
              "      display: none;\n",
              "      fill: #1967D2;\n",
              "      height: 32px;\n",
              "      padding: 0 0 0 0;\n",
              "      width: 32px;\n",
              "    }\n",
              "\n",
              "    .colab-df-convert:hover {\n",
              "      background-color: #E2EBFA;\n",
              "      box-shadow: 0px 1px 2px rgba(60, 64, 67, 0.3), 0px 1px 3px 1px rgba(60, 64, 67, 0.15);\n",
              "      fill: #174EA6;\n",
              "    }\n",
              "\n",
              "    [theme=dark] .colab-df-convert {\n",
              "      background-color: #3B4455;\n",
              "      fill: #D2E3FC;\n",
              "    }\n",
              "\n",
              "    [theme=dark] .colab-df-convert:hover {\n",
              "      background-color: #434B5C;\n",
              "      box-shadow: 0px 1px 3px 1px rgba(0, 0, 0, 0.15);\n",
              "      filter: drop-shadow(0px 1px 2px rgba(0, 0, 0, 0.3));\n",
              "      fill: #FFFFFF;\n",
              "    }\n",
              "  </style>\n",
              "\n",
              "      <script>\n",
              "        const buttonEl =\n",
              "          document.querySelector('#df-492e8ab6-36c5-4352-a6a0-e43e8291f288 button.colab-df-convert');\n",
              "        buttonEl.style.display =\n",
              "          google.colab.kernel.accessAllowed ? 'block' : 'none';\n",
              "\n",
              "        async function convertToInteractive(key) {\n",
              "          const element = document.querySelector('#df-492e8ab6-36c5-4352-a6a0-e43e8291f288');\n",
              "          const dataTable =\n",
              "            await google.colab.kernel.invokeFunction('convertToInteractive',\n",
              "                                                     [key], {});\n",
              "          if (!dataTable) return;\n",
              "\n",
              "          const docLinkHtml = 'Like what you see? Visit the ' +\n",
              "            '<a target=\"_blank\" href=https://colab.research.google.com/notebooks/data_table.ipynb>data table notebook</a>'\n",
              "            + ' to learn more about interactive tables.';\n",
              "          element.innerHTML = '';\n",
              "          dataTable['output_type'] = 'display_data';\n",
              "          await google.colab.output.renderOutput(dataTable, element);\n",
              "          const docLink = document.createElement('div');\n",
              "          docLink.innerHTML = docLinkHtml;\n",
              "          element.appendChild(docLink);\n",
              "        }\n",
              "      </script>\n",
              "    </div>\n",
              "  </div>\n",
              "  "
            ],
            "text/plain": [
              "    ram    BP  px_w  px_h  m_int  sc_w\n",
              "0  2549   842   756    20      7     7\n",
              "1  2631  1021  1988   905     53     3\n",
              "2  2603   563  1716  1263     41     2\n",
              "3  2769   615  1786  1216     10     8\n",
              "4  1411  1821  1212  1208     44     2"
            ]
          },
          "metadata": {},
          "execution_count": 25
        }
      ]
    },
    {
      "cell_type": "code",
      "source": [
        "target_0=train[train['target']==0]\n",
        "target_1=train[train['target']==1]\n",
        "target_2=train[train['target']==2]\n",
        "target_3=train[train['target']==3]"
      ],
      "metadata": {
        "id": "k1-KWN212snM"
      },
      "execution_count": 26,
      "outputs": []
    },
    {
      "cell_type": "code",
      "source": [
        "fig, ax = plt.subplots(2,3, figsize=(9, 6))\n",
        "target_0['ram'].plot(kind='hist', ax=ax[0,0])\n",
        "target_0['BP'].plot(kind='hist', ax=ax[0,1])\n",
        "target_0['px_w'].plot(kind='hist', ax=ax[0,2])\n",
        "target_0['px_h'].plot(kind='hist', ax=ax[1,0])\n",
        "target_0['m_int'].plot(kind='hist', ax=ax[1,1])\n",
        "target_0['sc_w'].plot(kind='hist', ax=ax[1,2])"
      ],
      "metadata": {
        "colab": {
          "base_uri": "https://localhost:8080/",
          "height": 392
        },
        "id": "oZpvwkw12tx5",
        "outputId": "094d5eb4-dfdc-496c-a2c9-cd1bd8ce6af5"
      },
      "execution_count": 27,
      "outputs": [
        {
          "output_type": "execute_result",
          "data": {
            "text/plain": [
              "<matplotlib.axes._subplots.AxesSubplot at 0x7f2bc5829e10>"
            ]
          },
          "metadata": {},
          "execution_count": 27
        },
        {
          "output_type": "display_data",
          "data": {
            "image/png": "[encoded data removed]",
            "text/plain": [
              "<Figure size 648x432 with 6 Axes>"
            ]
          },
          "metadata": {
            "needs_background": "light"
          }
        }
      ]
    },
    {
      "cell_type": "code",
      "source": [
        "fig, ax = plt.subplots(2,3, figsize=(9, 6))\n",
        "target_1['ram'].plot(kind='hist', ax=ax[0,0])\n",
        "target_1['BP'].plot(kind='hist', ax=ax[0,1])\n",
        "target_1['px_w'].plot(kind='hist', ax=ax[0,2])\n",
        "target_1['px_h'].plot(kind='hist', ax=ax[1,0])\n",
        "target_1['m_int'].plot(kind='hist', ax=ax[1,1])\n",
        "target_1['sc_w'].plot(kind='hist', ax=ax[1,2])"
      ],
      "metadata": {
        "colab": {
          "base_uri": "https://localhost:8080/",
          "height": 395
        },
        "id": "5Wg8CAN52xqh",
        "outputId": "aa29118f-d3fd-47c8-f880-9ed04dd3185a"
      },
      "execution_count": 28,
      "outputs": [
        {
          "output_type": "execute_result",
          "data": {
            "text/plain": [
              "<matplotlib.axes._subplots.AxesSubplot at 0x7f2bc673a290>"
            ]
          },
          "metadata": {},
          "execution_count": 28
        },
        {
          "output_type": "display_data",
          "data": {
            "image/png": "[encoded data removed]",
            "text/plain": [
              "<Figure size 648x432 with 6 Axes>"
            ]
          },
          "metadata": {
            "needs_background": "light"
          }
        }
      ]
    },
    {
      "cell_type": "code",
      "source": [
        "fig, ax = plt.subplots(2,3, figsize=(9, 6))\n",
        "target_2['ram'].plot(kind='hist', ax=ax[0,0])\n",
        "target_2['BP'].plot(kind='hist', ax=ax[0,1])\n",
        "target_2['px_w'].plot(kind='hist', ax=ax[0,2])\n",
        "target_2['px_h'].plot(kind='hist', ax=ax[1,0])\n",
        "target_2['m_int'].plot(kind='hist', ax=ax[1,1])\n",
        "target_2['sc_w'].plot(kind='hist', ax=ax[1,2])"
      ],
      "metadata": {
        "colab": {
          "base_uri": "https://localhost:8080/",
          "height": 392
        },
        "id": "EByi-byX2yEM",
        "outputId": "8998f07f-67cf-42ce-dbfb-af59498dced3"
      },
      "execution_count": 29,
      "outputs": [
        {
          "output_type": "execute_result",
          "data": {
            "text/plain": [
              "<matplotlib.axes._subplots.AxesSubplot at 0x7f2bc5cbe090>"
            ]
          },
          "metadata": {},
          "execution_count": 29
        },
        {
          "output_type": "display_data",
          "data": {
            "image/png": "[encoded data removed]",
            "text/plain": [
              "<Figure size 648x432 with 6 Axes>"
            ]
          },
          "metadata": {
            "needs_background": "light"
          }
        }
      ]
    },
    {
      "cell_type": "code",
      "source": [
        "fig, ax = plt.subplots(2,3, figsize=(9, 6))\n",
        "target_3['ram'].plot(kind='hist', ax=ax[0,0])\n",
        "target_3['BP'].plot(kind='hist', ax=ax[0,1])\n",
        "target_3['px_w'].plot(kind='hist', ax=ax[0,2])\n",
        "target_3['px_h'].plot(kind='hist', ax=ax[1,0])\n",
        "target_3['m_int'].plot(kind='hist', ax=ax[1,1])\n",
        "target_3['sc_w'].plot(kind='hist', ax=ax[1,2])"
      ],
      "metadata": {
        "colab": {
          "base_uri": "https://localhost:8080/",
          "height": 392
        },
        "id": "YUnftt-A2z44",
        "outputId": "b2c32870-38f2-4ab5-aea9-a2ead586e19b"
      },
      "execution_count": 30,
      "outputs": [
        {
          "output_type": "execute_result",
          "data": {
            "text/plain": [
              "<matplotlib.axes._subplots.AxesSubplot at 0x7f2bc5c44b10>"
            ]
          },
          "metadata": {},
          "execution_count": 30
        },
        {
          "output_type": "display_data",
          "data": {
            "image/png": "[encoded data removed]",
            "text/plain": [
              "<Figure size 648x432 with 6 Axes>"
            ]
          },
          "metadata": {
            "needs_background": "light"
          }
        }
      ]
    },
    {
      "cell_type": "markdown",
      "source": [
        "#PCA"
      ],
      "metadata": {
        "id": "eDrIpaWM23BK"
      }
    },
    {
      "cell_type": "code",
      "source": [
        "from sklearn.decomposition import PCA, KernelPCA"
      ],
      "metadata": {
        "id": "pSWwHPQE21Gl"
      },
      "execution_count": 31,
      "outputs": []
    },
    {
      "cell_type": "code",
      "source": [
        "pca=PCA()\n",
        "pca.fit(X_train)\n",
        "cumsum=np.cumsum(pca.explained_variance_ratio_)\n",
        "d=np.argmax(cumsum>=0.95)+1 #분산을 95%이상 보존\n",
        "d"
      ],
      "metadata": {
        "colab": {
          "base_uri": "https://localhost:8080/"
        },
        "id": "u6G7fOWy25hq",
        "outputId": "6d619b25-5175-4277-df8f-abcc468299ac"
      },
      "execution_count": 32,
      "outputs": [
        {
          "output_type": "execute_result",
          "data": {
            "text/plain": [
              "4"
            ]
          },
          "metadata": {},
          "execution_count": 32
        }
      ]
    },
    {
      "cell_type": "code",
      "source": [
        "pca=PCA(n_components=4)\n",
        "X_train_reduced=pd.DataFrame(pca.fit_transform(X_train))\n",
        "X_test_reduced=pd.DataFrame(pca.transform(X_test))\n",
        "X_train_reduced"
      ],
      "metadata": {
        "colab": {
          "base_uri": "https://localhost:8080/",
          "height": 423
        },
        "id": "q3Bbs4F426ih",
        "outputId": "5df6d319-3b20-44b2-83b2-ecdc2282eb49"
      },
      "execution_count": 33,
      "outputs": [
        {
          "output_type": "execute_result",
          "data": {
            "text/html": [
              "\n",
              "  <div id=\"df-7edb26e6-cbb4-42e7-b066-c3f62faf195d\">\n",
              "    <div class=\"colab-df-container\">\n",
              "      <div>\n",
              "<style scoped>\n",
              "    .dataframe tbody tr th:only-of-type {\n",
              "        vertical-align: middle;\n",
              "    }\n",
              "\n",
              "    .dataframe tbody tr th {\n",
              "        vertical-align: top;\n",
              "    }\n",
              "\n",
              "    .dataframe thead th {\n",
              "        text-align: right;\n",
              "    }\n",
              "</style>\n",
              "<table border=\"1\" class=\"dataframe\">\n",
              "  <thead>\n",
              "    <tr style=\"text-align: right;\">\n",
              "      <th></th>\n",
              "      <th>0</th>\n",
              "      <th>1</th>\n",
              "      <th>2</th>\n",
              "      <th>3</th>\n",
              "    </tr>\n",
              "  </thead>\n",
              "  <tbody>\n",
              "    <tr>\n",
              "      <th>0</th>\n",
              "      <td>-436.327512</td>\n",
              "      <td>-788.872016</td>\n",
              "      <td>-399.533599</td>\n",
              "      <td>58.680421</td>\n",
              "    </tr>\n",
              "    <tr>\n",
              "      <th>1</th>\n",
              "      <td>-495.295085</td>\n",
              "      <td>699.972585</td>\n",
              "      <td>-224.474879</td>\n",
              "      <td>357.062588</td>\n",
              "    </tr>\n",
              "    <tr>\n",
              "      <th>2</th>\n",
              "      <td>-464.004113</td>\n",
              "      <td>775.711148</td>\n",
              "      <td>-673.986299</td>\n",
              "      <td>-94.483916</td>\n",
              "    </tr>\n",
              "    <tr>\n",
              "      <th>3</th>\n",
              "      <td>-630.222798</td>\n",
              "      <td>791.876053</td>\n",
              "      <td>-623.039984</td>\n",
              "      <td>-11.557328</td>\n",
              "    </tr>\n",
              "    <tr>\n",
              "      <th>4</th>\n",
              "      <td>727.916767</td>\n",
              "      <td>370.170174</td>\n",
              "      <td>585.720964</td>\n",
              "      <td>-391.925692</td>\n",
              "    </tr>\n",
              "    <tr>\n",
              "      <th>...</th>\n",
              "      <td>...</td>\n",
              "      <td>...</td>\n",
              "      <td>...</td>\n",
              "      <td>...</td>\n",
              "    </tr>\n",
              "    <tr>\n",
              "      <th>1495</th>\n",
              "      <td>1325.518849</td>\n",
              "      <td>-416.940967</td>\n",
              "      <td>228.519421</td>\n",
              "      <td>-105.236436</td>\n",
              "    </tr>\n",
              "    <tr>\n",
              "      <th>1496</th>\n",
              "      <td>1827.949878</td>\n",
              "      <td>-333.988714</td>\n",
              "      <td>624.745201</td>\n",
              "      <td>-190.490429</td>\n",
              "    </tr>\n",
              "    <tr>\n",
              "      <th>1497</th>\n",
              "      <td>-1722.789300</td>\n",
              "      <td>-399.701923</td>\n",
              "      <td>146.510887</td>\n",
              "      <td>-390.759909</td>\n",
              "    </tr>\n",
              "    <tr>\n",
              "      <th>1498</th>\n",
              "      <td>3.654344</td>\n",
              "      <td>-808.759147</td>\n",
              "      <td>-359.152417</td>\n",
              "      <td>-89.725550</td>\n",
              "    </tr>\n",
              "    <tr>\n",
              "      <th>1499</th>\n",
              "      <td>203.952726</td>\n",
              "      <td>-110.335640</td>\n",
              "      <td>494.230320</td>\n",
              "      <td>326.715356</td>\n",
              "    </tr>\n",
              "  </tbody>\n",
              "</table>\n",
              "<p>1500 rows × 4 columns</p>\n",
              "</div>\n",
              "      <button class=\"colab-df-convert\" onclick=\"convertToInteractive('df-7edb26e6-cbb4-42e7-b066-c3f62faf195d')\"\n",
              "              title=\"Convert this dataframe to an interactive table.\"\n",
              "              style=\"display:none;\">\n",
              "        \n",
              "  <svg xmlns=\"http://www.w3.org/2000/svg\" height=\"24px\"viewBox=\"0 0 24 24\"\n",
              "       width=\"24px\">\n",
              "    <path d=\"M0 0h24v24H0V0z\" fill=\"none\"/>\n",
              "    <path d=\"M18.56 5.44l.94 2.06.94-2.06 2.06-.94-2.06-.94-.94-2.06-.94 2.06-2.06.94zm-11 1L8.5 8.5l.94-2.06 2.06-.94-2.06-.94L8.5 2.5l-.94 2.06-2.06.94zm10 10l.94 2.06.94-2.06 2.06-.94-2.06-.94-.94-2.06-.94 2.06-2.06.94z\"/><path d=\"M17.41 7.96l-1.37-1.37c-.4-.4-.92-.59-1.43-.59-.52 0-1.04.2-1.43.59L10.3 9.45l-7.72 7.72c-.78.78-.78 2.05 0 2.83L4 21.41c.39.39.9.59 1.41.59.51 0 1.02-.2 1.41-.59l7.78-7.78 2.81-2.81c.8-.78.8-2.07 0-2.86zM5.41 20L4 18.59l7.72-7.72 1.47 1.35L5.41 20z\"/>\n",
              "  </svg>\n",
              "      </button>\n",
              "      \n",
              "  <style>\n",
              "    .colab-df-container {\n",
              "      display:flex;\n",
              "      flex-wrap:wrap;\n",
              "      gap: 12px;\n",
              "    }\n",
              "\n",
              "    .colab-df-convert {\n",
              "      background-color: #E8F0FE;\n",
              "      border: none;\n",
              "      border-radius: 50%;\n",
              "      cursor: pointer;\n",
              "      display: none;\n",
              "      fill: #1967D2;\n",
              "      height: 32px;\n",
              "      padding: 0 0 0 0;\n",
              "      width: 32px;\n",
              "    }\n",
              "\n",
              "    .colab-df-convert:hover {\n",
              "      background-color: #E2EBFA;\n",
              "      box-shadow: 0px 1px 2px rgba(60, 64, 67, 0.3), 0px 1px 3px 1px rgba(60, 64, 67, 0.15);\n",
              "      fill: #174EA6;\n",
              "    }\n",
              "\n",
              "    [theme=dark] .colab-df-convert {\n",
              "      background-color: #3B4455;\n",
              "      fill: #D2E3FC;\n",
              "    }\n",
              "\n",
              "    [theme=dark] .colab-df-convert:hover {\n",
              "      background-color: #434B5C;\n",
              "      box-shadow: 0px 1px 3px 1px rgba(0, 0, 0, 0.15);\n",
              "      filter: drop-shadow(0px 1px 2px rgba(0, 0, 0, 0.3));\n",
              "      fill: #FFFFFF;\n",
              "    }\n",
              "  </style>\n",
              "\n",
              "      <script>\n",
              "        const buttonEl =\n",
              "          document.querySelector('#df-7edb26e6-cbb4-42e7-b066-c3f62faf195d button.colab-df-convert');\n",
              "        buttonEl.style.display =\n",
              "          google.colab.kernel.accessAllowed ? 'block' : 'none';\n",
              "\n",
              "        async function convertToInteractive(key) {\n",
              "          const element = document.querySelector('#df-7edb26e6-cbb4-42e7-b066-c3f62faf195d');\n",
              "          const dataTable =\n",
              "            await google.colab.kernel.invokeFunction('convertToInteractive',\n",
              "                                                     [key], {});\n",
              "          if (!dataTable) return;\n",
              "\n",
              "          const docLinkHtml = 'Like what you see? Visit the ' +\n",
              "            '<a target=\"_blank\" href=https://colab.research.google.com/notebooks/data_table.ipynb>data table notebook</a>'\n",
              "            + ' to learn more about interactive tables.';\n",
              "          element.innerHTML = '';\n",
              "          dataTable['output_type'] = 'display_data';\n",
              "          await google.colab.output.renderOutput(dataTable, element);\n",
              "          const docLink = document.createElement('div');\n",
              "          docLink.innerHTML = docLinkHtml;\n",
              "          element.appendChild(docLink);\n",
              "        }\n",
              "      </script>\n",
              "    </div>\n",
              "  </div>\n",
              "  "
            ],
            "text/plain": [
              "                0           1           2           3\n",
              "0     -436.327512 -788.872016 -399.533599   58.680421\n",
              "1     -495.295085  699.972585 -224.474879  357.062588\n",
              "2     -464.004113  775.711148 -673.986299  -94.483916\n",
              "3     -630.222798  791.876053 -623.039984  -11.557328\n",
              "4      727.916767  370.170174  585.720964 -391.925692\n",
              "...           ...         ...         ...         ...\n",
              "1495  1325.518849 -416.940967  228.519421 -105.236436\n",
              "1496  1827.949878 -333.988714  624.745201 -190.490429\n",
              "1497 -1722.789300 -399.701923  146.510887 -390.759909\n",
              "1498     3.654344 -808.759147 -359.152417  -89.725550\n",
              "1499   203.952726 -110.335640  494.230320  326.715356\n",
              "\n",
              "[1500 rows x 4 columns]"
            ]
          },
          "metadata": {},
          "execution_count": 33
        }
      ]
    },
    {
      "cell_type": "code",
      "source": [
        "X_train1_reduced=pd.DataFrame(pca.transform(X_train1))\n",
        "X_valid_reduced=pd.DataFrame(pca.transform(X_valid))"
      ],
      "metadata": {
        "id": "8sBiw1Hb28b1"
      },
      "execution_count": 34,
      "outputs": []
    },
    {
      "cell_type": "markdown",
      "source": [
        "#Models"
      ],
      "metadata": {
        "id": "on3fXWFo29kd"
      }
    },
    {
      "cell_type": "code",
      "source": [
        "from sklearn.preprocessing import StandardScaler\n",
        "from sklearn.ensemble import RandomForestClassifier\n",
        "from sklearn.tree import DecisionTreeClassifier\n",
        "from sklearn.discriminant_analysis import LinearDiscriminantAnalysis, QuadraticDiscriminantAnalysis\n",
        "from sklearn.metrics import accuracy_score\n",
        "from sklearn.model_selection import cross_validate\n",
        "from sklearn.model_selection import GridSearchCV "
      ],
      "metadata": {
        "id": "e9B6hJ-_2-6Z"
      },
      "execution_count": 35,
      "outputs": []
    },
    {
      "cell_type": "code",
      "source": [
        "rf=RandomForestClassifier(random_state=14)"
      ],
      "metadata": {
        "id": "yN5DFx6g3ADj"
      },
      "execution_count": 36,
      "outputs": []
    },
    {
      "cell_type": "code",
      "source": [
        "#using original features\n",
        "scores= cross_validate(estimator = rf, X=X_train, y=y_train, scoring=['accuracy'],\n",
        "                      cv=5, n_jobs=-1, return_train_score=False)\n",
        "print('CV accuracy: %s'% scores['test_accuracy'])\n",
        "print('Mean CV accuracy: %s'% np.mean(scores['test_accuracy']))"
      ],
      "metadata": {
        "colab": {
          "base_uri": "https://localhost:8080/"
        },
        "id": "rcYF5KRK3CCV",
        "outputId": "feefef4a-b4a7-4aed-bd2b-32a443d8facb"
      },
      "execution_count": 37,
      "outputs": [
        {
          "output_type": "stream",
          "name": "stdout",
          "text": [
            "CV accuracy: [0.87666667 0.87       0.88       0.89666667 0.86666667]\n",
            "Mean CV accuracy: 0.8779999999999999\n"
          ]
        }
      ]
    },
    {
      "cell_type": "code",
      "source": [
        "#using selected features\n",
        "scores= cross_validate(estimator = rf, X=X_f_train, y=y_train, scoring=['accuracy'],\n",
        "                      cv=5, n_jobs=-1, return_train_score=False)\n",
        "print('CV accuracy: %s'% scores['test_accuracy'])\n",
        "print('Mean CV accuracy: %s'% np.mean(scores['test_accuracy']))"
      ],
      "metadata": {
        "colab": {
          "base_uri": "https://localhost:8080/"
        },
        "id": "THqlW1_t3DWb",
        "outputId": "6158bfd3-9e87-4203-ebd6-5f63a1e4ce09"
      },
      "execution_count": 38,
      "outputs": [
        {
          "output_type": "stream",
          "name": "stdout",
          "text": [
            "CV accuracy: [0.91666667 0.90666667 0.91       0.92666667 0.90333333]\n",
            "Mean CV accuracy: 0.9126666666666667\n"
          ]
        }
      ]
    },
    {
      "cell_type": "code",
      "source": [
        "#using pca-reduced features\n",
        "scores= cross_validate(estimator = rf, X=X_train_reduced, y=y_train, scoring=['accuracy'],\n",
        "                      cv=5, n_jobs=-1, return_train_score=False)\n",
        "print('CV accuracy: %s'% scores['test_accuracy'])\n",
        "print('Mean CV accuracy: %s'% np.mean(scores['test_accuracy']))"
      ],
      "metadata": {
        "colab": {
          "base_uri": "https://localhost:8080/"
        },
        "id": "BMrVeYau3FAc",
        "outputId": "95231573-134e-4e5f-9405-564e9d0e00a5"
      },
      "execution_count": 39,
      "outputs": [
        {
          "output_type": "stream",
          "name": "stdout",
          "text": [
            "CV accuracy: [0.93333333 0.90666667 0.93333333 0.94333333 0.92666667]\n",
            "Mean CV accuracy: 0.9286666666666668\n"
          ]
        }
      ]
    },
    {
      "cell_type": "code",
      "source": [
        "rf.fit(X_train_reduced, y_train)\n",
        "pred = rf.predict(X_test_reduced)"
      ],
      "metadata": {
        "id": "UDSh3ZI_3GWl"
      },
      "execution_count": 40,
      "outputs": []
    },
    {
      "cell_type": "markdown",
      "source": [
        "#Hyperparameter Tuning"
      ],
      "metadata": {
        "id": "Mn5X6xoS3NB_"
      }
    },
    {
      "cell_type": "code",
      "source": [
        "params = {\n",
        "    'max_depth' : [8, 10, 12, 14, 16],\n",
        "    'min_samples_leaf' : [1, 2, 3, 4, 6],\n",
        "    'min_samples_split' : [4, 6, 8, 10]\n",
        "}\n",
        "\n",
        "rf=RandomForestClassifier(random_state=42, n_jobs=-1)\n",
        "grid=GridSearchCV(rf, param_grid=params, cv=3, n_jobs=-1)\n",
        "grid.fit(X_train_reduced, y_train)\n",
        "print(grid.best_params_, grid.best_score_)"
      ],
      "metadata": {
        "colab": {
          "base_uri": "https://localhost:8080/"
        },
        "id": "nelKqNdO3OkI",
        "outputId": "a4af4498-ebde-4718-d5e3-043c9ca2aa9e"
      },
      "execution_count": 41,
      "outputs": [
        {
          "output_type": "stream",
          "name": "stdout",
          "text": [
            "{'max_depth': 10, 'min_samples_leaf': 2, 'min_samples_split': 4} 0.9233333333333333\n"
          ]
        }
      ]
    },
    {
      "cell_type": "code",
      "source": [
        "rf=RandomForestClassifier(**grid.best_params_, random_state=10)\n",
        "rf.fit(X_train_reduced, y_train)\n",
        "pred = rf.predict(X_test_reduced)"
      ],
      "metadata": {
        "id": "bvhxn4lU3QOL"
      },
      "execution_count": 42,
      "outputs": []
    },
    {
      "cell_type": "code",
      "source": [
        "scores= cross_validate(estimator = rf, X=X_train_reduced, y=y_train, scoring=['accuracy'],\n",
        "                      cv=5, n_jobs=-1, return_train_score=False)\n",
        "print('CV accuracy: %s'% scores['test_accuracy'])\n",
        "print('Mean CV accuracy: %s'% np.mean(scores['test_accuracy']))"
      ],
      "metadata": {
        "colab": {
          "base_uri": "https://localhost:8080/"
        },
        "id": "sQMwjiGE3WdK",
        "outputId": "06fccfb2-5a3b-4909-ad72-311d095302f9"
      },
      "execution_count": 43,
      "outputs": [
        {
          "output_type": "stream",
          "name": "stdout",
          "text": [
            "CV accuracy: [0.91666667 0.91666667 0.92666667 0.93666667 0.92      ]\n",
            "Mean CV accuracy: 0.9233333333333332\n"
          ]
        }
      ]
    },
    {
      "cell_type": "markdown",
      "source": [
        "#Linear Discriminant Analysis (lda)"
      ],
      "metadata": {
        "id": "PqJlb6_e3aDu"
      }
    },
    {
      "cell_type": "code",
      "source": [
        "lda=LinearDiscriminantAnalysis()\n",
        "lda.fit(X_train1, y_train1)\n",
        "accuracy_score(lda.predict(X_valid),y_valid)"
      ],
      "metadata": {
        "colab": {
          "base_uri": "https://localhost:8080/"
        },
        "id": "lqG5pR_R3f7O",
        "outputId": "5a23b78c-2d4b-471a-db72-0e619983d69e"
      },
      "execution_count": 44,
      "outputs": [
        {
          "output_type": "execute_result",
          "data": {
            "text/plain": [
              "0.9333333333333333"
            ]
          },
          "metadata": {},
          "execution_count": 44
        }
      ]
    },
    {
      "cell_type": "markdown",
      "source": [
        "#Quadratic Discriminant Analysis (qda)"
      ],
      "metadata": {
        "id": "_6thVzI33hFx"
      }
    },
    {
      "cell_type": "code",
      "source": [
        "qda=QuadraticDiscriminantAnalysis()\n",
        "qda.fit(X_train1, y_train1)\n",
        "accuracy_score(lda.predict(X_valid),y_valid)"
      ],
      "metadata": {
        "colab": {
          "base_uri": "https://localhost:8080/"
        },
        "id": "OYbizoiN3jza",
        "outputId": "8759c8f9-2a57-471e-dc92-3ff568f188d7"
      },
      "execution_count": 45,
      "outputs": [
        {
          "output_type": "execute_result",
          "data": {
            "text/plain": [
              "0.9333333333333333"
            ]
          },
          "metadata": {},
          "execution_count": 45
        }
      ]
    },
    {
      "cell_type": "markdown",
      "source": [
        "#SVC (svm)"
      ],
      "metadata": {
        "id": "lGKPt3QI3oyx"
      }
    },
    {
      "cell_type": "code",
      "source": [
        "from sklearn.svm import SVC\n",
        "\n",
        "sc=StandardScaler()\n",
        "X_train_r_sc=sc.fit_transform(X_train_reduced)\n",
        "X_test_r_sc=sc.fit_transform(X_test_reduced)"
      ],
      "metadata": {
        "id": "Z8veQHGK3qTZ"
      },
      "execution_count": 46,
      "outputs": []
    },
    {
      "cell_type": "code",
      "source": [
        "svm=SVC(C=1500, gamma=0.001,  kernel='rbf', random_state=42, probability=True)\n",
        "scores= cross_validate(estimator = svm, X=X_train_r_sc, y=y_train, scoring=['accuracy'],\n",
        "                      cv=5, n_jobs=-1, return_train_score=False)\n",
        "print('CV accuracy: %s'% scores['test_accuracy'])\n",
        "print('Mean CV accuracy: %s'% np.mean(scores['test_accuracy']))"
      ],
      "metadata": {
        "colab": {
          "base_uri": "https://localhost:8080/"
        },
        "id": "mpR8FU433tAZ",
        "outputId": "45c5c271-247d-4d36-8574-18e996702aad"
      },
      "execution_count": 47,
      "outputs": [
        {
          "output_type": "stream",
          "name": "stdout",
          "text": [
            "CV accuracy: [0.97       0.96       0.97       0.96       0.97666667]\n",
            "Mean CV accuracy: 0.9673333333333334\n"
          ]
        }
      ]
    },
    {
      "cell_type": "markdown",
      "source": [
        "#GBM(gbc)"
      ],
      "metadata": {
        "id": "iKjC6rEh3uxS"
      }
    },
    {
      "cell_type": "code",
      "source": [
        "from sklearn.ensemble import GradientBoostingClassifier\n",
        "from xgboost import XGBClassifier\n",
        "from lightgbm import LGBMClassifier\n",
        "import time"
      ],
      "metadata": {
        "id": "Kk8abO_63wiL"
      },
      "execution_count": 48,
      "outputs": []
    },
    {
      "cell_type": "code",
      "source": [
        "gbc=GradientBoostingClassifier(random_state=15, n_estimators=400, learning_rate=0.1)\n",
        "# gbc.fit(X_train, y_train)\n",
        "scores= cross_validate(estimator = gbc, X=X_train, y=y_train, scoring=['accuracy'],\n",
        "                      cv=5, n_jobs=-1, return_train_score=False)\n",
        "print('CV accuracy: %s'% scores['test_accuracy'])\n",
        "print('Mean CV accuracy: %s'% np.mean(scores['test_accuracy']))"
      ],
      "metadata": {
        "colab": {
          "base_uri": "https://localhost:8080/"
        },
        "id": "venAV-Ei32UI",
        "outputId": "f4ee6f6e-4955-4d10-8d57-8e1afd26be03"
      },
      "execution_count": 50,
      "outputs": [
        {
          "output_type": "stream",
          "name": "stdout",
          "text": [
            "CV accuracy: [0.9        0.90666667 0.89       0.91       0.90333333]\n",
            "Mean CV accuracy: 0.9019999999999999\n"
          ]
        }
      ]
    },
    {
      "cell_type": "code",
      "source": [
        "gbc=GradientBoostingClassifier(random_state=15, n_estimators=400, learning_rate=0.1)\n",
        "# gbc.fit(X_train, y_train)\n",
        "scores= cross_validate(estimator = gbc, X=X_train_reduced, y=y_train, scoring=['accuracy'],\n",
        "                      cv=5, n_jobs=-1, return_train_score=False)\n",
        "print('CV accuracy: %s'% scores['test_accuracy'])\n",
        "print('Mean CV accuracy: %s'% np.mean(scores['test_accuracy']))"
      ],
      "metadata": {
        "colab": {
          "base_uri": "https://localhost:8080/"
        },
        "id": "dPVac1jD3yC-",
        "outputId": "d6a2e39b-7031-401c-9134-728e3f286cd2"
      },
      "execution_count": 49,
      "outputs": [
        {
          "output_type": "stream",
          "name": "stdout",
          "text": [
            "CV accuracy: [0.92       0.89666667 0.91666667 0.91333333 0.88333333]\n",
            "Mean CV accuracy: 0.9059999999999999\n"
          ]
        }
      ]
    },
    {
      "cell_type": "markdown",
      "source": [
        "##Hyperparameter Tuning"
      ],
      "metadata": {
        "id": "2-xGxKC83_PY"
      }
    },
    {
      "cell_type": "code",
      "source": [
        "params= {\n",
        "    'n_estimators':[100, 200, 300, 400, 500],\n",
        "    'learning_rate' : [0.01, 0.05, 0.1]\n",
        "}\n",
        "start_time=time.time()\n",
        "grid=GridSearchCV(gbc, param_grid=params, cv=3, verbose=1, n_jobs=-1)\n",
        "grid.fit(X_train, y_train)\n",
        "print('Fit time: ', time.time()-start_time)\n",
        "print(grid.best_params_, grid.best_score_)"
      ],
      "metadata": {
        "colab": {
          "base_uri": "https://localhost:8080/"
        },
        "id": "o1ZXBZlN4AQo",
        "outputId": "62f4a668-7b48-4cf7-c128-3392ac51c99f"
      },
      "execution_count": 51,
      "outputs": [
        {
          "output_type": "stream",
          "name": "stdout",
          "text": [
            "Fitting 3 folds for each of 15 candidates, totalling 45 fits\n",
            "Fit time:  147.77088594436646\n",
            "{'learning_rate': 0.1, 'n_estimators': 200} 0.8946666666666667\n"
          ]
        }
      ]
    },
    {
      "cell_type": "markdown",
      "source": [
        "#Light GBM (lgbm)"
      ],
      "metadata": {
        "id": "diqJNymS4FUK"
      }
    },
    {
      "cell_type": "code",
      "source": [
        "X_f_train1=X_train1[features]\n",
        "X_f_valid=X_valid[features]\n",
        "\n",
        "from sklearn.preprocessing import StandardScaler\n",
        "sc=StandardScaler()\n",
        "X_train1_r_sc=sc.fit_transform(X_train1_reduced)\n",
        "X_valid_r_sc=sc.fit_transform(X_valid_reduced)"
      ],
      "metadata": {
        "id": "PL5mF1kq39ua"
      },
      "execution_count": 52,
      "outputs": []
    },
    {
      "cell_type": "code",
      "source": [
        "lgbm=LGBMClassifier(n_estimators=800, learning_rate=0.15, random_state=42)\n",
        "# gbc.fit(X_train, y_train)\n",
        "scores= cross_validate(estimator = lgbm, X=X_train_r_sc, y=y_train, scoring=['accuracy'],\n",
        "                      cv=5, n_jobs=-1, return_train_score=False)\n",
        "print('CV accuracy: %s'% scores['test_accuracy'])\n",
        "print('Mean CV accuracy: %s'% np.mean(scores['test_accuracy']))"
      ],
      "metadata": {
        "colab": {
          "base_uri": "https://localhost:8080/"
        },
        "id": "1PVCgD2m4Lz6",
        "outputId": "eff6d6df-d76e-4474-dab7-eaf1a17a70e1"
      },
      "execution_count": 53,
      "outputs": [
        {
          "output_type": "stream",
          "name": "stdout",
          "text": [
            "CV accuracy: [0.91333333 0.91       0.92       0.94333333 0.91666667]\n",
            "Mean CV accuracy: 0.9206666666666667\n"
          ]
        }
      ]
    },
    {
      "cell_type": "code",
      "source": [
        "evals=[(X_valid_r_sc, y_valid)]\n",
        "\n",
        "lgbm=LGBMClassifier(n_estimators=200, learning_rate=0.05, random_state=7)\n",
        "lgbm.fit(X_train1_r_sc, y_train1, early_stopping_rounds=10, eval_set=evals)\n",
        "print('Acc: ', accuracy_score(y_valid, lgbm.predict(X_valid_r_sc)))"
      ],
      "metadata": {
        "colab": {
          "base_uri": "https://localhost:8080/"
        },
        "id": "zRJ_Yz1S4R6K",
        "outputId": "cc1e3485-cc31-4761-c2f2-7bbba31e5e48"
      },
      "execution_count": 54,
      "outputs": [
        {
          "output_type": "stream",
          "name": "stdout",
          "text": [
            "[1]\tvalid_0's multi_logloss: 1.32229\n",
            "Training until validation scores don't improve for 10 rounds.\n",
            "[2]\tvalid_0's multi_logloss: 1.26182\n",
            "[3]\tvalid_0's multi_logloss: 1.20701\n",
            "[4]\tvalid_0's multi_logloss: 1.15791\n",
            "[5]\tvalid_0's multi_logloss: 1.1119\n",
            "[6]\tvalid_0's multi_logloss: 1.06975\n",
            "[7]\tvalid_0's multi_logloss: 1.02934\n",
            "[8]\tvalid_0's multi_logloss: 0.991891\n",
            "[9]\tvalid_0's multi_logloss: 0.957315\n",
            "[10]\tvalid_0's multi_logloss: 0.924463\n",
            "[11]\tvalid_0's multi_logloss: 0.894288\n",
            "[12]\tvalid_0's multi_logloss: 0.865093\n",
            "[13]\tvalid_0's multi_logloss: 0.838161\n",
            "[14]\tvalid_0's multi_logloss: 0.813264\n",
            "[15]\tvalid_0's multi_logloss: 0.789561\n",
            "[16]\tvalid_0's multi_logloss: 0.766633\n",
            "[17]\tvalid_0's multi_logloss: 0.74437\n",
            "[18]\tvalid_0's multi_logloss: 0.723299\n",
            "[19]\tvalid_0's multi_logloss: 0.703351\n",
            "[20]\tvalid_0's multi_logloss: 0.684084\n",
            "[21]\tvalid_0's multi_logloss: 0.666341\n",
            "[22]\tvalid_0's multi_logloss: 0.649161\n",
            "[23]\tvalid_0's multi_logloss: 0.632126\n",
            "[24]\tvalid_0's multi_logloss: 0.616942\n",
            "[25]\tvalid_0's multi_logloss: 0.60239\n",
            "[26]\tvalid_0's multi_logloss: 0.587868\n",
            "[27]\tvalid_0's multi_logloss: 0.573248\n",
            "[28]\tvalid_0's multi_logloss: 0.560392\n",
            "[29]\tvalid_0's multi_logloss: 0.547277\n",
            "[30]\tvalid_0's multi_logloss: 0.535685\n",
            "[31]\tvalid_0's multi_logloss: 0.524186\n",
            "[32]\tvalid_0's multi_logloss: 0.51273\n",
            "[33]\tvalid_0's multi_logloss: 0.502017\n",
            "[34]\tvalid_0's multi_logloss: 0.49193\n",
            "[35]\tvalid_0's multi_logloss: 0.481064\n",
            "[36]\tvalid_0's multi_logloss: 0.470766\n",
            "[37]\tvalid_0's multi_logloss: 0.460585\n",
            "[38]\tvalid_0's multi_logloss: 0.45021\n",
            "[39]\tvalid_0's multi_logloss: 0.440394\n",
            "[40]\tvalid_0's multi_logloss: 0.430539\n",
            "[41]\tvalid_0's multi_logloss: 0.422049\n",
            "[42]\tvalid_0's multi_logloss: 0.413834\n",
            "[43]\tvalid_0's multi_logloss: 0.406186\n",
            "[44]\tvalid_0's multi_logloss: 0.399569\n",
            "[45]\tvalid_0's multi_logloss: 0.392012\n",
            "[46]\tvalid_0's multi_logloss: 0.38504\n",
            "[47]\tvalid_0's multi_logloss: 0.378405\n",
            "[48]\tvalid_0's multi_logloss: 0.372324\n",
            "[49]\tvalid_0's multi_logloss: 0.365753\n",
            "[50]\tvalid_0's multi_logloss: 0.358376\n",
            "[51]\tvalid_0's multi_logloss: 0.351563\n",
            "[52]\tvalid_0's multi_logloss: 0.344584\n",
            "[53]\tvalid_0's multi_logloss: 0.33959\n",
            "[54]\tvalid_0's multi_logloss: 0.335138\n",
            "[55]\tvalid_0's multi_logloss: 0.330627\n",
            "[56]\tvalid_0's multi_logloss: 0.32564\n",
            "[57]\tvalid_0's multi_logloss: 0.32063\n",
            "[58]\tvalid_0's multi_logloss: 0.315584\n",
            "[59]\tvalid_0's multi_logloss: 0.311025\n",
            "[60]\tvalid_0's multi_logloss: 0.307254\n",
            "[61]\tvalid_0's multi_logloss: 0.303278\n",
            "[62]\tvalid_0's multi_logloss: 0.299317\n",
            "[63]\tvalid_0's multi_logloss: 0.295107\n",
            "[64]\tvalid_0's multi_logloss: 0.292308\n",
            "[65]\tvalid_0's multi_logloss: 0.288656\n",
            "[66]\tvalid_0's multi_logloss: 0.284389\n",
            "[67]\tvalid_0's multi_logloss: 0.279965\n",
            "[68]\tvalid_0's multi_logloss: 0.275309\n",
            "[69]\tvalid_0's multi_logloss: 0.272045\n",
            "[70]\tvalid_0's multi_logloss: 0.269193\n",
            "[71]\tvalid_0's multi_logloss: 0.265994\n",
            "[72]\tvalid_0's multi_logloss: 0.263365\n",
            "[73]\tvalid_0's multi_logloss: 0.260596\n",
            "[74]\tvalid_0's multi_logloss: 0.257774\n",
            "[75]\tvalid_0's multi_logloss: 0.255237\n",
            "[76]\tvalid_0's multi_logloss: 0.252655\n",
            "[77]\tvalid_0's multi_logloss: 0.250201\n",
            "[78]\tvalid_0's multi_logloss: 0.248021\n",
            "[79]\tvalid_0's multi_logloss: 0.245415\n",
            "[80]\tvalid_0's multi_logloss: 0.24355\n",
            "[81]\tvalid_0's multi_logloss: 0.241254\n",
            "[82]\tvalid_0's multi_logloss: 0.239521\n",
            "[83]\tvalid_0's multi_logloss: 0.237613\n",
            "[84]\tvalid_0's multi_logloss: 0.235854\n",
            "[85]\tvalid_0's multi_logloss: 0.233642\n",
            "[86]\tvalid_0's multi_logloss: 0.232297\n",
            "[87]\tvalid_0's multi_logloss: 0.231007\n",
            "[88]\tvalid_0's multi_logloss: 0.22949\n",
            "[89]\tvalid_0's multi_logloss: 0.228392\n",
            "[90]\tvalid_0's multi_logloss: 0.226732\n",
            "[91]\tvalid_0's multi_logloss: 0.224852\n",
            "[92]\tvalid_0's multi_logloss: 0.223697\n",
            "[93]\tvalid_0's multi_logloss: 0.222542\n",
            "[94]\tvalid_0's multi_logloss: 0.221128\n",
            "[95]\tvalid_0's multi_logloss: 0.220112\n",
            "[96]\tvalid_0's multi_logloss: 0.218844\n",
            "[97]\tvalid_0's multi_logloss: 0.21737\n",
            "[98]\tvalid_0's multi_logloss: 0.216563\n",
            "[99]\tvalid_0's multi_logloss: 0.21527\n",
            "[100]\tvalid_0's multi_logloss: 0.213585\n",
            "[101]\tvalid_0's multi_logloss: 0.211901\n",
            "[102]\tvalid_0's multi_logloss: 0.210772\n",
            "[103]\tvalid_0's multi_logloss: 0.210314\n",
            "[104]\tvalid_0's multi_logloss: 0.209143\n",
            "[105]\tvalid_0's multi_logloss: 0.2081\n",
            "[106]\tvalid_0's multi_logloss: 0.207255\n",
            "[107]\tvalid_0's multi_logloss: 0.205788\n",
            "[108]\tvalid_0's multi_logloss: 0.204606\n",
            "[109]\tvalid_0's multi_logloss: 0.203816\n",
            "[110]\tvalid_0's multi_logloss: 0.202807\n",
            "[111]\tvalid_0's multi_logloss: 0.201878\n",
            "[112]\tvalid_0's multi_logloss: 0.201117\n",
            "[113]\tvalid_0's multi_logloss: 0.19986\n",
            "[114]\tvalid_0's multi_logloss: 0.199198\n",
            "[115]\tvalid_0's multi_logloss: 0.198425\n",
            "[116]\tvalid_0's multi_logloss: 0.197732\n",
            "[117]\tvalid_0's multi_logloss: 0.197517\n",
            "[118]\tvalid_0's multi_logloss: 0.196644\n",
            "[119]\tvalid_0's multi_logloss: 0.196009\n",
            "[120]\tvalid_0's multi_logloss: 0.195681\n",
            "[121]\tvalid_0's multi_logloss: 0.194604\n",
            "[122]\tvalid_0's multi_logloss: 0.194102\n",
            "[123]\tvalid_0's multi_logloss: 0.193865\n",
            "[124]\tvalid_0's multi_logloss: 0.193449\n",
            "[125]\tvalid_0's multi_logloss: 0.192654\n",
            "[126]\tvalid_0's multi_logloss: 0.191681\n",
            "[127]\tvalid_0's multi_logloss: 0.191203\n",
            "[128]\tvalid_0's multi_logloss: 0.191151\n",
            "[129]\tvalid_0's multi_logloss: 0.190971\n",
            "[130]\tvalid_0's multi_logloss: 0.190793\n",
            "[131]\tvalid_0's multi_logloss: 0.189752\n",
            "[132]\tvalid_0's multi_logloss: 0.189522\n",
            "[133]\tvalid_0's multi_logloss: 0.189406\n",
            "[134]\tvalid_0's multi_logloss: 0.188896\n",
            "[135]\tvalid_0's multi_logloss: 0.188489\n",
            "[136]\tvalid_0's multi_logloss: 0.188004\n",
            "[137]\tvalid_0's multi_logloss: 0.187519\n",
            "[138]\tvalid_0's multi_logloss: 0.187063\n",
            "[139]\tvalid_0's multi_logloss: 0.186781\n",
            "[140]\tvalid_0's multi_logloss: 0.186788\n",
            "[141]\tvalid_0's multi_logloss: 0.186557\n",
            "[142]\tvalid_0's multi_logloss: 0.186553\n",
            "[143]\tvalid_0's multi_logloss: 0.186292\n",
            "[144]\tvalid_0's multi_logloss: 0.186871\n",
            "[145]\tvalid_0's multi_logloss: 0.186903\n",
            "[146]\tvalid_0's multi_logloss: 0.186654\n",
            "[147]\tvalid_0's multi_logloss: 0.186563\n",
            "[148]\tvalid_0's multi_logloss: 0.186351\n",
            "[149]\tvalid_0's multi_logloss: 0.186139\n",
            "[150]\tvalid_0's multi_logloss: 0.186262\n",
            "[151]\tvalid_0's multi_logloss: 0.18604\n",
            "[152]\tvalid_0's multi_logloss: 0.18602\n",
            "[153]\tvalid_0's multi_logloss: 0.186002\n",
            "[154]\tvalid_0's multi_logloss: 0.186471\n",
            "[155]\tvalid_0's multi_logloss: 0.18691\n",
            "[156]\tvalid_0's multi_logloss: 0.186924\n",
            "[157]\tvalid_0's multi_logloss: 0.187064\n",
            "[158]\tvalid_0's multi_logloss: 0.186944\n",
            "[159]\tvalid_0's multi_logloss: 0.187128\n",
            "[160]\tvalid_0's multi_logloss: 0.187177\n",
            "[161]\tvalid_0's multi_logloss: 0.187424\n",
            "[162]\tvalid_0's multi_logloss: 0.18733\n",
            "[163]\tvalid_0's multi_logloss: 0.187471\n",
            "Early stopping, best iteration is:\n",
            "[153]\tvalid_0's multi_logloss: 0.186002\n",
            "Acc:  0.93\n"
          ]
        }
      ]
    },
    {
      "cell_type": "code",
      "source": [
        "evals=[(X_valid_r_sc, y_valid)]\n",
        "\n",
        "lgbm=LGBMClassifier(n_estimators=200, learning_rate=0.05, random_state=7)\n",
        "lgbm.fit(X_train1_r_sc, y_train1, early_stopping_rounds=10, eval_set=evals)\n",
        "print('Acc: ', accuracy_score(y_valid, lgbm.predict(X_valid_r_sc)))"
      ],
      "metadata": {
        "colab": {
          "base_uri": "https://localhost:8080/"
        },
        "id": "TCT0locT4UPd",
        "outputId": "3070fb32-c6f0-45f2-f5fb-a101a4ef230c"
      },
      "execution_count": 55,
      "outputs": [
        {
          "output_type": "stream",
          "name": "stdout",
          "text": [
            "[1]\tvalid_0's multi_logloss: 1.32229\n",
            "Training until validation scores don't improve for 10 rounds.\n",
            "[2]\tvalid_0's multi_logloss: 1.26182\n",
            "[3]\tvalid_0's multi_logloss: 1.20701\n",
            "[4]\tvalid_0's multi_logloss: 1.15791\n",
            "[5]\tvalid_0's multi_logloss: 1.1119\n",
            "[6]\tvalid_0's multi_logloss: 1.06975\n",
            "[7]\tvalid_0's multi_logloss: 1.02934\n",
            "[8]\tvalid_0's multi_logloss: 0.991891\n",
            "[9]\tvalid_0's multi_logloss: 0.957315\n",
            "[10]\tvalid_0's multi_logloss: 0.924463\n",
            "[11]\tvalid_0's multi_logloss: 0.894288\n",
            "[12]\tvalid_0's multi_logloss: 0.865093\n",
            "[13]\tvalid_0's multi_logloss: 0.838161\n",
            "[14]\tvalid_0's multi_logloss: 0.813264\n",
            "[15]\tvalid_0's multi_logloss: 0.789561\n",
            "[16]\tvalid_0's multi_logloss: 0.766633\n",
            "[17]\tvalid_0's multi_logloss: 0.74437\n",
            "[18]\tvalid_0's multi_logloss: 0.723299\n",
            "[19]\tvalid_0's multi_logloss: 0.703351\n",
            "[20]\tvalid_0's multi_logloss: 0.684084\n",
            "[21]\tvalid_0's multi_logloss: 0.666341\n",
            "[22]\tvalid_0's multi_logloss: 0.649161\n",
            "[23]\tvalid_0's multi_logloss: 0.632126\n",
            "[24]\tvalid_0's multi_logloss: 0.616942\n",
            "[25]\tvalid_0's multi_logloss: 0.60239\n",
            "[26]\tvalid_0's multi_logloss: 0.587868\n",
            "[27]\tvalid_0's multi_logloss: 0.573248\n",
            "[28]\tvalid_0's multi_logloss: 0.560392\n",
            "[29]\tvalid_0's multi_logloss: 0.547277\n",
            "[30]\tvalid_0's multi_logloss: 0.535685\n",
            "[31]\tvalid_0's multi_logloss: 0.524186\n",
            "[32]\tvalid_0's multi_logloss: 0.51273\n",
            "[33]\tvalid_0's multi_logloss: 0.502017\n",
            "[34]\tvalid_0's multi_logloss: 0.49193\n",
            "[35]\tvalid_0's multi_logloss: 0.481064\n",
            "[36]\tvalid_0's multi_logloss: 0.470766\n",
            "[37]\tvalid_0's multi_logloss: 0.460585\n",
            "[38]\tvalid_0's multi_logloss: 0.45021\n",
            "[39]\tvalid_0's multi_logloss: 0.440394\n",
            "[40]\tvalid_0's multi_logloss: 0.430539\n",
            "[41]\tvalid_0's multi_logloss: 0.422049\n",
            "[42]\tvalid_0's multi_logloss: 0.413834\n",
            "[43]\tvalid_0's multi_logloss: 0.406186\n",
            "[44]\tvalid_0's multi_logloss: 0.399569\n",
            "[45]\tvalid_0's multi_logloss: 0.392012\n",
            "[46]\tvalid_0's multi_logloss: 0.38504\n",
            "[47]\tvalid_0's multi_logloss: 0.378405\n",
            "[48]\tvalid_0's multi_logloss: 0.372324\n",
            "[49]\tvalid_0's multi_logloss: 0.365753\n",
            "[50]\tvalid_0's multi_logloss: 0.358376\n",
            "[51]\tvalid_0's multi_logloss: 0.351563\n",
            "[52]\tvalid_0's multi_logloss: 0.344584\n",
            "[53]\tvalid_0's multi_logloss: 0.33959\n",
            "[54]\tvalid_0's multi_logloss: 0.335138\n",
            "[55]\tvalid_0's multi_logloss: 0.330627\n",
            "[56]\tvalid_0's multi_logloss: 0.32564\n",
            "[57]\tvalid_0's multi_logloss: 0.32063\n",
            "[58]\tvalid_0's multi_logloss: 0.315584\n",
            "[59]\tvalid_0's multi_logloss: 0.311025\n",
            "[60]\tvalid_0's multi_logloss: 0.307254\n",
            "[61]\tvalid_0's multi_logloss: 0.303278\n",
            "[62]\tvalid_0's multi_logloss: 0.299317\n",
            "[63]\tvalid_0's multi_logloss: 0.295107\n",
            "[64]\tvalid_0's multi_logloss: 0.292308\n",
            "[65]\tvalid_0's multi_logloss: 0.288656\n",
            "[66]\tvalid_0's multi_logloss: 0.284389\n",
            "[67]\tvalid_0's multi_logloss: 0.279965\n",
            "[68]\tvalid_0's multi_logloss: 0.275309\n",
            "[69]\tvalid_0's multi_logloss: 0.272045\n",
            "[70]\tvalid_0's multi_logloss: 0.269193\n",
            "[71]\tvalid_0's multi_logloss: 0.265994\n",
            "[72]\tvalid_0's multi_logloss: 0.263365\n",
            "[73]\tvalid_0's multi_logloss: 0.260596\n",
            "[74]\tvalid_0's multi_logloss: 0.257774\n",
            "[75]\tvalid_0's multi_logloss: 0.255237\n",
            "[76]\tvalid_0's multi_logloss: 0.252655\n",
            "[77]\tvalid_0's multi_logloss: 0.250201\n",
            "[78]\tvalid_0's multi_logloss: 0.248021\n",
            "[79]\tvalid_0's multi_logloss: 0.245415\n",
            "[80]\tvalid_0's multi_logloss: 0.24355\n",
            "[81]\tvalid_0's multi_logloss: 0.241254\n",
            "[82]\tvalid_0's multi_logloss: 0.239521\n",
            "[83]\tvalid_0's multi_logloss: 0.237613\n",
            "[84]\tvalid_0's multi_logloss: 0.235854\n",
            "[85]\tvalid_0's multi_logloss: 0.233642\n",
            "[86]\tvalid_0's multi_logloss: 0.232297\n",
            "[87]\tvalid_0's multi_logloss: 0.231007\n",
            "[88]\tvalid_0's multi_logloss: 0.22949\n",
            "[89]\tvalid_0's multi_logloss: 0.228392\n",
            "[90]\tvalid_0's multi_logloss: 0.226732\n",
            "[91]\tvalid_0's multi_logloss: 0.224852\n",
            "[92]\tvalid_0's multi_logloss: 0.223697\n",
            "[93]\tvalid_0's multi_logloss: 0.222542\n",
            "[94]\tvalid_0's multi_logloss: 0.221128\n",
            "[95]\tvalid_0's multi_logloss: 0.220112\n",
            "[96]\tvalid_0's multi_logloss: 0.218844\n",
            "[97]\tvalid_0's multi_logloss: 0.21737\n",
            "[98]\tvalid_0's multi_logloss: 0.216563\n",
            "[99]\tvalid_0's multi_logloss: 0.21527\n",
            "[100]\tvalid_0's multi_logloss: 0.213585\n",
            "[101]\tvalid_0's multi_logloss: 0.211901\n",
            "[102]\tvalid_0's multi_logloss: 0.210772\n",
            "[103]\tvalid_0's multi_logloss: 0.210314\n",
            "[104]\tvalid_0's multi_logloss: 0.209143\n",
            "[105]\tvalid_0's multi_logloss: 0.2081\n",
            "[106]\tvalid_0's multi_logloss: 0.207255\n",
            "[107]\tvalid_0's multi_logloss: 0.205788\n",
            "[108]\tvalid_0's multi_logloss: 0.204606\n",
            "[109]\tvalid_0's multi_logloss: 0.203816\n",
            "[110]\tvalid_0's multi_logloss: 0.202807\n",
            "[111]\tvalid_0's multi_logloss: 0.201878\n",
            "[112]\tvalid_0's multi_logloss: 0.201117\n",
            "[113]\tvalid_0's multi_logloss: 0.19986\n",
            "[114]\tvalid_0's multi_logloss: 0.199198\n",
            "[115]\tvalid_0's multi_logloss: 0.198425\n",
            "[116]\tvalid_0's multi_logloss: 0.197732\n",
            "[117]\tvalid_0's multi_logloss: 0.197517\n",
            "[118]\tvalid_0's multi_logloss: 0.196644\n",
            "[119]\tvalid_0's multi_logloss: 0.196009\n",
            "[120]\tvalid_0's multi_logloss: 0.195681\n",
            "[121]\tvalid_0's multi_logloss: 0.194604\n",
            "[122]\tvalid_0's multi_logloss: 0.194102\n",
            "[123]\tvalid_0's multi_logloss: 0.193865\n",
            "[124]\tvalid_0's multi_logloss: 0.193449\n",
            "[125]\tvalid_0's multi_logloss: 0.192654\n",
            "[126]\tvalid_0's multi_logloss: 0.191681\n",
            "[127]\tvalid_0's multi_logloss: 0.191203\n",
            "[128]\tvalid_0's multi_logloss: 0.191151\n",
            "[129]\tvalid_0's multi_logloss: 0.190971\n",
            "[130]\tvalid_0's multi_logloss: 0.190793\n",
            "[131]\tvalid_0's multi_logloss: 0.189752\n",
            "[132]\tvalid_0's multi_logloss: 0.189522\n",
            "[133]\tvalid_0's multi_logloss: 0.189406\n",
            "[134]\tvalid_0's multi_logloss: 0.188896\n",
            "[135]\tvalid_0's multi_logloss: 0.188489\n",
            "[136]\tvalid_0's multi_logloss: 0.188004\n",
            "[137]\tvalid_0's multi_logloss: 0.187519\n",
            "[138]\tvalid_0's multi_logloss: 0.187063\n",
            "[139]\tvalid_0's multi_logloss: 0.186781\n",
            "[140]\tvalid_0's multi_logloss: 0.186788\n",
            "[141]\tvalid_0's multi_logloss: 0.186557\n",
            "[142]\tvalid_0's multi_logloss: 0.186553\n",
            "[143]\tvalid_0's multi_logloss: 0.186292\n",
            "[144]\tvalid_0's multi_logloss: 0.186871\n",
            "[145]\tvalid_0's multi_logloss: 0.186903\n",
            "[146]\tvalid_0's multi_logloss: 0.186654\n",
            "[147]\tvalid_0's multi_logloss: 0.186563\n",
            "[148]\tvalid_0's multi_logloss: 0.186351\n",
            "[149]\tvalid_0's multi_logloss: 0.186139\n",
            "[150]\tvalid_0's multi_logloss: 0.186262\n",
            "[151]\tvalid_0's multi_logloss: 0.18604\n",
            "[152]\tvalid_0's multi_logloss: 0.18602\n",
            "[153]\tvalid_0's multi_logloss: 0.186002\n",
            "[154]\tvalid_0's multi_logloss: 0.186471\n",
            "[155]\tvalid_0's multi_logloss: 0.18691\n",
            "[156]\tvalid_0's multi_logloss: 0.186924\n",
            "[157]\tvalid_0's multi_logloss: 0.187064\n",
            "[158]\tvalid_0's multi_logloss: 0.186944\n",
            "[159]\tvalid_0's multi_logloss: 0.187128\n",
            "[160]\tvalid_0's multi_logloss: 0.187177\n",
            "[161]\tvalid_0's multi_logloss: 0.187424\n",
            "[162]\tvalid_0's multi_logloss: 0.18733\n",
            "[163]\tvalid_0's multi_logloss: 0.187471\n",
            "Early stopping, best iteration is:\n",
            "[153]\tvalid_0's multi_logloss: 0.186002\n",
            "Acc:  0.93\n"
          ]
        }
      ]
    },
    {
      "cell_type": "markdown",
      "source": [
        "#XGBoost (xgb)"
      ],
      "metadata": {
        "id": "g9k8qOE_4wXH"
      }
    },
    {
      "cell_type": "code",
      "source": [
        "xgb=XGBClassifier(n_estimators=400, max_depth=6, random_state=42, learning_rate=0.1)\n",
        "scores= cross_validate(estimator = lgbm, X=X_train_r_sc, y=y_train, scoring=['accuracy'],\n",
        "                      cv=5, n_jobs=-1, return_train_score=False)\n",
        "print('CV accuracy: %s'% scores['test_accuracy'])\n",
        "print('Mean CV accuracy: %s'% np.mean(scores['test_accuracy']))"
      ],
      "metadata": {
        "colab": {
          "base_uri": "https://localhost:8080/"
        },
        "id": "NOirrB1X4yUj",
        "outputId": "82ad0a6c-cd55-4e54-8b02-ae7f773eb246"
      },
      "execution_count": 56,
      "outputs": [
        {
          "output_type": "stream",
          "name": "stdout",
          "text": [
            "CV accuracy: [0.93       0.89666667 0.92333333 0.95333333 0.92333333]\n",
            "Mean CV accuracy: 0.9253333333333333\n"
          ]
        }
      ]
    },
    {
      "cell_type": "markdown",
      "source": [
        "#Logistic Regression"
      ],
      "metadata": {
        "id": "KGTCjO5d49Rn"
      }
    },
    {
      "cell_type": "code",
      "source": [
        "from sklearn.linear_model import LogisticRegression\n",
        "from sklearn.preprocessing import StandardScaler\n",
        "\n",
        "sc=StandardScaler()\n",
        "X_train_sc=sc.fit_transform(X_train)\n",
        "X_train1_sc=sc.transform(X_train1)\n",
        "X_valid_sc=sc.transform(X_valid)\n",
        "X_test_sc=sc.transform(X_test)"
      ],
      "metadata": {
        "id": "BDksfZdJ4tX6"
      },
      "execution_count": 57,
      "outputs": []
    },
    {
      "cell_type": "code",
      "source": [
        "lr=LogisticRegression(C=400, solver='lbfgs', random_state=42)\n",
        "scores= cross_validate(estimator = lr, X=X_train_sc, y=y_train, scoring=['accuracy'],\n",
        "                      cv=5, n_jobs=-1, return_train_score=False)\n",
        "print('CV accuracy: %s'% scores['test_accuracy'])\n",
        "print('Mean CV accuracy: %s'% np.mean(scores['test_accuracy']))"
      ],
      "metadata": {
        "colab": {
          "base_uri": "https://localhost:8080/"
        },
        "id": "b90Rpuyc5BqG",
        "outputId": "5d9e6915-4978-4c44-f368-153e9d1bc433"
      },
      "execution_count": 58,
      "outputs": [
        {
          "output_type": "stream",
          "name": "stdout",
          "text": [
            "CV accuracy: [0.97       0.96333333 0.96666667 0.96       0.98333333]\n",
            "Mean CV accuracy: 0.9686666666666666\n"
          ]
        }
      ]
    },
    {
      "cell_type": "code",
      "source": [
        "lr.fit(X_train_sc, y_train)\n",
        "pred=lr.predict(X_test_sc)"
      ],
      "metadata": {
        "id": "yAsPd4ML5Ejv"
      },
      "execution_count": 59,
      "outputs": []
    },
    {
      "cell_type": "markdown",
      "source": [
        "#KNeighbors"
      ],
      "metadata": {
        "id": "g0BLFxCe5FHP"
      }
    },
    {
      "cell_type": "code",
      "source": [
        "from sklearn.neighbors import KNeighborsClassifier"
      ],
      "metadata": {
        "id": "WoB_iOTY5IZT"
      },
      "execution_count": 60,
      "outputs": []
    },
    {
      "cell_type": "code",
      "source": [
        "knn=KNeighborsClassifier(n_neighbors=9)\n",
        "scores= cross_validate(estimator = knn, X=X_train_reduced, y=y_train, scoring=['accuracy'],\n",
        "                      cv=5, n_jobs=-1, return_train_score=False)\n",
        "print('CV accuracy: %s'% scores['test_accuracy'])\n",
        "print('Mean CV accuracy: %s'% np.mean(scores['test_accuracy']))"
      ],
      "metadata": {
        "colab": {
          "base_uri": "https://localhost:8080/"
        },
        "id": "DdhxHZMq5JXj",
        "outputId": "5baa83e5-cfae-44c3-83b0-b54795f3bde2"
      },
      "execution_count": 61,
      "outputs": [
        {
          "output_type": "stream",
          "name": "stdout",
          "text": [
            "CV accuracy: [0.94333333 0.94333333 0.93666667 0.92       0.94      ]\n",
            "Mean CV accuracy: 0.9366666666666668\n"
          ]
        }
      ]
    },
    {
      "cell_type": "markdown",
      "source": [
        "#Stacking"
      ],
      "metadata": {
        "id": "Bpts-mD75Lfo"
      }
    },
    {
      "cell_type": "code",
      "source": [
        "from sklearn.model_selection import KFold\n",
        "\n",
        "def get_stacking_datasets(model, x_train_n, y_train_n, x_test_n, n_folds):\n",
        "    #cv\n",
        "    kf=KFold(n_folds, shuffle=False,)\n",
        "    \n",
        "    train_fold_pred=np.zeros((x_train_n.shape[0], 1))\n",
        "    test_pred=np.zeros((x_test_n.shape[0], n_folds))\n",
        "    print(model.__class__.__name__, '모델 시작')\n",
        "    \n",
        "    for folder_counter, (train_idx, valid_idx) in enumerate(kf.split(x_train_n)):\n",
        "        print(f\"Fold 횟수: {folder_counter+1}\")\n",
        "        print(train_idx)\n",
        "        x_tr=x_train_n.iloc[train_idx]\n",
        "        y_tr=y_train_n.iloc[train_idx]\n",
        "        x_te=x_train_n.iloc[valid_idx]\n",
        "        \n",
        "        model.fit(x_tr, y_tr)\n",
        "        train_fold_pred[valid_idx, :]=model.predict(x_te).reshape(-1,1)\n",
        "        test_pred[:, folder_counter]=model.predict(x_test_n)\n",
        "        \n",
        "    test_pred_mean=np.mean(test_pred, axis=1).reshape(-1,1)\n",
        "    \n",
        "    return train_fold_pred, test_pred_mean"
      ],
      "metadata": {
        "id": "lCQgcgd_5NF-"
      },
      "execution_count": 62,
      "outputs": []
    },
    {
      "cell_type": "code",
      "source": [
        "svm_train, svm_test=get_stacking_datasets(svm, X_train, y_train, X_test, 5)\n",
        "lr_train, lr_test=get_stacking_datasets(lr, X_train_reduced, y_train, X_test_reduced, 5)\n",
        "lda_train, lda_test=get_stacking_datasets(lda, X_train_reduced, y_train, X_test_reduced, 5)\n",
        "xgb_train, xgb_test=get_stacking_datasets(xgb, X_train_reduced, y_train, X_test_reduced, 5)\n",
        "knn_train, knn_test=get_stacking_datasets(knn, X_train, y_train, X_test, 5)"
      ],
      "metadata": {
        "colab": {
          "base_uri": "https://localhost:8080/"
        },
        "id": "lbVF8QOi5P5y",
        "outputId": "2538dbff-e7a6-423b-a096-3c21cdb69e08"
      },
      "execution_count": 63,
      "outputs": [
        {
          "output_type": "stream",
          "name": "stdout",
          "text": [
            "SVC 모델 시작\n",
            "Fold 횟수: 1\n",
            "[ 300  301  302 ... 1497 1498 1499]\n",
            "Fold 횟수: 2\n",
            "[   0    1    2 ... 1497 1498 1499]\n",
            "Fold 횟수: 3\n",
            "[   0    1    2 ... 1497 1498 1499]\n",
            "Fold 횟수: 4\n",
            "[   0    1    2 ... 1497 1498 1499]\n",
            "Fold 횟수: 5\n",
            "[   0    1    2 ... 1197 1198 1199]\n",
            "LogisticRegression 모델 시작\n",
            "Fold 횟수: 1\n",
            "[ 300  301  302 ... 1497 1498 1499]\n",
            "Fold 횟수: 2\n",
            "[   0    1    2 ... 1497 1498 1499]\n",
            "Fold 횟수: 3\n",
            "[   0    1    2 ... 1497 1498 1499]\n",
            "Fold 횟수: 4\n",
            "[   0    1    2 ... 1497 1498 1499]\n",
            "Fold 횟수: 5\n",
            "[   0    1    2 ... 1197 1198 1199]\n",
            "LinearDiscriminantAnalysis 모델 시작\n",
            "Fold 횟수: 1\n",
            "[ 300  301  302 ... 1497 1498 1499]\n",
            "Fold 횟수: 2\n",
            "[   0    1    2 ... 1497 1498 1499]\n",
            "Fold 횟수: 3\n",
            "[   0    1    2 ... 1497 1498 1499]\n",
            "Fold 횟수: 4\n",
            "[   0    1    2 ... 1497 1498 1499]\n",
            "Fold 횟수: 5\n",
            "[   0    1    2 ... 1197 1198 1199]\n",
            "XGBClassifier 모델 시작\n",
            "Fold 횟수: 1\n",
            "[ 300  301  302 ... 1497 1498 1499]\n",
            "Fold 횟수: 2\n",
            "[   0    1    2 ... 1497 1498 1499]\n",
            "Fold 횟수: 3\n",
            "[   0    1    2 ... 1497 1498 1499]\n",
            "Fold 횟수: 4\n",
            "[   0    1    2 ... 1497 1498 1499]\n",
            "Fold 횟수: 5\n",
            "[   0    1    2 ... 1197 1198 1199]\n",
            "KNeighborsClassifier 모델 시작\n",
            "Fold 횟수: 1\n",
            "[ 300  301  302 ... 1497 1498 1499]\n",
            "Fold 횟수: 2\n",
            "[   0    1    2 ... 1497 1498 1499]\n",
            "Fold 횟수: 3\n",
            "[   0    1    2 ... 1497 1498 1499]\n",
            "Fold 횟수: 4\n",
            "[   0    1    2 ... 1497 1498 1499]\n",
            "Fold 횟수: 5\n",
            "[   0    1    2 ... 1197 1198 1199]\n"
          ]
        }
      ]
    },
    {
      "cell_type": "code",
      "source": [
        "new_X_train=np.concatenate((svm_train, lr_train, knn_train), axis=1)\n",
        "new_X_test=np.concatenate((svm_test, lr_test, knn_test), axis=1)\n",
        "print(new_X_train.shape)\n",
        "print(X_train.shape)"
      ],
      "metadata": {
        "colab": {
          "base_uri": "https://localhost:8080/"
        },
        "id": "JUBnW2LP5SbH",
        "outputId": "36dc980d-16a8-4382-a434-188159de72e9"
      },
      "execution_count": 64,
      "outputs": [
        {
          "output_type": "stream",
          "name": "stdout",
          "text": [
            "(1500, 3)\n",
            "(1500, 20)\n"
          ]
        }
      ]
    },
    {
      "cell_type": "code",
      "source": [
        "rf=RandomForestClassifier(random_state=14)\n",
        "scores= cross_validate(estimator = rf, X=new_X_train, y=y_train, scoring=['accuracy'],\n",
        "                      cv=5, n_jobs=-1, return_train_score=False)\n",
        "print('CV accuracy: %s'% scores['test_accuracy'])\n",
        "print('Mean CV accuracy: %s'% np.mean(scores['test_accuracy']))"
      ],
      "metadata": {
        "colab": {
          "base_uri": "https://localhost:8080/"
        },
        "id": "FaplchMv5Vzp",
        "outputId": "872df37f-acd1-4532-cbe8-2c1cecf29b59"
      },
      "execution_count": 65,
      "outputs": [
        {
          "output_type": "stream",
          "name": "stdout",
          "text": [
            "CV accuracy: [0.75333333 0.92       0.94333333 0.94333333 0.95333333]\n",
            "Mean CV accuracy: 0.9026666666666667\n"
          ]
        }
      ]
    },
    {
      "cell_type": "code",
      "source": [
        "lr=LogisticRegression()\n",
        "scores= cross_validate(estimator = lr, X=new_X_train, y=y_train, scoring=['accuracy'],\n",
        "                      cv=5, n_jobs=-1, return_train_score=False)\n",
        "print('CV accuracy: %s'% scores['test_accuracy'])\n",
        "print('Mean CV accuracy: %s'% np.mean(scores['test_accuracy']))"
      ],
      "metadata": {
        "colab": {
          "base_uri": "https://localhost:8080/"
        },
        "id": "K86S0pPQ5YR7",
        "outputId": "01c78f3f-edd2-4d62-e7e8-d17ac7926ef3"
      },
      "execution_count": 66,
      "outputs": [
        {
          "output_type": "stream",
          "name": "stdout",
          "text": [
            "CV accuracy: [0.95666667 0.94       0.94333333 0.94333333 0.95333333]\n",
            "Mean CV accuracy: 0.9473333333333332\n"
          ]
        }
      ]
    },
    {
      "cell_type": "code",
      "source": [
        "lgb2=LGBMClassifier(n_estimators=300, random_state=42)\n",
        "scores= cross_validate(estimator = lgb2, X=new_X_train, y=y_train, scoring=['accuracy'],\n",
        "                      cv=5, n_jobs=-1, return_train_score=False)\n",
        "print('CV accuracy: %s'% scores['test_accuracy'])\n",
        "print('Mean CV accuracy: %s'% np.mean(scores['test_accuracy']))"
      ],
      "metadata": {
        "colab": {
          "base_uri": "https://localhost:8080/"
        },
        "id": "DuByRs2K5ZtR",
        "outputId": "cf59d83b-1fe7-4c47-df0b-7037d90b9ee3"
      },
      "execution_count": 67,
      "outputs": [
        {
          "output_type": "stream",
          "name": "stdout",
          "text": [
            "CV accuracy: [0.95666667 0.92       0.93666667 0.94333333 0.95333333]\n",
            "Mean CV accuracy: 0.942\n"
          ]
        }
      ]
    },
    {
      "cell_type": "code",
      "source": [
        "lr.fit(new_X_train, y_train)\n",
        "pred=lr.predict(new_X_test)"
      ],
      "metadata": {
        "id": "tFmdUXG65d7w"
      },
      "execution_count": 68,
      "outputs": []
    },
    {
      "cell_type": "code",
      "source": [
        "rf.fit(new_X_train, y_train)\n",
        "pred=lr.predict(new_X_test)"
      ],
      "metadata": {
        "id": "-K0XC0_c5eoZ"
      },
      "execution_count": 69,
      "outputs": []
    },
    {
      "cell_type": "markdown",
      "source": [
        "#Voting"
      ],
      "metadata": {
        "id": "03G8N8965g48"
      }
    },
    {
      "cell_type": "code",
      "source": [
        "from sklearn.ensemble import VotingClassifier"
      ],
      "metadata": {
        "id": "d9ELnl4_5izq"
      },
      "execution_count": 70,
      "outputs": []
    },
    {
      "cell_type": "code",
      "source": [
        "vo_soft=VotingClassifier(estimators=[('SVM', svm),('LR', lr),('KNN', knn)], voting='soft')\n",
        "vo_soft.fit(X_train1_sc, y_train1)\n",
        "v_pred=vo_soft.predict(X_valid_sc)\n",
        "v_pred"
      ],
      "metadata": {
        "colab": {
          "base_uri": "https://localhost:8080/"
        },
        "id": "lPMkyieb5kRl",
        "outputId": "410acbd0-e578-40ba-bb70-0957e20ba046"
      },
      "execution_count": 71,
      "outputs": [
        {
          "output_type": "execute_result",
          "data": {
            "text/plain": [
              "array([0, 0, 2, 2, 1, 0, 0, 3, 0, 3, 3, 0, 2, 0, 3, 2, 3, 0, 1, 2, 2, 0,\n",
              "       0, 2, 0, 3, 1, 1, 2, 3, 2, 0, 2, 3, 0, 1, 0, 1, 0, 0, 1, 0, 2, 2,\n",
              "       1, 2, 0, 2, 0, 3, 1, 1, 2, 2, 0, 0, 3, 0, 1, 0, 3, 3, 2, 3, 0, 0,\n",
              "       3, 3, 1, 3, 1, 1, 2, 1, 3, 1, 0, 3, 2, 3, 0, 0, 3, 3, 0, 3, 3, 2,\n",
              "       1, 1, 1, 1, 1, 2, 3, 3, 0, 3, 2, 1, 0, 1, 0, 2, 1, 0, 2, 2, 0, 1,\n",
              "       3, 1, 2, 3, 2, 3, 2, 3, 3, 0, 0, 0, 1, 2, 0, 3, 2, 0, 3, 1, 1, 3,\n",
              "       2, 1, 3, 0, 1, 1, 3, 2, 3, 0, 1, 3, 0, 1, 1, 0, 3, 1, 1, 2, 1, 2,\n",
              "       1, 1, 0, 1, 0, 2, 1, 0, 0, 0, 1, 3, 0, 1, 3, 1, 3, 0, 1, 0, 3, 0,\n",
              "       3, 1, 0, 1, 2, 0, 2, 2, 3, 1, 0, 2, 0, 0, 0, 0, 0, 1, 0, 0, 0, 1,\n",
              "       2, 3, 2, 2, 1, 0, 0, 2, 3, 0, 3, 1, 2, 3, 0, 3, 1, 2, 2, 3, 1, 1,\n",
              "       0, 0, 2, 3, 1, 0, 3, 0, 2, 1, 0, 3, 2, 1, 3, 1, 2, 0, 0, 1, 2, 0,\n",
              "       2, 1, 3, 2, 3, 1, 0, 1, 1, 0, 2, 0, 2, 3, 1, 1, 0, 0, 2, 1, 2, 1,\n",
              "       1, 2, 2, 3, 1, 3, 2, 2, 3, 0, 2, 3, 1, 1, 3, 2, 1, 3, 2, 3, 1, 3,\n",
              "       2, 1, 2, 0, 2, 3, 1, 2, 2, 2, 3, 3, 2, 2])"
            ]
          },
          "metadata": {},
          "execution_count": 71
        }
      ]
    },
    {
      "cell_type": "code",
      "source": [
        "scores= cross_validate(estimator = vo_soft, X=X_train_sc, y=y_train, scoring=['accuracy'],\n",
        "                      cv=5, n_jobs=-1, return_train_score=False)\n",
        "print('CV accuracy: %s'% scores['test_accuracy'])\n",
        "print('Mean CV accuracy: %s'% np.mean(scores['test_accuracy']))"
      ],
      "metadata": {
        "colab": {
          "base_uri": "https://localhost:8080/"
        },
        "id": "nmwkz4gJ5m7T",
        "outputId": "c3f3b943-f45f-4f14-9955-3963624fde3f"
      },
      "execution_count": 72,
      "outputs": [
        {
          "output_type": "stream",
          "name": "stdout",
          "text": [
            "CV accuracy: [0.96       0.92666667 0.95333333 0.94       0.96      ]\n",
            "Mean CV accuracy: 0.9480000000000001\n"
          ]
        }
      ]
    },
    {
      "cell_type": "code",
      "source": [
        "accuracy_score(v_pred, y_valid)"
      ],
      "metadata": {
        "colab": {
          "base_uri": "https://localhost:8080/"
        },
        "id": "C-Pfv2mY5oaK",
        "outputId": "52f1a0be-e11b-4541-fe5c-5452f7acf348"
      },
      "execution_count": 73,
      "outputs": [
        {
          "output_type": "execute_result",
          "data": {
            "text/plain": [
              "0.94"
            ]
          },
          "metadata": {},
          "execution_count": 73
        }
      ]
    },
    {
      "cell_type": "code",
      "source": [
        "vo_hard=VotingClassifier(estimators=[('SVM', svm),('LR', lr),('KNN', knn)], voting='hard')\n",
        "vo_hard.fit(X_train1, y_train1)\n",
        "v_pred2=vo_hard.predict(X_valid)"
      ],
      "metadata": {
        "id": "PkRVKAQG5p8d"
      },
      "execution_count": 74,
      "outputs": []
    },
    {
      "cell_type": "code",
      "source": [
        "accuracy_score(v_pred2, y_valid)"
      ],
      "metadata": {
        "colab": {
          "base_uri": "https://localhost:8080/"
        },
        "id": "nbYnEo325r1g",
        "outputId": "b5a4ba2f-7fd9-4453-81dd-96de812a1cfb"
      },
      "execution_count": 75,
      "outputs": [
        {
          "output_type": "execute_result",
          "data": {
            "text/plain": [
              "0.7733333333333333"
            ]
          },
          "metadata": {},
          "execution_count": 75
        }
      ]
    },
    {
      "cell_type": "code",
      "source": [
        "pred=vo_soft.predict(X_test)"
      ],
      "metadata": {
        "id": "F506OOr35t8I"
      },
      "execution_count": 76,
      "outputs": []
    },
    {
      "cell_type": "markdown",
      "source": [
        "#최종"
      ],
      "metadata": {
        "id": "KW8Ybv2v6ZVy"
      }
    },
    {
      "cell_type": "code",
      "source": [
        "svm=SVC(C=1500, gamma=0.001,  kernel='rbf', random_state=42, probability=True)\n",
        "svm.fit(X_train_r_sc,y_train)\n",
        "pred = svm.predict(X_test_r_sc)\n",
        "pred"
      ],
      "metadata": {
        "colab": {
          "base_uri": "https://localhost:8080/"
        },
        "id": "u0um052M6aqD",
        "outputId": "fcc6076b-50d1-4b3f-9c64-32a4b43a2dd2"
      },
      "execution_count": 93,
      "outputs": [
        {
          "output_type": "execute_result",
          "data": {
            "text/plain": [
              "array([2, 2, 1, 1, 3, 0, 1, 2, 2, 3, 1, 1, 3, 0, 1, 0, 1, 3, 3, 3, 3, 1,\n",
              "       1, 0, 0, 3, 2, 3, 1, 1, 0, 3, 3, 0, 3, 3, 1, 2, 2, 0, 2, 3, 3, 3,\n",
              "       2, 2, 3, 3, 2, 1, 1, 1, 2, 0, 1, 0, 3, 2, 0, 1, 2, 2, 2, 2, 0, 0,\n",
              "       0, 1, 3, 1, 0, 3, 2, 0, 3, 2, 0, 1, 2, 1, 0, 0, 0, 2, 0, 3, 1, 1,\n",
              "       2, 3, 3, 2, 1, 2, 1, 2, 3, 0, 2, 3, 1, 0, 3, 1, 0, 2, 1, 2, 1, 2,\n",
              "       3, 2, 3, 2, 3, 3, 3, 3, 1, 1, 3, 3, 1, 1, 1, 0, 0, 3, 3, 1, 0, 3,\n",
              "       3, 1, 0, 3, 2, 1, 2, 3, 2, 2, 3, 1, 1, 1, 1, 0, 2, 1, 0, 1, 0, 3,\n",
              "       0, 3, 1, 2, 3, 3, 1, 1, 1, 3, 2, 1, 2, 1, 1, 2, 3, 0, 1, 1, 3, 2,\n",
              "       1, 2, 2, 3, 2, 1, 1, 1, 3, 3, 3, 0, 3, 2, 3, 1, 3, 3, 1, 2, 3, 3,\n",
              "       0, 0, 0, 2, 2, 0, 2, 0, 1, 1, 3, 3, 0, 1, 2, 0, 2, 0, 2, 3, 2, 0,\n",
              "       2, 0, 2, 0, 2, 1, 3, 3, 1, 3, 0, 0, 2, 2, 3, 3, 1, 2, 1, 1, 3, 1,\n",
              "       0, 3, 1, 0, 1, 2, 1, 3, 0, 1, 3, 0, 2, 3, 3, 2, 0, 3, 1, 1, 0, 2,\n",
              "       2, 2, 0, 3, 3, 0, 3, 2, 3, 0, 2, 0, 2, 1, 2, 3, 0, 3, 2, 0, 2, 1,\n",
              "       2, 3, 1, 1, 3, 1, 1, 1, 3, 0, 1, 0, 1, 3, 0, 1, 3, 3, 1, 2, 1, 0,\n",
              "       0, 1, 0, 1, 0, 0, 1, 3, 3, 1, 0, 2, 0, 3, 2, 2, 2, 1, 2, 3, 3, 0,\n",
              "       0, 1, 2, 2, 2, 1, 2, 1, 0, 2, 3, 0, 0, 3, 1, 3, 0, 0, 3, 3, 0, 3,\n",
              "       0, 0, 0, 0, 3, 3, 2, 0, 0, 0, 0, 3, 0, 2, 3, 2, 3, 3, 3, 3, 1, 0,\n",
              "       2, 0, 0, 1, 1, 1, 2, 1, 0, 0, 3, 0, 1, 2, 0, 3, 2, 0, 0, 3, 0, 1,\n",
              "       0, 3, 3, 0, 1, 2, 2, 2, 3, 0, 1, 3, 2, 1, 3, 0, 1, 0, 0, 2, 1, 0,\n",
              "       2, 0, 3, 1, 0, 2, 1, 2, 1, 3, 0, 2, 3, 1, 1, 1, 2, 1, 3, 2, 2, 2,\n",
              "       2, 3, 1, 0, 0, 0, 0, 2, 1, 2, 1, 0, 1, 3, 0, 3, 0, 3, 3, 1, 2, 0,\n",
              "       1, 1, 1, 0, 3, 0, 0, 2, 2, 1, 0, 3, 1, 3, 0, 2, 1, 1, 1, 1, 2, 2,\n",
              "       1, 3, 1, 0, 1, 1, 0, 3, 0, 3, 3, 0, 2, 3, 0, 3])"
            ]
          },
          "metadata": {},
          "execution_count": 93
        }
      ]
    },
    {
      "cell_type": "code",
      "source": [
        "y_pred = pd.DataFrame(pred)\n",
        "y_pred.columns =['target']\n",
        "y_pred['index'] = y_pred.index\n",
        "y_pred = y_pred[['index', 'target']]\n",
        "\n",
        "y_pred.to_csv(\"svc.csv\", header=True, index=False)"
      ],
      "metadata": {
        "id": "IA3iwi-G9XNr"
      },
      "execution_count": 94,
      "outputs": []
    },
    {
      "cell_type": "code",
      "source": [
        "submit = pd.read_csv(\"svc.csv\")\n",
        "submit"
      ],
      "metadata": {
        "colab": {
          "base_uri": "https://localhost:8080/",
          "height": 423
        },
        "id": "iU3yC4w29e-J",
        "outputId": "86f941ed-af59-4458-d912-aaa7f8dc0854"
      },
      "execution_count": 95,
      "outputs": [
        {
          "output_type": "execute_result",
          "data": {
            "text/html": [
              "\n",
              "  <div id=\"df-4bef6378-571d-4e2d-b45e-d2f0a033988b\">\n",
              "    <div class=\"colab-df-container\">\n",
              "      <div>\n",
              "<style scoped>\n",
              "    .dataframe tbody tr th:only-of-type {\n",
              "        vertical-align: middle;\n",
              "    }\n",
              "\n",
              "    .dataframe tbody tr th {\n",
              "        vertical-align: top;\n",
              "    }\n",
              "\n",
              "    .dataframe thead th {\n",
              "        text-align: right;\n",
              "    }\n",
              "</style>\n",
              "<table border=\"1\" class=\"dataframe\">\n",
              "  <thead>\n",
              "    <tr style=\"text-align: right;\">\n",
              "      <th></th>\n",
              "      <th>index</th>\n",
              "      <th>target</th>\n",
              "    </tr>\n",
              "  </thead>\n",
              "  <tbody>\n",
              "    <tr>\n",
              "      <th>0</th>\n",
              "      <td>0</td>\n",
              "      <td>2</td>\n",
              "    </tr>\n",
              "    <tr>\n",
              "      <th>1</th>\n",
              "      <td>1</td>\n",
              "      <td>2</td>\n",
              "    </tr>\n",
              "    <tr>\n",
              "      <th>2</th>\n",
              "      <td>2</td>\n",
              "      <td>1</td>\n",
              "    </tr>\n",
              "    <tr>\n",
              "      <th>3</th>\n",
              "      <td>3</td>\n",
              "      <td>1</td>\n",
              "    </tr>\n",
              "    <tr>\n",
              "      <th>4</th>\n",
              "      <td>4</td>\n",
              "      <td>3</td>\n",
              "    </tr>\n",
              "    <tr>\n",
              "      <th>...</th>\n",
              "      <td>...</td>\n",
              "      <td>...</td>\n",
              "    </tr>\n",
              "    <tr>\n",
              "      <th>495</th>\n",
              "      <td>495</td>\n",
              "      <td>0</td>\n",
              "    </tr>\n",
              "    <tr>\n",
              "      <th>496</th>\n",
              "      <td>496</td>\n",
              "      <td>2</td>\n",
              "    </tr>\n",
              "    <tr>\n",
              "      <th>497</th>\n",
              "      <td>497</td>\n",
              "      <td>3</td>\n",
              "    </tr>\n",
              "    <tr>\n",
              "      <th>498</th>\n",
              "      <td>498</td>\n",
              "      <td>0</td>\n",
              "    </tr>\n",
              "    <tr>\n",
              "      <th>499</th>\n",
              "      <td>499</td>\n",
              "      <td>3</td>\n",
              "    </tr>\n",
              "  </tbody>\n",
              "</table>\n",
              "<p>500 rows × 2 columns</p>\n",
              "</div>\n",
              "      <button class=\"colab-df-convert\" onclick=\"convertToInteractive('df-4bef6378-571d-4e2d-b45e-d2f0a033988b')\"\n",
              "              title=\"Convert this dataframe to an interactive table.\"\n",
              "              style=\"display:none;\">\n",
              "        \n",
              "  <svg xmlns=\"http://www.w3.org/2000/svg\" height=\"24px\"viewBox=\"0 0 24 24\"\n",
              "       width=\"24px\">\n",
              "    <path d=\"M0 0h24v24H0V0z\" fill=\"none\"/>\n",
              "    <path d=\"M18.56 5.44l.94 2.06.94-2.06 2.06-.94-2.06-.94-.94-2.06-.94 2.06-2.06.94zm-11 1L8.5 8.5l.94-2.06 2.06-.94-2.06-.94L8.5 2.5l-.94 2.06-2.06.94zm10 10l.94 2.06.94-2.06 2.06-.94-2.06-.94-.94-2.06-.94 2.06-2.06.94z\"/><path d=\"M17.41 7.96l-1.37-1.37c-.4-.4-.92-.59-1.43-.59-.52 0-1.04.2-1.43.59L10.3 9.45l-7.72 7.72c-.78.78-.78 2.05 0 2.83L4 21.41c.39.39.9.59 1.41.59.51 0 1.02-.2 1.41-.59l7.78-7.78 2.81-2.81c.8-.78.8-2.07 0-2.86zM5.41 20L4 18.59l7.72-7.72 1.47 1.35L5.41 20z\"/>\n",
              "  </svg>\n",
              "      </button>\n",
              "      \n",
              "  <style>\n",
              "    .colab-df-container {\n",
              "      display:flex;\n",
              "      flex-wrap:wrap;\n",
              "      gap: 12px;\n",
              "    }\n",
              "\n",
              "    .colab-df-convert {\n",
              "      background-color: #E8F0FE;\n",
              "      border: none;\n",
              "      border-radius: 50%;\n",
              "      cursor: pointer;\n",
              "      display: none;\n",
              "      fill: #1967D2;\n",
              "      height: 32px;\n",
              "      padding: 0 0 0 0;\n",
              "      width: 32px;\n",
              "    }\n",
              "\n",
              "    .colab-df-convert:hover {\n",
              "      background-color: #E2EBFA;\n",
              "      box-shadow: 0px 1px 2px rgba(60, 64, 67, 0.3), 0px 1px 3px 1px rgba(60, 64, 67, 0.15);\n",
              "      fill: #174EA6;\n",
              "    }\n",
              "\n",
              "    [theme=dark] .colab-df-convert {\n",
              "      background-color: #3B4455;\n",
              "      fill: #D2E3FC;\n",
              "    }\n",
              "\n",
              "    [theme=dark] .colab-df-convert:hover {\n",
              "      background-color: #434B5C;\n",
              "      box-shadow: 0px 1px 3px 1px rgba(0, 0, 0, 0.15);\n",
              "      filter: drop-shadow(0px 1px 2px rgba(0, 0, 0, 0.3));\n",
              "      fill: #FFFFFF;\n",
              "    }\n",
              "  </style>\n",
              "\n",
              "      <script>\n",
              "        const buttonEl =\n",
              "          document.querySelector('#df-4bef6378-571d-4e2d-b45e-d2f0a033988b button.colab-df-convert');\n",
              "        buttonEl.style.display =\n",
              "          google.colab.kernel.accessAllowed ? 'block' : 'none';\n",
              "\n",
              "        async function convertToInteractive(key) {\n",
              "          const element = document.querySelector('#df-4bef6378-571d-4e2d-b45e-d2f0a033988b');\n",
              "          const dataTable =\n",
              "            await google.colab.kernel.invokeFunction('convertToInteractive',\n",
              "                                                     [key], {});\n",
              "          if (!dataTable) return;\n",
              "\n",
              "          const docLinkHtml = 'Like what you see? Visit the ' +\n",
              "            '<a target=\"_blank\" href=https://colab.research.google.com/notebooks/data_table.ipynb>data table notebook</a>'\n",
              "            + ' to learn more about interactive tables.';\n",
              "          element.innerHTML = '';\n",
              "          dataTable['output_type'] = 'display_data';\n",
              "          await google.colab.output.renderOutput(dataTable, element);\n",
              "          const docLink = document.createElement('div');\n",
              "          docLink.innerHTML = docLinkHtml;\n",
              "          element.appendChild(docLink);\n",
              "        }\n",
              "      </script>\n",
              "    </div>\n",
              "  </div>\n",
              "  "
            ],
            "text/plain": [
              "     index  target\n",
              "0        0       2\n",
              "1        1       2\n",
              "2        2       1\n",
              "3        3       1\n",
              "4        4       3\n",
              "..     ...     ...\n",
              "495    495       0\n",
              "496    496       2\n",
              "497    497       3\n",
              "498    498       0\n",
              "499    499       3\n",
              "\n",
              "[500 rows x 2 columns]"
            ]
          },
          "metadata": {},
          "execution_count": 95
        }
      ]
    },
    {
      "cell_type": "code",
      "source": [
        "#!kaggle competitions submit -c b8competition2 -f /content/svc.csv -m 'commit svc model'"
      ],
      "metadata": {
        "id": "DKyZpepR9i4Y"
      },
      "execution_count": 96,
      "outputs": []
    }
  ]
}